{
 "nbformat": 4,
 "nbformat_minor": 2,
 "metadata": {
  "language_info": {
   "name": "python",
   "codemirror_mode": {
    "name": "ipython",
    "version": 3
   },
   "version": "3.8.1-final"
  },
  "orig_nbformat": 2,
  "file_extension": ".py",
  "mimetype": "text/x-python",
  "name": "python",
  "npconvert_exporter": "python",
  "pygments_lexer": "ipython3",
  "version": 3,
  "kernelspec": {
   "name": "python38164bitdscondafaa6f40290dc4a1bbd3944e5333fba42",
   "display_name": "Python 3.8.1 64-bit ('ds': conda)"
  }
 },
 "cells": [
  {
   "cell_type": "code",
   "execution_count": 1,
   "metadata": {},
   "outputs": [],
   "source": [
    "import pandas as pd\n",
    "import numpy as np\n",
    "from tabula import read_pdf"
   ]
  },
  {
   "cell_type": "code",
   "execution_count": 2,
   "metadata": {},
   "outputs": [],
   "source": [
    "def mergeTables(dfs, start):\n",
    "    dfMerged = pd.DataFrame()\n",
    "\n",
    "    for i, df in enumerate(dfs):\n",
    "        year = start - i\n",
    "        df[\"year\"] = year\n",
    "        dfMerged = pd.concat([dfMerged, df], ignore_index = True)\n",
    "\n",
    "    # arrange the order of columns\n",
    "    cols = list(dfMerged.columns)\n",
    "    yearIdx = cols.index(\"year\")\n",
    "    cols.pop(yearIdx)\n",
    "    cols.append(\"year\")\n",
    "    dfMerged = dfMerged[cols]\n",
    "\n",
    "    return dfMerged\n",
    "\n",
    "def mergeColumns(df, targets, newColName, mergeFunc):\n",
    "    df[\"temp\"] = \"\"\n",
    "    for i in range(len(targets)):\n",
    "        mergeFunc(df, targets, i)\n",
    "    \n",
    "    df.drop(columns = targets, inplace = True)\n",
    "    df.insert(0, newColName, df[\"temp\"])\n",
    "    df.drop(columns = [\"temp\"], inplace = True)\n",
    "    return df"
   ]
  },
  {
   "cell_type": "markdown",
   "execution_count": null,
   "metadata": {},
   "outputs": [],
   "source": [
    "## Boston"
   ]
  },
  {
   "cell_type": "code",
   "execution_count": 3,
   "metadata": {},
   "outputs": [],
   "source": [
    "boston_df = pd.read_csv(\"data/Boston/boston_police_2013_to_2018.csv\", index_col = [0])"
   ]
  },
  {
   "cell_type": "markdown",
   "execution_count": null,
   "metadata": {},
   "outputs": [],
   "source": [
    "## Somerville"
   ]
  },
  {
   "cell_type": "code",
   "execution_count": 4,
   "metadata": {},
   "outputs": [],
   "source": [
    "def somervilleMerge(df, targets, i):\n",
    "    df[\"temp\"] += df[targets[i]]"
   ]
  },
  {
   "cell_type": "code",
   "execution_count": 5,
   "metadata": {},
   "outputs": [],
   "source": [
    "somerville_2014_df = pd.read_csv(\"data/Somerville/City_of_Somerville_Weekly_Payroll_Gross_Wages_Over_50K_2014.csv\")\n",
    "somerville_2015_df = pd.read_csv(\"data/Somerville/City_of_Somerville_Weekly_Payroll_Gross_Wages_Over_50K_2015.csv\")\n",
    "somerville_2016_df = pd.read_csv(\"data/Somerville/City_of_Somerville_Weekly_Payroll_Gross_Wages_Over_50K_2016.csv\")\n",
    "somerville_2017_df = pd.read_csv(\"data/Somerville/City_of_Somerville_Weekly_Payroll_Gross_Wages_Over_50K_2017.csv\")\n",
    "somerville_2018_df = pd.read_csv(\"data/Somerville/City_of_Somerville_Weekly_Payroll_Gross_Wages_Over_50K_2018.csv\")\n",
    "somerville_dfs = [somerville_2018_df, somerville_2017_df, somerville_2016_df, somerville_2015_df, somerville_2014_df]"
   ]
  },
  {
   "cell_type": "code",
   "execution_count": 6,
   "metadata": {},
   "outputs": [],
   "source": [
    "# merge tables\n",
    "somerville_2013_to_2018_df = mergeTables(somerville_dfs, 2018)\n",
    "\n",
    "targets = [\"Name\", \"Employee Name\"]\n",
    "# fill NaN values with \"\" and merge targets\n",
    "somerville_2013_to_2018_df[targets] = somerville_2013_to_2018_df[targets].fillna(\"\")\n",
    "somerville_2013_to_2018_df = mergeColumns(somerville_2013_to_2018_df, targets, \"Name\", somervilleMerge)\n",
    "# change all names to uppercase ones\n",
    "somerville_2013_to_2018_df[\"Name\"] = somerville_2013_to_2018_df[\"Name\"].str.upper()"
   ]
  },
  {
   "cell_type": "markdown",
   "execution_count": null,
   "metadata": {},
   "outputs": [],
   "source": [
    "## Springfield"
   ]
  },
  {
   "cell_type": "code",
   "execution_count": 7,
   "metadata": {},
   "outputs": [],
   "source": [
    "def springfieldMerge(df, targets, i):\n",
    "    df[\"temp\"] += (df[targets[i]] + \", \" if i != len(targets) - 1 else df[targets[i]])"
   ]
  },
  {
   "cell_type": "code",
   "execution_count": 8,
   "metadata": {},
   "outputs": [],
   "source": [
    "springfield_2013_df = pd.read_excel(\"data/Springfield/Springfield 2013.xls\", skiprows = [0])\n",
    "springfield_2014_df = pd.read_excel(\"data/Springfield/Springfield 2014.xls\", skiprows = [0])\n",
    "springfield_2015_df = pd.read_excel(\"data/Springfield/Springfield 2015.xlsx\", skiprows = [0])\n",
    "springfield_2016_df = pd.read_excel(\"data/Springfield/Springfield 2016.xlsx\", skiprows = [0])\n",
    "springfield_2017_df = pd.read_excel(\"data/Springfield/Springfield 2017.xlsx\", skiprows = [0])\n",
    "springfield_2018_df = pd.read_excel(\"data/Springfield/Springfield 2018.xlsx\", skiprows = [0])\n",
    "springfield_dfs = [springfield_2018_df, springfield_2017_df, springfield_2016_df, springfield_2015_df, springfield_2014_df, springfield_2013_df]"
   ]
  },
  {
   "cell_type": "code",
   "execution_count": 9,
   "metadata": {},
   "outputs": [],
   "source": [
    "# merge tables\n",
    "springfield_2013_to_2018_df = mergeTables(springfield_dfs, 2018)\n",
    "\n",
    "targets = [\"First Name\", \"Last Name\"]\n",
    "# fill NaN values with \"\" and merge targets\n",
    "springfield_2013_to_2018_df[targets] = springfield_2013_to_2018_df[targets].fillna(\"\")\n",
    "springfield_2013_to_2018_df = mergeColumns(springfield_2013_to_2018_df, targets, \"Name\", springfieldMerge)\n",
    "# change all names to uppercase ones\n",
    "springfield_2013_to_2018_df[\"Name\"] = springfield_2013_to_2018_df[\"Name\"].str.upper()"
   ]
  },
  {
   "cell_type": "code",
   "execution_count": 10,
   "metadata": {},
   "outputs": [],
   "source": [
    "somerville_2013_to_2018_df.to_csv(\"data/Somerville/somerville_police_2014_to_2018.csv\")\n",
    "springfield_2013_to_2018_df.to_csv(\"data/Springfield/springfield_police_2013_to_2018.csv\")"
   ]
  },
  {
   "cell_type": "code",
   "execution_count": null,
   "metadata": {},
   "outputs": [],
   "source": []
  }
 ]
}