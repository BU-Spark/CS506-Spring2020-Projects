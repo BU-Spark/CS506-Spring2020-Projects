{
 "cells": [
  {
   "cell_type": "code",
   "execution_count": 1,
   "metadata": {},
   "outputs": [],
   "source": [
    "import pandas as pd\n",
    "\n",
    "df = pd.read_csv(\"data/Boston_2013_to_2018.csv\")"
   ]
  },
  {
   "cell_type": "code",
   "execution_count": 2,
   "metadata": {},
   "outputs": [
    {
     "data": {
      "text/html": [
       "<div>\n",
       "<style scoped>\n",
       "    .dataframe tbody tr th:only-of-type {\n",
       "        vertical-align: middle;\n",
       "    }\n",
       "\n",
       "    .dataframe tbody tr th {\n",
       "        vertical-align: top;\n",
       "    }\n",
       "\n",
       "    .dataframe thead th {\n",
       "        text-align: right;\n",
       "    }\n",
       "</style>\n",
       "<table border=\"1\" class=\"dataframe\">\n",
       "  <thead>\n",
       "    <tr style=\"text-align: right;\">\n",
       "      <th></th>\n",
       "      <th>c</th>\n",
       "      <th>NAME</th>\n",
       "      <th>DEPARTMENT_NAME</th>\n",
       "      <th>TITLE</th>\n",
       "      <th>REGULAR</th>\n",
       "      <th>RETRO</th>\n",
       "      <th>OTHER</th>\n",
       "      <th>OVERTIME</th>\n",
       "      <th>INJURED</th>\n",
       "      <th>DETAIL</th>\n",
       "      <th>QUINN</th>\n",
       "      <th>TOTAL_EARNINGS</th>\n",
       "      <th>POSTAL</th>\n",
       "      <th>year</th>\n",
       "    </tr>\n",
       "  </thead>\n",
       "  <tbody>\n",
       "    <tr>\n",
       "      <th>0</th>\n",
       "      <td>1</td>\n",
       "      <td>Williams,David C.</td>\n",
       "      <td>Boston Police Department</td>\n",
       "      <td>Police Officer</td>\n",
       "      <td>95184.68</td>\n",
       "      <td>NaN</td>\n",
       "      <td>503025.78</td>\n",
       "      <td>45176.88</td>\n",
       "      <td>5307.62</td>\n",
       "      <td>24610</td>\n",
       "      <td>4375.69</td>\n",
       "      <td>677680.65</td>\n",
       "      <td>2356</td>\n",
       "      <td>2018</td>\n",
       "    </tr>\n",
       "    <tr>\n",
       "      <th>1</th>\n",
       "      <td>2</td>\n",
       "      <td>Earley,John W</td>\n",
       "      <td>Boston Police Department</td>\n",
       "      <td>Police Lieutenant</td>\n",
       "      <td>26130.54</td>\n",
       "      <td>13001.47</td>\n",
       "      <td>204120.61</td>\n",
       "      <td>668.36</td>\n",
       "      <td>NaN</td>\n",
       "      <td>440</td>\n",
       "      <td>6532.63</td>\n",
       "      <td>250893.61</td>\n",
       "      <td>2131</td>\n",
       "      <td>2018</td>\n",
       "    </tr>\n",
       "    <tr>\n",
       "      <th>2</th>\n",
       "      <td>3</td>\n",
       "      <td>Bucelewicz,Helen</td>\n",
       "      <td>Boston Police Department</td>\n",
       "      <td>Police Officer</td>\n",
       "      <td>8676.89</td>\n",
       "      <td>NaN</td>\n",
       "      <td>200000</td>\n",
       "      <td>NaN</td>\n",
       "      <td>NaN</td>\n",
       "      <td>NaN</td>\n",
       "      <td>NaN</td>\n",
       "      <td>208676.89</td>\n",
       "      <td>2135</td>\n",
       "      <td>2018</td>\n",
       "    </tr>\n",
       "    <tr>\n",
       "      <th>3</th>\n",
       "      <td>4</td>\n",
       "      <td>Evans,William B</td>\n",
       "      <td>Boston Police Department</td>\n",
       "      <td>Commissioner (Bpd)</td>\n",
       "      <td>149999.93</td>\n",
       "      <td>3461.56</td>\n",
       "      <td>165858.44</td>\n",
       "      <td>NaN</td>\n",
       "      <td>NaN</td>\n",
       "      <td>NaN</td>\n",
       "      <td>NaN</td>\n",
       "      <td>319319.93</td>\n",
       "      <td>2127</td>\n",
       "      <td>2018</td>\n",
       "    </tr>\n",
       "    <tr>\n",
       "      <th>4</th>\n",
       "      <td>5</td>\n",
       "      <td>Jones,Ronnie C</td>\n",
       "      <td>Boston Police Department</td>\n",
       "      <td>Police Officer</td>\n",
       "      <td>462149.98</td>\n",
       "      <td>NaN</td>\n",
       "      <td>114973.46</td>\n",
       "      <td>NaN</td>\n",
       "      <td>NaN</td>\n",
       "      <td>NaN</td>\n",
       "      <td>NaN</td>\n",
       "      <td>577123.44</td>\n",
       "      <td>2126</td>\n",
       "      <td>2018</td>\n",
       "    </tr>\n",
       "  </tbody>\n",
       "</table>\n",
       "</div>"
      ],
      "text/plain": [
       "   c               NAME           DEPARTMENT_NAME               TITLE  \\\n",
       "0  1  Williams,David C.  Boston Police Department      Police Officer   \n",
       "1  2      Earley,John W  Boston Police Department   Police Lieutenant   \n",
       "2  3   Bucelewicz,Helen  Boston Police Department      Police Officer   \n",
       "3  4    Evans,William B  Boston Police Department  Commissioner (Bpd)   \n",
       "4  5     Jones,Ronnie C  Boston Police Department      Police Officer   \n",
       "\n",
       "     REGULAR     RETRO      OTHER  OVERTIME  INJURED DETAIL    QUINN  \\\n",
       "0   95184.68       NaN  503025.78  45176.88  5307.62  24610  4375.69   \n",
       "1   26130.54  13001.47  204120.61    668.36      NaN    440  6532.63   \n",
       "2    8676.89       NaN     200000       NaN      NaN    NaN      NaN   \n",
       "3  149999.93   3461.56  165858.44       NaN      NaN    NaN      NaN   \n",
       "4  462149.98       NaN  114973.46       NaN      NaN    NaN      NaN   \n",
       "\n",
       "  TOTAL_EARNINGS POSTAL  year  \n",
       "0      677680.65   2356  2018  \n",
       "1      250893.61   2131  2018  \n",
       "2      208676.89   2135  2018  \n",
       "3      319319.93   2127  2018  \n",
       "4      577123.44   2126  2018  "
      ]
     },
     "execution_count": 2,
     "metadata": {},
     "output_type": "execute_result"
    }
   ],
   "source": [
    "df.head()"
   ]
  },
  {
   "cell_type": "code",
   "execution_count": 3,
   "metadata": {},
   "outputs": [],
   "source": [
    "df_cleaned = df.iloc[:, 4:11].fillna(0)\n",
    "df_cleaned = df_cleaned.replace('[\\$,]', '', regex=True).astype(float)"
   ]
  },
  {
   "cell_type": "code",
   "execution_count": 4,
   "metadata": {},
   "outputs": [],
   "source": [
    "import numpy as np\n",
    "\n",
    "cleaned_data = df_cleaned.to_numpy(dtype = np.float64)\n",
    "pay_in_type = cleaned_data.sum(axis = 0) \n",
    "pay_type_prop = pay_in_type / pay_in_type.sum()\n",
    "pay_type = list(map(lambda x:x.lower().capitalize(), df.columns[4:11].tolist()))"
   ]
  },
  {
   "cell_type": "code",
   "execution_count": 5,
   "metadata": {},
   "outputs": [],
   "source": [
    "df_output = pd.DataFrame(pay_type_prop.reshape(-1, 1), index = pay_type)"
   ]
  },
  {
   "cell_type": "code",
   "execution_count": 6,
   "metadata": {},
   "outputs": [
    {
     "data": {
      "text/html": [
       "<div>\n",
       "<style scoped>\n",
       "    .dataframe tbody tr th:only-of-type {\n",
       "        vertical-align: middle;\n",
       "    }\n",
       "\n",
       "    .dataframe tbody tr th {\n",
       "        vertical-align: top;\n",
       "    }\n",
       "\n",
       "    .dataframe thead th {\n",
       "        text-align: right;\n",
       "    }\n",
       "</style>\n",
       "<table border=\"1\" class=\"dataframe\">\n",
       "  <thead>\n",
       "    <tr style=\"text-align: right;\">\n",
       "      <th></th>\n",
       "      <th>0</th>\n",
       "    </tr>\n",
       "  </thead>\n",
       "  <tbody>\n",
       "    <tr>\n",
       "      <th>Regular</th>\n",
       "      <td>0.592547</td>\n",
       "    </tr>\n",
       "    <tr>\n",
       "      <th>Retro</th>\n",
       "      <td>0.028720</td>\n",
       "    </tr>\n",
       "    <tr>\n",
       "      <th>Other</th>\n",
       "      <td>0.035604</td>\n",
       "    </tr>\n",
       "    <tr>\n",
       "      <th>Overtime</th>\n",
       "      <td>0.172403</td>\n",
       "    </tr>\n",
       "    <tr>\n",
       "      <th>Injured</th>\n",
       "      <td>0.027188</td>\n",
       "    </tr>\n",
       "    <tr>\n",
       "      <th>Detail</th>\n",
       "      <td>0.095320</td>\n",
       "    </tr>\n",
       "    <tr>\n",
       "      <th>Quinn</th>\n",
       "      <td>0.048218</td>\n",
       "    </tr>\n",
       "  </tbody>\n",
       "</table>\n",
       "</div>"
      ],
      "text/plain": [
       "                 0\n",
       "Regular   0.592547\n",
       "Retro     0.028720\n",
       "Other     0.035604\n",
       "Overtime  0.172403\n",
       "Injured   0.027188\n",
       "Detail    0.095320\n",
       "Quinn     0.048218"
      ]
     },
     "execution_count": 6,
     "metadata": {},
     "output_type": "execute_result"
    }
   ],
   "source": [
    "df_output"
   ]
  },
  {
   "cell_type": "markdown",
   "metadata": {},
   "source": [
    "# Result "
   ]
  },
  {
   "cell_type": "code",
   "execution_count": 24,
   "metadata": {},
   "outputs": [
    {
     "data": {
      "image/png": "[encoded data removed]",
      "text/plain": [
       "<Figure size 720x720 with 1 Axes>"
      ]
     },
     "metadata": {},
     "output_type": "display_data"
    }
   ],
   "source": [
    "%matplotlib inline\n",
    "from matplotlib import pyplot as plt\n",
    "\n",
    "plt.figure(figsize = (10, 10))\n",
    "_, texts, autopcts = plt.pie(pay_type_prop, labels = pay_type, autopct='%1.1f%%',\n",
    "        shadow=True, startangle=90, labeldistance = 0.9)\n",
    "\n",
    "# Font settings\n",
    "plt.setp(autopcts, **{\n",
    "    'weight':'bold', \n",
    "    'fontsize':11})\n",
    "plt.setp(texts, **{\n",
    "    'weight':'bold', \n",
    "    'fontsize':11})\n",
    "\n",
    "plt.axis('equal')  # Equal aspect ratio ensures that pie is drawn as a circle.\n",
    "\n",
    "plt.title(\"Type of Pay (City of Boston)\")\n",
    "plt.savefig(\"type_of_pay.png\")\n",
    "plt.show()"
   ]
  }
 ],
 "metadata": {
  "kernelspec": {
   "display_name": "Python 3.8.1 64-bit ('ds': conda)",
   "language": "python",
   "name": "python38164bitdscondafaa6f40290dc4a1bbd3944e5333fba42"
  },
  "language_info": {
   "codemirror_mode": {
    "name": "ipython",
    "version": 3
   },
   "file_extension": ".py",
   "mimetype": "text/x-python",
   "name": "python",
   "nbconvert_exporter": "python",
   "pygments_lexer": "ipython3",
   "version": "3.8.1"
  }
 },
 "nbformat": 4,
 "nbformat_minor": 4
}
