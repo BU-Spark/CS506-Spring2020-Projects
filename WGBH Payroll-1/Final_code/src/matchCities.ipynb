{
 "cells": [
  {
   "cell_type": "code",
   "execution_count": 1,
   "metadata": {},
   "outputs": [],
   "source": [
    "import pandas as pd\n",
    "import numpy as np"
   ]
  },
  {
   "cell_type": "code",
   "execution_count": 2,
   "metadata": {},
   "outputs": [],
   "source": [
    "def nameMatch(caller, other, key, lsuffix, rsuffix):\n",
    "    return caller.join(other.set_index(key), how = \"inner\", on = key, lsuffix='_' + lsuffix, rsuffix='_' + rsuffix)"
   ]
  },
  {
   "cell_type": "code",
   "execution_count": 3,
   "metadata": {},
   "outputs": [],
   "source": [
    "boston = pd.read_csv(r'.\\data\\Scraped data\\Boston.csv')\n",
    "brockton = pd.read_csv(r'.\\data\\Scraped data\\Brockton.csv')\n",
    "cambridge = pd.read_csv(r'.\\data\\Scraped data\\Cambridge.csv')\n",
    "lynn = pd.read_csv(r'.\\data\\Scraped data\\Lynn.csv')\n",
    "springfield = pd.read_csv(r'.\\data\\Scraped data\\Springfield.csv')"
   ]
  },
  {
   "cell_type": "code",
   "execution_count": null,
   "metadata": {},
   "outputs": [],
   "source": [
    "boston.drop()"
   ]
  },
  {
   "cell_type": "code",
   "execution_count": 4,
   "metadata": {},
   "outputs": [],
   "source": [
    "DFs  = {}\n",
    "DFs['boston'] = boston\n",
    "DFs['brockton'] = brockton\n",
    "DFs['cambridge'] = cambridge\n",
    "DFs['lynn'] = lynn\n",
    "DFs['springfield'] = springfield"
   ]
  },
  {
   "cell_type": "code",
   "execution_count": 7,
   "metadata": {},
   "outputs": [],
   "source": [
    "matches = []\n",
    "titles = []\n",
    "for key1, frame1 in DFs.items():\n",
    "    for key2, frame2 in DFs.items():\n",
    "        if key1 != key2:\n",
    "            if key2 + 'X' + key1 not in titles:\n",
    "                matches.append(nameMatch(frame1, frame2, 'Name', key1, key2))\n",
    "                titles.append(key1 + 'X' + key2)"
   ]
  },
  {
   "cell_type": "code",
   "execution_count": 8,
   "metadata": {},
   "outputs": [],
   "source": [
    "for i, match in enumerate(matches):\n",
    "    match.to_csv(titles[i] + '.csv')"
   ]
  }
 ],
 "metadata": {
  "kernelspec": {
   "display_name": "Python 3",
   "language": "python",
   "name": "python3"
  },
  "language_info": {
   "codemirror_mode": {
    "name": "ipython",
    "version": 3
   },
   "file_extension": ".py",
   "mimetype": "text/x-python",
   "name": "python",
   "nbconvert_exporter": "python",
   "pygments_lexer": "ipython3",
   "version": "3.7.4"
  }
 },
 "nbformat": 4,
 "nbformat_minor": 2
}
