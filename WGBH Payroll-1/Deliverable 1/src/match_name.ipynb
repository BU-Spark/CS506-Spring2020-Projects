{
 "nbformat": 4,
 "nbformat_minor": 2,
 "metadata": {
  "language_info": {
   "name": "python",
   "codemirror_mode": {
    "name": "ipython",
    "version": 3
   },
   "version": "3.7.6-final"
  },
  "orig_nbformat": 2,
  "file_extension": ".py",
  "mimetype": "text/x-python",
  "name": "python",
  "npconvert_exporter": "python",
  "pygments_lexer": "ipython3",
  "version": 3,
  "kernelspec": {
   "name": "python3",
   "display_name": "Python 3"
  }
 },
 "cells": [
  {
   "cell_type": "code",
   "execution_count": 2,
   "metadata": {},
   "outputs": [],
   "source": [
    "import os\n",
    "import pandas as pd"
   ]
  },
  {
   "cell_type": "code",
   "execution_count": 7,
   "metadata": {},
   "outputs": [],
   "source": [
    "def name_match (filename) :\n",
    "    dfs = pd.read_csv(filename)\n",
    "    dfd = pd.read_csv('C:/Users/qqq58/Desktop/506data/USA TODAY Police Decertifications List Search2020-01-13.csv')\n",
    "    dfd.rename(columns = {\"Name:\" : \"Name\"}, inplace = True)\n",
    "    res = dfs.set_index('Name').join(dfd.set_index('Name'), how = 'inner')\n",
    "    return res"
   ]
  },
  {
   "cell_type": "code",
   "execution_count": 14,
   "metadata": {},
   "outputs": [],
   "source": [
    "SpringField = name_match('C:/Users/qqq58/Desktop/506data/Springfield.csv')\n",
    "SpringField.to_csv('C:/Users/qqq58/Desktop/506data/Springfield_Decertified.csv')"
   ]
  },
  {
   "cell_type": "code",
   "execution_count": 16,
   "metadata": {},
   "outputs": [],
   "source": [
    "Boston = name_match('C:/Users/qqq58/Desktop/506data/Boston.csv')\n",
    "Boston.to_csv('C:/Users/qqq58/Desktop/506data/Boston_Decertified.csv')"
   ]
  },
  {
   "cell_type": "code",
   "execution_count": 17,
   "metadata": {},
   "outputs": [],
   "source": [
    "Brockton= name_match('C:/Users/qqq58/Desktop/506data/Brockton.csv')\n",
    "Brockton.to_csv('C:/Users/qqq58/Desktop/506data/Brockton_Decertified.csv')"
   ]
  },
  {
   "cell_type": "code",
   "execution_count": 18,
   "metadata": {},
   "outputs": [],
   "source": [
    "Lynn = name_match('C:/Users/qqq58/Desktop/506data/Lynn.csv')\n",
    "Lynn.to_csv('C:/Users/qqq58/Desktop/506data/Lynn_Decertified.csv')"
   ]
  },
  {
   "cell_type": "code",
   "execution_count": 19,
   "metadata": {},
   "outputs": [],
   "source": [
    "Cambridge = name_match('C:/Users/qqq58/Desktop/506data/Cambridge.csv')\n",
    "Cambridge.to_csv('C:/Users/qqq58/Desktop/506data/Cambridge_Decertified.csv')"
   ]
  },
  {
   "cell_type": "code",
   "execution_count": null,
   "metadata": {},
   "outputs": [],
   "source": []
  }
 ]
}