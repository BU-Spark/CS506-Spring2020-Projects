{
 "cells": [
  {
   "cell_type": "code",
   "execution_count": 84,
   "metadata": {},
   "outputs": [],
   "source": [
    "import numpy as np\n",
    "import pandas as pd\n",
    "from scipy import sparse\n",
    "import json\n",
    "import string\n",
    "from nltk.tokenize import word_tokenize\n",
    "import gensim\n",
    "import re"
   ]
  },
  {
   "cell_type": "code",
   "execution_count": 63,
   "metadata": {},
   "outputs": [
    {
     "name": "stderr",
     "output_type": "stream",
     "text": [
      "[nltk_data] Downloading package punkt to /Users/calidolfi/nltk_data...\n",
      "[nltk_data]   Unzipping tokenizers/punkt.zip.\n"
     ]
    },
    {
     "data": {
      "text/plain": [
       "True"
      ]
     },
     "execution_count": 63,
     "metadata": {},
     "output_type": "execute_result"
    }
   ],
   "source": [
    "import nltk\n",
    "nltk.download('punkt')"
   ]
  },
  {
   "cell_type": "code",
   "execution_count": 4,
   "metadata": {},
   "outputs": [],
   "source": [
    "#Loading in the data\n",
    "newest_sjc = \"../data/new data w right fields/cases_mass_new_3_21.json\"\n",
    "sjc = \"../data/data from 2019 teams/cases.json\"\n",
    "\n",
    "sjc_data_as_file = open(newest_sjc)\n",
    "sjc_new = json.load(sjc_data_as_file)\n",
    "\n",
    "sjc_data_as_file = open(sjc)\n",
    "sjc = json.load(sjc_data_as_file)\n",
    "\n",
    "newest_appeals_court = \"../data/new data w right fields/appeal_mass_new_3_21.json\"\n",
    "appeals_court_data_as_file = open(newest_appeals_court)\n",
    "appeals_court_new = json.load(appeals_court_data_as_file)\n",
    "\n",
    "appeals_court = \"../data/data from 2019 teams/cases_appeals.json\"\n",
    "appeals_court_data_as_file = open(appeals_court)\n",
    "appeals_court= json.load(appeals_court_data_as_file)\n"
   ]
  },
  {
   "cell_type": "code",
   "execution_count": 81,
   "metadata": {},
   "outputs": [],
   "source": [
    "#changing everything to pandas df bc easier\n",
    "sjc_df = pd.DataFrame(sjc)\n",
    "sjc_df['text']= sjc_df['text'].apply(lambda x:''.join([i for i in x if i not in string.punctuation]))\n",
    "sjc_n_df = pd.DataFrame(sjc_new)\n",
    "sjc_n_df['text']= sjc_n_df['text'].apply(lambda x:''.join([i for i in x if i not in string.punctuation]))\n",
    "ac_df = pd.DataFrame(appeals_court )\n",
    "ac_df['text']= ac_df['text'].apply(lambda x:''.join([i for i in x if i not in string.punctuation]))\n",
    "ac_n_df = pd.DataFrame(appeals_court_new)\n",
    "ac_n_df = ac_n_df.rename(columns={'text:': 'text'})\n",
    "ac_n_df['text']= ac_n_df['text'].apply(lambda x:''.join([i for i in x if i not in string.punctuation]))"
   ]
  },
  {
   "cell_type": "code",
   "execution_count": 82,
   "metadata": {
    "scrolled": true
   },
   "outputs": [],
   "source": [
    "#getting all of the text together to vectorize and to figure out similar terms to affirm and reject\n",
    "\n",
    "text = pd.DataFrame(sjc_df[\"text\"])\n",
    "text = text.append(a)\n",
    "a = pd.DataFrame(ac_n_df[\"text\"])\n",
    "text = text.append(a)\n",
    "b = pd.DataFrame(ac_df[\"text\"])\n",
    "c =  pd.DataFrame(sjc_n_df[\"text\"])\n",
    "text = text.append(b)\n",
    "text = text.append(c)\n"
   ]
  },
  {
   "cell_type": "code",
   "execution_count": 85,
   "metadata": {
    "scrolled": false
   },
   "outputs": [],
   "source": [
    "vec =text[\"text\"].tolist()\n",
    "for v in range(len(vec)): \n",
    "    vec[v] = re.sub('([.,!?()])', r' \\1 ', vec[v])\n",
    "    vec[v] = re.sub('\\s{2,}', ' ', vec[v])\n",
    "\n",
    "\n",
    "tokenized = [word_tokenize(i) for i in vec]\n",
    "w2vmodel = gensim.models.Word2Vec(tokenized , size=100, window=5, min_count=5, workers=4)"
   ]
  },
  {
   "cell_type": "code",
   "execution_count": 88,
   "metadata": {
    "scrolled": true
   },
   "outputs": [
    {
     "data": {
      "text/plain": [
       "[('affirm', 0.9276341795921326),\n",
       " ('vacate', 0.8291895985603333),\n",
       " ('uphold', 0.7143498659133911),\n",
       " ('concludePage', 0.6939077377319336),\n",
       " ('concur', 0.6798295974731445),\n",
       " ('recite', 0.6792532205581665),\n",
       " ('defer', 0.6744909882545471),\n",
       " ('summarize', 0.6696265339851379),\n",
       " ('overturn', 0.6605866551399231),\n",
       " ('recapitulate', 0.6507501602172852),\n",
       " ('disturb', 0.6464250087738037),\n",
       " ('cull', 0.6324195861816406),\n",
       " ('recount', 0.6235736608505249),\n",
       " ('reject', 0.6172798871994019),\n",
       " ('analyze', 0.6082486510276794),\n",
       " ('emphasize', 0.6065094470977783),\n",
       " ('acknowledge', 0.6039793491363525),\n",
       " ('presume', 0.6018948554992676),\n",
       " ('reiterate', 0.6002987623214722),\n",
       " ('restate', 0.5960198640823364),\n",
       " ('reversed', 0.5944228172302246),\n",
       " ('disagree', 0.5941981077194214),\n",
       " ('examine', 0.5917413234710693),\n",
       " ('agree', 0.5805702805519104),\n",
       " (\"'give\", 0.5780036449432373),\n",
       " ('affirmed', 0.5694822669029236),\n",
       " ('hold', 0.5683315992355347),\n",
       " ('belabor', 0.5675921440124512),\n",
       " ('reversing', 0.5656245350837708),\n",
       " ('secondguess', 0.5584812164306641),\n",
       " ('decline', 0.5584069490432739),\n",
       " ('glean', 0.5583446025848389),\n",
       " ('digress', 0.5579770803451538),\n",
       " ('conclude', 0.5577064752578735),\n",
       " ('discern', 0.5547040700912476),\n",
       " ('construe', 0.5546652674674988),\n",
       " ('interpret', 0.5507084727287292),\n",
       " ('reserve', 0.5505000352859497),\n",
       " ('overlook', 0.5504720211029053),\n",
       " ('deem', 0.5477404594421387),\n",
       " ('turn', 0.5441974997520447),\n",
       " ('ourselves', 0.5416303277015686),\n",
       " ('reaffirm', 0.5400410890579224),\n",
       " ('begin', 0.5380190014839172),\n",
       " ('echo', 0.5378994941711426),\n",
       " ('reviewPage', 0.528427243232727),\n",
       " ('setPage', 0.5249102115631104),\n",
       " ('remand', 0.520747721195221),\n",
       " ('recognize', 0.5204310417175293),\n",
       " ('dispose', 0.517174482345581)]"
      ]
     },
     "execution_count": 88,
     "metadata": {},
     "output_type": "execute_result"
    }
   ],
   "source": [
    "ref = ['reverse']\n",
    "w2vmodel.wv.most_similar(positive =ref, topn = 50)\n"
   ]
  },
  {
   "cell_type": "code",
   "execution_count": 86,
   "metadata": {
    "scrolled": true
   },
   "outputs": [
    {
     "data": {
      "text/plain": [
       "[('reverse', 0.9276341199874878),\n",
       " ('vacate', 0.7817111611366272),\n",
       " ('summarize', 0.7211697101593018),\n",
       " ('disagree', 0.7196804285049438),\n",
       " ('recite', 0.7058801054954529),\n",
       " ('recapitulate', 0.676041841506958),\n",
       " ('concludePage', 0.672982931137085),\n",
       " ('concur', 0.6604149341583252),\n",
       " ('uphold', 0.6581430435180664),\n",
       " ('defer', 0.6576398611068726),\n",
       " ('reject', 0.654504120349884),\n",
       " ('cull', 0.650731086730957),\n",
       " ('agree', 0.645545482635498),\n",
       " ('recount', 0.6413695812225342),\n",
       " ('acknowledge', 0.6385136842727661),\n",
       " ('conclude', 0.6239935159683228),\n",
       " ('emphasize', 0.6203254461288452),\n",
       " ('reiterate', 0.5920296907424927),\n",
       " ('presume', 0.590907871723175),\n",
       " ('digress', 0.5736089944839478),\n",
       " ('overturn', 0.5716251134872437),\n",
       " ('hold', 0.5707421898841858),\n",
       " ('begin', 0.5688326358795166),\n",
       " ('affirmed', 0.5653555989265442),\n",
       " ('restate', 0.5621709823608398),\n",
       " ('analyze', 0.5587413907051086),\n",
       " ('examine', 0.5560315847396851),\n",
       " ('glean', 0.5539706349372864),\n",
       " ('reviewPage', 0.5529447793960571),\n",
       " ('reserve', 0.5492697954177856),\n",
       " ('turn', 0.5438288450241089),\n",
       " ('belabor', 0.5437881350517273),\n",
       " ('discern', 0.5430763959884644),\n",
       " (\"'give\", 0.5400092005729675),\n",
       " ('disturb', 0.5383161306381226),\n",
       " ('recognize', 0.5365995168685913),\n",
       " ('echo', 0.5359967947006226),\n",
       " ('reversed', 0.529806911945343),\n",
       " ('reversing', 0.52937912940979),\n",
       " ('reaffirm', 0.5278544425964355),\n",
       " ('deem', 0.5260646343231201),\n",
       " ('Facts', 0.5259572863578796),\n",
       " ('think', 0.5219515562057495),\n",
       " ('rehearse', 0.5195754766464233),\n",
       " ('secondguess', 0.5143234133720398),\n",
       " ('setPage', 0.5136734247207642),\n",
       " ('unsympathetic', 0.5105994343757629),\n",
       " ('overlook', 0.5098689794540405),\n",
       " ('decline', 0.502782940864563),\n",
       " ('reemphasize', 0.5026195049285889)]"
      ]
     },
     "execution_count": 86,
     "metadata": {},
     "output_type": "execute_result"
    }
   ],
   "source": [
    "aff = ['affirm']\n",
    "w2vmodel.wv.most_similar(positive =aff, topn = 50)"
   ]
  },
  {
   "cell_type": "code",
   "execution_count": 93,
   "metadata": {},
   "outputs": [
    {
     "name": "stdout",
     "output_type": "stream",
     "text": [
      "affirm count 5651\n",
      "reverse count 2513\n",
      "total cases 9450\n"
     ]
    }
   ],
   "source": [
    "#finding the amount of each terms \n",
    "a = w2vmodel.wv.vocab[\"affirm\"]\n",
    "r = w2vmodel.wv.vocab[\"reverse\"]\n",
    "print(\"affirm count\",  a.count)\n",
    "print(\"reverse count\" , r.count)\n",
    "print(\"total cases\" , text.size)"
   ]
  },
  {
   "cell_type": "code",
   "execution_count": null,
   "metadata": {},
   "outputs": [],
   "source": [
    "#words only in cases that have revert and only affirm\n",
    "#train word2vec with differen gram (what words are more likely to appear how many places away)\n",
    "#(how far is informant away)\n",
    "#\n"
   ]
  }
 ],
 "metadata": {
  "kernelspec": {
   "display_name": "Python (plswork)",
   "language": "python",
   "name": "plswork"
  },
  "language_info": {
   "codemirror_mode": {
    "name": "ipython",
    "version": 3
   },
   "file_extension": ".py",
   "mimetype": "text/x-python",
   "name": "python",
   "nbconvert_exporter": "python",
   "pygments_lexer": "ipython3",
   "version": "3.7.6"
  }
 },
 "nbformat": 4,
 "nbformat_minor": 4
}
