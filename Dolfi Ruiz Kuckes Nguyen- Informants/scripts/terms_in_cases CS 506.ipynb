{
 "cells": [
  {
   "cell_type": "code",
   "execution_count": 25,
   "metadata": {},
   "outputs": [],
   "source": [
    "import json\n",
    "import numpy as np\n",
    "\n",
    "j = open(\"../data/cases.json\")\n",
    "cases = json.load(j)\n",
    "\n",
    "k = open(\"../data/cases_appeals.json\")\n",
    "appeals = json.load(k)"
   ]
  },
  {
   "cell_type": "code",
   "execution_count": 26,
   "metadata": {},
   "outputs": [],
   "source": [
    "def find_in_text(case_data,phrase):\n",
    "    cases_found = []\n",
    "    for case in range(len(case_data)):\n",
    "        place_found = []\n",
    "        for i in range(len(case_data[case][\"text\"])):\n",
    "            if case_data[case][\"text\"][i].lower().find(phrase.lower()) != -1:\n",
    "                place_found.append(i)\n",
    "        \n",
    "        if len(place_found) > 0:\n",
    "            cases_found.append([case,place_found])\n",
    "    return cases_found"
   ]
  },
  {
   "cell_type": "code",
   "execution_count": 27,
   "metadata": {},
   "outputs": [],
   "source": [
    "def find_in_headnote(case_data,phrase):\n",
    "    cases_found = []\n",
    "    for case in range(len(case_data)):\n",
    "        place_found = []\n",
    "        for i in range(len(case_data[case][\"headnote\"])):\n",
    "            if case_data[case][\"headnote\"][i].lower().find(phrase.lower()) != -1:\n",
    "                place_found.append(i)\n",
    "        \n",
    "        if len(place_found) > 0:\n",
    "            cases_found.append([case,place_found])\n",
    "    return cases_found"
   ]
  },
  {
   "cell_type": "code",
   "execution_count": 72,
   "metadata": {},
   "outputs": [],
   "source": [
    "# Searches list_of_keywords in string case_data\n",
    "# and returns the total number of cases that contained any keyword\n",
    "def number_of_cases_per_keywords(case_data, list_of_keywords):\n",
    "    all_cases = set()\n",
    "    for keyword in list_of_keywords:\n",
    "        all_with_keyword = set()\n",
    "        all_in_text = find_in_text(case_data, keyword)\n",
    "        all_in_headnote = find_in_headnote(case_data, keyword)\n",
    "        for occurence in all_in_text:\n",
    "            all_with_keyword.add(occurence[0])\n",
    "        for occurence in all_in_headnote:\n",
    "            all_with_keyword.add(occurence[0])\n",
    "        all_cases.update(all_with_keyword)\n",
    "    pretty = list(all_cases)\n",
    "    pretty.sort()\n",
    "    return len(all_cases), pretty"
   ]
  },
  {
   "cell_type": "code",
   "execution_count": 73,
   "metadata": {},
   "outputs": [],
   "source": [
    "important_keywords = [\"confidential informant\", \" ci \", \"snitch\", \"informant\", \"gang informant\"]"
   ]
  },
  {
   "cell_type": "markdown",
   "metadata": {},
   "source": [
    "### searching for total number"
   ]
  },
  {
   "cell_type": "code",
   "execution_count": 76,
   "metadata": {},
   "outputs": [
    {
     "name": "stdout",
     "output_type": "stream",
     "text": [
      "total number of cases was:  2561\n"
     ]
    }
   ],
   "source": [
    "print(\"total number of cases was: \", len(cases) + len(appeals))"
   ]
  },
  {
   "cell_type": "code",
   "execution_count": 74,
   "metadata": {},
   "outputs": [
    {
     "name": "stdout",
     "output_type": "stream",
     "text": [
      "(27, [25, 32, 36, 78, 91, 93, 97, 159, 187, 201, 309, 314, 390, 420, 425, 435, 438, 466, 477, 491, 504, 507, 551, 580, 587, 601, 620])\n"
     ]
    }
   ],
   "source": [
    "result = number_of_cases_per_keywords(cases, important_keywords)\n",
    "print(result)"
   ]
  },
  {
   "cell_type": "code",
   "execution_count": 75,
   "metadata": {},
   "outputs": [
    {
     "name": "stdout",
     "output_type": "stream",
     "text": [
      "(70, [10, 26, 27, 77, 83, 96, 128, 150, 161, 178, 221, 223, 233, 236, 249, 251, 266, 310, 341, 396, 409, 411, 419, 424, 473, 481, 486, 487, 498, 579, 597, 659, 711, 728, 762, 774, 786, 793, 808, 817, 910, 930, 980, 1075, 1097, 1119, 1177, 1194, 1289, 1365, 1409, 1411, 1436, 1461, 1514, 1517, 1557, 1575, 1588, 1614, 1623, 1624, 1673, 1706, 1719, 1739, 1745, 1783, 1817, 1858])\n"
     ]
    }
   ],
   "source": [
    "print(number_of_cases_per_keywords(appeals, important_keywords))"
   ]
  },
  {
   "cell_type": "markdown",
   "metadata": {},
   "source": [
    "### Searching terms in text then headnote for cases.csv"
   ]
  },
  {
   "cell_type": "code",
   "execution_count": 28,
   "metadata": {
    "scrolled": true
   },
   "outputs": [
    {
     "name": "stdout",
     "output_type": "stream",
     "text": [
      "[[309, [2]], [390, [16]], [438, [2, 8]], [466, [46, 48, 49, 51, 55, 63, 74, 80]], [477, [9, 10]], [491, [5, 35, 105, 146, 147, 149, 161]], [551, [17, 81, 82]], [580, [2, 16, 158]], [601, [1, 5, 26]]]\n"
     ]
    }
   ],
   "source": [
    "print(find_in_text(cases,\"confidential informant\"))"
   ]
  },
  {
   "cell_type": "code",
   "execution_count": 29,
   "metadata": {},
   "outputs": [
    {
     "name": "stdout",
     "output_type": "stream",
     "text": [
      "[[466, [3]], [477, [2]], [491, [8]], [580, [4]]]\n"
     ]
    }
   ],
   "source": [
    "print(find_in_headnote(cases,\"confidential informant\"))"
   ]
  },
  {
   "cell_type": "code",
   "execution_count": null,
   "metadata": {},
   "outputs": [],
   "source": []
  },
  {
   "cell_type": "code",
   "execution_count": 30,
   "metadata": {},
   "outputs": [
    {
     "name": "stdout",
     "output_type": "stream",
     "text": [
      "[]\n"
     ]
    }
   ],
   "source": [
    "print(find_in_text(cases,\" ci \"))"
   ]
  },
  {
   "cell_type": "code",
   "execution_count": 31,
   "metadata": {},
   "outputs": [
    {
     "name": "stdout",
     "output_type": "stream",
     "text": [
      "[]\n"
     ]
    }
   ],
   "source": [
    "print(find_in_headnote(cases,\" ci \"))"
   ]
  },
  {
   "cell_type": "code",
   "execution_count": null,
   "metadata": {},
   "outputs": [],
   "source": []
  },
  {
   "cell_type": "code",
   "execution_count": 32,
   "metadata": {},
   "outputs": [
    {
     "name": "stdout",
     "output_type": "stream",
     "text": [
      "[[25, [10]], [78, [15]], [159, [11, 59]], [187, [16]], [420, [8]], [425, [51]]]\n"
     ]
    }
   ],
   "source": [
    "print(find_in_text(cases,\"snitch\"))"
   ]
  },
  {
   "cell_type": "code",
   "execution_count": 33,
   "metadata": {},
   "outputs": [
    {
     "name": "stdout",
     "output_type": "stream",
     "text": [
      "[]\n"
     ]
    }
   ],
   "source": [
    "print(find_in_headnote(cases,\"snitch\"))"
   ]
  },
  {
   "cell_type": "code",
   "execution_count": null,
   "metadata": {},
   "outputs": [],
   "source": []
  },
  {
   "cell_type": "code",
   "execution_count": 34,
   "metadata": {},
   "outputs": [
    {
     "name": "stdout",
     "output_type": "stream",
     "text": [
      "[[32, [35, 44, 45, 53]], [36, [48]], [91, [2, 24, 31, 32, 38, 46, 47, 48, 50, 51, 52, 57]], [93, [43]], [97, [5, 74, 75]], [201, [68, 70]], [309, [2]], [314, [20]], [390, [14, 16]], [435, [73]], [438, [2, 3, 4, 8, 10, 11, 19, 21]], [466, [2, 46, 48, 49, 51, 54, 55, 56, 63, 71, 72, 74, 77, 79, 80, 81, 84, 86, 88, 90]], [477, [9, 10, 15]], [491, [5, 35, 105, 146, 147, 149, 152, 159, 161]], [504, [110, 112, 113, 114, 119, 123, 124, 134, 151, 154, 155, 157]], [507, [123]], [551, [17, 81, 82]], [580, [2, 16, 120, 158]], [587, [60]], [601, [1, 4, 5, 26, 27, 30, 31, 39]], [620, [88]]]\n"
     ]
    }
   ],
   "source": [
    "print(find_in_text(cases,\"informant\"))"
   ]
  },
  {
   "cell_type": "code",
   "execution_count": 35,
   "metadata": {},
   "outputs": [
    {
     "name": "stdout",
     "output_type": "stream",
     "text": [
      "[[91, [2]], [466, [3]], [477, [2]], [491, [8]], [580, [4]]]\n"
     ]
    }
   ],
   "source": [
    "print(find_in_headnote(cases,\"informant\"))"
   ]
  },
  {
   "cell_type": "code",
   "execution_count": null,
   "metadata": {},
   "outputs": [],
   "source": []
  },
  {
   "cell_type": "code",
   "execution_count": 36,
   "metadata": {},
   "outputs": [
    {
     "name": "stdout",
     "output_type": "stream",
     "text": [
      "[]\n"
     ]
    }
   ],
   "source": [
    "print(find_in_text(cases,\"gang informant\"))"
   ]
  },
  {
   "cell_type": "code",
   "execution_count": 37,
   "metadata": {},
   "outputs": [
    {
     "name": "stdout",
     "output_type": "stream",
     "text": [
      "[]\n"
     ]
    }
   ],
   "source": [
    "print(find_in_headnote(cases,\"gang informant\"))"
   ]
  },
  {
   "cell_type": "code",
   "execution_count": null,
   "metadata": {},
   "outputs": [],
   "source": []
  },
  {
   "cell_type": "code",
   "execution_count": 38,
   "metadata": {},
   "outputs": [
    {
     "name": "stdout",
     "output_type": "stream",
     "text": [
      "[]\n"
     ]
    }
   ],
   "source": [
    "print(find_in_text(cases,\"mafia informant\"))"
   ]
  },
  {
   "cell_type": "code",
   "execution_count": 39,
   "metadata": {},
   "outputs": [
    {
     "name": "stdout",
     "output_type": "stream",
     "text": [
      "[]\n"
     ]
    }
   ],
   "source": [
    "print(find_in_headnote(cases,\"mafia informant\"))"
   ]
  },
  {
   "cell_type": "code",
   "execution_count": null,
   "metadata": {},
   "outputs": [],
   "source": []
  },
  {
   "cell_type": "code",
   "execution_count": 19,
   "metadata": {},
   "outputs": [
    {
     "name": "stdout",
     "output_type": "stream",
     "text": [
      "[]\n"
     ]
    }
   ],
   "source": [
    "print(find_in_text(cases,\"organized crime informant\"))"
   ]
  },
  {
   "cell_type": "code",
   "execution_count": 20,
   "metadata": {},
   "outputs": [
    {
     "name": "stdout",
     "output_type": "stream",
     "text": [
      "[]\n"
     ]
    }
   ],
   "source": [
    "print(find_in_headnote(cases,\"organized crime informant\"))"
   ]
  },
  {
   "cell_type": "code",
   "execution_count": null,
   "metadata": {},
   "outputs": [],
   "source": []
  },
  {
   "cell_type": "code",
   "execution_count": 21,
   "metadata": {},
   "outputs": [
    {
     "name": "stdout",
     "output_type": "stream",
     "text": [
      "[]\n"
     ]
    }
   ],
   "source": [
    "print(find_in_text(cases,\"Stephen Lynch informant\"))"
   ]
  },
  {
   "cell_type": "code",
   "execution_count": 22,
   "metadata": {},
   "outputs": [
    {
     "name": "stdout",
     "output_type": "stream",
     "text": [
      "[]\n"
     ]
    }
   ],
   "source": [
    "print(find_in_headnote(cases,\"Stephen Lynch informant\"))"
   ]
  },
  {
   "cell_type": "code",
   "execution_count": null,
   "metadata": {},
   "outputs": [],
   "source": []
  },
  {
   "cell_type": "code",
   "execution_count": 23,
   "metadata": {},
   "outputs": [
    {
     "name": "stdout",
     "output_type": "stream",
     "text": [
      "[]\n"
     ]
    }
   ],
   "source": [
    "print(find_in_text(cases,\"federal prison informant\"))"
   ]
  },
  {
   "cell_type": "code",
   "execution_count": 24,
   "metadata": {},
   "outputs": [
    {
     "name": "stdout",
     "output_type": "stream",
     "text": [
      "[]\n"
     ]
    }
   ],
   "source": [
    "print(find_in_headnote(cases,\"federal prison informant\"))"
   ]
  },
  {
   "cell_type": "code",
   "execution_count": null,
   "metadata": {},
   "outputs": [],
   "source": []
  },
  {
   "cell_type": "code",
   "execution_count": 70,
   "metadata": {},
   "outputs": [
    {
     "name": "stdout",
     "output_type": "stream",
     "text": [
      "[]\n"
     ]
    }
   ],
   "source": [
    "print(find_in_text(cases,\"prison informant\"))"
   ]
  },
  {
   "cell_type": "code",
   "execution_count": 71,
   "metadata": {},
   "outputs": [
    {
     "name": "stdout",
     "output_type": "stream",
     "text": [
      "[]\n"
     ]
    }
   ],
   "source": [
    "print(find_in_headnote(cases,\"prison informant\"))"
   ]
  },
  {
   "cell_type": "code",
   "execution_count": null,
   "metadata": {},
   "outputs": [],
   "source": []
  },
  {
   "cell_type": "code",
   "execution_count": 55,
   "metadata": {},
   "outputs": [
    {
     "name": "stdout",
     "output_type": "stream",
     "text": [
      "[]\n"
     ]
    }
   ],
   "source": [
    "print(find_in_text(cases,\"Whitey Bulger informant\"))"
   ]
  },
  {
   "cell_type": "code",
   "execution_count": 57,
   "metadata": {},
   "outputs": [
    {
     "name": "stdout",
     "output_type": "stream",
     "text": [
      "[]\n"
     ]
    }
   ],
   "source": [
    "print(find_in_headnote(cases,\"Whitey Bulger informant\"))"
   ]
  },
  {
   "cell_type": "code",
   "execution_count": null,
   "metadata": {},
   "outputs": [],
   "source": []
  },
  {
   "cell_type": "code",
   "execution_count": 58,
   "metadata": {},
   "outputs": [
    {
     "name": "stdout",
     "output_type": "stream",
     "text": [
      "[]\n"
     ]
    }
   ],
   "source": [
    "print(find_in_text(cases,\"U.S. government informant\"))"
   ]
  },
  {
   "cell_type": "code",
   "execution_count": 61,
   "metadata": {},
   "outputs": [
    {
     "name": "stdout",
     "output_type": "stream",
     "text": [
      "[]\n"
     ]
    }
   ],
   "source": [
    "print(find_in_headnote(cases,\"U.S. government informant\"))"
   ]
  },
  {
   "cell_type": "code",
   "execution_count": null,
   "metadata": {},
   "outputs": [],
   "source": []
  },
  {
   "cell_type": "code",
   "execution_count": 62,
   "metadata": {},
   "outputs": [
    {
     "name": "stdout",
     "output_type": "stream",
     "text": [
      "[[91, [38]]]\n"
     ]
    }
   ],
   "source": [
    "print(find_in_text(cases,\"government informant\"))"
   ]
  },
  {
   "cell_type": "code",
   "execution_count": 63,
   "metadata": {},
   "outputs": [
    {
     "name": "stdout",
     "output_type": "stream",
     "text": [
      "[]\n"
     ]
    }
   ],
   "source": [
    "print(find_in_headnote(cases,\"government informant\"))"
   ]
  },
  {
   "cell_type": "code",
   "execution_count": null,
   "metadata": {},
   "outputs": [],
   "source": []
  },
  {
   "cell_type": "code",
   "execution_count": 67,
   "metadata": {},
   "outputs": [
    {
     "name": "stdout",
     "output_type": "stream",
     "text": [
      "[]\n"
     ]
    }
   ],
   "source": [
    "print(find_in_text(cases,\"government snitch\"))"
   ]
  },
  {
   "cell_type": "code",
   "execution_count": 68,
   "metadata": {
    "scrolled": true
   },
   "outputs": [
    {
     "name": "stdout",
     "output_type": "stream",
     "text": [
      "[]\n"
     ]
    }
   ],
   "source": [
    "print(find_in_headnote(cases,\"government snitch\"))"
   ]
  },
  {
   "cell_type": "markdown",
   "metadata": {},
   "source": [
    "### Searching terms in text then headnote for cases_appeals.csv"
   ]
  },
  {
   "cell_type": "code",
   "execution_count": 73,
   "metadata": {
    "scrolled": true
   },
   "outputs": [
    {
     "name": "stdout",
     "output_type": "stream",
     "text": [
      "[[10, [7]], [27, [8, 25, 36, 38]], [83, [7]], [96, [7]], [221, [2, 17, 19, 39]], [233, [1]], [249, [4, 6]], [266, [55, 58, 88, 94]], [341, [56]], [396, [4, 43]], [409, [27, 107]], [411, [7, 8, 9, 13, 23, 47, 49]], [424, [58]], [481, [3]], [486, [6, 24]], [487, [5]], [579, [66]], [786, [71]], [793, [2]], [817, [80]], [930, [10]], [980, [5]], [1097, [13, 20]], [1194, [32]], [1289, [10]], [1365, [1, 2]], [1409, [1, 7, 24, 34, 46]], [1411, [2, 3]], [1436, [6]], [1514, [3]], [1517, [51, 52]], [1588, [5]], [1623, [4, 38, 67, 69, 73, 83, 85, 86, 88, 91, 94, 97, 99]], [1624, [25]], [1673, [31, 32, 40, 41]], [1706, [9]], [1719, [59]], [1739, [7]], [1783, [1, 3, 17, 25, 32]], [1817, [6]]]\n"
     ]
    }
   ],
   "source": [
    "print(find_in_text(appeals,\"confidential informant\"))"
   ]
  },
  {
   "cell_type": "code",
   "execution_count": 74,
   "metadata": {},
   "outputs": [
    {
     "name": "stdout",
     "output_type": "stream",
     "text": [
      "[[27, [1]], [221, [1]], [486, [1]], [793, [2]], [1365, [1, 2]], [1411, [1]], [1588, [1]], [1623, [2]], [1673, [1]], [1783, [1]], [1817, [1]]]\n"
     ]
    }
   ],
   "source": [
    "print(find_in_headnote(appeals,\"confidential informant\"))"
   ]
  },
  {
   "cell_type": "code",
   "execution_count": null,
   "metadata": {},
   "outputs": [],
   "source": []
  },
  {
   "cell_type": "code",
   "execution_count": 107,
   "metadata": {},
   "outputs": [
    {
     "name": "stdout",
     "output_type": "stream",
     "text": [
      "[[27, [8, 10, 14, 15, 16, 19, 29, 31, 36, 37, 41, 59, 61]], [233, [14, 16, 17, 20, 21, 22, 49, 51]], [396, [4, 7, 38, 46, 49]], [409, [27]], [487, [5, 6, 8, 9, 10, 11, 14, 22]], [793, [7, 9, 10, 12, 32, 50]], [1365, [2, 3, 5, 6, 17, 18, 24, 27, 28, 30, 33, 34, 36, 38, 57, 58]], [1436, [6]], [1623, [7, 8, 11, 23, 27, 35, 41]], [1673, [6, 7, 8, 10, 26, 39, 41, 46, 54]], [1739, [7, 12]]]\n"
     ]
    }
   ],
   "source": [
    "print(find_in_text(appeals,\" ci \"))"
   ]
  },
  {
   "cell_type": "code",
   "execution_count": 76,
   "metadata": {},
   "outputs": [
    {
     "name": "stdout",
     "output_type": "stream",
     "text": [
      "[]\n"
     ]
    }
   ],
   "source": [
    "print(find_in_headnote(appeals,\" ci \"))"
   ]
  },
  {
   "cell_type": "code",
   "execution_count": null,
   "metadata": {},
   "outputs": [],
   "source": []
  },
  {
   "cell_type": "code",
   "execution_count": 77,
   "metadata": {},
   "outputs": [
    {
     "name": "stdout",
     "output_type": "stream",
     "text": [
      "[[150, [11]], [161, [14]], [310, [3, 4, 5, 15, 45, 46]], [762, [5, 30]], [808, [45]], [1858, [71]]]\n"
     ]
    }
   ],
   "source": [
    "print(find_in_text(appeals,\"snitch\"))"
   ]
  },
  {
   "cell_type": "code",
   "execution_count": 78,
   "metadata": {},
   "outputs": [
    {
     "name": "stdout",
     "output_type": "stream",
     "text": [
      "[]\n"
     ]
    }
   ],
   "source": [
    "print(find_in_headnote(appeals,\"snitch\"))"
   ]
  },
  {
   "cell_type": "code",
   "execution_count": null,
   "metadata": {},
   "outputs": [],
   "source": []
  },
  {
   "cell_type": "code",
   "execution_count": 109,
   "metadata": {},
   "outputs": [
    {
     "name": "stdout",
     "output_type": "stream",
     "text": [
      "[[10, [7]], [26, [21, 22, 27, 30, 31, 32, 33]], [27, [8, 25, 29, 34, 35, 36, 38, 41, 49, 55]], [77, [19]], [83, [7, 8, 9, 33]], [96, [7, 25, 35]], [128, [2, 70]], [178, [2, 7, 17, 19, 21, 27, 29, 31, 32, 83]], [221, [2, 4, 17, 19, 26, 27, 39, 42, 43, 44]], [223, [7]], [233, [1, 36, 52, 53, 57]], [236, [14, 16]], [249, [4, 6, 16, 20]], [251, [5]], [266, [55, 58, 63, 66, 67, 72, 85, 88, 89, 94]], [341, [56, 60, 61, 62, 65, 67]], [396, [4, 43]], [409, [27, 68, 76, 78, 84, 92, 96, 102, 107, 108, 113, 114]], [411, [7, 8, 9, 13, 14, 23, 47, 49]], [419, [22, 35]], [424, [58, 76, 78, 79, 82]], [473, [19]], [481, [3]], [486, [6, 24, 31, 52]], [487, [5, 18, 20, 41]], [498, [31, 33, 37]], [579, [8, 28, 29, 30, 32, 37, 41, 42, 51, 60, 61, 62, 66, 67]], [597, [47, 50, 54, 55, 56, 58]], [659, [1, 3, 22, 26, 34, 37]], [711, [1, 3, 10, 11, 20]], [728, [73, 94, 158, 159, 160, 167]], [774, [107]], [786, [71, 80, 90]], [793, [2, 44, 49]], [817, [80]], [910, [11, 16, 17]], [930, [2, 10, 11, 13, 30, 33, 36, 38, 44, 45, 48]], [980, [5]], [1075, [17]], [1097, [13, 16, 17, 18, 20, 50, 51]], [1119, [105]], [1177, [17, 18]], [1194, [32, 33, 34]], [1289, [10]], [1365, [1, 2, 13, 14, 15, 18, 20, 21, 23, 25, 28, 30, 31, 49, 63]], [1409, [1, 7, 8, 11, 13, 14, 24, 29, 33, 34, 36, 41, 44, 45, 46, 47, 54]], [1411, [2, 3]], [1436, [6]], [1461, [11, 17, 30, 37]], [1514, [3, 22]], [1517, [51, 52]], [1557, [158]], [1575, [15]], [1588, [5, 21, 22, 24, 26, 28, 29, 30, 32, 33, 34, 40]], [1614, [2, 9]], [1623, [4, 7, 11, 23, 27, 29, 38, 67, 69, 73, 74, 80, 81, 82, 83, 85, 86, 88, 91, 94, 97, 99]], [1624, [25, 63]], [1673, [1, 17, 21, 26, 27, 30, 31, 32, 35, 40, 41]], [1706, [9, 10]], [1719, [59]], [1739, [7]], [1745, [12, 13, 14, 19, 49, 52, 58, 59, 64, 68, 71, 73, 81, 109]], [1783, [1, 3, 17, 18, 23, 25, 29, 32, 33, 34, 35, 38, 39]], [1817, [6, 19, 20, 22, 24, 30]]]\n"
     ]
    }
   ],
   "source": [
    "print(find_in_text(appeals,\"informant\"))"
   ]
  },
  {
   "cell_type": "code",
   "execution_count": 80,
   "metadata": {},
   "outputs": [
    {
     "name": "stdout",
     "output_type": "stream",
     "text": [
      "[[27, [1]], [178, [1, 2]], [221, [1, 2]], [486, [1]], [579, [1]], [597, [1]], [711, [1, 2, 3]], [793, [2]], [930, [1]], [1097, [3]], [1365, [1, 2]], [1409, [1]], [1411, [1]], [1588, [1]], [1623, [2]], [1673, [1]], [1745, [2]], [1783, [1]], [1817, [1]]]\n"
     ]
    }
   ],
   "source": [
    "print(find_in_headnote(appeals,\"informant\"))"
   ]
  },
  {
   "cell_type": "code",
   "execution_count": null,
   "metadata": {},
   "outputs": [],
   "source": []
  },
  {
   "cell_type": "code",
   "execution_count": 81,
   "metadata": {},
   "outputs": [
    {
     "name": "stdout",
     "output_type": "stream",
     "text": [
      "[]\n"
     ]
    }
   ],
   "source": [
    "print(find_in_text(appeals,\"gang informant\"))"
   ]
  },
  {
   "cell_type": "code",
   "execution_count": 82,
   "metadata": {},
   "outputs": [
    {
     "name": "stdout",
     "output_type": "stream",
     "text": [
      "[]\n"
     ]
    }
   ],
   "source": [
    "print(find_in_headnote(appeals,\"gang informant\"))"
   ]
  },
  {
   "cell_type": "code",
   "execution_count": null,
   "metadata": {},
   "outputs": [],
   "source": []
  },
  {
   "cell_type": "code",
   "execution_count": 83,
   "metadata": {},
   "outputs": [
    {
     "name": "stdout",
     "output_type": "stream",
     "text": [
      "[]\n"
     ]
    }
   ],
   "source": [
    "print(find_in_text(appeals,\"mafia informant\"))"
   ]
  },
  {
   "cell_type": "code",
   "execution_count": 84,
   "metadata": {},
   "outputs": [
    {
     "name": "stdout",
     "output_type": "stream",
     "text": [
      "[]\n"
     ]
    }
   ],
   "source": [
    "print(find_in_headnote(appeals,\"mafia informant\"))"
   ]
  },
  {
   "cell_type": "code",
   "execution_count": null,
   "metadata": {},
   "outputs": [],
   "source": []
  },
  {
   "cell_type": "code",
   "execution_count": 85,
   "metadata": {},
   "outputs": [
    {
     "name": "stdout",
     "output_type": "stream",
     "text": [
      "[]\n"
     ]
    }
   ],
   "source": [
    "print(find_in_text(appeals,\"organized crime informant\"))"
   ]
  },
  {
   "cell_type": "code",
   "execution_count": 86,
   "metadata": {},
   "outputs": [
    {
     "name": "stdout",
     "output_type": "stream",
     "text": [
      "[]\n"
     ]
    }
   ],
   "source": [
    "print(find_in_headnote(appeals,\"organized crime informant\"))"
   ]
  },
  {
   "cell_type": "code",
   "execution_count": null,
   "metadata": {},
   "outputs": [],
   "source": []
  },
  {
   "cell_type": "code",
   "execution_count": 87,
   "metadata": {},
   "outputs": [
    {
     "name": "stdout",
     "output_type": "stream",
     "text": [
      "[]\n"
     ]
    }
   ],
   "source": [
    "print(find_in_text(appeals,\"Stephen Lynch informant\"))"
   ]
  },
  {
   "cell_type": "code",
   "execution_count": 88,
   "metadata": {},
   "outputs": [
    {
     "name": "stdout",
     "output_type": "stream",
     "text": [
      "[]\n"
     ]
    }
   ],
   "source": [
    "print(find_in_headnote(appeals,\"Stephen Lynch informant\"))"
   ]
  },
  {
   "cell_type": "code",
   "execution_count": null,
   "metadata": {},
   "outputs": [],
   "source": []
  },
  {
   "cell_type": "code",
   "execution_count": 89,
   "metadata": {},
   "outputs": [
    {
     "name": "stdout",
     "output_type": "stream",
     "text": [
      "[]\n"
     ]
    }
   ],
   "source": [
    "print(find_in_text(appeals,\"federal prison informant\"))"
   ]
  },
  {
   "cell_type": "code",
   "execution_count": 90,
   "metadata": {},
   "outputs": [
    {
     "name": "stdout",
     "output_type": "stream",
     "text": [
      "[]\n"
     ]
    }
   ],
   "source": [
    "print(find_in_headnote(appeals,\"federal prison informant\"))"
   ]
  },
  {
   "cell_type": "code",
   "execution_count": null,
   "metadata": {},
   "outputs": [],
   "source": []
  },
  {
   "cell_type": "code",
   "execution_count": 91,
   "metadata": {},
   "outputs": [
    {
     "name": "stdout",
     "output_type": "stream",
     "text": [
      "[]\n"
     ]
    }
   ],
   "source": [
    "print(find_in_text(appeals,\"prison informant\"))"
   ]
  },
  {
   "cell_type": "code",
   "execution_count": 92,
   "metadata": {},
   "outputs": [
    {
     "name": "stdout",
     "output_type": "stream",
     "text": [
      "[]\n"
     ]
    }
   ],
   "source": [
    "print(find_in_headnote(appeals,\"prison informant\"))"
   ]
  },
  {
   "cell_type": "code",
   "execution_count": null,
   "metadata": {},
   "outputs": [],
   "source": []
  },
  {
   "cell_type": "code",
   "execution_count": 93,
   "metadata": {},
   "outputs": [
    {
     "name": "stdout",
     "output_type": "stream",
     "text": [
      "[]\n"
     ]
    }
   ],
   "source": [
    "print(find_in_text(appeals,\"Whitey Bulger informant\"))"
   ]
  },
  {
   "cell_type": "code",
   "execution_count": 94,
   "metadata": {},
   "outputs": [
    {
     "name": "stdout",
     "output_type": "stream",
     "text": [
      "[]\n"
     ]
    }
   ],
   "source": [
    "print(find_in_headnote(appeals,\"Whitey Bulger informant\"))"
   ]
  },
  {
   "cell_type": "code",
   "execution_count": null,
   "metadata": {},
   "outputs": [],
   "source": []
  },
  {
   "cell_type": "code",
   "execution_count": 95,
   "metadata": {},
   "outputs": [
    {
     "name": "stdout",
     "output_type": "stream",
     "text": [
      "[]\n"
     ]
    }
   ],
   "source": [
    "print(find_in_text(appeals,\"U.S. government informant\"))"
   ]
  },
  {
   "cell_type": "code",
   "execution_count": 96,
   "metadata": {},
   "outputs": [
    {
     "name": "stdout",
     "output_type": "stream",
     "text": [
      "[]\n"
     ]
    }
   ],
   "source": [
    "print(find_in_headnote(appeals,\"U.S. government informant\"))"
   ]
  },
  {
   "cell_type": "code",
   "execution_count": null,
   "metadata": {},
   "outputs": [],
   "source": []
  },
  {
   "cell_type": "code",
   "execution_count": 97,
   "metadata": {},
   "outputs": [
    {
     "name": "stdout",
     "output_type": "stream",
     "text": [
      "[[178, [19]], [579, [66]], [711, [20]]]\n"
     ]
    }
   ],
   "source": [
    "print(find_in_text(appeals,\"government informant\"))"
   ]
  },
  {
   "cell_type": "code",
   "execution_count": 98,
   "metadata": {},
   "outputs": [
    {
     "name": "stdout",
     "output_type": "stream",
     "text": [
      "[[178, [1, 2]]]\n"
     ]
    }
   ],
   "source": [
    "print(find_in_headnote(appeals,\"government informant\"))"
   ]
  },
  {
   "cell_type": "code",
   "execution_count": null,
   "metadata": {},
   "outputs": [],
   "source": []
  },
  {
   "cell_type": "code",
   "execution_count": 99,
   "metadata": {},
   "outputs": [
    {
     "name": "stdout",
     "output_type": "stream",
     "text": [
      "[]\n"
     ]
    }
   ],
   "source": [
    "print(find_in_text(appeals,\"government snitch\"))"
   ]
  },
  {
   "cell_type": "code",
   "execution_count": 100,
   "metadata": {
    "scrolled": true
   },
   "outputs": [
    {
     "name": "stdout",
     "output_type": "stream",
     "text": [
      "[]\n"
     ]
    }
   ],
   "source": [
    "print(find_in_headnote(appeals,\"government snitch\"))"
   ]
  },
  {
   "cell_type": "code",
   "execution_count": null,
   "metadata": {},
   "outputs": [],
   "source": []
  },
  {
   "cell_type": "code",
   "execution_count": null,
   "metadata": {
    "scrolled": true
   },
   "outputs": [],
   "source": []
  },
  {
   "cell_type": "code",
   "execution_count": 120,
   "metadata": {
    "scrolled": true
   },
   "outputs": [
    {
     "name": "stdout",
     "output_type": "stream",
     "text": [
      "626\n"
     ]
    }
   ],
   "source": [
    "print(len(find_in_text(cases,\"appeal\")))"
   ]
  },
  {
   "cell_type": "code",
   "execution_count": 121,
   "metadata": {},
   "outputs": [
    {
     "data": {
      "text/plain": [
       "646"
      ]
     },
     "execution_count": 121,
     "metadata": {},
     "output_type": "execute_result"
    }
   ],
   "source": [
    "len(cases)"
   ]
  },
  {
   "cell_type": "code",
   "execution_count": null,
   "metadata": {},
   "outputs": [],
   "source": []
  }
 ],
 "metadata": {
  "kernelspec": {
   "display_name": "Python 3",
   "language": "python",
   "name": "python3"
  },
  "language_info": {
   "codemirror_mode": {
    "name": "ipython",
    "version": 3
   },
   "file_extension": ".py",
   "mimetype": "text/x-python",
   "name": "python",
   "nbconvert_exporter": "python",
   "pygments_lexer": "ipython3",
   "version": "3.7.4"
  }
 },
 "nbformat": 4,
 "nbformat_minor": 2
}
