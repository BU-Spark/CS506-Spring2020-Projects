{
 "cells": [
  {
   "cell_type": "code",
   "execution_count": 25,
   "metadata": {},
   "outputs": [],
   "source": [
    "import json\n",
    "import numpy as np\n",
    "j = open(\"cases.json\")\n",
    "data = json.load(j)"
   ]
  },
  {
   "cell_type": "markdown",
   "metadata": {},
   "source": [
    "# First we do some tests, find the data structure.\n",
    "## Data is structured in an array of dictionnaries, each element in the array corresponds to a case.\n",
    "## Each case is a dictionnary with three string keys, namely case, headnote, and text. \n",
    "\n",
    "\n",
    "### Highlights:\n",
    "- ### case[1] is the two parties litigating\n",
    "- ### headnote[0] are key words in the case\n",
    "- ### headnote[1:] is a short summary of the case\n",
    "- ### text[:] is a detailed summary of the case"
   ]
  },
  {
   "cell_type": "code",
   "execution_count": 33,
   "metadata": {},
   "outputs": [
    {
     "name": "stdout",
     "output_type": "stream",
     "text": [
      "{'case': ['', 'COMMONWEALTH  vs.  GEORGE PHILBROOK.'], 'headnote': ['Homicide. Evidence, Prior violent conduct, State of mind, Intent. Practice, Criminal, Capital case, Argument by prosecutor, Mistrial, Jury and jurors, Conduct of juror. Jury and Jurors.', 'At a murder trial, the judge did not err in admitting in evidence testimony of a previous assault by the defendant on a third party, where the probative value of the evidence outweighed the risk of unfair prejudice to the defendant, given that the evidence was relevant to the Commonwealth\\x92s theory of the defendant\\x92s motive and intent, particularly in light of the defendant\\x92s stated intention to offer a defense of lack of criminal responsibility. [25-28]', 'At a murder trial, the prosecutor\\x92s reference in closing argument to statements that the defendant was angry at the time of the shooting was not an impermissible reference to propensity evidence but, rather, was a proper attempt to tie evidence of the defendant\\x92s anger to evidence of his conscious and deliberate decisions that were a result of that anger; likewise, the prosecutor\\x92s reference to the defendant\\x92s decision to reload the firearm and to take a particular route was a proper rebuttal to the defense that the defendant was not acting intentionally or rationally when he shot the victim. [28-29]', 'At a criminal trial, the judge did not abuse her discretion in denying the defendant\\x92s motion for a mistrial based on comments made by certain jurors during the trial (which led to the dismissal of one juror), or in denying the defendant\\x92s request for dismissal of one juror based on a comment that the juror had made to a court reporter during deliberations, where the judge\\x92s conclusion, after conducting extensive individual voir dire of the remaining jurors, that they had not been influenced by the comments and continued to be impartial was entitled to deference [29-31]; further, the judge did not err in declining the defendant\\x92s request to make one juror a nonrandom selection as an alternate, given the judge\\x92s conclusion that the juror remained impartial [31-32].', 'This court declined to exercise its authority under G. L. c. 278, § 33E, to reduce a conviction of murder in the first degree. [32-33]'], 'text': ['', 'The defendant was convicted of murder in the first degree on a theory of deliberate premeditation in the shooting death of his former wife, Dorothy Philbrook.', 'The defendant and his former wife were divorced in 1975, but had been living together for many years when, on August 17, 2007, the defendant shot her five times on the street in front of their house in Everett, in view of some of their neighbors.  The defendant does not dispute that he was the shooter.  His defense at trial was that he was not criminally responsible because the prescription medications that he was taking exacerbated an underlying brain disease, creating a mental disease or defect that caused him to be unable to conform his actions to the law.', '', 'On appeal, the defendant contends that the judge abused her discretion in allowing the admission of evidence of prior bad acts shortly prior to and immediately following the killing.  The defendant also claims that the judge erred in denying his motion for a mistrial after learning that three jurors had discussed the case before deliberations began.  Finally, while conceding that the evidence was sufficient to support his conviction of murder in the first degree, the defendant argues that a reduction in the verdict would be more consonant with justice, and asks that we exercise our power pursuant to G. L. c. 278, § 33E, to reduce the verdict of murder in the first degree to a lesser degree of guilt.', 'We affirm the convictions, and discern no reason to exercise our power under G. L. c. 278, § 33E.', '1.  Background.  a.  Commonwealth\\'s case.  We summarize the facts the jury could have found.  The defendant and the victim, who had divorced in 1975, renewed their relationship in 1980.  They did not remarry, but lived together in a house in Everett.  Their relationship was tumultuous, and they \"constantly\" fought', 'Page 22', 'about money.  In the week prior to the shooting, the defendant told his granddaughter that he believed the victim had stolen $50,000 from him and had spent the money on lottery tickets.  He said that if he learned his suspicions were correct, he would shoot and kill her.', 'On August 15, 2007, two days before the shooting, the defendant went to an athletic club where he worked as a janitor and struck one of the club patrons with a baseball bat.  He told police he had done so because he believed that the patron had stolen $700 from him.', 'Following this incident, the defendant was fired from his job at the club.', 'At 8:16 P.M. on August 17, 2007, the victim telephoned her adult son from her cordless home telephone and spoke with him as she stood outside her house.  She was upset and said she was \"fed up\" with the defendant and was going to call the police.  The son heard the defendant pick up another telephone, located inside the house, enabling him to hear the conversation on that extension.  The defendant was \"very angry,\" and began \"yelling\" and swearing, \"[Y]ou\\'re going to call the fucking police?\"', 'Several neighbors saw or heard the events leading up to the shooting, the shooting itself, and its immediate aftermath.  At approximately 8:20 P.M., the victim ran across the street away from her house, screaming.  The defendant followed her, walking calmly, his arm extended and holding a gun in his hand.  As the victim continued running, she tripped on the curb and turned toward the defendant, who began shooting at her, repeating \"take that,\" after each of the first three shots.  The victim fell face down on the ground.  Standing over her, the defendant said, \"Go ahead.  Call the fucking police,\" then walked away.  In all, the defendant fired six shots; the victim was struck by five of the bullets.  Four of the bullets penetrated her body, in her left arm, left torso, the back of her neck, and the left side of her head, and a fifth grazed the back of her neck.  She died as a result of the gunshot wounds.', '', 'Neighbors telephoned 911, and police arrived within minutes', 'Page 23', 'of the shooting.  Shortly after the shooting, a neighbor saw the defendant standing on the corner of his street, craning his neck and looking in the direction of his house.  He then turned around and \"took off\" away from the scene.', 'Approximately one-half hour later, the defendant approached a couple who were sitting on the steps of their apartment building listening to a police scanner and spoke to them.  The man had just heard that police were looking for a suspect with a gun.  When he noticed that the defendant was carrying a gun in his pants, the woman telephoned 911.  The defendant was apprehended in a liquor store shortly thereafter, while attempting to purchase a six-pack of beer, cigarettes, and candy.', \"b.  Defendant's case.  The defendant's trial took place in February, 2013.  The roughly six-year period between the shooting and the trial was due in part to several continuances for competency evaluations by different experts.\", 'The defendant introduced testimony by three psychiatric experts who opined that he suffered from an organic brain disease that had resulted in shrinkage of his frontal lobe.', 'One of the experts, a clinical professor of psychiatry at Harvard Medical School, testified that the defendant had \"organic brain syndrome\" as a result of brain injuries and the combined side effects of the prescription medications he was taking at the time of the shooting,', 'in conjunction with chronic alcohol and illegal drug abuse (cocaine), which exacerbated the organic brain disease.  The expert testified that \"compulsive behavior\" is a known side effect of the most recently prescribed of the defendant\\'s medications, Requip.  He opined that, in combination with the defendant\\'s brain disease and the other prescription medications the defendant was taking,', 'Page 24', 'Requip had caused an \"acute\" side effect, such that the defendant was \"tipped . . . over into a compulsive behavior . . . [and] unable to control his behavior.\"  This expert also testified that, at the time of the shooting, the defendant\\'s brain disease, exacerbated by the medications he was taking, caused him to develop a delusional belief that his former wife was stealing money from him.  Because of the compulsive side effects from the defendant\\'s medication, this delusional belief was \"translated . . . into an action\"; as his behavior was compulsive, the defendant had been unable to conform his conduct to the law.', '', 'Another expert testified that the defendant had difficulties with executive function, or \"thinking in an organized way.\"  Such functions are controlled by the frontal lobe, which plays an important role in an individual\\'s ability to control emotions and behavior.  The third expert opined that the defendant appeared to have memory deficits and it was likely, based on the defendant\\'s speech and vocabulary, that he had below-average intelligence; this expert did not opine whether these deficits were as a result of the defendant\\'s brain injury.  Two of the defendant\\'s experts also testified that long-term substance abuse or alcohol abuse could have aggravated the symptoms of his brain disease.', 'A neighbor who witnessed the shooting testified that after shooting the victim the defendant had a \"blank look,\" that he thought was similar to \"tunnel vision.\"', 'In addition, a witness who had known the defendant for thirty years testified that, during the month before the shooting, the defendant was \"very, very moody\" and \"paranoid\" about the possibility that he would lose his job, and was irritable and angry.', 'The defendant also introduced evidence concerning his prior abuse of cocaine, marijuana,', 'Page 25', 'and alcohol.', '', \"c.  Defendant's trial motions.  During the Commonwealth's case-in-chief, the defendant moved for a mistrial on the basis of juror misconduct.  That motion was denied.  The defendant's motions for a directed verdict, made at the close of the Commonwealth's case and renewed at the close of all of the evidence, also were denied.  The jury convicted the defendant on all counts, and this appeal followed.\", \"2.  Discussion.  a.  Prior bad acts evidence.  The Commonwealth filed a motion in limine seeking to admit testimony of a previous assault by the defendant on a fellow club member at an athletic club to establish his motive and state of mind.  The proposed testimony was to the effect that, two days before the shooting, the defendant struck the club member with a baseball bat because he believed the individual owed him $700, and consequently, the defendant had been prohibited from returning to the club.  The judge allowed the Commonwealth's motion to admit this evidence, over the defendant's objection that the evidence was impermissible evidence of prior bad acts; the defendant renewed his objection prior to introduction of the evidence at trial.  On appeal, the defendant argues that the judge abused her discretion by allowing the admission of the prior bad act evidence, and that, even if it were deemed probative, the evidence was unfairly prejudicial.\", \"Although evidence of a defendant's prior bad acts is not admissible\", 'Page 26', 'to show a propensity to commit such acts, it may be admissible if relevant for another purpose, \"such as to show a common scheme, pattern of operation, absence of accident or mistake, identity, intent, motive, or state of mind.\"  See Commonwealth v. Howard,', ', 738 (2014), quoting Commonwealth v. Helfant,', ', 224-225 (1986).  When the Commonwealth seeks to use prior bad act evidence for such a permissible purpose, the evidence is admissible if its probative value outweighs the risk of unfair prejudice.  Commonwealth v. Anestal,', ', 665 (2012).  Questions of admissibility, probative value, and unfair prejudice are left to the sound discretion of the trial judge, and will not be overturned absent clear error.  See Commonwealth v. Morgan,', ', 289 (2011).', \"The evidence of the defendant's attack on his fellow club member supported the Commonwealth's theory of the defendant's motive and intent that, during the days preceding the shooting, the defendant had been preoccupied with financial worries, which intensified the day before the shooting, when he lost his job, resulting in an escalation of his arguments with the victim about the money he accused her of taking from him.  See Commonwealth v. Mendes,\", ', 464-467 (2004) (defendant\\'s drug use and need for money relevant to defendant\\'s motive for murder to gain inheritance).  The defendant\\'s son and granddaughter both testified that, in the days before the shooting, the defendant was increasingly worried about money, and preoccupied with thoughts that others owed him money they had stolen from him.  The granddaughter testified that, during the week before the shooting, the defendant was angry with the victim, expressing his belief that she had stolen his money and had spent it on lottery tickets, and stating that if his suspicions were proved to be accurate, he would kill her.  The son testified that, in the days immediately preceding the shooting, the defendant was angry at someone he knew from the athletic club for stealing money from him.  Thus, the evidence that the defendant was preoccupied with concerns about money supported his motive to kill the victim because he believed the victim was taking and spending his money.  This evidence also provided context for the shooting.  Without such context, \"the killing could have appeared to the jury as an essentially inexplicable act of violence.\"  Commonwealth v. Bradshaw,', ', 269 (1982).  See also Commonwealth v. Scott,', ', 818-819 (1990).', 'In addition, the defendant had notified the Commonwealth prior to trial that he intended to offer a defense of lack of criminal', 'Page 27', 'responsibility, based on his pre-existing brain disease and the prescription medications he had been taking in the weeks before the shooting.  The defendant\\'s mental state in the days before the shooting was relevant to whether his conduct was intentional, and not the result of compulsive or illogical thoughts brought on by brain disease that had been exacerbated by his medications.  See Commonwealth v. Anestal, supra at 655 (prior bad act evidence admissible to rebut defense).  While possibly harmful to the defendant, the judge did not abuse her discretion in concluding that the evidence was more probative than prejudicial, and was admissible to show the defendant\\'s motive and state of mind.  See Commonwealth v. Howard, supra at 740 (in prosecution for murder in first degree of coworker, admission of prior bad acts showing defendant\\'s state of mind toward another coworker \"was arguably probative of [the defendant\\'s] state of mind and intent toward the victim\").', 'Witnesses to the defendant\\'s attack on the club member testified that the defendant arrived at the club on his bicycle, with a baseball bat.  The defendant appeared calm and collected and asked for the club member by name.  He socialized with approximately twenty patrons on the club\\'s patio while he waited for the individual.  Responding to a question from one patron about why he was carrying a baseball bat, the defendant replied, \"I\\'m an old man.  I need to protect myself.\"  When the person he believed owed him money came outside, the defendant hit him with the baseball bat and threatened him with further violence if he did not pay the defendant what he owed.  During the attack, the defendant accidently knocked over a table with some drinks.  When he noticed the table was knocked over, he apologized to those whose drinks he had spilled, and stated that the attack did not involve them.  The individual he had attacked testified at trial that the defendant remembered the attack the following day, and was still angry.  The testimony was that the defendant told him that he had been following his movements and knew his routine, and then accurately related to him the events of the previous day.', 'The jury could infer from this evidence that the attack was planned in advance and was executed in a deliberate manner.  The evidence was relevant to the defendant\\'s mental state, and was offered to show that, in the days before the shooting, the defendant \"was not delusional but quite rational and well oriented.\"  Commonwealth v. Johnston,', ', 686 (2014).  See Commonwealth v. Howard, supra, citing Commonwealth v. Maimoni,', 'Page 28', '', ', 327-328 (1996) (prior bad acts admissible as illustrative of defendant\\'s mental state at time, and \"to rebut defendant\\'s testimony\"); Commonwealth v. Adams,', \", 818 (2001) (evidence of defendant's deliberate and rational actions after crime relevant to rebut defense of delusional thinking).\", 'The defendant argues that, even if relevant, the evidence was nonetheless overly prejudicial because it was not \"necessary\" to rebut his defense.  We previously have considered and rejected a similar argument.  In Commonwealth v. Copney,', ', 413 (2014), we stated \"that the Commonwealth was not required to show that it needed the prior bad act evidence to prove its case, and . . . the judge was not obligated to consider whether . . . there was some alternative means by which the Commonwealth could prove its case.\"  There was no abuse of discretion in allowing the admission of the prior bad act evidence.', 'b.  Prosecutor\\'s closing argument.  The defendant maintains that the prosecutor misused the prior bad act evidence in his closing, arguing that the defendant was an angry person and prone to act out of anger, and asserting also that, at the time of his arrest, the defendant had been on his way to shoot the club patron he had assaulted with a baseball bat.  Because the defendant objected to these portions of the prosecutor\\'s closing argument,  we \"review to determine whether the remark was improper and, if so, whether it was harmless.\"  Commonwealth v. Sylvia,', ', 193-194 (2010).  We conclude that there was no error.', '\"Remarks made during closing arguments are considered in context of the whole argument, the evidence admitted at trial, and the judge\\'s instructions to the jury\" (citation omitted).  Id. at 193.  The prosecutor\\'s reference to statements that the defendant was \"angry\" at the time of the shooting was not an impermissible reference to propensity evidence.  The prosecutor was not asking the jury to infer that, because the defendant was an angry person and was on his way to kill a different individual at the athletic club, the defendant must also have been the person who killed the victim.  Rather, the prosecutor was drawing a distinction between deliberate actions fueled by anger (the Commonwealth\\'s theory of the case) and compulsive acts fueled by \"delusional beliefs\" resulting from a mental disease or defect (the defense).  Thus, the prosecutor properly sought to tie evidence of the defendant\\'s anger to evidence of his conscious and deliberate decisions which, the prosecutor argued, were the result of that anger.  The', 'Page 29', 'prosecutor argued, \"He decided to shoot her because he was angry at her.  It was a decision, not a delusion.\"  \"The defendant was angry, and it was anger, not some sort of mental disease or defect or intoxicant, that caused him to act the way that he did that day.  It was anger that caused him to make the decisions that he did.\"  In this context, the prosecutor\\'s references were a permissible use of the prior bad act evidence.  See Commonwealth v. Carlson,', \", 508-509 (2007) (prior bad act evidence related to defendant's hostility admissible to show hostility generated motive or intent for crime).\", 'The defendant also challenges the prosecutor\\'s statement in closing that the defendant \"decided to reload the firearm and decided to go the route that headed towards the club and decided to stop at a liquor store that\\'s en route with that, and we know that those are decisions as opposed to delusions because he told the police that\\'s why he was going there because he was going to shoot [the club member he attacked with a bat].\"  The prosecutor was not thereby asking the jury to infer that the defendant must have planned to shoot his former wife because he also might have planned a future assault on someone else.  Rather, the prosecutor was rebutting the defense that the defendant was not acting intentionally or rationally when he shot the victim.  The prosecutor pointed to evidence that the defendant had made a series of \"deliberate\" and conscious decisions immediately after the shooting, and argued that this supported a conclusion that the defendant\\'s thoughts and actions at the time of the murder were not delusional or involuntary.  See generally Commonwealth v. Mendes,', ', 466 (2004); Commonwealth v. Simpson,', \", 578-579 (2001) (statement made immediately after killing, that defendant would shoot police officer if he had bullet, admissible to prove defendant's aggressive and threatening behavior to rebut state of mind defense for the killing).\", 'c.  Juror misconduct.  i.  Motion for a mistrial.  On the seventh day of trial, juror no. 12 sent a note to the judge stating that, during a break in the proceedings the previous day, she had overheard a discussion between some jurors that sounded as though they were discussing \"issues related to the case,\" and she was \"unsure if what they were discussing was allowed.\"  The judge conducted a voir dire of juror no. 12, and determined that the overheard conversation was between jurors nos. 2, 6, and 9.  The discussion related primarily to each of the jurors\\' feelings about defense counsel and the defendant\\'s demeanor, but also had', 'Page 30', \"involved off-color jokes about the defendant's actions during his arrest, and speculation about why a crime that took place in 2007 had not been tried until 2013.\", 'The judge thereafter conducted individual voir dire, during which one juror said that she thought that juror no. 6 appeared to have made up his mind about the case, based on his comment that there was no need for further witnesses and it was clear what had happened.  The judge dismissed juror no. 6.  Following extensive voir dire of the remaining jurors, the judge concluded that they had not been tainted by juror no. 6\\'s comments and remained impartial, and that any exposure to the comments \"was relatively de minimis . . . [and] did not infect any of the other jurors in any way that is prejudicial to any party.\"', 'During deliberations, after the judge had renewed her instruction to the jury not to speak with anyone connected to the case, or about the case, the court reporter told the judge that while she and juror no. 9 had been in a court house elevator, juror no. 9 had apologized to her for a comment in which he said that the court reporter\\'s mask made her look like \"Darth Vader\"; the comment had come to light during the judge\\'s voir dire of the jurors.  The judge denied the defendant\\'s requested that juror no. 9 be dismissed.', 'Article 12 of the Massachusetts Declaration of Rights and the Sixth Amendment to the United States Constitution guarantee a criminal defendant the right to a trial before an impartial jury.  Commonwealth v. Seabrooks,', ', 442 (2001).  Prohibiting premature jury deliberations, and extraneous influences on jurors, safeguards a defendant\\'s right to trial before an impartial jury.  See Tanner v. United States, 483 U.S. 107, 126-127 (1987); United States v. Jadlowe, 628 F.3d 1, 15 (1st Cir. 2010), cert. denied, 563 U.S. 926 (2011).  Nonetheless, \"not all premature jury discussion about a case will compromise a defendant\\'s fair trial rights.\"  United States v. Jadlowe, supra at 18.  See Commonwealth v. Smith,', ', 443 n.10 (2012) (jurors\\' comments that they were bored by one of Commonwealth\\'s witnesses did not reflect impermissible deliberation on substance of case).  A judge\\'s \"determination of a juror\\'s impartiality \\'is essentially one of credibility, and therefore largely one of demeanor\\' . . . .  In such circumstances, we give a trial judge\\'s determination of impartiality great deference.\"  Commonwealth v. Alicea,', ', 849 (2013), quoting Commonwealth v. Ferguson,', ', 352-353 (1997).', 'Page 31', 'As the defendant suggests, the comments made by jurors nos. 2, 6, and 9 related to their feelings about \"the strength of evidence or his or her opinion of the defendant\\'s guilt\" and not to \"extraneous matter[s].\"  Commonwealth v. Guisti,', ', 251-252 (2001), S.C.,', \"(2007).  The comments also hinted at extraneous information regarding the personal experiences of some jurors that potentially could have influenced their deliberations, such as one juror's experience as a fire fighter.  Under either view of the comments, we give deference to the judge's conclusion, arrived at following extensive individual voir dire, that the remaining jurors had not been influenced by the comments and continued to be impartial.  See Commonwealth v. Maldonado,\", ', 506-507 (1999) (no abuse of discretion when, after learning of extraneous influence on jury discovered during trial, judge removed offending juror but found that rest of jury remained impartial and gave curative instruction).  See, e.g., Commonwealth v. Ferguson, supra at 353-354; Commonwealth v. Kamara,', ', 616 (1996); Commonwealth v. Urena,', \", 700 (1994) (no prejudice to defendant from juror's question of witness, made during trial, where record did not disclose improper influence on remaining jurors).\", 'Jurors \"inevitably formulate impressions as they hear evidence.  This is natural and cannot be prevented. . . .  The question is whether jurors can suspend final judgment and keep their minds open to other evidence that they hear.\"  Commonwealth v. Guisti, supra at 254.  During voir dire, each juror asserted a belief that the joking tone and content of the comments was not intended to violate the judge\\'s instruction not to talk about the case, and that the comments had only a tangential relationship to the case.  No juror believed the comments were intended to, or did, influence his or her views regarding the evidence presented.  Each testified that he or she continued to have an open mind, and would not consider the extraneous comments before or during deliberation.  The judge gave a pointed curative instruction that the jury were to disregard any extraneous information that they had heard, and should not discuss the case before deliberations began.  Given these curative efforts after dismissal of juror no. 6, there was no abuse of discretion in the denial of the defendant\\'s motions for a mistrial with regard to the juror comments during trial or juror no. 9\\'s comment during deliberations.', 'ii.  Motion for a juror to be made an alternate.  Prior to deliberations, the defendant requested that the judge make juror no. 9', 'Page 32', \"a nonrandom selection as an alternate because the defendant believed, on the basis of the juror's prior comments, that the juror already had made up his mind against the defendant.  We reject, as without basis in the law, the defendant's argument that the judge should have designated juror no. 9 as an alternate.  Having concluded that the juror remained impartial, and finding no evidence to overcome the presumption that jurors follow the instructions they are given, see Commonwealth v. Watkins,\", ', 840 (1997), the judge had no basis upon which to take the irregular step of designating juror no. 9 a nonrandom selection as an alternate.', 'See Commonwealth v. The Ngoc Tran,', ', 189-191 (2015) (analyzing nonrandom selection of alternate juror as irregular).', 'd.  Review under G. L. c. 278, § 33E.  While conceding that the evidence was sufficient to support his conviction, the defendant maintains that the weight of the evidence supports a verdict of manslaughter or murder in the second degree, and urges us to reduce the verdict pursuant to our authority under G. L. c. 278, § 33E.  We may reduce a verdict to a lesser degree of guilt if we are satisfied \"that the verdict was against the law or the weight of the evidence . . . or for any other reason that justice may require.\"  G. L. c. 278, § 33E.', 'The defendant argues that a lesser degree of guilt is appropriate here because the evidence at trial established that the killing resulted from a \"compulsive act and a delusional thought.\"  The defendant contends that the evidence supports a conclusion that, at the time of the killing, he suffered from a brain disease that resulted in cognitive and emotional impairments that were exacerbated by prescription medications that affected his impulse control and caused paranoid thinking.  He argues that this combination of factors caused him to engage in the \"compulsive act\" of killing the victim, and also to suffer from the \"delusional belief\" (her stealing money) that provided the motive for her killing.', 'We have carefully reviewed the record, and decline to reduce the verdict pursuant to our authority under G. L. c. 278, § 33E.', 'Judgments affirmed.']}\n"
     ]
    }
   ],
   "source": [
    "print (data[1])"
   ]
  },
  {
   "cell_type": "code",
   "execution_count": 27,
   "metadata": {},
   "outputs": [
    {
     "name": "stdout",
     "output_type": "stream",
     "text": [
      "['', 'COMMONWEALTH  vs.  GEORGE PHILBROOK.']\n"
     ]
    }
   ],
   "source": [
    "print(data[1][\"case\"])"
   ]
  },
  {
   "cell_type": "code",
   "execution_count": 95,
   "metadata": {},
   "outputs": [
    {
     "data": {
      "text/plain": [
       "['Homicide. Evidence, Prior violent conduct, State of mind, Intent. Practice, Criminal, Capital case, Argument by prosecutor, Mistrial, Jury and jurors, Conduct of juror. Jury and Jurors.',\n",
       " 'At a murder trial, the judge did not err in admitting in evidence testimony of a previous assault by the defendant on a third party, where the probative value of the evidence outweighed the risk of unfair prejudice to the defendant, given that the evidence was relevant to the Commonwealth\\x92s theory of the defendant\\x92s motive and intent, particularly in light of the defendant\\x92s stated intention to offer a defense of lack of criminal responsibility. [25-28]',\n",
       " 'At a murder trial, the prosecutor\\x92s reference in closing argument to statements that the defendant was angry at the time of the shooting was not an impermissible reference to propensity evidence but, rather, was a proper attempt to tie evidence of the defendant\\x92s anger to evidence of his conscious and deliberate decisions that were a result of that anger; likewise, the prosecutor\\x92s reference to the defendant\\x92s decision to reload the firearm and to take a particular route was a proper rebuttal to the defense that the defendant was not acting intentionally or rationally when he shot the victim. [28-29]',\n",
       " 'At a criminal trial, the judge did not abuse her discretion in denying the defendant\\x92s motion for a mistrial based on comments made by certain jurors during the trial (which led to the dismissal of one juror), or in denying the defendant\\x92s request for dismissal of one juror based on a comment that the juror had made to a court reporter during deliberations, where the judge\\x92s conclusion, after conducting extensive individual voir dire of the remaining jurors, that they had not been influenced by the comments and continued to be impartial was entitled to deference [29-31]; further, the judge did not err in declining the defendant\\x92s request to make one juror a nonrandom selection as an alternate, given the judge\\x92s conclusion that the juror remained impartial [31-32].',\n",
       " 'This court declined to exercise its authority under G. L. c. 278, § 33E, to reduce a conviction of murder in the first degree. [32-33]']"
      ]
     },
     "execution_count": 95,
     "metadata": {},
     "output_type": "execute_result"
    }
   ],
   "source": [
    "data[1][\"headnote\"]"
   ]
  },
  {
   "cell_type": "code",
   "execution_count": 29,
   "metadata": {},
   "outputs": [
    {
     "data": {
      "text/plain": [
       "['',\n",
       " 'The defendant was convicted of murder in the first degree on a theory of deliberate premeditation in the shooting death of his former wife, Dorothy Philbrook.',\n",
       " 'The defendant and his former wife were divorced in 1975, but had been living together for many years when, on August 17, 2007, the defendant shot her five times on the street in front of their house in Everett, in view of some of their neighbors.  The defendant does not dispute that he was the shooter.  His defense at trial was that he was not criminally responsible because the prescription medications that he was taking exacerbated an underlying brain disease, creating a mental disease or defect that caused him to be unable to conform his actions to the law.',\n",
       " '',\n",
       " 'On appeal, the defendant contends that the judge abused her discretion in allowing the admission of evidence of prior bad acts shortly prior to and immediately following the killing.  The defendant also claims that the judge erred in denying his motion for a mistrial after learning that three jurors had discussed the case before deliberations began.  Finally, while conceding that the evidence was sufficient to support his conviction of murder in the first degree, the defendant argues that a reduction in the verdict would be more consonant with justice, and asks that we exercise our power pursuant to G. L. c. 278, § 33E, to reduce the verdict of murder in the first degree to a lesser degree of guilt.',\n",
       " 'We affirm the convictions, and discern no reason to exercise our power under G. L. c. 278, § 33E.',\n",
       " '1.  Background.  a.  Commonwealth\\'s case.  We summarize the facts the jury could have found.  The defendant and the victim, who had divorced in 1975, renewed their relationship in 1980.  They did not remarry, but lived together in a house in Everett.  Their relationship was tumultuous, and they \"constantly\" fought',\n",
       " 'Page 22',\n",
       " 'about money.  In the week prior to the shooting, the defendant told his granddaughter that he believed the victim had stolen $50,000 from him and had spent the money on lottery tickets.  He said that if he learned his suspicions were correct, he would shoot and kill her.',\n",
       " 'On August 15, 2007, two days before the shooting, the defendant went to an athletic club where he worked as a janitor and struck one of the club patrons with a baseball bat.  He told police he had done so because he believed that the patron had stolen $700 from him.',\n",
       " 'Following this incident, the defendant was fired from his job at the club.',\n",
       " 'At 8:16 P.M. on August 17, 2007, the victim telephoned her adult son from her cordless home telephone and spoke with him as she stood outside her house.  She was upset and said she was \"fed up\" with the defendant and was going to call the police.  The son heard the defendant pick up another telephone, located inside the house, enabling him to hear the conversation on that extension.  The defendant was \"very angry,\" and began \"yelling\" and swearing, \"[Y]ou\\'re going to call the fucking police?\"',\n",
       " 'Several neighbors saw or heard the events leading up to the shooting, the shooting itself, and its immediate aftermath.  At approximately 8:20 P.M., the victim ran across the street away from her house, screaming.  The defendant followed her, walking calmly, his arm extended and holding a gun in his hand.  As the victim continued running, she tripped on the curb and turned toward the defendant, who began shooting at her, repeating \"take that,\" after each of the first three shots.  The victim fell face down on the ground.  Standing over her, the defendant said, \"Go ahead.  Call the fucking police,\" then walked away.  In all, the defendant fired six shots; the victim was struck by five of the bullets.  Four of the bullets penetrated her body, in her left arm, left torso, the back of her neck, and the left side of her head, and a fifth grazed the back of her neck.  She died as a result of the gunshot wounds.',\n",
       " '',\n",
       " 'Neighbors telephoned 911, and police arrived within minutes',\n",
       " 'Page 23',\n",
       " 'of the shooting.  Shortly after the shooting, a neighbor saw the defendant standing on the corner of his street, craning his neck and looking in the direction of his house.  He then turned around and \"took off\" away from the scene.',\n",
       " 'Approximately one-half hour later, the defendant approached a couple who were sitting on the steps of their apartment building listening to a police scanner and spoke to them.  The man had just heard that police were looking for a suspect with a gun.  When he noticed that the defendant was carrying a gun in his pants, the woman telephoned 911.  The defendant was apprehended in a liquor store shortly thereafter, while attempting to purchase a six-pack of beer, cigarettes, and candy.',\n",
       " \"b.  Defendant's case.  The defendant's trial took place in February, 2013.  The roughly six-year period between the shooting and the trial was due in part to several continuances for competency evaluations by different experts.\",\n",
       " 'The defendant introduced testimony by three psychiatric experts who opined that he suffered from an organic brain disease that had resulted in shrinkage of his frontal lobe.',\n",
       " 'One of the experts, a clinical professor of psychiatry at Harvard Medical School, testified that the defendant had \"organic brain syndrome\" as a result of brain injuries and the combined side effects of the prescription medications he was taking at the time of the shooting,',\n",
       " 'in conjunction with chronic alcohol and illegal drug abuse (cocaine), which exacerbated the organic brain disease.  The expert testified that \"compulsive behavior\" is a known side effect of the most recently prescribed of the defendant\\'s medications, Requip.  He opined that, in combination with the defendant\\'s brain disease and the other prescription medications the defendant was taking,',\n",
       " 'Page 24',\n",
       " 'Requip had caused an \"acute\" side effect, such that the defendant was \"tipped . . . over into a compulsive behavior . . . [and] unable to control his behavior.\"  This expert also testified that, at the time of the shooting, the defendant\\'s brain disease, exacerbated by the medications he was taking, caused him to develop a delusional belief that his former wife was stealing money from him.  Because of the compulsive side effects from the defendant\\'s medication, this delusional belief was \"translated . . . into an action\"; as his behavior was compulsive, the defendant had been unable to conform his conduct to the law.',\n",
       " '',\n",
       " 'Another expert testified that the defendant had difficulties with executive function, or \"thinking in an organized way.\"  Such functions are controlled by the frontal lobe, which plays an important role in an individual\\'s ability to control emotions and behavior.  The third expert opined that the defendant appeared to have memory deficits and it was likely, based on the defendant\\'s speech and vocabulary, that he had below-average intelligence; this expert did not opine whether these deficits were as a result of the defendant\\'s brain injury.  Two of the defendant\\'s experts also testified that long-term substance abuse or alcohol abuse could have aggravated the symptoms of his brain disease.',\n",
       " 'A neighbor who witnessed the shooting testified that after shooting the victim the defendant had a \"blank look,\" that he thought was similar to \"tunnel vision.\"',\n",
       " 'In addition, a witness who had known the defendant for thirty years testified that, during the month before the shooting, the defendant was \"very, very moody\" and \"paranoid\" about the possibility that he would lose his job, and was irritable and angry.',\n",
       " 'The defendant also introduced evidence concerning his prior abuse of cocaine, marijuana,',\n",
       " 'Page 25',\n",
       " 'and alcohol.',\n",
       " '',\n",
       " \"c.  Defendant's trial motions.  During the Commonwealth's case-in-chief, the defendant moved for a mistrial on the basis of juror misconduct.  That motion was denied.  The defendant's motions for a directed verdict, made at the close of the Commonwealth's case and renewed at the close of all of the evidence, also were denied.  The jury convicted the defendant on all counts, and this appeal followed.\",\n",
       " \"2.  Discussion.  a.  Prior bad acts evidence.  The Commonwealth filed a motion in limine seeking to admit testimony of a previous assault by the defendant on a fellow club member at an athletic club to establish his motive and state of mind.  The proposed testimony was to the effect that, two days before the shooting, the defendant struck the club member with a baseball bat because he believed the individual owed him $700, and consequently, the defendant had been prohibited from returning to the club.  The judge allowed the Commonwealth's motion to admit this evidence, over the defendant's objection that the evidence was impermissible evidence of prior bad acts; the defendant renewed his objection prior to introduction of the evidence at trial.  On appeal, the defendant argues that the judge abused her discretion by allowing the admission of the prior bad act evidence, and that, even if it were deemed probative, the evidence was unfairly prejudicial.\",\n",
       " \"Although evidence of a defendant's prior bad acts is not admissible\",\n",
       " 'Page 26',\n",
       " 'to show a propensity to commit such acts, it may be admissible if relevant for another purpose, \"such as to show a common scheme, pattern of operation, absence of accident or mistake, identity, intent, motive, or state of mind.\"  See Commonwealth v. Howard,',\n",
       " ', 738 (2014), quoting Commonwealth v. Helfant,',\n",
       " ', 224-225 (1986).  When the Commonwealth seeks to use prior bad act evidence for such a permissible purpose, the evidence is admissible if its probative value outweighs the risk of unfair prejudice.  Commonwealth v. Anestal,',\n",
       " ', 665 (2012).  Questions of admissibility, probative value, and unfair prejudice are left to the sound discretion of the trial judge, and will not be overturned absent clear error.  See Commonwealth v. Morgan,',\n",
       " ', 289 (2011).',\n",
       " \"The evidence of the defendant's attack on his fellow club member supported the Commonwealth's theory of the defendant's motive and intent that, during the days preceding the shooting, the defendant had been preoccupied with financial worries, which intensified the day before the shooting, when he lost his job, resulting in an escalation of his arguments with the victim about the money he accused her of taking from him.  See Commonwealth v. Mendes,\",\n",
       " ', 464-467 (2004) (defendant\\'s drug use and need for money relevant to defendant\\'s motive for murder to gain inheritance).  The defendant\\'s son and granddaughter both testified that, in the days before the shooting, the defendant was increasingly worried about money, and preoccupied with thoughts that others owed him money they had stolen from him.  The granddaughter testified that, during the week before the shooting, the defendant was angry with the victim, expressing his belief that she had stolen his money and had spent it on lottery tickets, and stating that if his suspicions were proved to be accurate, he would kill her.  The son testified that, in the days immediately preceding the shooting, the defendant was angry at someone he knew from the athletic club for stealing money from him.  Thus, the evidence that the defendant was preoccupied with concerns about money supported his motive to kill the victim because he believed the victim was taking and spending his money.  This evidence also provided context for the shooting.  Without such context, \"the killing could have appeared to the jury as an essentially inexplicable act of violence.\"  Commonwealth v. Bradshaw,',\n",
       " ', 269 (1982).  See also Commonwealth v. Scott,',\n",
       " ', 818-819 (1990).',\n",
       " 'In addition, the defendant had notified the Commonwealth prior to trial that he intended to offer a defense of lack of criminal',\n",
       " 'Page 27',\n",
       " 'responsibility, based on his pre-existing brain disease and the prescription medications he had been taking in the weeks before the shooting.  The defendant\\'s mental state in the days before the shooting was relevant to whether his conduct was intentional, and not the result of compulsive or illogical thoughts brought on by brain disease that had been exacerbated by his medications.  See Commonwealth v. Anestal, supra at 655 (prior bad act evidence admissible to rebut defense).  While possibly harmful to the defendant, the judge did not abuse her discretion in concluding that the evidence was more probative than prejudicial, and was admissible to show the defendant\\'s motive and state of mind.  See Commonwealth v. Howard, supra at 740 (in prosecution for murder in first degree of coworker, admission of prior bad acts showing defendant\\'s state of mind toward another coworker \"was arguably probative of [the defendant\\'s] state of mind and intent toward the victim\").',\n",
       " 'Witnesses to the defendant\\'s attack on the club member testified that the defendant arrived at the club on his bicycle, with a baseball bat.  The defendant appeared calm and collected and asked for the club member by name.  He socialized with approximately twenty patrons on the club\\'s patio while he waited for the individual.  Responding to a question from one patron about why he was carrying a baseball bat, the defendant replied, \"I\\'m an old man.  I need to protect myself.\"  When the person he believed owed him money came outside, the defendant hit him with the baseball bat and threatened him with further violence if he did not pay the defendant what he owed.  During the attack, the defendant accidently knocked over a table with some drinks.  When he noticed the table was knocked over, he apologized to those whose drinks he had spilled, and stated that the attack did not involve them.  The individual he had attacked testified at trial that the defendant remembered the attack the following day, and was still angry.  The testimony was that the defendant told him that he had been following his movements and knew his routine, and then accurately related to him the events of the previous day.',\n",
       " 'The jury could infer from this evidence that the attack was planned in advance and was executed in a deliberate manner.  The evidence was relevant to the defendant\\'s mental state, and was offered to show that, in the days before the shooting, the defendant \"was not delusional but quite rational and well oriented.\"  Commonwealth v. Johnston,',\n",
       " ', 686 (2014).  See Commonwealth v. Howard, supra, citing Commonwealth v. Maimoni,',\n",
       " 'Page 28',\n",
       " '',\n",
       " ', 327-328 (1996) (prior bad acts admissible as illustrative of defendant\\'s mental state at time, and \"to rebut defendant\\'s testimony\"); Commonwealth v. Adams,',\n",
       " \", 818 (2001) (evidence of defendant's deliberate and rational actions after crime relevant to rebut defense of delusional thinking).\",\n",
       " 'The defendant argues that, even if relevant, the evidence was nonetheless overly prejudicial because it was not \"necessary\" to rebut his defense.  We previously have considered and rejected a similar argument.  In Commonwealth v. Copney,',\n",
       " ', 413 (2014), we stated \"that the Commonwealth was not required to show that it needed the prior bad act evidence to prove its case, and . . . the judge was not obligated to consider whether . . . there was some alternative means by which the Commonwealth could prove its case.\"  There was no abuse of discretion in allowing the admission of the prior bad act evidence.',\n",
       " 'b.  Prosecutor\\'s closing argument.  The defendant maintains that the prosecutor misused the prior bad act evidence in his closing, arguing that the defendant was an angry person and prone to act out of anger, and asserting also that, at the time of his arrest, the defendant had been on his way to shoot the club patron he had assaulted with a baseball bat.  Because the defendant objected to these portions of the prosecutor\\'s closing argument,  we \"review to determine whether the remark was improper and, if so, whether it was harmless.\"  Commonwealth v. Sylvia,',\n",
       " ', 193-194 (2010).  We conclude that there was no error.',\n",
       " '\"Remarks made during closing arguments are considered in context of the whole argument, the evidence admitted at trial, and the judge\\'s instructions to the jury\" (citation omitted).  Id. at 193.  The prosecutor\\'s reference to statements that the defendant was \"angry\" at the time of the shooting was not an impermissible reference to propensity evidence.  The prosecutor was not asking the jury to infer that, because the defendant was an angry person and was on his way to kill a different individual at the athletic club, the defendant must also have been the person who killed the victim.  Rather, the prosecutor was drawing a distinction between deliberate actions fueled by anger (the Commonwealth\\'s theory of the case) and compulsive acts fueled by \"delusional beliefs\" resulting from a mental disease or defect (the defense).  Thus, the prosecutor properly sought to tie evidence of the defendant\\'s anger to evidence of his conscious and deliberate decisions which, the prosecutor argued, were the result of that anger.  The',\n",
       " 'Page 29',\n",
       " 'prosecutor argued, \"He decided to shoot her because he was angry at her.  It was a decision, not a delusion.\"  \"The defendant was angry, and it was anger, not some sort of mental disease or defect or intoxicant, that caused him to act the way that he did that day.  It was anger that caused him to make the decisions that he did.\"  In this context, the prosecutor\\'s references were a permissible use of the prior bad act evidence.  See Commonwealth v. Carlson,',\n",
       " \", 508-509 (2007) (prior bad act evidence related to defendant's hostility admissible to show hostility generated motive or intent for crime).\",\n",
       " 'The defendant also challenges the prosecutor\\'s statement in closing that the defendant \"decided to reload the firearm and decided to go the route that headed towards the club and decided to stop at a liquor store that\\'s en route with that, and we know that those are decisions as opposed to delusions because he told the police that\\'s why he was going there because he was going to shoot [the club member he attacked with a bat].\"  The prosecutor was not thereby asking the jury to infer that the defendant must have planned to shoot his former wife because he also might have planned a future assault on someone else.  Rather, the prosecutor was rebutting the defense that the defendant was not acting intentionally or rationally when he shot the victim.  The prosecutor pointed to evidence that the defendant had made a series of \"deliberate\" and conscious decisions immediately after the shooting, and argued that this supported a conclusion that the defendant\\'s thoughts and actions at the time of the murder were not delusional or involuntary.  See generally Commonwealth v. Mendes,',\n",
       " ', 466 (2004); Commonwealth v. Simpson,',\n",
       " \", 578-579 (2001) (statement made immediately after killing, that defendant would shoot police officer if he had bullet, admissible to prove defendant's aggressive and threatening behavior to rebut state of mind defense for the killing).\",\n",
       " 'c.  Juror misconduct.  i.  Motion for a mistrial.  On the seventh day of trial, juror no. 12 sent a note to the judge stating that, during a break in the proceedings the previous day, she had overheard a discussion between some jurors that sounded as though they were discussing \"issues related to the case,\" and she was \"unsure if what they were discussing was allowed.\"  The judge conducted a voir dire of juror no. 12, and determined that the overheard conversation was between jurors nos. 2, 6, and 9.  The discussion related primarily to each of the jurors\\' feelings about defense counsel and the defendant\\'s demeanor, but also had',\n",
       " 'Page 30',\n",
       " \"involved off-color jokes about the defendant's actions during his arrest, and speculation about why a crime that took place in 2007 had not been tried until 2013.\",\n",
       " 'The judge thereafter conducted individual voir dire, during which one juror said that she thought that juror no. 6 appeared to have made up his mind about the case, based on his comment that there was no need for further witnesses and it was clear what had happened.  The judge dismissed juror no. 6.  Following extensive voir dire of the remaining jurors, the judge concluded that they had not been tainted by juror no. 6\\'s comments and remained impartial, and that any exposure to the comments \"was relatively de minimis . . . [and] did not infect any of the other jurors in any way that is prejudicial to any party.\"',\n",
       " 'During deliberations, after the judge had renewed her instruction to the jury not to speak with anyone connected to the case, or about the case, the court reporter told the judge that while she and juror no. 9 had been in a court house elevator, juror no. 9 had apologized to her for a comment in which he said that the court reporter\\'s mask made her look like \"Darth Vader\"; the comment had come to light during the judge\\'s voir dire of the jurors.  The judge denied the defendant\\'s requested that juror no. 9 be dismissed.',\n",
       " 'Article 12 of the Massachusetts Declaration of Rights and the Sixth Amendment to the United States Constitution guarantee a criminal defendant the right to a trial before an impartial jury.  Commonwealth v. Seabrooks,',\n",
       " ', 442 (2001).  Prohibiting premature jury deliberations, and extraneous influences on jurors, safeguards a defendant\\'s right to trial before an impartial jury.  See Tanner v. United States, 483 U.S. 107, 126-127 (1987); United States v. Jadlowe, 628 F.3d 1, 15 (1st Cir. 2010), cert. denied, 563 U.S. 926 (2011).  Nonetheless, \"not all premature jury discussion about a case will compromise a defendant\\'s fair trial rights.\"  United States v. Jadlowe, supra at 18.  See Commonwealth v. Smith,',\n",
       " ', 443 n.10 (2012) (jurors\\' comments that they were bored by one of Commonwealth\\'s witnesses did not reflect impermissible deliberation on substance of case).  A judge\\'s \"determination of a juror\\'s impartiality \\'is essentially one of credibility, and therefore largely one of demeanor\\' . . . .  In such circumstances, we give a trial judge\\'s determination of impartiality great deference.\"  Commonwealth v. Alicea,',\n",
       " ', 849 (2013), quoting Commonwealth v. Ferguson,',\n",
       " ', 352-353 (1997).',\n",
       " 'Page 31',\n",
       " 'As the defendant suggests, the comments made by jurors nos. 2, 6, and 9 related to their feelings about \"the strength of evidence or his or her opinion of the defendant\\'s guilt\" and not to \"extraneous matter[s].\"  Commonwealth v. Guisti,',\n",
       " ', 251-252 (2001), S.C.,',\n",
       " \"(2007).  The comments also hinted at extraneous information regarding the personal experiences of some jurors that potentially could have influenced their deliberations, such as one juror's experience as a fire fighter.  Under either view of the comments, we give deference to the judge's conclusion, arrived at following extensive individual voir dire, that the remaining jurors had not been influenced by the comments and continued to be impartial.  See Commonwealth v. Maldonado,\",\n",
       " ', 506-507 (1999) (no abuse of discretion when, after learning of extraneous influence on jury discovered during trial, judge removed offending juror but found that rest of jury remained impartial and gave curative instruction).  See, e.g., Commonwealth v. Ferguson, supra at 353-354; Commonwealth v. Kamara,',\n",
       " ', 616 (1996); Commonwealth v. Urena,',\n",
       " \", 700 (1994) (no prejudice to defendant from juror's question of witness, made during trial, where record did not disclose improper influence on remaining jurors).\",\n",
       " 'Jurors \"inevitably formulate impressions as they hear evidence.  This is natural and cannot be prevented. . . .  The question is whether jurors can suspend final judgment and keep their minds open to other evidence that they hear.\"  Commonwealth v. Guisti, supra at 254.  During voir dire, each juror asserted a belief that the joking tone and content of the comments was not intended to violate the judge\\'s instruction not to talk about the case, and that the comments had only a tangential relationship to the case.  No juror believed the comments were intended to, or did, influence his or her views regarding the evidence presented.  Each testified that he or she continued to have an open mind, and would not consider the extraneous comments before or during deliberation.  The judge gave a pointed curative instruction that the jury were to disregard any extraneous information that they had heard, and should not discuss the case before deliberations began.  Given these curative efforts after dismissal of juror no. 6, there was no abuse of discretion in the denial of the defendant\\'s motions for a mistrial with regard to the juror comments during trial or juror no. 9\\'s comment during deliberations.',\n",
       " 'ii.  Motion for a juror to be made an alternate.  Prior to deliberations, the defendant requested that the judge make juror no. 9',\n",
       " 'Page 32',\n",
       " \"a nonrandom selection as an alternate because the defendant believed, on the basis of the juror's prior comments, that the juror already had made up his mind against the defendant.  We reject, as without basis in the law, the defendant's argument that the judge should have designated juror no. 9 as an alternate.  Having concluded that the juror remained impartial, and finding no evidence to overcome the presumption that jurors follow the instructions they are given, see Commonwealth v. Watkins,\",\n",
       " ', 840 (1997), the judge had no basis upon which to take the irregular step of designating juror no. 9 a nonrandom selection as an alternate.',\n",
       " 'See Commonwealth v. The Ngoc Tran,',\n",
       " ', 189-191 (2015) (analyzing nonrandom selection of alternate juror as irregular).',\n",
       " 'd.  Review under G. L. c. 278, § 33E.  While conceding that the evidence was sufficient to support his conviction, the defendant maintains that the weight of the evidence supports a verdict of manslaughter or murder in the second degree, and urges us to reduce the verdict pursuant to our authority under G. L. c. 278, § 33E.  We may reduce a verdict to a lesser degree of guilt if we are satisfied \"that the verdict was against the law or the weight of the evidence . . . or for any other reason that justice may require.\"  G. L. c. 278, § 33E.',\n",
       " 'The defendant argues that a lesser degree of guilt is appropriate here because the evidence at trial established that the killing resulted from a \"compulsive act and a delusional thought.\"  The defendant contends that the evidence supports a conclusion that, at the time of the killing, he suffered from a brain disease that resulted in cognitive and emotional impairments that were exacerbated by prescription medications that affected his impulse control and caused paranoid thinking.  He argues that this combination of factors caused him to engage in the \"compulsive act\" of killing the victim, and also to suffer from the \"delusional belief\" (her stealing money) that provided the motive for her killing.',\n",
       " 'We have carefully reviewed the record, and decline to reduce the verdict pursuant to our authority under G. L. c. 278, § 33E.',\n",
       " 'Judgments affirmed.']"
      ]
     },
     "execution_count": 29,
     "metadata": {},
     "output_type": "execute_result"
    }
   ],
   "source": [
    "data[1][\"text\"]"
   ]
  },
  {
   "cell_type": "code",
   "execution_count": 43,
   "metadata": {},
   "outputs": [
    {
     "name": "stdout",
     "output_type": "stream",
     "text": [
      "['COMMONWEALTH  vs.  ADMILSON RESENDE.', 'COMMONWEALTH  vs.  GEORGE PHILBROOK.', \"LINDA S. BOWERS  vs.  P. WILE'S, INC.\", 'COMMONWEALTH  vs.  JARED ABDALLAH.', 'COMMONWEALTH  vs.  ROBERT D. WADE.', 'MARCIA D. BELLERMANN & others', 'COMMONWEALTH  vs.  MARCEL A. DIGGS. COMMONWEALTH  vs.  DAMIANE K. SOTO.', 'COMMONWEALTH  vs.  DANNY VARGAS.', 'ELAINE K. MURRAY & another', 'CURT F. PFANNENSTIEHL  vs.  DIANE L. PFANNENSTIEHL.']\n"
     ]
    }
   ],
   "source": [
    "print([i[\"case\"][1] for i in data[0:10]])\n"
   ]
  },
  {
   "cell_type": "code",
   "execution_count": 58,
   "metadata": {},
   "outputs": [
    {
     "data": {
      "text/plain": [
       "[70, 541, 333, 1107, 4, 156, 474, 73, 184, 37, 89, 834]"
      ]
     },
     "execution_count": 58,
     "metadata": {},
     "output_type": "execute_result"
    }
   ],
   "source": [
    "[i.find(\"jury\") for i in data[1][\"text\"] if i.find(\"jury\") != -1]"
   ]
  },
  {
   "cell_type": "code",
   "execution_count": 59,
   "metadata": {},
   "outputs": [
    {
     "data": {
      "text/plain": [
       "['The defendant and his former wife were divorced in 1975, but had been living together for many years when, on August 17, 2007, the defendant shot her five times on the street in front of their house in Everett, in view of some of their neighbors.  The defendant does not dispute that he was the shooter.  His defense at trial was that he was not criminally responsible because the prescription medications that he was taking exacerbated an underlying brain disease, creating a mental disease or defect that caused him to be unable to conform his actions to the law.',\n",
       " '',\n",
       " 'On appeal, the defendant contends that the judge abused her discretion in allowing the admission of evidence of prior bad acts shortly prior to and immediately following the killing.  The defendant also claims that the judge erred in denying his motion for a mistrial after learning that three jurors had discussed the case before deliberations began.  Finally, while conceding that the evidence was sufficient to support his conviction of murder in the first degree, the defendant argues that a reduction in the verdict would be more consonant with justice, and asks that we exercise our power pursuant to G. L. c. 278, § 33E, to reduce the verdict of murder in the first degree to a lesser degree of guilt.']"
      ]
     },
     "execution_count": 59,
     "metadata": {},
     "output_type": "execute_result"
    }
   ],
   "source": [
    "data[1][\"text\"][2:5]"
   ]
  },
  {
   "cell_type": "markdown",
   "metadata": {},
   "source": [
    "# We define functions to search the data in the text and the headnote.\n",
    "### They both take in the dataset and the phrase to look for\n",
    "### They both output a list of lists, each element in the list corresponds to a case where the phrase was found.\n",
    "### The first element in each of the lists is the case number in the dataset,  and the second is a list of the subsections of the case the phrase was found in. \n",
    "\n",
    "## /!\\ Note they are not case sensitive\n"
   ]
  },
  {
   "cell_type": "code",
   "execution_count": 151,
   "metadata": {},
   "outputs": [],
   "source": [
    "def find_in_text(case_data,phrase):\n",
    "    cases_found = []\n",
    "    for case in range(len(case_data)):\n",
    "        place_found = []\n",
    "        for i in range(len(case_data[case][\"text\"])):\n",
    "            if case_data[case][\"text\"][i].lower().find(phrase.lower()) != -1:\n",
    "                place_found.append(i)\n",
    "        \n",
    "        if len(place_found) > 0:\n",
    "            cases_found.append([case,place_found])\n",
    "    return cases_found"
   ]
  },
  {
   "cell_type": "code",
   "execution_count": 152,
   "metadata": {},
   "outputs": [],
   "source": [
    "def find_in_headnote(case_data,phrase):\n",
    "    cases_found = []\n",
    "    for case in range(len(case_data)):\n",
    "        place_found = []\n",
    "        for i in range(len(case_data[case][\"headnote\"])):\n",
    "            if case_data[case][\"headnote\"][i].lower().find(phrase.lower()) != -1:\n",
    "                place_found.append(i)\n",
    "        \n",
    "        if len(place_found) > 0:\n",
    "            cases_found.append([case,place_found])\n",
    "    return cases_found"
   ]
  },
  {
   "cell_type": "markdown",
   "metadata": {},
   "source": [
    "## Examples of the functions being used to find the phrase \"confidential informant\" in the text and headed respectively"
   ]
  },
  {
   "cell_type": "code",
   "execution_count": 153,
   "metadata": {},
   "outputs": [
    {
     "name": "stdout",
     "output_type": "stream",
     "text": [
      "[[309, [2]], [390, [16]], [438, [2, 8]], [466, [46, 48, 49, 51, 55, 63, 74, 80]], [477, [9, 10]], [491, [5, 35, 105, 146, 147, 149, 161]], [551, [17, 81, 82]], [580, [2, 16, 158]], [601, [1, 5, 26]]]\n"
     ]
    }
   ],
   "source": [
    "print(find_in_text(data,\"confidential informant\"))"
   ]
  },
  {
   "cell_type": "code",
   "execution_count": 135,
   "metadata": {
    "scrolled": true
   },
   "outputs": [
    {
     "name": "stdout",
     "output_type": "stream",
     "text": [
      "Tavares has been convicted by a jury of murder in the first degree and other offenses.  Before trial, Tavares successfully moved to suppress evidence of surreptitiously recorded conversations between him and a confidential informant.  We affirmed the suppression order on the Commonwealth's interlocutory appeal.  Commonwealth v. Tavares,\n"
     ]
    }
   ],
   "source": [
    "print(data[309][\"text\"][2])"
   ]
  },
  {
   "cell_type": "code",
   "execution_count": 136,
   "metadata": {},
   "outputs": [
    {
     "name": "stdout",
     "output_type": "stream",
     "text": [
      "The defendant argues that the information from the confidential informant should have been presented to the grand jury as exculpatory evidence that raised a \"fundamental doubt as to the credibility of the prosecution's entire case\" against the defendant, and that therefore his motion to dismiss the indictment was improperly denied.  We disagree.\n"
     ]
    }
   ],
   "source": [
    "print(data[477][\"text\"][10])"
   ]
  },
  {
   "cell_type": "code",
   "execution_count": 148,
   "metadata": {},
   "outputs": [
    {
     "name": "stdout",
     "output_type": "stream",
     "text": [
      "[[466, [3]], [477, [2]], [491, [8]], [580, [4]]]\n"
     ]
    }
   ],
   "source": [
    "print(find_in_headnote(data,\"confidential informant\"))"
   ]
  },
  {
   "cell_type": "code",
   "execution_count": 138,
   "metadata": {},
   "outputs": [
    {
     "name": "stdout",
     "output_type": "stream",
     "text": [
      "At a murder trial, the Commonwealth was not required to bear the burden of securing from Federal authorities the release of information concerning a defense witness's status as a confidential informant for the Federal government, and the trial judge did not abuse his discretion in declining to compel the testimony of Federal law enforcement officers regarding the witness, where the defendant was not prejudiced by the nondisclosure; where the defendant had ample opportunity to depose the witness and retrieve this information on his own; where the Commonwealth would have been required to follow the same Federal procedures as the defendant to gain access to the information; and where the Federal government played no role in the investigation or prosecution of the defendant's case. [56-61]\n"
     ]
    }
   ],
   "source": [
    "print(data[466][\"headnote\"][3])"
   ]
  },
  {
   "cell_type": "code",
   "execution_count": 140,
   "metadata": {},
   "outputs": [
    {
     "name": "stdout",
     "output_type": "stream",
     "text": [
      "There was no merit to a criminal defendants claim of error in the denial of his motion to dismiss an indictment charging him with murder in the first degree, where the defendant did not meet his burden to show that the prosecutors failure to present to the grand jury a confidential informants uncorroborated statement affected the credibility of the testimony of any of the witnesses who testified before the grand jury. [191-192]\n"
     ]
    }
   ],
   "source": [
    "print(data[477][\"headnote\"][2])"
   ]
  },
  {
   "cell_type": "code",
   "execution_count": 141,
   "metadata": {},
   "outputs": [
    {
     "name": "stdout",
     "output_type": "stream",
     "text": [
      "A Superior Court judge did not err in denying the criminal defendants' motion for discovery of the identity of a confidential informant, where the Commonwealth properly invoked the informant privilege to protect the informant against a threat of violence, and where the defendants failed to challenge adequately the assertion of that privilege. [409-411]\n"
     ]
    }
   ],
   "source": [
    "print(data[491][\"headnote\"][8])"
   ]
  },
  {
   "cell_type": "code",
   "execution_count": 142,
   "metadata": {},
   "outputs": [
    {
     "name": "stdout",
     "output_type": "stream",
     "text": [
      "This court concluded that a criminal defendant who, prior to trial, had received copies of wiretap recordings obtained from a prosecution witness through his work as a confidential informant was entitled to another copy of the transcript prior to any retrial. [714-716]\n"
     ]
    }
   ],
   "source": [
    "print(data[580][\"headnote\"][4])"
   ]
  },
  {
   "cell_type": "code",
   "execution_count": 154,
   "metadata": {},
   "outputs": [
    {
     "name": "stdout",
     "output_type": "stream",
     "text": [
      "[1, 3]\n"
     ]
    }
   ],
   "source": [
    "line = [1,2,3,4]\n",
    "print(line[0:3:2])"
   ]
  },
  {
   "cell_type": "code",
   "execution_count": null,
   "metadata": {},
   "outputs": [],
   "source": []
  }
 ],
 "metadata": {
  "kernelspec": {
   "display_name": "Python 3",
   "language": "python",
   "name": "python3"
  },
  "language_info": {
   "codemirror_mode": {
    "name": "ipython",
    "version": 3
   },
   "file_extension": ".py",
   "mimetype": "text/x-python",
   "name": "python",
   "nbconvert_exporter": "python",
   "pygments_lexer": "ipython3",
   "version": "3.6.6"
  }
 },
 "nbformat": 4,
 "nbformat_minor": 2
}
