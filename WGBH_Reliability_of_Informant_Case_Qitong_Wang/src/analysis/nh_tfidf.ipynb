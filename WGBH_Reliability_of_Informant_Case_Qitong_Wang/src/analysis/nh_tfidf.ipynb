{
 "cells": [
  {
   "cell_type": "code",
   "execution_count": 29,
   "metadata": {},
   "outputs": [],
   "source": [
    "import numpy as np\n",
    "import matplotlib.pyplot as plt\n",
    "import pandas as pd\n",
    "from nltk.corpus import stopwords"
   ]
  },
  {
   "cell_type": "code",
   "execution_count": 2,
   "metadata": {},
   "outputs": [],
   "source": [
    "nh = pd.read_csv('../../data/cases_nh.csv')"
   ]
  },
  {
   "cell_type": "code",
   "execution_count": 3,
   "metadata": {},
   "outputs": [
    {
     "data": {
      "text/plain": [
       "(1277, 5)"
      ]
     },
     "execution_count": 3,
     "metadata": {},
     "output_type": "execute_result"
    }
   ],
   "source": [
    "nh.shape"
   ]
  },
  {
   "cell_type": "code",
   "execution_count": 4,
   "metadata": {},
   "outputs": [
    {
     "data": {
      "text/html": [
       "<div>\n",
       "<style scoped>\n",
       "    .dataframe tbody tr th:only-of-type {\n",
       "        vertical-align: middle;\n",
       "    }\n",
       "\n",
       "    .dataframe tbody tr th {\n",
       "        vertical-align: top;\n",
       "    }\n",
       "\n",
       "    .dataframe thead th {\n",
       "        text-align: right;\n",
       "    }\n",
       "</style>\n",
       "<table border=\"1\" class=\"dataframe\">\n",
       "  <thead>\n",
       "    <tr style=\"text-align: right;\">\n",
       "      <th></th>\n",
       "      <th>file name</th>\n",
       "      <th>title</th>\n",
       "      <th>type</th>\n",
       "      <th>decision</th>\n",
       "      <th>text</th>\n",
       "    </tr>\n",
       "  </thead>\n",
       "  <tbody>\n",
       "    <tr>\n",
       "      <td>0</td>\n",
       "      <td>Tarbl099.pdf</td>\n",
       "      <td>TARBELL ADMINISTRATOR, INC., TRUSTEE OF THE TA...</td>\n",
       "      <td>non-criminal</td>\n",
       "      <td>affirmed in part</td>\n",
       "      <td>[\"NOTICE: This opinion is subject to motions f...</td>\n",
       "    </tr>\n",
       "    <tr>\n",
       "      <td>1</td>\n",
       "      <td>sider051.pdf</td>\n",
       "      <td>THE STATE OF NEW HAMPSHIRE v. GEORGE SIDERIS</td>\n",
       "      <td>non-criminal</td>\n",
       "      <td>not affirmed</td>\n",
       "      <td>[\"NOTICE: This opinion is subject to motions f...</td>\n",
       "    </tr>\n",
       "    <tr>\n",
       "      <td>2</td>\n",
       "      <td>danie080.pdf</td>\n",
       "      <td>RYDER DANIELS &amp; a. v. TOWN OF LONDONDERRY &amp; a.</td>\n",
       "      <td>non-criminal</td>\n",
       "      <td>affirmed</td>\n",
       "      <td>[\"NOTICE: This opinion is subject to motions f...</td>\n",
       "    </tr>\n",
       "    <tr>\n",
       "      <td>3</td>\n",
       "      <td>macdo019.pdf</td>\n",
       "      <td>THE STATE OF NEW HAMPSHIRE v. DAVID A. MACDONALD</td>\n",
       "      <td>non-criminal</td>\n",
       "      <td>affirmed</td>\n",
       "      <td>[\"NOTICE: This opinion is subject to motions f...</td>\n",
       "    </tr>\n",
       "    <tr>\n",
       "      <td>4</td>\n",
       "      <td>liber139.pdf</td>\n",
       "      <td>LIBERTARIAN PARTY OF NEW HAMPSHIRE v. SECRETAR...</td>\n",
       "      <td>non-criminal</td>\n",
       "      <td>not affirmed</td>\n",
       "      <td>[\"NOTICE: This opinion is subject to motions f...</td>\n",
       "    </tr>\n",
       "  </tbody>\n",
       "</table>\n",
       "</div>"
      ],
      "text/plain": [
       "      file name                                              title  \\\n",
       "0  Tarbl099.pdf  TARBELL ADMINISTRATOR, INC., TRUSTEE OF THE TA...   \n",
       "1  sider051.pdf       THE STATE OF NEW HAMPSHIRE v. GEORGE SIDERIS   \n",
       "2  danie080.pdf     RYDER DANIELS & a. v. TOWN OF LONDONDERRY & a.   \n",
       "3  macdo019.pdf   THE STATE OF NEW HAMPSHIRE v. DAVID A. MACDONALD   \n",
       "4  liber139.pdf  LIBERTARIAN PARTY OF NEW HAMPSHIRE v. SECRETAR...   \n",
       "\n",
       "           type          decision  \\\n",
       "0  non-criminal  affirmed in part   \n",
       "1  non-criminal      not affirmed   \n",
       "2  non-criminal          affirmed   \n",
       "3  non-criminal          affirmed   \n",
       "4  non-criminal      not affirmed   \n",
       "\n",
       "                                                text  \n",
       "0  [\"NOTICE: This opinion is subject to motions f...  \n",
       "1  [\"NOTICE: This opinion is subject to motions f...  \n",
       "2  [\"NOTICE: This opinion is subject to motions f...  \n",
       "3  [\"NOTICE: This opinion is subject to motions f...  \n",
       "4  [\"NOTICE: This opinion is subject to motions f...  "
      ]
     },
     "execution_count": 4,
     "metadata": {},
     "output_type": "execute_result"
    }
   ],
   "source": [
    "nh.head()"
   ]
  },
  {
   "cell_type": "code",
   "execution_count": 5,
   "metadata": {},
   "outputs": [
    {
     "data": {
      "text/plain": [
       "array(['non-criminal', 'criminal', nan], dtype=object)"
      ]
     },
     "execution_count": 5,
     "metadata": {},
     "output_type": "execute_result"
    }
   ],
   "source": [
    "nh.type.unique() "
   ]
  },
  {
   "cell_type": "code",
   "execution_count": 7,
   "metadata": {},
   "outputs": [
    {
     "data": {
      "text/plain": [
       "(269, 5)"
      ]
     },
     "execution_count": 7,
     "metadata": {},
     "output_type": "execute_result"
    }
   ],
   "source": [
    "criminal = nh[nh['type']=='criminal']   # there are 269 criminal cases in NH data\n",
    "criminal.shape   "
   ]
  },
  {
   "cell_type": "code",
   "execution_count": null,
   "metadata": {},
   "outputs": [],
   "source": []
  },
  {
   "cell_type": "code",
   "execution_count": 8,
   "metadata": {},
   "outputs": [
    {
     "data": {
      "text/plain": [
       "array(['not affirmed', 'affirmed', 'affirmed in part'], dtype=object)"
      ]
     },
     "execution_count": 8,
     "metadata": {},
     "output_type": "execute_result"
    }
   ],
   "source": [
    "criminal.decision.unique()             "
   ]
  },
  {
   "cell_type": "code",
   "execution_count": 9,
   "metadata": {},
   "outputs": [
    {
     "name": "stderr",
     "output_type": "stream",
     "text": [
      "/opt/anaconda3/lib/python3.7/site-packages/pandas/core/generic.py:5208: SettingWithCopyWarning: \n",
      "A value is trying to be set on a copy of a slice from a DataFrame.\n",
      "Try using .loc[row_indexer,col_indexer] = value instead\n",
      "\n",
      "See the caveats in the documentation: http://pandas.pydata.org/pandas-docs/stable/user_guide/indexing.html#returning-a-view-versus-a-copy\n",
      "  self[name] = value\n"
     ]
    },
    {
     "data": {
      "text/plain": [
       "(9, 5)"
      ]
     },
     "execution_count": 9,
     "metadata": {},
     "output_type": "execute_result"
    }
   ],
   "source": [
    "criminal.decision = criminal.decision.str.lower().copy()\n",
    "part =  criminal[criminal.decision.str.contains('part')]\n",
    "part.shape"
   ]
  },
  {
   "cell_type": "code",
   "execution_count": 10,
   "metadata": {},
   "outputs": [
    {
     "data": {
      "text/plain": [
       "(260, 5)"
      ]
     },
     "execution_count": 10,
     "metadata": {},
     "output_type": "execute_result"
    }
   ],
   "source": [
    "no_part = criminal[~criminal.decision.str.contains('part')]\n",
    "no_part.shape"
   ]
  },
  {
   "cell_type": "code",
   "execution_count": 13,
   "metadata": {},
   "outputs": [
    {
     "data": {
      "text/plain": [
       "194"
      ]
     },
     "execution_count": 13,
     "metadata": {},
     "output_type": "execute_result"
    }
   ],
   "source": [
    "affirmed = no_part[no_part.decision=='affirmed']\n",
    "len(affirmed)"
   ]
  },
  {
   "cell_type": "code",
   "execution_count": 15,
   "metadata": {},
   "outputs": [
    {
     "data": {
      "text/plain": [
       "(66, 5)"
      ]
     },
     "execution_count": 15,
     "metadata": {},
     "output_type": "execute_result"
    }
   ],
   "source": [
    "reversed = no_part[no_part.decision=='not affirmed']\n",
    "reversed.shape"
   ]
  },
  {
   "cell_type": "code",
   "execution_count": 16,
   "metadata": {},
   "outputs": [],
   "source": [
    "\n",
    "#affirmed = criminal[criminal.decision=='Affirmed.']   # separate the affirmed, reversed, partial reversed cases\n",
    "#reversed = criminal[criminal.decision=='Reversed.']\n",
    "#partial_reversed = criminal[criminal.decision!='Affirmed.'][criminal.decision!='Reversed.']"
   ]
  },
  {
   "cell_type": "markdown",
   "metadata": {},
   "source": [
    "The proportion of affirmed cases is 71.4%, the proportion of reversed cases is 3.3%, the proportion of partial reversed cases is 25.3."
   ]
  },
  {
   "cell_type": "code",
   "execution_count": 17,
   "metadata": {},
   "outputs": [
    {
     "data": {
      "image/png": "[encoded data removed]",
      "text/plain": [
       "<Figure size 432x288 with 1 Axes>"
      ]
     },
     "metadata": {},
     "output_type": "display_data"
    }
   ],
   "source": [
    "labels='affirmed','reversed','partial_reversed'\n",
    "sizes= (len(affirmed)/len(criminal))*100,(len(reversed)/len(criminal))*100,(len(part)/len(criminal))*100\n",
    "colors='yellowgreen','gold','lightskyblue'\n",
    "explode=0.1,0.1,0.1\n",
    "plt.pie(x=sizes,explode=explode,labels=labels,colors=colors,autopct='%1.1f%%',shadow=True,labeldistance=1.1,startangle=50,radius=1,counterclock=True)\n",
    "plt.axis('equal')\n",
    "plt.show()"
   ]
  },
  {
   "cell_type": "code",
   "execution_count": 18,
   "metadata": {},
   "outputs": [],
   "source": [
    "\n",
    "informant = criminal[criminal.text.str.contains('informant')]\n",
    "non_informant =  criminal[~criminal.text.str.contains('informant')]"
   ]
  },
  {
   "cell_type": "code",
   "execution_count": 19,
   "metadata": {},
   "outputs": [
    {
     "data": {
      "text/plain": [
       "(15, 5)"
      ]
     },
     "execution_count": 19,
     "metadata": {},
     "output_type": "execute_result"
    }
   ],
   "source": [
    "informant.shape"
   ]
  },
  {
   "cell_type": "code",
   "execution_count": null,
   "metadata": {},
   "outputs": [],
   "source": []
  },
  {
   "cell_type": "code",
   "execution_count": 20,
   "metadata": {},
   "outputs": [
    {
     "data": {
      "image/png": "[encoded data removed]",
      "text/plain": [
       "<Figure size 432x288 with 1 Axes>"
      ]
     },
     "metadata": {},
     "output_type": "display_data"
    }
   ],
   "source": [
    "labels='informant','non_informant'\n",
    "sizes= (len(informant)/len(criminal))*100,(len(non_informant)/len(criminal))*100\n",
    "colors='aqua','gold'\n",
    "explode=0.1,0.1\n",
    "plt.pie(x=sizes,explode=explode,labels=labels,colors=colors,autopct='%1.1f%%',shadow=True,labeldistance=1.1,startangle=50,radius=1,counterclock=True)\n",
    "plt.axis('equal')\n",
    "plt.show()"
   ]
  },
  {
   "cell_type": "markdown",
   "metadata": {},
   "source": [
    "There are some common features in affirmed and reversed, like 'case','court','new hampshire', this words appear many times, but it doesn't make senses. So we delete these words. Meanwhile, there are many numbers in the case. The numbers usually appear in two places: the case number and the law number. We can't tell where the numbers come from. So we delete the number."
   ]
  },
  {
   "cell_type": "code",
   "execution_count": 21,
   "metadata": {},
   "outputs": [],
   "source": [
    "from sklearn.feature_extraction.text import TfidfVectorizer"
   ]
  },
  {
   "cell_type": "code",
   "execution_count": 22,
   "metadata": {},
   "outputs": [],
   "source": [
    "def tfidf(X,n):\n",
    "    vectorizer = TfidfVectorizer(stop_words='english',max_features=n)\n",
    "    tfidf = vectorizer.fit_transform(X)\n",
    "    word = vectorizer.get_feature_names()\n",
    "    return word"
   ]
  },
  {
   "cell_type": "code",
   "execution_count": 25,
   "metadata": {},
   "outputs": [
    {
     "data": {
      "text/plain": [
       "['argues',\n",
       " 'case',\n",
       " 'counsel',\n",
       " 'court',\n",
       " 'defendant',\n",
       " 'did',\n",
       " 'evidence',\n",
       " 'hampshire',\n",
       " 'id',\n",
       " 'jury',\n",
       " 'new',\n",
       " 'omitted',\n",
       " 'police',\n",
       " 'rsa',\n",
       " 'rule',\n",
       " 'state',\n",
       " 'statute',\n",
       " 'testimony',\n",
       " 'trial',\n",
       " 'victim',\n",
       " 'might',\n",
       " 'www',\n",
       " 'may',\n",
       " 'two',\n",
       " 'due',\n",
       " 'also',\n",
       " 'iii',\n",
       " 'even',\n",
       " 'though',\n",
       " 'whether',\n",
       " 'http',\n",
       " 'one']"
      ]
     },
     "execution_count": 25,
     "metadata": {},
     "output_type": "execute_result"
    }
   ],
   "source": [
    "criminal_common_word = tfidf(criminal['text'],20)\n",
    "criminal_common_word+=['might','www','may','two','due','also','iii','even','though','whether', 'http', 'one']\n",
    "criminal_common_word"
   ]
  },
  {
   "cell_type": "code",
   "execution_count": 30,
   "metadata": {},
   "outputs": [],
   "source": [
    "import re\n",
    "def clean_common_word(text):           # delect the number, punctuation and criminal_word\n",
    "    text =  re.sub(\"[^a-zA-Z#]\", \" \", text) \n",
    "    words=text.lower().split()          # lower case\n",
    "    words = [w for w in words if len(w)>=3]\n",
    "    stoplist = stopwords.words('english')\n",
    "    words = [word for word in words if word not in stoplist]\n",
    "    words = [word for word in words if word not in criminal_common_word]\n",
    "    return \" \".join(words)"
   ]
  },
  {
   "cell_type": "markdown",
   "metadata": {},
   "source": [
    "# analyze the affirmed cases and reversed cases"
   ]
  },
  {
   "cell_type": "code",
   "execution_count": 31,
   "metadata": {},
   "outputs": [],
   "source": [
    "def handle_all_cases(df):\n",
    "    for i in range(len(df)):\n",
    "        df.text.iloc[i] = clean_common_word(df.text.iloc[i])\n",
    "    return df"
   ]
  },
  {
   "cell_type": "code",
   "execution_count": null,
   "metadata": {},
   "outputs": [],
   "source": []
  },
  {
   "cell_type": "code",
   "execution_count": 32,
   "metadata": {},
   "outputs": [
    {
     "name": "stderr",
     "output_type": "stream",
     "text": [
      "/opt/anaconda3/lib/python3.7/site-packages/ipykernel_launcher.py:3: SettingWithCopyWarning: \n",
      "A value is trying to be set on a copy of a slice from a DataFrame\n",
      "\n",
      "See the caveats in the documentation: http://pandas.pydata.org/pandas-docs/stable/user_guide/indexing.html#returning-a-view-versus-a-copy\n",
      "  This is separate from the ipykernel package so we can avoid doing imports until\n"
     ]
    }
   ],
   "source": [
    "reversed = handle_all_cases(reversed)\n",
    "affirmed = handle_all_cases(affirmed)\n",
    "criminal = handle_all_cases(criminal)\n",
    "part = handle_all_cases(part)"
   ]
  },
  {
   "cell_type": "code",
   "execution_count": 37,
   "metadata": {},
   "outputs": [
    {
     "data": {
      "text/plain": [
       "['assault',\n",
       " 'child',\n",
       " 'conduct',\n",
       " 'criminal',\n",
       " 'defense',\n",
       " 'issue',\n",
       " 'law',\n",
       " 'motion',\n",
       " 'officers',\n",
       " 'opinion',\n",
       " 'person',\n",
       " 'quotation',\n",
       " 'reasonable',\n",
       " 'sexual',\n",
       " 'testified']"
      ]
     },
     "execution_count": 37,
     "metadata": {},
     "output_type": "execute_result"
    }
   ],
   "source": [
    "reversed_word = tfidf(reversed['text'],15)     # select the most important 10 features\n",
    "reversed_word"
   ]
  },
  {
   "cell_type": "code",
   "execution_count": 38,
   "metadata": {},
   "outputs": [
    {
     "data": {
      "text/plain": [
       "['assault',\n",
       " 'conduct',\n",
       " 'crime',\n",
       " 'defense',\n",
       " 'error',\n",
       " 'following',\n",
       " 'law',\n",
       " 'motion',\n",
       " 'opinion',\n",
       " 'person',\n",
       " 'quotation',\n",
       " 'reasonable',\n",
       " 'testified',\n",
       " 'time',\n",
       " 'witness']"
      ]
     },
     "execution_count": 38,
     "metadata": {},
     "output_type": "execute_result"
    }
   ],
   "source": [
    "affirmed_word = tfidf(affirmed['text'],15)\n",
    "affirmed_word"
   ]
  },
  {
   "cell_type": "code",
   "execution_count": 39,
   "metadata": {},
   "outputs": [
    {
     "data": {
      "text/plain": [
       "['assault',\n",
       " 'conduct',\n",
       " 'crime',\n",
       " 'criminal',\n",
       " 'defense',\n",
       " 'error',\n",
       " 'law',\n",
       " 'motion',\n",
       " 'opinion',\n",
       " 'person',\n",
       " 'quotation',\n",
       " 'reasonable',\n",
       " 'sexual',\n",
       " 'testified',\n",
       " 'time']"
      ]
     },
     "execution_count": 39,
     "metadata": {},
     "output_type": "execute_result"
    }
   ],
   "source": [
    "criminal_word = tfidf(criminal['text'],15)\n",
    "criminal_word"
   ]
  },
  {
   "cell_type": "code",
   "execution_count": 40,
   "metadata": {},
   "outputs": [
    {
     "data": {
      "text/plain": [
       "['based',\n",
       " 'charge',\n",
       " 'conclude',\n",
       " 'criminal',\n",
       " 'deadly',\n",
       " 'doubt',\n",
       " 'error',\n",
       " 'fact',\n",
       " 'harmless',\n",
       " 'juror',\n",
       " 'law',\n",
       " 'nixon',\n",
       " 'reasonable',\n",
       " 'statements',\n",
       " 'weapon']"
      ]
     },
     "execution_count": 40,
     "metadata": {},
     "output_type": "execute_result"
    }
   ],
   "source": [
    "part_word = tfidf(part['text'],15)\n",
    "part_word"
   ]
  },
  {
   "cell_type": "markdown",
   "metadata": {},
   "source": [
    "When we select the most import 15 features in reversed cases and affirmed cases, we found reversed cases contains features: child and sexual. "
   ]
  },
  {
   "cell_type": "code",
   "execution_count": null,
   "metadata": {},
   "outputs": [],
   "source": []
  },
  {
   "cell_type": "markdown",
   "metadata": {},
   "source": [
    "# analyze the cases with informant and without"
   ]
  },
  {
   "cell_type": "code",
   "execution_count": 41,
   "metadata": {},
   "outputs": [
    {
     "name": "stderr",
     "output_type": "stream",
     "text": [
      "/opt/anaconda3/lib/python3.7/site-packages/ipykernel_launcher.py:3: SettingWithCopyWarning: \n",
      "A value is trying to be set on a copy of a slice from a DataFrame\n",
      "\n",
      "See the caveats in the documentation: http://pandas.pydata.org/pandas-docs/stable/user_guide/indexing.html#returning-a-view-versus-a-copy\n",
      "  This is separate from the ipykernel package so we can avoid doing imports until\n"
     ]
    }
   ],
   "source": [
    "non_informant = handle_all_cases(non_informant)\n",
    "informant = handle_all_cases(informant)"
   ]
  },
  {
   "cell_type": "code",
   "execution_count": 42,
   "metadata": {},
   "outputs": [
    {
     "data": {
      "text/plain": [
       "['assault',\n",
       " 'conduct',\n",
       " 'defense',\n",
       " 'error',\n",
       " 'law',\n",
       " 'person',\n",
       " 'quotation',\n",
       " 'reasonable',\n",
       " 'sexual',\n",
       " 'time']"
      ]
     },
     "execution_count": 42,
     "metadata": {},
     "output_type": "execute_result"
    }
   ],
   "source": [
    "non_informant_word = tfidf(non_informant['text'],10)\n",
    "non_informant_word"
   ]
  },
  {
   "cell_type": "code",
   "execution_count": 43,
   "metadata": {},
   "outputs": [
    {
     "data": {
      "text/plain": [
       "['constitution',\n",
       " 'home',\n",
       " 'informant',\n",
       " 'information',\n",
       " 'reasonable',\n",
       " 'search',\n",
       " 'statements',\n",
       " 'told',\n",
       " 'warrant',\n",
       " 'witness']"
      ]
     },
     "execution_count": 43,
     "metadata": {},
     "output_type": "execute_result"
    }
   ],
   "source": [
    "informant_word = tfidf(informant['text'],10)\n",
    "informant_word"
   ]
  },
  {
   "cell_type": "markdown",
   "metadata": {},
   "source": [
    "# reversed cases with informant"
   ]
  },
  {
   "cell_type": "code",
   "execution_count": 44,
   "metadata": {},
   "outputs": [],
   "source": [
    "informant_in_reverse = reversed[reversed.text.str.contains('informant')]\n",
    "non_informant_in_reverse =  reversed[~reversed.text.str.contains('informant')]"
   ]
  },
  {
   "cell_type": "code",
   "execution_count": 45,
   "metadata": {},
   "outputs": [
    {
     "data": {
      "text/html": [
       "<div>\n",
       "<style scoped>\n",
       "    .dataframe tbody tr th:only-of-type {\n",
       "        vertical-align: middle;\n",
       "    }\n",
       "\n",
       "    .dataframe tbody tr th {\n",
       "        vertical-align: top;\n",
       "    }\n",
       "\n",
       "    .dataframe thead th {\n",
       "        text-align: right;\n",
       "    }\n",
       "</style>\n",
       "<table border=\"1\" class=\"dataframe\">\n",
       "  <thead>\n",
       "    <tr style=\"text-align: right;\">\n",
       "      <th></th>\n",
       "      <th>file name</th>\n",
       "      <th>title</th>\n",
       "      <th>type</th>\n",
       "      <th>decision</th>\n",
       "      <th>text</th>\n",
       "    </tr>\n",
       "  </thead>\n",
       "  <tbody>\n",
       "    <tr>\n",
       "      <td>210</td>\n",
       "      <td>robin076.pdf</td>\n",
       "      <td>THE STATE OF NEW HAMPSHIRE v. SCOTT ROBINSON</td>\n",
       "      <td>criminal</td>\n",
       "      <td>not affirmed</td>\n",
       "      <td>notice opinion subject motions rehearing well ...</td>\n",
       "    </tr>\n",
       "    <tr>\n",
       "      <td>334</td>\n",
       "      <td>2010042nieve.pdf</td>\n",
       "      <td>THE STATE OF NEW HAMPSHIRE v. SOILUIS NIEVES</td>\n",
       "      <td>criminal</td>\n",
       "      <td>not affirmed</td>\n",
       "      <td>notice opinion subject motions rehearing well ...</td>\n",
       "    </tr>\n",
       "    <tr>\n",
       "      <td>348</td>\n",
       "      <td>2010039parke.pdf</td>\n",
       "      <td>2008-886 THE STATE OF NEW HAMPSHIRE v. ANTHONY...</td>\n",
       "      <td>criminal</td>\n",
       "      <td>not affirmed</td>\n",
       "      <td>notice opinion subject motions rehearing well ...</td>\n",
       "    </tr>\n",
       "  </tbody>\n",
       "</table>\n",
       "</div>"
      ],
      "text/plain": [
       "            file name                                              title  \\\n",
       "210      robin076.pdf       THE STATE OF NEW HAMPSHIRE v. SCOTT ROBINSON   \n",
       "334  2010042nieve.pdf       THE STATE OF NEW HAMPSHIRE v. SOILUIS NIEVES   \n",
       "348  2010039parke.pdf  2008-886 THE STATE OF NEW HAMPSHIRE v. ANTHONY...   \n",
       "\n",
       "         type      decision                                               text  \n",
       "210  criminal  not affirmed  notice opinion subject motions rehearing well ...  \n",
       "334  criminal  not affirmed  notice opinion subject motions rehearing well ...  \n",
       "348  criminal  not affirmed  notice opinion subject motions rehearing well ...  "
      ]
     },
     "execution_count": 45,
     "metadata": {},
     "output_type": "execute_result"
    }
   ],
   "source": [
    "informant_in_reverse"
   ]
  },
  {
   "cell_type": "code",
   "execution_count": 46,
   "metadata": {},
   "outputs": [
    {
     "data": {
      "text/plain": [
       "['assault',\n",
       " 'conduct',\n",
       " 'criminal',\n",
       " 'defense',\n",
       " 'issue',\n",
       " 'motion',\n",
       " 'person',\n",
       " 'quotation',\n",
       " 'reasonable',\n",
       " 'sexual']"
      ]
     },
     "execution_count": 46,
     "metadata": {},
     "output_type": "execute_result"
    }
   ],
   "source": [
    "non_info_r_word = tfidf(non_informant_in_reverse['text'],10)\n",
    "non_info_r_word"
   ]
  },
  {
   "cell_type": "code",
   "execution_count": 47,
   "metadata": {},
   "outputs": [
    {
     "data": {
      "text/plain": [
       "['circumstances',\n",
       " 'confidentiality',\n",
       " 'detective',\n",
       " 'home',\n",
       " 'officer',\n",
       " 'officers',\n",
       " 'promise',\n",
       " 'requirement',\n",
       " 'search',\n",
       " 'warrant']"
      ]
     },
     "execution_count": 47,
     "metadata": {},
     "output_type": "execute_result"
    }
   ],
   "source": [
    "info_r_word = tfidf(informant_in_reverse['text'],10)\n",
    "info_r_word"
   ]
  },
  {
   "cell_type": "markdown",
   "metadata": {},
   "source": [
    "The reversed cases with informant is not related to child and sexual. "
   ]
  },
  {
   "cell_type": "markdown",
   "metadata": {},
   "source": [
    "# affirmed cases with informant"
   ]
  },
  {
   "cell_type": "code",
   "execution_count": 48,
   "metadata": {},
   "outputs": [],
   "source": [
    "informant_in_affirmed = affirmed[affirmed.text.str.contains('informant')]\n",
    "non_informant_in_affirmed =  affirmed[~affirmed.text.str.contains('informant')]"
   ]
  },
  {
   "cell_type": "code",
   "execution_count": 49,
   "metadata": {},
   "outputs": [
    {
     "data": {
      "text/plain": [
       "['constitution',\n",
       " 'crime',\n",
       " 'informant',\n",
       " 'information',\n",
       " 'instruction',\n",
       " 'murder',\n",
       " 'reasonable',\n",
       " 'search',\n",
       " 'statements',\n",
       " 'witness']"
      ]
     },
     "execution_count": 49,
     "metadata": {},
     "output_type": "execute_result"
    }
   ],
   "source": [
    "info_a_word = tfidf(informant_in_affirmed['text'],10)\n",
    "info_a_word"
   ]
  },
  {
   "cell_type": "code",
   "execution_count": 50,
   "metadata": {},
   "outputs": [
    {
     "data": {
      "text/plain": [
       "['assault',\n",
       " 'defense',\n",
       " 'error',\n",
       " 'law',\n",
       " 'opinion',\n",
       " 'person',\n",
       " 'quotation',\n",
       " 'reasonable',\n",
       " 'testified',\n",
       " 'time']"
      ]
     },
     "execution_count": 50,
     "metadata": {},
     "output_type": "execute_result"
    }
   ],
   "source": [
    "non_info_a_word = tfidf(non_informant_in_affirmed['text'],10)\n",
    "non_info_a_word"
   ]
  },
  {
   "cell_type": "code",
   "execution_count": null,
   "metadata": {},
   "outputs": [],
   "source": []
  },
  {
   "cell_type": "markdown",
   "metadata": {},
   "source": [
    "In affirmed cases with informant, the feature 'murder' may be important "
   ]
  },
  {
   "cell_type": "code",
   "execution_count": null,
   "metadata": {},
   "outputs": [],
   "source": []
  },
  {
   "cell_type": "markdown",
   "metadata": {},
   "source": [
    "# similarity "
   ]
  },
  {
   "cell_type": "code",
   "execution_count": 51,
   "metadata": {},
   "outputs": [],
   "source": [
    "a = []\n",
    "for i in range(len(reversed)):\n",
    "    a.append(reversed.text.iloc[i].split(' '))\n",
    "    "
   ]
  },
  {
   "cell_type": "code",
   "execution_count": 52,
   "metadata": {},
   "outputs": [],
   "source": [
    "#a = reversed.text.iloc[24].split(' ')"
   ]
  },
  {
   "cell_type": "code",
   "execution_count": 53,
   "metadata": {},
   "outputs": [],
   "source": [
    "from gensim.models import Word2Vec"
   ]
  },
  {
   "cell_type": "code",
   "execution_count": 54,
   "metadata": {},
   "outputs": [],
   "source": [
    "word2vec_model =Word2Vec(a,min_count=10)\n"
   ]
  },
  {
   "cell_type": "code",
   "execution_count": 55,
   "metadata": {},
   "outputs": [
    {
     "name": "stdout",
     "output_type": "stream",
     "text": [
      "Word2Vec(vocab=2390, size=100, alpha=0.025)\n"
     ]
    }
   ],
   "source": [
    "print(word2vec_model)"
   ]
  },
  {
   "cell_type": "code",
   "execution_count": 56,
   "metadata": {},
   "outputs": [
    {
     "data": {
      "text/plain": [
       "[('remanded', 0.9986464977264404),\n",
       " ('dissented', 0.9959361553192139),\n",
       " ('superior', 0.9943211674690247),\n",
       " ('broderick', 0.9942866563796997),\n",
       " ('conflict', 0.9933634996414185),\n",
       " ('appointed', 0.993209958076477),\n",
       " ('johnson', 0.9921435713768005),\n",
       " ('dugas', 0.9921237826347351),\n",
       " ('green', 0.9920369386672974),\n",
       " ('respondent', 0.9920048117637634)]"
      ]
     },
     "execution_count": 56,
     "metadata": {},
     "output_type": "execute_result"
    }
   ],
   "source": [
    "word2vec_model.wv.most_similar('reversed')"
   ]
  },
  {
   "cell_type": "code",
   "execution_count": 57,
   "metadata": {},
   "outputs": [
    {
     "data": {
      "text/plain": [
       "file name                                         kornb023.pdf\n",
       "title            THE STATE OF NEW HAMPSHIRE v. KARL KORNBREKKE\n",
       "type                                                  criminal\n",
       "decision                                          not affirmed\n",
       "text         notice opinion subject motions rehearing well ...\n",
       "Name: 6, dtype: object"
      ]
     },
     "execution_count": 57,
     "metadata": {},
     "output_type": "execute_result"
    }
   ],
   "source": [
    "reversed.iloc[0]"
   ]
  },
  {
   "cell_type": "code",
   "execution_count": null,
   "metadata": {},
   "outputs": [],
   "source": []
  },
  {
   "cell_type": "code",
   "execution_count": 58,
   "metadata": {},
   "outputs": [],
   "source": [
    "b=reversed.text.iloc[0].split(' ')\n"
   ]
  },
  {
   "cell_type": "code",
   "execution_count": 59,
   "metadata": {},
   "outputs": [],
   "source": [
    "word2vec_model1 =Word2Vec([b],min_count=1)\n"
   ]
  },
  {
   "cell_type": "code",
   "execution_count": 339,
   "metadata": {},
   "outputs": [
    {
     "data": {
      "text/plain": [
       "[('meritorious', 0.6856645345687866),\n",
       " ('with', 0.6722795963287354),\n",
       " ('when', 0.6688871383666992),\n",
       " ('this', 0.6684521436691284),\n",
       " ('questions', 0.6663250923156738),\n",
       " ('very', 0.6662308573722839),\n",
       " ('no', 0.6647916436195374),\n",
       " ('also', 0.6647704839706421),\n",
       " ('n', 0.6646958589553833),\n",
       " ('we', 0.6638684272766113)]"
      ]
     },
     "execution_count": 339,
     "metadata": {},
     "output_type": "execute_result"
    }
   ],
   "source": [
    "word2vec_model1.wv.most_similar('reversed')"
   ]
  },
  {
   "cell_type": "code",
   "execution_count": 65,
   "metadata": {},
   "outputs": [],
   "source": [
    "c = []\n",
    "for i in range(len(criminal)):\n",
    "    c.append(criminal.text.iloc[i].split(' '))"
   ]
  },
  {
   "cell_type": "code",
   "execution_count": 66,
   "metadata": {},
   "outputs": [],
   "source": [
    "word2vec_model2 =Word2Vec(c,min_count=10)"
   ]
  },
  {
   "cell_type": "code",
   "execution_count": 67,
   "metadata": {},
   "outputs": [
    {
     "data": {
      "text/plain": [
       "[('remanded', 0.9685547947883606),\n",
       " ('vacated', 0.9636162519454956),\n",
       " ('dalianis', 0.9338315725326538),\n",
       " ('broderick', 0.9320261478424072),\n",
       " ('conboy', 0.9178599119186401),\n",
       " ('hicks', 0.913033664226532),\n",
       " ('duggan', 0.9049065113067627),\n",
       " ('resentencing', 0.9004073143005371),\n",
       " ('affirmed', 0.8975157737731934),\n",
       " ('tucker', 0.8858725428581238)]"
      ]
     },
     "execution_count": 67,
     "metadata": {},
     "output_type": "execute_result"
    }
   ],
   "source": [
    "word2vec_model2.wv.most_similar('reversed')"
   ]
  },
  {
   "cell_type": "code",
   "execution_count": null,
   "metadata": {},
   "outputs": [],
   "source": []
  }
 ],
 "metadata": {
  "kernelspec": {
   "display_name": "Python 3",
   "language": "python",
   "name": "python3"
  },
  "language_info": {
   "codemirror_mode": {
    "name": "ipython",
    "version": 3
   },
   "file_extension": ".py",
   "mimetype": "text/x-python",
   "name": "python",
   "nbconvert_exporter": "python",
   "pygments_lexer": "ipython3",
   "version": "3.6.9"
  }
 },
 "nbformat": 4,
 "nbformat_minor": 2
}
