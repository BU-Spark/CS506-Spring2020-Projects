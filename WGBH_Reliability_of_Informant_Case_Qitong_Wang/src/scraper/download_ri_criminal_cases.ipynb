{
 "cells": [
  {
   "cell_type": "markdown",
   "metadata": {},
   "source": [
    "# Download Criminal Cases (2008 - 2018) \n",
    "from Rhode Island Supreme Court "
   ]
  },
  {
   "cell_type": "markdown",
   "metadata": {},
   "source": [
    "## Set download dirctory for RI criminal cases"
   ]
  },
  {
   "cell_type": "code",
   "execution_count": null,
   "metadata": {},
   "outputs": [],
   "source": [
    "import os\n",
    "download_dir = os.path.dirname(os.getcwd())+\"/pdf_ri_criminal_cases\""
   ]
  },
  {
   "cell_type": "markdown",
   "metadata": {},
   "source": [
    "## Configure chrome webdriver and open the website of RI cases"
   ]
  },
  {
   "cell_type": "code",
   "execution_count": null,
   "metadata": {},
   "outputs": [],
   "source": [
    "from time import sleep\n",
    "from selenium import webdriver\n",
    "total_cases = 0\n",
    "prefs = {\n",
    "    \"download.default_directory\": download_dir+\"/year\",\n",
    "    \"profile.default_content_settings.popups\": 0,\n",
    "    \"plugins.always_open_pdf_externally\": True\n",
    "}\n",
    "chrome_options = webdriver.ChromeOptions()\n",
    "chrome_options.add_experimental_option('prefs', prefs)\n",
    "\n",
    "browser = webdriver.Chrome(options=chrome_options)\n",
    "browser.get(\"https://www.courts.ri.gov/Courts/SupremeCourt/Pages/Opinions%20and%20Orders%20Issued%20in%20Supreme%20Court%20Cases.aspx\")"
   ]
  },
  {
   "cell_type": "markdown",
   "metadata": {},
   "source": [
    "## Download criminal cases from 2008 to 2011"
   ]
  },
  {
   "cell_type": "code",
   "execution_count": null,
   "metadata": {},
   "outputs": [],
   "source": [
    "for year in range(2008, 2011):\n",
    "\n",
    "    previous_years = browser.find_elements_by_xpath('//*[@id=\"WebPartWPQ2\"]/div[1]/table/tbody/tr[3]/td[1]/span/a')\n",
    "    \n",
    "    # find the year to be downloaded in previous years\n",
    "    for previous_year in previous_years:\n",
    "        if previous_year.text == str(year) + \" - \" + str(year+1):\n",
    "            \n",
    "            num_case=0\n",
    "            folder_name = previous_year.text\n",
    "            \n",
    "            previous_year.click()\n",
    "            sleep(2)\n",
    "            \n",
    "            cases = browser.find_elements_by_xpath('//*[@id=\"WebPartWPQ2\"]/div[1]/p/a')\n",
    "            for case in cases:\n",
    "                # only download criminal cases\n",
    "                if case.text.lower().startswith('state v'):\n",
    "                    num_case += 1\n",
    "                    # create a temporary folder for the downloaded pdfs files\n",
    "                    if not os.path.exists(download_dir+\"/year\"):\n",
    "                        os.makedirs(download_dir+\"/year\")\n",
    "                    # record pdf number, filename, case title\n",
    "                    with open(download_dir + \"/year/README.md\", 'a') as pdfs_list:\n",
    "                        pdfs_list.write(str(num_case) + \"\\t\" +\n",
    "                                       case.get_attribute(\"href\").split(\"/\")[-1] + \"\\t\" +\n",
    "                                       case.text + \"  \\n\")\n",
    "                    # download pdf\n",
    "                    case.click()\n",
    "                    sleep(3)\n",
    "                    \n",
    "            # record number of pdf files in this year\n",
    "            with open(download_dir + \"/README.md\", 'a') as download_summary:\n",
    "                download_summary.write(folder_name + \" contains \" + str(num_case) + \" cases  \\n\")\n",
    "            total_cases += num_case\n",
    "            \n",
    "            os.rename(download_dir + \"/year\", download_dir + \"/\" + folder_name)\n",
    "            os.mkdir(download_dir + \"/year\")\n",
    "            break\n",
    "            \n",
    "    browser.back()\n",
    "    sleep(2)\n",
    "    "
   ]
  },
  {
   "cell_type": "code",
   "execution_count": null,
   "metadata": {},
   "outputs": [],
   "source": [
    "total_cases = 99\n",
    "total_cases"
   ]
  },
  {
   "cell_type": "markdown",
   "metadata": {},
   "source": [
    "## Download criminal cases from 2011 to 2017"
   ]
  },
  {
   "cell_type": "code",
   "execution_count": null,
   "metadata": {},
   "outputs": [],
   "source": [
    "for year in range(2011, 2017):\n",
    "\n",
    "    previous_years = browser.find_elements_by_xpath('//*[@id=\"WebPartWPQ2\"]/div[1]/table/tbody/tr[3]/td[1]/span/a')\n",
    "    \n",
    "    # find the year to be downloaded in previous years\n",
    "    for previous_year in previous_years:\n",
    "        if previous_year.text == str(year) + \" - \" + str(year+1):\n",
    "            \n",
    "            num_case=0\n",
    "            folder_name = previous_year.text\n",
    "            \n",
    "            previous_year.click()\n",
    "            sleep(2)\n",
    "            \n",
    "            rows = browser.find_elements_by_xpath('//*[@id=\"onetidDoclibViewTbl0\"]/tbody/tr')\n",
    "            for row in rows:\n",
    "                if row.find_elements_by_xpath('./td'):\n",
    "                    contents = row.find_elements_by_xpath('./td')\n",
    "                    case_title = contents[0]\n",
    "                    # only download criminal cases\n",
    "                    if case_title.text.lower().startswith('state v'):\n",
    "                        if contents[1].find_elements_by_xpath('./a'):\n",
    "                            num_case += 1\n",
    "                            pdf_link = contents[1].find_elements_by_xpath('./a')[0]\n",
    "                            # create a temporary folder for the downloaded pdfs files\n",
    "                            if not os.path.exists(download_dir+\"/year\"):\n",
    "                                os.makedirs(download_dir+\"/year\")\n",
    "                            # record pdf number, filename, case title\n",
    "                            with open(download_dir + \"/year/README.md\", 'a') as pdfs_list:\n",
    "                                pdfs_list.write(str(num_case) + \"\\t\" + \n",
    "                                                pdf_link.get_attribute(\"href\").split(\"/\")[-1] + \"\\t\" +\n",
    "                                                case_title.text + \"  \\n\")\n",
    "                            # download pdf\n",
    "                            pdf_link.click()\n",
    "                            sleep(3)\n",
    "                        else:\n",
    "                            print(\"No pdf link\")\n",
    " \n",
    "            # record number of pdf files in this year\n",
    "            with open(download_dir + \"/README.md\", 'a') as download_summary:\n",
    "                download_summary.write(folder_name + \" contains \" + str(num_case) + \" cases  \\n\")\n",
    "            total_cases += num_case\n",
    "            \n",
    "            os.rename(download_dir + \"/year\", download_dir + \"/\" + folder_name)\n",
    "            os.mkdir(download_dir + \"/year\")\n",
    "            break\n",
    "            \n",
    "    browser.back()\n",
    "    sleep(2)\n",
    "    "
   ]
  },
  {
   "cell_type": "code",
   "execution_count": null,
   "metadata": {},
   "outputs": [],
   "source": [
    "total_cases = 234\n",
    "total_cases"
   ]
  },
  {
   "cell_type": "markdown",
   "metadata": {},
   "source": [
    "## Download criminal cases from 2017 to 2018"
   ]
  },
  {
   "cell_type": "code",
   "execution_count": null,
   "metadata": {},
   "outputs": [],
   "source": [
    "for year in range(2017, 2018):\n",
    "\n",
    "    previous_years = browser.find_elements_by_xpath('//*[@id=\"WebPartWPQ2\"]/div[1]/table/tbody/tr[3]/td[1]/span/a')\n",
    "    \n",
    "    # find the year to be downloaded in previous years\n",
    "    for previous_year in previous_years:\n",
    "        if previous_year.text == str(year) + \" - \" + str(year+1):\n",
    "            \n",
    "            num_case=0\n",
    "            folder_name = previous_year.text\n",
    "            \n",
    "            previous_year.click()\n",
    "            sleep(2)\n",
    "            \n",
    "            rows = browser.find_elements_by_xpath('//*[@id=\"onetidDoclibViewTbl0\"]/tbody/tr')\n",
    "            for row in rows:\n",
    "                if row.find_elements_by_xpath('./td'):\n",
    "                    contents = row.find_elements_by_xpath('./td')\n",
    "                    case_title = contents[0]\n",
    "                    # only download criminal cases\n",
    "                    if case_title.text.lower().startswith('state v'):\n",
    "                        if contents[2].find_elements_by_xpath('./a'):\n",
    "                            num_case += 1\n",
    "                            pdf_link = contents[2].find_elements_by_xpath('./a')[0]\n",
    "                            # create a temporary folder for the downloaded pdfs files\n",
    "                            if not os.path.exists(download_dir+\"/year\"):\n",
    "                                os.makedirs(download_dir+\"/year\")\n",
    "                            # record pdf number, filename, case title\n",
    "                            with open(download_dir + \"/year/README.md\", 'a') as pdfs_list:\n",
    "                                pdfs_list.write(str(num_case) + \"\\t\" + \n",
    "                                                pdf_link.get_attribute(\"href\").split(\"/\")[-1] + \"\\t\" +\n",
    "                                                case_title.text + \"  \\n\")\n",
    "                            # download pdf\n",
    "                            pdf_link.click()\n",
    "                            sleep(3)\n",
    "                        else:\n",
    "                            print(\"No pdf link\")\n",
    " \n",
    "            # record number of pdf files in this year\n",
    "            with open(download_dir + \"/README.md\", 'a') as download_summary:\n",
    "                download_summary.write(folder_name + \" contains \" + str(num_case) + \" cases  \\n\")\n",
    "            total_cases += num_case\n",
    "            \n",
    "            os.rename(download_dir + \"/year\", download_dir + \"/\" + folder_name)\n",
    "            os.mkdir(download_dir + \"/year\")\n",
    "            break\n",
    "            \n",
    "    browser.back()\n",
    "    sleep(2)\n",
    "    "
   ]
  },
  {
   "cell_type": "code",
   "execution_count": null,
   "metadata": {},
   "outputs": [],
   "source": [
    "total_cases = 241\n",
    "total_cases"
   ]
  },
  {
   "cell_type": "markdown",
   "metadata": {},
   "source": [
    "## Finished Downloading"
   ]
  },
  {
   "cell_type": "code",
   "execution_count": null,
   "metadata": {},
   "outputs": [],
   "source": [
    "browser.close()\n",
    "\n",
    "if os.path.exists(download_dir + \"/year\"):\n",
    "    os.rmdir(download_dir + \"/year\")\n",
    "\n",
    "with open(download_dir + \"/README.md\", 'a') as download_log:\n",
    "    download_log.write(\"\\n\" + str(total_cases) + \" cases in total\")"
   ]
  },
  {
   "cell_type": "code",
   "execution_count": null,
   "metadata": {},
   "outputs": [],
   "source": []
  }
 ],
 "metadata": {
  "kernelspec": {
   "display_name": "Python 3",
   "language": "python",
   "name": "python3"
  },
  "language_info": {
   "codemirror_mode": {
    "name": "ipython",
    "version": 3
   },
   "file_extension": ".py",
   "mimetype": "text/x-python",
   "name": "python",
   "nbconvert_exporter": "python",
   "pygments_lexer": "ipython3",
   "version": "3.7.0"
  }
 },
 "nbformat": 4,
 "nbformat_minor": 4
}
