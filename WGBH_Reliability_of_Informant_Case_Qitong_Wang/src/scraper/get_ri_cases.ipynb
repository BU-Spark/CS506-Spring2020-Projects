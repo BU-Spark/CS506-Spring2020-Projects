{
 "cells": [
  {
   "cell_type": "markdown",
   "metadata": {},
   "source": [
    "# Get RI case data"
   ]
  },
  {
   "cell_type": "code",
   "execution_count": 314,
   "metadata": {},
   "outputs": [],
   "source": [
    "import os\n",
    "pdf_ri_path = os.path.dirname(os.getcwd()) + \"/pdf_ri_criminal_cases\"\n",
    "save_path = os.path.dirname(os.getcwd()) + \"/data\""
   ]
  },
  {
   "cell_type": "markdown",
   "metadata": {},
   "source": [
    "## Extracting text from pdfs"
   ]
  },
  {
   "cell_type": "code",
   "execution_count": 315,
   "metadata": {},
   "outputs": [
    {
     "name": "stdout",
     "output_type": "stream",
     "text": [
      "State v. Gilbert (Opinion).pdf is damaged\n",
      "State v. Tower (Opinion).pdf is damaged\n"
     ]
    }
   ],
   "source": [
    "import re\n",
    "import pdftotext\n",
    "\n",
    "pdf_title_case = []\n",
    "\n",
    "for year in range(2008, 2018):\n",
    "    path = pdf_ri_path + \"/\" + str(year) + \" - \" + str(year+1)\n",
    "    \n",
    "    # load case titles\n",
    "    pdf_title = []\n",
    "    with open(path + \"/README.md\",\"r\") as pdf_list:\n",
    "        for line in pdf_list:\n",
    "            pdf_title.append(line.split('\\t')[1:])\n",
    "    \n",
    "    # read file names in this year\n",
    "    filenames = os.listdir(path)\n",
    "            \n",
    "    # load pdf files\n",
    "    for filename in filenames:\n",
    "        # excluding non-pdf files\n",
    "        if filename.endswith('.pdf'):\n",
    "            # get pdf object and extract text from pdf object\n",
    "            with open(path + \"/\" + filename, \"rb\") as f:\n",
    "                try:\n",
    "                    pdf_obj = pdftotext.PDF(f)\n",
    "                except:\n",
    "                    print(filename + \" is damaged\")\n",
    "                    pdf_obj=[]\n",
    "            \n",
    "            # remove page number\n",
    "            pages = []\n",
    "            for page in pdf_obj:\n",
    "                if page:\n",
    "                    line = page.rsplit(\"\\n\", 2)\n",
    "                    if line[1].strip()[-1] == \"-\" and line[1].strip()[0] == \"-\":\n",
    "                        pages.append(line[0] + \"\\n\")\n",
    "                    else:\n",
    "                        pages.append(page)\n",
    "            text = ''.join(pages)\n",
    "            \n",
    "            if text:\n",
    "                # split a case into paragraphs\n",
    "                paragraphs = re.split(r'\\s{2,}', text)\n",
    "                # find case title\n",
    "                for i in pdf_title:\n",
    "                    if filename in i:\n",
    "                        title = i[1]\n",
    "                \n",
    "                pdf_title_case.append([filename, title ,paragraphs])            \n"
   ]
  },
  {
   "cell_type": "markdown",
   "metadata": {},
   "source": [
    "## Formatting data from pdfs"
   ]
  },
  {
   "cell_type": "code",
   "execution_count": 316,
   "metadata": {},
   "outputs": [],
   "source": [
    "cases_data = []\n",
    "for pdf_case in pdf_title_case:\n",
    "    \n",
    "    pdf_name = pdf_case[0]\n",
    "    case_title = pdf_case[1]\n",
    "    case_text = pdf_case[2]\n",
    "    case_text_no_newline = [p.replace('\\n', ' ') for p in case_text]\n",
    "\n",
    "    case = {'file name': pdf_name, 'title': case_title, 'type': \"criminal\", 'decision': \"N/A\",\n",
    "            'text': case_text_no_newline}\n",
    "    \n",
    "    # locate case decision\n",
    "    p_decision = 0    \n",
    "    for n, paragraph in enumerate(reversed(case_text)):\n",
    "        if \"Conclusion\" in paragraph:\n",
    "            p_decision = n\n",
    "            break\n",
    "    \n",
    "    if(p_decision == 0):\n",
    "        case['decision'] = \"affirmed\"\n",
    "    else:\n",
    "        conclusion = case_text_no_newline[len(case_text_no_newline)-p_decision].lower()\n",
    "        if \"affirm in part\" in conclusion or \"granted in part\" in conclusion:\n",
    "            case['decision'] = \"affirm in part\"\n",
    "        elif \"affirm\" in conclusion:\n",
    "            case['decision'] = \"affirmed\"\n",
    "        else:\n",
    "            case['decision'] = \"not affirmed\"\n",
    " \n",
    "    cases_data.append(case)"
   ]
  },
  {
   "cell_type": "markdown",
   "metadata": {},
   "source": [
    "## Save the formatted data"
   ]
  },
  {
   "cell_type": "code",
   "execution_count": 317,
   "metadata": {},
   "outputs": [],
   "source": [
    "import csv\n",
    "import json\n",
    "\n",
    "# write to a json file\n",
    "with open(save_path + '/cases_ri.json', 'w') as fout:\n",
    "    json.dump(cases_data, fout)\n",
    "\n",
    "# write to a csv file\n",
    "keys = cases_data[0].keys()\n",
    "with open(save_path + '/cases_ri.csv', 'w') as fout:\n",
    "    dict_writer = csv.DictWriter(fout, keys)\n",
    "    dict_writer.writeheader()\n",
    "    dict_writer.writerows(cases_data)\n"
   ]
  },
  {
   "cell_type": "code",
   "execution_count": null,
   "metadata": {},
   "outputs": [],
   "source": []
  }
 ],
 "metadata": {
  "kernelspec": {
   "display_name": "Python 3",
   "language": "python",
   "name": "python3"
  },
  "language_info": {
   "codemirror_mode": {
    "name": "ipython",
    "version": 3
   },
   "file_extension": ".py",
   "mimetype": "text/x-python",
   "name": "python",
   "nbconvert_exporter": "python",
   "pygments_lexer": "ipython3",
   "version": "3.7.0"
  }
 },
 "nbformat": 4,
 "nbformat_minor": 4
}
