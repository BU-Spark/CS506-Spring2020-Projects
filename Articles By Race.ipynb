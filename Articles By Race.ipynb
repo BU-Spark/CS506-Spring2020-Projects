{
 "cells": [
  {
   "cell_type": "code",
   "execution_count": 1,
   "metadata": {},
   "outputs": [
    {
     "name": "stderr",
     "output_type": "stream",
     "text": [
      "unable to import 'smart_open.gcs', disabling that module\n"
     ]
    }
   ],
   "source": [
    "import nltk\n",
    "from nltk.tokenize import RegexpTokenizer\n",
    "from nltk.corpus import stopwords\n",
    "import json\n",
    "import pandas as pd\n",
    "from nltk import word_tokenize\n",
    "import gensim \n",
    "from gensim.models import Word2Vec\n",
    "import re\n",
    "import csv\n",
    "import sys\n",
    "from spacy.lang.en import English\n",
    "from spacy.matcher import PhraseMatcher\n",
    "import spacy\n",
    "import en_core_web_sm"
   ]
  },
  {
   "cell_type": "code",
   "execution_count": 2,
   "metadata": {},
   "outputs": [],
   "source": [
    "nlp = en_core_web_sm.load()\n",
    "matcher = PhraseMatcher(nlp.vocab)"
   ]
  },
  {
   "cell_type": "code",
   "execution_count": 3,
   "metadata": {},
   "outputs": [],
   "source": [
    "#data_df = open(\"test_race.txt\", \"r\",encoding=\"utf-8\").readlines()\n",
    "data_df = pd.read_csv('bostonglobe2014_2.csv')  \n",
    "for i in range(len(data_df)):\n",
    "    data_df['text'][i] = str(data_df['text'][i]).replace('[','').replace(']','')"
   ]
  },
  {
   "cell_type": "code",
   "execution_count": 11,
   "metadata": {},
   "outputs": [],
   "source": [
    "for i in range(len(data_df)):\n",
    "    data_df['text'][i] = str(data_df['text'][i]).replace('[','').replace(']','')"
   ]
  },
  {
   "cell_type": "code",
   "execution_count": 4,
   "metadata": {},
   "outputs": [],
   "source": [
    "terminology_list = [\"Black people\", \"Black male\", \"Black female\", \"Black man\", \"Black men\", \"Black woman\", \"Black women\", \"Black child\", \"Black kid\", \"Black youth\", \"Black community\", \"Black neighborhood\", \"Black business\", \"Black company\", \"Afro Latino people\", \"Afro Latino male\", \"Afro Latino female\", \"Afro Latino man\", \"Afro Latino men\", \"Afro Latino woman\", \"Afro Latino women\", \"Afro Latino child\", \"Afro Latino kid\", \"Afro Latino youth\", \"Afro Latino community\", \"Afro Latino neighborhood\", \"Afro Latino business\", \"Afro Latino company\", \"Afro Latina people\", \"Afro Latina\", \"Afro Latina female\", \"Afro Latina male\", \"Afro Latina man\", \"Afro Latina men\", \"Afro Latina woman\", \"Afro Latina women\", \"Afro Latina child\", \"Afro Latina kid\", \"Afro Latina youth\", \"Afro Latina community\", \"Afro Latina neighborhood\", \"Afro Latina business\", \"Afro Latina company\", \"Cape Verdean people\", \"Cape Verdean male\", \"Cape Verdean female\", \"Cape Verdean man\", \"Cape Verdean men\", \"Cape Verdean woman\", \"Cape Verdean women\", \"Cape Verdean child\", \"Cape Verdean kid\", \"Cape Verdean youth\", \"Cape Verdean community\", \"Cape Verdean neighborhood\", \"Cape Verdean business\", \"Cape Verdean company\", \"Haitian people\", \"Haitian male\", \"Haitian female\", \"Haitian man\", \"Haitian men\", \"Haitian woman\", \"Haitian women\", \"Haitian child\", \"Haitian kid\", \"Haitian youth\", \"Haitian community\", \"Haitian neighborhood\", \"Haitian business\", \"Haitian company\", \"Haitian-American people\", \"Haitian-American male\", \"Haitian-American female\", \"Haitian-American man\", \"Haitian-American men\", \"Haitian-American woman\", \"Haitian-American women\", \"Haitian-American child\", \"Haitian-American kid\", \"Haitian-American youth\", \"Haitian-American community\", \"Haitian-American neighborhood\", \"Haitian-American business\", \"Haitian-American company\", \"African people\", \"African male\", \"African female\", \"African man\", \"African men\", \"African woman\", \"African women\", \"African child\", \"African kid\", \"African youth\", \"African community\", \"African neighborhood\", \"African business\", \"African company\", \"African-American people\", \"African-American male\", \"African-American female\", \"African-American man\", \"African-American men\", \"African-American woman\", \"African-American women\", \"African-American child\", \"African-American kid\", \"African-American youth\", \"African-American community\", \"African-American neighborhood\", \"African-American business\", \"African-American company\", \"Caribbean people\", \"Caribbean male\", \"Caribbean female\", \"Caribbean man\", \"Caribbean men\", \"Caribbean woman\", \"Caribbean women\", \"Caribbean child\", \"Caribbean kid\", \"Caribbean youth\", \"Caribbean community\", \"Caribbean neighborhood\", \"Caribbean business\", \"Caribbean company\", \"Jamaican people\", \"Jamaican male\", \"Jamaican female\", \"Jamaican man\", \"Jamaican men\", \"Jamaican woman\", \"Jamaican women\", \"Jamaican child\", \"Jamaican kid\", \"Jamaican youth\", \"Jamaican community\", \"Jamaican neighborhood\", \"Jamaican business\", \"Jamaican company\", \"Dominican people\", \"Dominican male\", \"Dominican female\", \"Dominican man\", \"Dominican men\", \"Dominican woman\", \"Dominican women\", \"Dominican child\", \"Dominican kid\", \"Dominican youth\", \"Dominican community\", \"Dominican neighborhood\", \"Dominican business\", \"Dominican company\", \"West Indian people\", \"West Indian male\", \"West Indian female\", \"West Indian man\", \"West Indian men\", \"West Indian woman\", \"West Indian women\", \"West Indian child\", \"West Indian kid\", \"West Indian youth\", \"West Indian community\", \"West Indian neighborhood\", \"West Indian business\", \"West Indian company\", \"Black\", \"Afro Latino\", \"Afro Latina\", \"Cape Verdean\", \"Haitian\", \"HaiBlack matian-American\", \"African\", \"African-American\", \"Caribbean\", \"Jamaican\", \"Dominican\", \"West Indian\"]\n",
    "\n",
    "\n"
   ]
  },
  {
   "cell_type": "code",
   "execution_count": null,
   "metadata": {},
   "outputs": [
    {
     "name": "stdout",
     "output_type": "stream",
     "text": [
      "Black people\n",
      "[0]\n",
      "Black male\n",
      "[0, 0]\n",
      "Black female\n",
      "[0, 0, 0]\n",
      "Black man\n",
      "[0, 0, 0, 0]\n",
      "Black men\n",
      "[(11356100181062323261, 432, 434)]\n",
      "[0, 0, 0, 0, 1]\n",
      "Black woman\n",
      "[0, 0, 0, 0, 1, 0]\n",
      "Black women\n",
      "[0, 0, 0, 0, 1, 0, 0]\n",
      "Black child\n",
      "[0, 0, 0, 0, 1, 0, 0, 0]\n",
      "Black kid\n",
      "[0, 0, 0, 0, 1, 0, 0, 0, 0]\n",
      "Black youth\n",
      "[0, 0, 0, 0, 1, 0, 0, 0, 0, 0]\n",
      "Black community\n",
      "[(11356100181062323261, 687, 689)]\n",
      "[(11356100181062323261, 904, 906)]\n",
      "[(11356100181062323261, 904, 906)]\n",
      "[0, 0, 0, 0, 1, 0, 0, 0, 0, 0, 3]\n",
      "Black neighborhood\n"
     ]
    }
   ],
   "source": [
    "count = 0\n",
    "count_F=[]\n",
    "data_df_homi=[]\n",
    "for i in range(len(terminology_list)):\n",
    "    data_name=[]\n",
    "    matcher.add(\"Phrase Matching\", None, nlp(terminology_list[i]))\n",
    "    print(nlp(terminology_list[i]))\n",
    "    for j in range(len(data_df)):\n",
    "        doc = nlp(data_df['text'][j])\n",
    "        matches = matcher(doc)\n",
    "        #print(len(matches))\n",
    "        if (len(matches) > 0):\n",
    "            print(matches)\n",
    "            data_name.append(data_df['text'][j])\n",
    "            count= count + 1\n",
    "    #data_df_homi.append(data_name)\n",
    "    matcher.remove(\"Phrase Matching\")\n",
    "    count_F.append(count)\n",
    "    print(count_F)\n",
    "    count=0\n",
    "    filename = \"%s.txt\" % terminology_list[i]\n",
    "    resultFyle = open(filename,'w',encoding=\"utf-8\")\n",
    "\n",
    "    for r in data_name:\n",
    "        resultFyle.write(r)\n",
    "    resultFyle.close()"
   ]
  },
  {
   "cell_type": "code",
   "execution_count": 7,
   "metadata": {},
   "outputs": [
    {
     "name": "stdout",
     "output_type": "stream",
     "text": [
      "[1, 2]\n"
     ]
    }
   ],
   "source": [
    "print(count_F)"
   ]
  },
  {
   "cell_type": "code",
   "execution_count": null,
   "metadata": {},
   "outputs": [],
   "source": []
  }
 ],
 "metadata": {
  "kernelspec": {
   "display_name": "Python 3",
   "language": "python",
   "name": "python3"
  },
  "language_info": {
   "codemirror_mode": {
    "name": "ipython",
    "version": 3
   },
   "file_extension": ".py",
   "mimetype": "text/x-python",
   "name": "python",
   "nbconvert_exporter": "python",
   "pygments_lexer": "ipython3",
   "version": "3.7.6"
  }
 },
 "nbformat": 4,
 "nbformat_minor": 4
}
