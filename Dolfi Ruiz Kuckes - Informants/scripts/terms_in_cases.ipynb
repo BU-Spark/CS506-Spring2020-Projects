{
 "cells": [
  {
   "cell_type": "code",
   "execution_count": 19,
   "metadata": {},
   "outputs": [
    {
     "name": "stdout",
     "output_type": "stream",
     "text": [
      "The autoreload extension is already loaded. To reload it, use:\n",
      "  %reload_ext autoreload\n"
     ]
    }
   ],
   "source": [
    "\"\"\"\n",
    "If you run this block more than once you will get 88 THOUSAND newlines (in the data)\n",
    "\"\"\"\n",
    "\n",
    "import json\n",
    "import numpy as np\n",
    "import pandas\n",
    "\n",
    "#this code makes your editing experience using both python files \n",
    "#and notebooks a lot easier\n",
    "%load_ext autoreload\n",
    "#written to make things easier\n",
    "%aimport utility \n",
    "%autoreload 1\n",
    "\n",
    "#this is done to avoid the double processing problem\n",
    "origin_sjc, origin_state_appeals = utility.combine_cases()\n",
    "all_sjc = origin_sjc.copy(deep=True)\n",
    "all_state_appeals = origin_state_appeals.copy(deep=True)"
   ]
  },
  {
   "cell_type": "code",
   "execution_count": 20,
   "metadata": {},
   "outputs": [],
   "source": [
    "#returns case numbers and sections in which found within a case\n",
    "def find_in_text(case_data,phrase):\n",
    "    cases_found = []\n",
    "    for case in range(len(case_data)):\n",
    "        place_found = []\n",
    "        for i in range(len(case_data[case][\"text\"])):\n",
    "            if case_data[case][\"text\"][i].lower().find(phrase.lower()) != -1:\n",
    "                place_found.append(i)\n",
    "        \n",
    "        if len(place_found) > 0:\n",
    "            cases_found.append([case,place_found])\n",
    "    return cases_found"
   ]
  },
  {
   "cell_type": "code",
   "execution_count": 21,
   "metadata": {},
   "outputs": [],
   "source": [
    "def find_in_headnote(case_data,phrase):\n",
    "    cases_found = []\n",
    "    for case in range(len(case_data)):\n",
    "        place_found = []\n",
    "        for i in range(len(case_data[case][\"headnote\"])):\n",
    "            if case_data[case][\"headnote\"][i].lower().find(phrase.lower()) != -1:\n",
    "                place_found.append(i)\n",
    "        \n",
    "        if len(place_found) > 0:\n",
    "            cases_found.append([case,place_found])\n",
    "    return cases_found"
   ]
  },
  {
   "cell_type": "code",
   "execution_count": 22,
   "metadata": {},
   "outputs": [],
   "source": [
    "# Searches list_of_keywords in string case_data\n",
    "# and returns the total number of cases that contained any keyword\n",
    "#as well as the \"case numbers\", that is, currently\n",
    "#line numbers in the file\n",
    "def number_of_cases_per_keywords(case_data, list_of_keywords):\n",
    "    all_cases = set()\n",
    "    for keyword in list_of_keywords:\n",
    "        all_with_keyword = set()\n",
    "        all_in_text = find_in_text(case_data, keyword)\n",
    "        all_in_headnote = find_in_headnote(case_data, keyword)\n",
    "        for occurence in all_in_text:\n",
    "            all_with_keyword.add(occurence[0])\n",
    "        for occurence in all_in_headnote:\n",
    "            all_with_keyword.add(occurence[0])\n",
    "        all_cases.update(all_with_keyword)\n",
    "    pretty = list(all_cases)\n",
    "    pretty.sort()\n",
    "    return len(pretty), pretty"
   ]
  },
  {
   "cell_type": "code",
   "execution_count": 23,
   "metadata": {},
   "outputs": [],
   "source": [
    "def contains(dataframe, *keywords):\n",
    "    logical_list = dataframe.text.str.contains(keywords[0])\n",
    "    for i in range(1, len(keywords)):\n",
    "        logical_list = logical_list | dataframe.text.str.contains(keywords[i])\n",
    "    return logical_list\n",
    "\n",
    "#elementwise xor:\n",
    "#returns true at i if and only if series1[i] and series2[i]\n",
    "#are different\n",
    "def logic_xor(series1, series2):\n",
    "    return (series1 | series2) & ~(series1 & series2)\n"
   ]
  },
  {
   "cell_type": "code",
   "execution_count": 24,
   "metadata": {},
   "outputs": [],
   "source": [
    "important_keywords = [\"confidential informant\", \" ci \", \"snitch\", \"informant\", \"gang informant\"]"
   ]
  },
  {
   "cell_type": "code",
   "execution_count": 25,
   "metadata": {},
   "outputs": [],
   "source": [
    "#we used to have a duplicate row problem\n",
    "\n",
    "\n",
    "# print(\"statistics of how we are double counting: values represent how many times an index appears\")\n",
    "# print(all_sjc.index.to_series().value_counts().describe(), \"\\n\\n\")\n",
    "\n",
    "# print(\"showing you in the other list, max is like half of the whole list (statistics a)\")\n",
    "# print(all_state_appeals.index.to_series().describe(), \"\\n\")\n",
    "\n",
    "# print(\"statistics of how bad the problem is in that list\")\n",
    "# print(all_state_appeals.index.to_series().value_counts().describe(), \"\\n\\n\")\n",
    "\n",
    "# print(\"thus, if you sort things, it looks like this\")\n",
    "# print(all_state_appeals.sort_index()[0:6], \"\\n\")\n",
    "\n",
    "# print(\"this leads to the following problem:\")\n",
    "\n",
    "\n",
    "# \"\"\"\n",
    "# print(\"You see this makes things much more reasonable to remove \\\n",
    "# newlines but it also squishes punctuation sometimes:\\n\")\n",
    "# print(messed_up.str.replace(pat=\"\\n\", repl=\"\").iloc[0][0:500], \"...\\n\")\n",
    "\n",
    "# print(\"This is a big problem in the state appeals cases. Statistics for newlines in state appeals:\\n\",\n",
    "#       all_state_appeals.text.str.count(\"\\n\").describe())\n",
    "\n",
    "# print(\"\\nNote: there are no newlines in sjc cases: \\n\", all_sjc.text.str.count(\"\\n\").describe(), \"\\n\")\n",
    "\n",
    "# #so, replace the text column to have it be good\n",
    "# all_state_appeals.text = all_state_appeals.text.str.replace(pat=\"\\n\", repl=\"\")\n",
    "# \"\"\"\n"
   ]
  },
  {
   "cell_type": "code",
   "execution_count": 198,
   "metadata": {},
   "outputs": [
    {
     "name": "stdout",
     "output_type": "stream",
     "text": [
      "An sjc case partial text:\n",
      "\n",
      "The present case is the most recent in a series of cases concerning the egregious misconduct of Annie Dookhan, a chemist who was employed in the forensic drug laboratory of the William A. Hinton State Laboratory Institute (Hinton drug lab) from 2003 until 2012.  On January 23, 2007, the defendant,  ...\n",
      "\n",
      "\n",
      "A state appeals partial text:\n",
      "\n",
      "This case arises from the grant of a groundwater discharge permit (permit) to the town of Falmouth (town) for the construction and operation of a wastewater treatment facility (treatment facility) and leach field.\n",
      "The plaintiffs are abutters to the site of the proposed treatment facility or the pro ...\n",
      "\n",
      "\n"
     ]
    }
   ],
   "source": [
    "#Check that some files are ok\n",
    "#There also used to be a big problem here with newlines\n",
    "\n",
    "print(\"An sjc case partial text:\")\n",
    "print(all_sjc.loc[ 0, : ].text[0:300], \"...\\n\\n\")\n",
    "\n",
    "print(\"A state appeals partial text:\")\n",
    "messed_up = all_state_appeals[1:2].text\n",
    "print(messed_up.values[0][0:300], \"...\\n\\n\")\n",
    "\n"
   ]
  },
  {
   "cell_type": "code",
   "execution_count": 34,
   "metadata": {},
   "outputs": [
    {
     "name": "stdout",
     "output_type": "stream",
     "text": [
      "we affirm\n",
      " False    1456\n",
      "True     1199\n",
      "Name: text, dtype: int64\n",
      "all Affirmed cases:\n",
      " True     2008\n",
      "False     647\n",
      "Name: text, dtype: int64\n",
      "\n",
      "we reverse\n",
      " False    2449\n",
      "True      206\n",
      "Name: text, dtype: int64\n",
      "\n",
      "all w reversed:\n",
      " False    1924\n",
      "True      731\n",
      "Name: text, dtype: int64\n",
      "\n",
      "has both we affirm and we reverse\n",
      " False    2601\n",
      "True       54\n",
      "Name: text, dtype: int64\n",
      "\n",
      "reversed and affirmed\n",
      " False    2096\n",
      "True      559\n",
      "Name: text, dtype: int64\n",
      "0       False\n",
      "1673    False\n",
      "1674    False\n",
      "1675    False\n",
      "1677    False\n",
      "        ...  \n",
      "1913     True\n",
      "1916     True\n",
      "1918     True\n",
      "1855     True\n",
      "1327     True\n",
      "Name: text, Length: 2655, dtype: bool\n",
      "\n",
      "only one or the other appears:\n",
      "True     1621\n",
      "False    1034\n",
      "Name: text, dtype: int64\n"
     ]
    }
   ],
   "source": [
    "vacate_indeces = all_sjc.text.str.contains(\"vacate\") | contains(all_sjc,\"vacated\")\n",
    "\n",
    "\n",
    "we_affirm = contains(all_sjc, \"We affirm\", \"we affirm\")\n",
    "print(\"we affirm\\n\", we_affirm.value_counts())\n",
    "\n",
    "affirmed_indeces = all_sjc.text.str.contains(\"affirm\") | we_affirm\n",
    "print(\"all Affirmed cases:\\n\", affirmed_indeces.value_counts())\n",
    "\n",
    "\n",
    "we_reverse = contains(all_sjc, \"we reverse\") | contains(all_sjc, \"We reverse\")\n",
    "print(\"\\nwe reverse\\n\", we_reverse.value_counts())\n",
    "\n",
    "reversed_indeces = all_sjc.text.str.contains(\"reverse\") | we_reverse\n",
    "print(\"\\nall w reversed:\\n\", reversed_indeces.value_counts())\n",
    "\n",
    "\n",
    "really_bad = we_affirm & we_reverse\n",
    "\n",
    "print(\"\\nhas both we affirm and we reverse\\n\", really_bad.value_counts())\n",
    "\n",
    "both_reversed_and_affirmed = reversed_indeces & affirmed_indeces\n",
    "print(\"\\nreversed and affirmed\\n\", both_reversed_and_affirmed.value_counts())\n",
    "print(both_reversed_and_affirmed.sort_values())\n",
    "#print(all_sjc.loc[ 681, : ].text)\n",
    "\n",
    "print(\"\\nonly one or the other appears:\")\n",
    "print(logic_xor(reversed_indeces, affirmed_indeces).value_counts())"
   ]
  },
  {
   "cell_type": "code",
   "execution_count": 35,
   "metadata": {},
   "outputs": [
    {
     "name": "stdout",
     "output_type": "stream",
     "text": [
      "Terrible cases we can't deal with, have no keywords:\n",
      " False    2485\n",
      "True      170\n",
      "Name: text, dtype: int64 \n",
      "\n",
      "Classification of some of the cases:\n",
      " 0       False\n",
      "1668    False\n",
      "1669    False\n",
      "1670    False\n",
      "1671    False\n",
      "        ...  \n",
      "2530     True\n",
      "2531     True\n",
      "2532     True\n",
      "2507     True\n",
      "2500     True\n",
      "Name: text, Length: 2655, dtype: bool \n",
      "\n",
      "For example:\n",
      "INDICTMENTS found and returned in the Superior Court Department on November 2, 2010.\n",
      "Pretrial motions to suppress evidence were heard by Charles J. Hely, J., and Janet L. Sanders, J., and cases were tried before Linda E. Giles, J.\n",
      "Jeffrey L. Baler for Alexander Gallett.\n",
      "Andrew S. Crouch for Michel St. Jean.\n",
      "Sarah Montgomery Lewis, Assistant District Attorney (Jennifer Hickman, Assistant District Attorney, also present) for the Commonwealth. ...\n",
      "\n",
      "\n"
     ]
    }
   ],
   "source": [
    "terrible_cases = ~(contains(all_sjc,\n",
    "    \"reverse\", \"affirm\", \"vacate\", \"uphold\", \"overturn\", \"disagree\", \"defer\",\n",
    "                            \"reject\", \"remand\", \"Appeal dismissed\"))\n",
    "print(\"Terrible cases we can't deal with, have no keywords:\\n\", \n",
    "         terrible_cases.value_counts(), \"\\n\")\n",
    "\n",
    "terrible_cases = terrible_cases.sort_values()\n",
    "print(\"Classification of some of the cases:\\n\", terrible_cases,\"\\n\")\n",
    "\n",
    "print(\"For example:\")\n",
    "print(all_sjc.loc[ 2500, : ].text, \"...\\n\\n\")\n",
    "    "
   ]
  },
  {
   "cell_type": "code",
   "execution_count": 36,
   "metadata": {},
   "outputs": [
    {
     "name": "stdout",
     "output_type": "stream",
     "text": [
      "                                         case  \\\n",
      "0        COMMONWEALTH  vs.  ADMILSON RESENDE.   \n",
      "1        COMMONWEALTH  vs.  GEORGE PHILBROOK.   \n",
      "2      LINDA S. BOWERS  vs.  P. WILE'S, INC.    \n",
      "3          COMMONWEALTH  vs.  JARED ABDALLAH.   \n",
      "4          COMMONWEALTH  vs.  ROBERT D. WADE.   \n",
      "...                                       ...   \n",
      "2650            IN THE MATTER OF CLAUDE DAVID   \n",
      "2651                   KAROL E. SIMONTON, pet   \n",
      "2652                                    A.F.    \n",
      "2653            IN THE MATTER OF CARL MARTIN    \n",
      "2654     BHARANIDHARAN PADMANABHAN vs. LORETT   \n",
      "\n",
      "                                               headnote  \\\n",
      "0     Controlled Substances. Constitutional Law, Ple...   \n",
      "1     Homicide. Evidence, Prior violent conduct, Sta...   \n",
      "2     Negligence, Retailer. Notice. Practice, Civil,...   \n",
      "3     Constitutional Law, Search and seizure. Search...   \n",
      "4     Amended October 28, 2016\\nDeoxyribonucleic Aci...   \n",
      "...                                                 ...   \n",
      "2650  SJC-12642\\nAttorney at Law, Disciplinary proce...   \n",
      "2651  SJC-12588\\nHabeas Corpus. Practice, Criminal, ...   \n",
      "2652  SJC-12686\\nHarassment Prevention. Supreme Judi...   \n",
      "2653  SJC-12589\\nAttorney at Law, Admission to pract...   \n",
      "2654  SJC-12718\\nPractice, Civil, Action in nature o...   \n",
      "\n",
      "                                                   text               date  \\\n",
      "0     \\nThe present case is the most recent in a ser...                NaN   \n",
      "1     \\nThe defendant was convicted of murder in the...                NaN   \n",
      "2     \\nIn this case we are called upon to determine...                NaN   \n",
      "3     \\nAfter causing a disturbance, the defendant w...                NaN   \n",
      "4     \\nThis case requires us to decide whether the ...                NaN   \n",
      "...                                                 ...                ...   \n",
      "2650  The respondent, Claude David Grayer, appeals f...   December 2, 2019   \n",
      "2651  Karol E. Simonton appeals from a judgment of t...  December 11, 2019   \n",
      "2652  The petitioner, A.F., appeals from a judgment ...  December 11, 2019   \n",
      "2653  Carl Martin Swanson has filed, in the county c...  December 12, 2019   \n",
      "2654  The petitioner, Bharanidharan Padmanabhan, app...  December 12, 2019   \n",
      "\n",
      "     county  We affirm count  we affirm count  We reverse count  \\\n",
      "0       NaN                0                0                 0   \n",
      "1       NaN                1                0                 0   \n",
      "2       NaN                0                0                 0   \n",
      "3       NaN                0                1                 0   \n",
      "4       NaN                0                0                 0   \n",
      "...     ...              ...              ...               ...   \n",
      "2650                       1                0                 0   \n",
      "2651                       0                0                 0   \n",
      "2652                       2                1                 0   \n",
      "2653                       0                1                 0   \n",
      "2654                       1                0                 0   \n",
      "\n",
      "      we reverse count  vacate count  affirm count  reverse count  \\\n",
      "0                    0             1             2              0   \n",
      "1                    0             0             2              0   \n",
      "2                    0             1             1              1   \n",
      "3                    0             0             4              0   \n",
      "4                    0             0             0              2   \n",
      "...                ...           ...           ...            ...   \n",
      "2650                 0             4             2              0   \n",
      "2651                 0             0             1              0   \n",
      "2652                 0             2             5              0   \n",
      "2653                 0             0             2              0   \n",
      "2654                 0             0             2              0   \n",
      "\n",
      "      Appeal dismissed count  \n",
      "0                          0  \n",
      "1                          0  \n",
      "2                          0  \n",
      "3                          0  \n",
      "4                          0  \n",
      "...                      ...  \n",
      "2650                       0  \n",
      "2651                       0  \n",
      "2652                       0  \n",
      "2653                       0  \n",
      "2654                       0  \n",
      "\n",
      "[2655 rows x 13 columns]\n"
     ]
    }
   ],
   "source": [
    "copy = all_sjc.copy(deep=True)\n",
    "\n",
    "def add_counts(dataframe, word_list):\n",
    "    for word in word_list:\n",
    "        col_name = word+ \" count\"\n",
    "        dataframe[col_name] = dataframe.text.str.count(word)\n",
    "        \n",
    "        \n",
    "triggers = [\"We affirm\", \"we affirm\", \"We reverse\", \n",
    "            \"we reverse\", \"vacate\", \"affirm\", \"reverse\", \"Appeal dismissed\"]\n",
    "add_counts(copy, triggers)\n",
    "\n",
    "print(copy)\n",
    "    \n",
    "# print(copy[\"Appeal dismissed count\"].value_counts())"
   ]
  },
  {
   "cell_type": "code",
   "execution_count": 37,
   "metadata": {},
   "outputs": [
    {
     "name": "stdout",
     "output_type": "stream",
     "text": [
      "After look for\"we\" keyword, we have the following:\n",
      "undecided    1304\n",
      "affirm       1199\n",
      "reverse       152\n",
      "Name: decision, dtype: int64\n",
      "Adding a less strict approach we have the following:\n",
      "affirm       1199\n",
      "reverse       879\n",
      "undecided     577\n",
      "Name: decision, dtype: int64\n",
      "With dismissed:\n",
      "affirm       1239\n",
      "reverse       879\n",
      "undecided     537\n",
      "Name: decision, dtype: int64\n"
     ]
    },
    {
     "name": "stderr",
     "output_type": "stream",
     "text": [
      "/opt/anaconda3/lib/python3.7/site-packages/ipykernel_launcher.py:14: SettingWithCopyWarning: \n",
      "A value is trying to be set on a copy of a slice from a DataFrame\n",
      "\n",
      "See the caveats in the documentation: https://pandas.pydata.org/pandas-docs/stable/user_guide/indexing.html#returning-a-view-versus-a-copy\n",
      "  \n",
      "/opt/anaconda3/lib/python3.7/site-packages/ipykernel_launcher.py:15: SettingWithCopyWarning: \n",
      "A value is trying to be set on a copy of a slice from a DataFrame\n",
      "\n",
      "See the caveats in the documentation: https://pandas.pydata.org/pandas-docs/stable/user_guide/indexing.html#returning-a-view-versus-a-copy\n",
      "  from ipykernel import kernelapp as app\n",
      "/opt/anaconda3/lib/python3.7/site-packages/ipykernel_launcher.py:24: SettingWithCopyWarning: \n",
      "A value is trying to be set on a copy of a slice from a DataFrame\n",
      "\n",
      "See the caveats in the documentation: https://pandas.pydata.org/pandas-docs/stable/user_guide/indexing.html#returning-a-view-versus-a-copy\n",
      "/opt/anaconda3/lib/python3.7/site-packages/ipykernel_launcher.py:25: SettingWithCopyWarning: \n",
      "A value is trying to be set on a copy of a slice from a DataFrame\n",
      "\n",
      "See the caveats in the documentation: https://pandas.pydata.org/pandas-docs/stable/user_guide/indexing.html#returning-a-view-versus-a-copy\n",
      "/opt/anaconda3/lib/python3.7/site-packages/ipykernel_launcher.py:31: SettingWithCopyWarning: \n",
      "A value is trying to be set on a copy of a slice from a DataFrame\n",
      "\n",
      "See the caveats in the documentation: https://pandas.pydata.org/pandas-docs/stable/user_guide/indexing.html#returning-a-view-versus-a-copy\n"
     ]
    }
   ],
   "source": [
    "\n",
    "#need to look at vacate\n",
    "def add_status(dataframe):\n",
    "    \n",
    "    \n",
    "    #creating the column\n",
    "    triggers = [\"We affirm\", \"we affirm\", \"We reverse\", \n",
    "            \"we reverse\", \"vacate\", \"affirm\", \"reverse\", \"Appeal dismissed\"]\n",
    "    add_counts(dataframe, triggers)\n",
    "    dataframe[\"decision\"] = \"undecided\"\n",
    "    \n",
    "    definite_affirm = contains(dataframe, \"We affirm\", \"we affirm\")\n",
    "    definite_reverse = contains(dataframe, \"We reverse\", \"we reverse\")\n",
    "    \n",
    "    dataframe.decision[definite_reverse] = \"reverse\"\n",
    "    dataframe.decision[definite_affirm] = \"affirm\"\n",
    "    \n",
    "    print(\"After look for\\\"we\\\" keyword, we have the following:\")\n",
    "    print(dataframe.decision.value_counts())\n",
    "        \n",
    "    \n",
    "    sort_of_affirm = (dataframe[\"affirm count\"] > 0) & (dataframe.decision == \"undecided\")\n",
    "    sort_of_reverse = (dataframe.decision == \"undecided\") & (dataframe[\"affirm count\"] > 0)\n",
    "    \n",
    "    dataframe.decision[sort_of_affirm] = \"affirm\"\n",
    "    dataframe.decision[sort_of_reverse] = \"reverse\"\n",
    "    \n",
    "    print(\"Adding a less strict approach we have the following:\")\n",
    "    print(dataframe.decision.value_counts())\n",
    "    \n",
    "    dismissed = (dataframe.decision == \"undecided\") & (dataframe[\"Appeal dismissed count\"] > 0)\n",
    "    dataframe.decision[dismissed] = \"affirm\"\n",
    "    \n",
    "    print(\"With dismissed:\")\n",
    "    print(dataframe.decision.value_counts())\n",
    "    \n",
    "#     dataframe.decision[sort_of_affirm] = \"affirm\"\n",
    "#     dataframe.decision[sort_of_reverse] = \"reverse\"\n",
    "    \n",
    "#     undecided_still = dataframe.decision.str.contains(\"undecided\")\n",
    "#     print(\"Decision was not that conclusive couldn't find any keyword :\\n\"\n",
    "#           , undecided_still.value_counts(), \"\\n\")\n",
    "\n",
    "    \n",
    "    \n",
    "    \n",
    "add_status(copy)\n"
   ]
  },
  {
   "cell_type": "markdown",
   "metadata": {},
   "source": [
    "### Expanding on our overturned analysis we will perform a logistic regression on the data. "
   ]
  },
  {
   "cell_type": "code",
   "execution_count": 264,
   "metadata": {},
   "outputs": [
    {
     "name": "stderr",
     "output_type": "stream",
     "text": [
      "/opt/anaconda3/lib/python3.7/site-packages/ipykernel_launcher.py:14: SettingWithCopyWarning: \n",
      "A value is trying to be set on a copy of a slice from a DataFrame\n",
      "\n",
      "See the caveats in the documentation: https://pandas.pydata.org/pandas-docs/stable/user_guide/indexing.html#returning-a-view-versus-a-copy\n",
      "  \n",
      "/opt/anaconda3/lib/python3.7/site-packages/ipykernel_launcher.py:15: SettingWithCopyWarning: \n",
      "A value is trying to be set on a copy of a slice from a DataFrame\n",
      "\n",
      "See the caveats in the documentation: https://pandas.pydata.org/pandas-docs/stable/user_guide/indexing.html#returning-a-view-versus-a-copy\n",
      "  from ipykernel import kernelapp as app\n",
      "/opt/anaconda3/lib/python3.7/site-packages/ipykernel_launcher.py:24: SettingWithCopyWarning: \n",
      "A value is trying to be set on a copy of a slice from a DataFrame\n",
      "\n",
      "See the caveats in the documentation: https://pandas.pydata.org/pandas-docs/stable/user_guide/indexing.html#returning-a-view-versus-a-copy\n",
      "/opt/anaconda3/lib/python3.7/site-packages/ipykernel_launcher.py:25: SettingWithCopyWarning: \n",
      "A value is trying to be set on a copy of a slice from a DataFrame\n",
      "\n",
      "See the caveats in the documentation: https://pandas.pydata.org/pandas-docs/stable/user_guide/indexing.html#returning-a-view-versus-a-copy\n",
      "/opt/anaconda3/lib/python3.7/site-packages/ipykernel_launcher.py:31: SettingWithCopyWarning: \n",
      "A value is trying to be set on a copy of a slice from a DataFrame\n",
      "\n",
      "See the caveats in the documentation: https://pandas.pydata.org/pandas-docs/stable/user_guide/indexing.html#returning-a-view-versus-a-copy\n"
     ]
    },
    {
     "name": "stdout",
     "output_type": "stream",
     "text": [
      "After look for\"we\" keyword, we have the following:\n",
      "undecided    1304\n",
      "affirm       1199\n",
      "reverse       152\n",
      "Name: decision, dtype: int64\n",
      "Adding a less strict approach we have the following:\n",
      "affirm       1199\n",
      "reverse       879\n",
      "undecided     577\n",
      "Name: decision, dtype: int64\n",
      "With dismissed:\n",
      "affirm       1239\n",
      "reverse       879\n",
      "undecided     537\n",
      "Name: decision, dtype: int64\n",
      "After look for\"we\" keyword, we have the following:\n",
      "undecided    1922\n",
      "affirm       1866\n",
      "reverse       568\n",
      "Name: decision, dtype: int64\n",
      "Adding a less strict approach we have the following:\n",
      "affirm       1866\n",
      "reverse      1763\n",
      "undecided     727\n",
      "Name: decision, dtype: int64\n",
      "With dismissed:\n",
      "affirm       1876\n",
      "reverse      1763\n",
      "undecided     717\n",
      "Name: decision, dtype: int64\n"
     ]
    },
    {
     "name": "stderr",
     "output_type": "stream",
     "text": [
      "/opt/anaconda3/lib/python3.7/site-packages/ipykernel_launcher.py:20: SettingWithCopyWarning: \n",
      "A value is trying to be set on a copy of a slice from a DataFrame\n",
      "\n",
      "See the caveats in the documentation: https://pandas.pydata.org/pandas-docs/stable/user_guide/indexing.html#returning-a-view-versus-a-copy\n"
     ]
    },
    {
     "data": {
      "text/plain": [
       "Text(0.5, 1.0, 'Before Logistic Regression')"
      ]
     },
     "execution_count": 264,
     "metadata": {},
     "output_type": "execute_result"
    },
    {
     "data": {
      "image/png": "[encoded data removed]",
      "text/plain": [
       "<Figure size 432x288 with 1 Axes>"
      ]
     },
     "metadata": {},
     "output_type": "display_data"
    }
   ],
   "source": [
    "from sklearn.linear_model import LogisticRegression\n",
    "from sklearn.feature_extraction.text import TfidfVectorizer\n",
    "import pandas as pd\n",
    "\n",
    "# First we do a deep copy of both our sjc and appeals cases and assign as many decisions as we can\n",
    "copy_sjc = all_sjc.copy(deep=True)\n",
    "add_status(copy_sjc)\n",
    "copy_appeals = all_state_appeals.copy(deep=True)\n",
    "add_status(copy_appeals)\n",
    "\n",
    "# now we separate all unlabeled data from our dataframe, all undecided cases.\n",
    "all_cases = copy_sjc.append(copy_appeals)\n",
    "undecided_cases = all_cases.loc[all_cases[\"decision\"] == \"undecided\"]\n",
    "all_cases = all_cases.loc[all_cases[\"decision\"] != \"undecided\"]\n",
    "\n",
    "# We change labels to indeces\n",
    "affirm = (all_cases.decision == \"affirm\")\n",
    "all_cases.decision[affirm] = 1\n",
    "reverse = (all_cases.decision == \"reverse\")\n",
    "all_cases.decision[reverse] = 0\n",
    "\n",
    "\n",
    "# Compile all our text data.\n",
    "str_txt = []\n",
    "text = pd.DataFrame(all_cases[\"text\"])\n",
    "for i in range(len(text.values)):\n",
    "    str_txt.append(text.values[i][0])\n",
    "\n",
    "# Vectorize the text data\n",
    "vectorizer = TfidfVectorizer(stop_words='english',min_df=0.001)\n",
    "vectorizer = vectorizer.fit(str_txt)\n",
    "words = vectorizer.get_feature_names()\n",
    "matrix = vectorizer.transform(str_txt)\n",
    "pd_matrix = pd.DataFrame(matrix.toarray(),columns=words)\n",
    "\n",
    "# plot the results in a pie chart\n",
    "num_affirm = all_cases.loc[all_cases[\"decision\"] == 1]\n",
    "num_reversed = all_cases.loc[all_cases[\"decision\"] == 0]\n",
    "num_undec = undecided_cases\n",
    "plt.pie([len(num_affirm),len(num_reversed),len(num_undec)],labels=[\"affirm\",\"reversed\",\"undecided\"],startangle=90,autopct='%1.1f%%')\n",
    "plt.axis('equal')\n",
    "plt.title(\"Before Logistic Regression\")\n"
   ]
  },
  {
   "cell_type": "code",
   "execution_count": 265,
   "metadata": {},
   "outputs": [
    {
     "name": "stdout",
     "output_type": "stream",
     "text": [
      "       00       000  001  002  003  005  006  007  008  009  ...  zotos  \\\n",
      "0     0.0  0.003021  0.0  0.0  0.0  0.0  0.0  0.0  0.0  0.0  ...    0.0   \n",
      "1     0.0  0.006609  0.0  0.0  0.0  0.0  0.0  0.0  0.0  0.0  ...    0.0   \n",
      "2     0.0  0.000000  0.0  0.0  0.0  0.0  0.0  0.0  0.0  0.0  ...    0.0   \n",
      "3     0.0  0.008929  0.0  0.0  0.0  0.0  0.0  0.0  0.0  0.0  ...    0.0   \n",
      "4     0.0  0.000000  0.0  0.0  0.0  0.0  0.0  0.0  0.0  0.0  ...    0.0   \n",
      "...   ...       ...  ...  ...  ...  ...  ...  ...  ...  ...  ...    ...   \n",
      "5752  0.0  0.000000  0.0  0.0  0.0  0.0  0.0  0.0  0.0  0.0  ...    0.0   \n",
      "5753  0.0  0.000000  0.0  0.0  0.0  0.0  0.0  0.0  0.0  0.0  ...    0.0   \n",
      "5754  0.0  0.000000  0.0  0.0  0.0  0.0  0.0  0.0  0.0  0.0  ...    0.0   \n",
      "5755  0.0  0.000000  0.0  0.0  0.0  0.0  0.0  0.0  0.0  0.0  ...    0.0   \n",
      "5756  0.0  0.000000  0.0  0.0  0.0  0.0  0.0  0.0  0.0  0.0  ...    0.0   \n",
      "\n",
      "      zucco  zuckerman  zukoski  zullo  zuluaga  zurich  zussman  zuzick  zvi  \n",
      "0       0.0        0.0      0.0    0.0      0.0     0.0      0.0     0.0  0.0  \n",
      "1       0.0        0.0      0.0    0.0      0.0     0.0      0.0     0.0  0.0  \n",
      "2       0.0        0.0      0.0    0.0      0.0     0.0      0.0     0.0  0.0  \n",
      "3       0.0        0.0      0.0    0.0      0.0     0.0      0.0     0.0  0.0  \n",
      "4       0.0        0.0      0.0    0.0      0.0     0.0      0.0     0.0  0.0  \n",
      "...     ...        ...      ...    ...      ...     ...      ...     ...  ...  \n",
      "5752    0.0        0.0      0.0    0.0      0.0     0.0      0.0     0.0  0.0  \n",
      "5753    0.0        0.0      0.0    0.0      0.0     0.0      0.0     0.0  0.0  \n",
      "5754    0.0        0.0      0.0    0.0      0.0     0.0      0.0     0.0  0.0  \n",
      "5755    0.0        0.0      0.0    0.0      0.0     0.0      0.0     0.0  0.0  \n",
      "5756    0.0        0.0      0.0    0.0      0.0     0.0      0.0     0.0  0.0  \n",
      "\n",
      "[5757 rows x 24607 columns]\n"
     ]
    }
   ],
   "source": [
    "print(pd_matrix)"
   ]
  },
  {
   "cell_type": "code",
   "execution_count": 195,
   "metadata": {},
   "outputs": [
    {
     "data": {
      "text/plain": [
       "<matplotlib.legend.Legend at 0x1273dc450>"
      ]
     },
     "execution_count": 195,
     "metadata": {},
     "output_type": "execute_result"
    },
    {
     "data": {
      "image/png": "[encoded data removed]",
      "text/plain": [
       "<Figure size 432x288 with 1 Axes>"
      ]
     },
     "metadata": {},
     "output_type": "display_data"
    }
   ],
   "source": [
    "# Relevance to informant search in pie chart\n",
    "affirm_inform = contains(num_affirm,\"confidential informant\", \" ci \", \"snitch\", \"informant\", \"gang informant\")\n",
    "affirm_inform = affirm_inform.loc[affirm_inform==True]\n",
    "reverse_inform = contains(num_reversed,\"confidential informant\", \" ci \", \"snitch\", \"informant\", \"gang informant\")\n",
    "reverse_inform = reverse_inform.loc[reverse_inform==True]\n",
    "undec_inform = contains(num_undec,\"confidential informant\", \" ci \", \"snitch\", \"informant\", \"gang informant\")\n",
    "undec_inform = undec_inform.loc[undec_inform==True]\n",
    "\n",
    "labels=[\"affirmed and informant\",\"reversed and informant\",\"undecided and informant\",\"affirmed not informant\",\"reversed not informant\",\"undecided not informant\"]\n",
    "plt.pie([len(affirm_inform),len(reverse_inform),len(undec_inform),len(num_affirm)-len(affirm_inform),len(num_reversed)-len(reverse_inform),len(num_undec)-len(undec_inform)],labels=labels,startangle=90,autopct=\"%1.0i%%\",explode=(0.3, 0.3,0.3, 0.01, 0.01,0.01),textprops={'size': 'small'})\n",
    "plt.axis('equal')\n",
    "plt.title(\"Before Logistic Regression Separated by Informant Cases\")\n",
    "plt.legend(loc='lower right',bbox_to_anchor=(1, 0, 0.5, 1))"
   ]
  },
  {
   "cell_type": "code",
   "execution_count": 196,
   "metadata": {},
   "outputs": [
    {
     "data": {
      "text/plain": [
       "Text(0.5, 1.0, 'Before Logistic Regression Informant Cases and their Decisions')"
      ]
     },
     "execution_count": 196,
     "metadata": {},
     "output_type": "execute_result"
    },
    {
     "data": {
      "image/png": "[encoded data removed]",
      "text/plain": [
       "<Figure size 432x288 with 1 Axes>"
      ]
     },
     "metadata": {},
     "output_type": "display_data"
    }
   ],
   "source": [
    "# now for only informant cases, what are their decisions\n",
    "plt.pie([len(affirm_inform),len(reverse_inform),len(undec_inform)],labels=[\"from affirmed\",\"from reversed\",\"from undecided\"],startangle=90,autopct=\"%1.0i%%\")\n",
    "plt.axis('equal')\n",
    "plt.title(\"Before Logistic Regression Informant Cases and their Decisions\")"
   ]
  },
  {
   "cell_type": "markdown",
   "metadata": {},
   "source": [
    "### Now we do the logistic regression"
   ]
  },
  {
   "cell_type": "code",
   "execution_count": 266,
   "metadata": {},
   "outputs": [
    {
     "name": "stderr",
     "output_type": "stream",
     "text": [
      "[Parallel(n_jobs=4)]: Using backend ThreadingBackend with 4 concurrent workers.\n"
     ]
    },
    {
     "name": "stdout",
     "output_type": "stream",
     "text": [
      "convergence after 34 epochs took 41 seconds\n"
     ]
    },
    {
     "name": "stderr",
     "output_type": "stream",
     "text": [
      "[Parallel(n_jobs=4)]: Done   1 out of   1 | elapsed:   40.7s finished\n"
     ]
    }
   ],
   "source": [
    "# Perform Logistic Regression\n",
    "logreg = LogisticRegression(verbose=1,solver=\"sag\", n_jobs=4).fit(pd_matrix,list(all_cases[\"decision\"]))"
   ]
  },
  {
   "cell_type": "code",
   "execution_count": 267,
   "metadata": {},
   "outputs": [
    {
     "data": {
      "text/plain": [
       "0.8412367552544728"
      ]
     },
     "execution_count": 267,
     "metadata": {},
     "output_type": "execute_result"
    }
   ],
   "source": [
    "#logistic regression training accuracy 86%\n",
    "logreg.score(pd_matrix,list(all_cases[\"decision\"]))"
   ]
  },
  {
   "cell_type": "code",
   "execution_count": 296,
   "metadata": {
    "scrolled": true
   },
   "outputs": [
    {
     "name": "stdout",
     "output_type": "stream",
     "text": [
      "reversed      -2.491500\n",
      "reverse       -2.369554\n",
      "remanded      -1.871203\n",
      "complainant   -1.644267\n",
      "ordered       -1.376633\n",
      "proceedings   -1.359415\n",
      "question      -1.252139\n",
      "officer       -1.190199\n",
      "case          -1.157154\n",
      "remand        -1.145449\n",
      "note          -1.139534\n",
      "williams      -1.124071\n",
      "appellate     -1.085217\n",
      "presentment   -1.071989\n",
      "self          -1.039116\n",
      "aside         -1.025267\n",
      "retrial       -1.019293\n",
      "richard       -0.994006\n",
      "crab          -0.970109\n",
      "seller        -0.968076\n",
      "Name: 0, dtype: float64\n",
      "\n",
      "failed           0.964407\n",
      "denying          1.160609\n",
      "jury             1.162739\n",
      "denied           1.172361\n",
      "victim           1.205916\n",
      "title            1.241139\n",
      "single           1.251117\n",
      "contributions    1.278954\n",
      "abuse            1.303382\n",
      "33e              1.312791\n",
      "claim            1.326886\n",
      "murder           1.349380\n",
      "argues           1.361432\n",
      "discretion       1.403535\n",
      "relief           1.442526\n",
      "justice          1.456505\n",
      "claims           1.529959\n",
      "petition         1.813208\n",
      "211              2.208358\n",
      "affirm           6.028632\n",
      "Name: 0, dtype: float64\n"
     ]
    },
    {
     "data": {
      "text/plain": [
       "24607"
      ]
     },
     "execution_count": 296,
     "metadata": {},
     "output_type": "execute_result"
    }
   ],
   "source": [
    "# Here we evaluate the relative importance of each word to the prediction of the logistic regression\n",
    "# The more a word has a negative coefficient, the more important it is for the algorithm to predict it as reversed.\n",
    "# The more a word has a positive coefficient, the more important it is for the algorithm to predict it as affirmed.\n",
    "importance = pd.DataFrame(logreg.coef_,columns=pd_matrix.columns)\n",
    "importance = pd.Series(importance.transpose()[0])\n",
    "importance = importance.sort_values()\n",
    "print(importance[:20])\n",
    "print()\n",
    "print(importance[-20:])\n",
    "len(importance)\n"
   ]
  },
  {
   "cell_type": "code",
   "execution_count": 197,
   "metadata": {},
   "outputs": [
    {
     "name": "stdout",
     "output_type": "stream",
     "text": [
      "433\n",
      "[0 0 0 1 0 1 0 1 0 0 1 1 1 0 1 0 1 0 0 1 0 0 0 0 1 0 0 0 0 1 0 0 0 1 1 0 0\n",
      " 1 1 0 1 1 0 0 0 0 1 0 1 1 1 0 0 1 1 1 0 0 1 1 1 1 0 1 0 1 1 1 1 0 0 1 0 1\n",
      " 1 0 0 1 0 0 0 1 0 0 1 0 1 1 0 0 0 0 1 0 0 0 0 0 1 1 1 0 1 1 0 1 0 0 0 0 0\n",
      " 0 1 1 0 0 0 0 1 1 0 0 0 1 0 0 0 0 1 0 0 0 0 0 0 1 0 0 0 0 0 1 0 1 0 0 0 1\n",
      " 1 1 0 1 1 0 0 0 0 1 0 0 0 1 0 0 0 1 1 1 0 0 1 0 0 1 0 0 0 0 0 0 1 0 0 0 1\n",
      " 0 0 0 0 0 0 0 0 1 0 1 1 0 1 1 0 0 1 0 0 1 1 1 0 0 0 0 0 1 0 0 0 0 0 1 0 1\n",
      " 0 0 0 1 0 1 0 0 0 0 0 0 0 1 1 0 0 0 0 1 0 0 1 0 1 0 0 0 0 0 0 0 0 0 0 0 1\n",
      " 1 1 1 0 0 1 0 1 1 0 0 0 0 0 0 1 0 1 0 0 0 0 0 0 0 1 0 0 1 0 0 1 0 1 0 0 1\n",
      " 1 0 1 0 0 0 0 1 0 0 0 0 0 0 0 0 1 1 0 1 0 0 0 0 0 0 0 0 0 0 0 0 1 1 1 0 0\n",
      " 0 0 0 0 1 0 0 0 1 0 0 1 0 0 0 0 1 1 1 1 1 0 0 0 0 1 0 1 1 0 0 0 0 0 0 0 0\n",
      " 0 0 1 0 0 1 1 0 0 1 0 0 0 1 1 1 0 0 0 1 1 0 0 0 1 0 0 0 0 0 0 0 0 0 0 0 0\n",
      " 0 0 1 1 0 1 0 0 0 0 0 0 0 0 1 0 0 0 0 0 0 0 0 0 0 0 0 0 0 0 0 0 1 0 0 0 0\n",
      " 0 0 0 1 0 0 0 0 0 0 0 0 1 0 0 0 0 0 0 0 1 0 0 0 0 0 1 0 0 0 0 0 0 0 0 0 0\n",
      " 0 1 0 0 0 0 0 0 0 0 0 1 0 0 0 1 0 0 0 0 0 0 0 0 0 0 0 0 0 0 0 0 0 0 0 1 0\n",
      " 0 1 0 0 0 1 0 0 0 0 0 0 1 0 1 0 0 0 0 1 1 1 0 1 1 1 1 0 1 0 1 0 0 0 1 1 0\n",
      " 1 1 1 0 1 1 0 0 0 1 1 0 0 0 1 0 1 0 0 1 0 0 1 0 1 0 0 1 0 0 1 0 1 1 1 1 1\n",
      " 0 0 1 0 1 1 0 0 1 0 0 1 0 0 0 1 1 1 1 1 1 1 1 1 1 1 1 0 0 0 0 1 1 0 0 0 0\n",
      " 0 1 1 0 0 0 0 0 1 0 0 1 1 1 1 1 1 0 1 1 1 1 0 0 1 0 1 1 0 0 1 0 1 1 0 0 0\n",
      " 0 1 1 1 1 0 1 1 1 0 0 1 0 0 0 0 0 1 0 0 0 1 0 1 1 1 0 0 0 1 0 1 0 0 1 0 1\n",
      " 0 1 0 1 1 0 0 1 1 0 1 1 0 1 0 0 1 0 1 0 1 1 0 1 0 1 1 0 0 0 1 0 1 0 0 0 0\n",
      " 0 0 1 0 1 0 0 0 1 0 0 0 1 0 0 0 0 1 1 1 0 0 1 1 1 0 0 0 1 1 0 1 0 0 0 0 1\n",
      " 0 1 0 0 0 0 0 0 0 0 0 1 0 0 1 0 0 0 0 1 0 1 1 0 0 0 0 0 1 0 0 0 0 0 0 1 0\n",
      " 1 1 0 0 0 0 0 0 1 0 1 1 1 1 0 0 0 1 0 1 0 0 0 0 0 0 0 0 0 1 0 0 1 1 1 0 1\n",
      " 0 0 0 0 0 1 0 0 0 0 0 1 1 0 1 1 1 0 0 1 1 1 1 1 0 0 0 0 0 0 1 0 0 1 0 1 0\n",
      " 1 0 0 0 0 0 1 0 0 1 0 0 0 0 0 0 0 1 0 0 0 1 1 0 1 0 0 1 0 0 0 0 0 0 1 0 1\n",
      " 0 1 1 0 0 0 1 0 0 1 0 1 0 1 0 0 0 0 0 1 1 1 1 1 0 1 0 1 0 1 0 1 0 1 1 0 0\n",
      " 0 0 0 0 0 1 0 0 0 1 0 0 1 1 0 0 0 0 0 0 0 0 1 0 1 0 1 0 0 1 0 0 0 0 0 0 0\n",
      " 1]\n",
      "1254\n"
     ]
    }
   ],
   "source": [
    "# Now we label the unlabeled data with the model we created\n",
    "# Starting by vectorizing it\n",
    "undecided_matrix = vectorizer.transform(undecided_cases[\"text\"].values)\n",
    "undecided_df = pd.DataFrame(undecided_matrix.toarray())\n",
    "\n",
    "# And using our model to predict the labels\n",
    "predictions = logreg.predict(undecided_df)\n",
    "num1 = sum(predictions)\n",
    "print(num1)\n",
    "print(predictions[0:1000])\n",
    "print(len(undecided_cases))\n",
    "\n",
    "# After our prediction we reintroduce the undecided cases to the dataset with their prediction. \n",
    "undecided_cases[\"decision\"] = predictions\n",
    "all_cases = all_cases.append(undecided_cases, ignore_index=True)\n"
   ]
  },
  {
   "cell_type": "code",
   "execution_count": 47,
   "metadata": {},
   "outputs": [
    {
     "name": "stderr",
     "output_type": "stream",
     "text": [
      "[Parallel(n_jobs=4)]: Using backend ThreadingBackend with 4 concurrent workers.\n"
     ]
    },
    {
     "name": "stdout",
     "output_type": "stream",
     "text": [
      "convergence after 27 epochs took 3 seconds\n"
     ]
    },
    {
     "name": "stderr",
     "output_type": "stream",
     "text": [
      "[Parallel(n_jobs=4)]: Done   1 out of   1 | elapsed:    2.7s finished\n",
      "[Parallel(n_jobs=4)]: Using backend ThreadingBackend with 4 concurrent workers.\n"
     ]
    },
    {
     "name": "stdout",
     "output_type": "stream",
     "text": [
      "convergence after 30 epochs took 15 seconds\n"
     ]
    },
    {
     "name": "stderr",
     "output_type": "stream",
     "text": [
      "[Parallel(n_jobs=4)]: Done   1 out of   1 | elapsed:   15.4s finished\n",
      "[Parallel(n_jobs=4)]: Using backend ThreadingBackend with 4 concurrent workers.\n"
     ]
    },
    {
     "name": "stdout",
     "output_type": "stream",
     "text": [
      "convergence after 34 epochs took 47 seconds\n"
     ]
    },
    {
     "name": "stderr",
     "output_type": "stream",
     "text": [
      "[Parallel(n_jobs=4)]: Done   1 out of   1 | elapsed:   46.1s finished\n",
      "[Parallel(n_jobs=4)]: Using backend ThreadingBackend with 4 concurrent workers.\n"
     ]
    },
    {
     "name": "stdout",
     "output_type": "stream",
     "text": [
      "convergence after 35 epochs took 167 seconds\n"
     ]
    },
    {
     "name": "stderr",
     "output_type": "stream",
     "text": [
      "[Parallel(n_jobs=4)]: Done   1 out of   1 | elapsed:  2.8min finished\n",
      "[Parallel(n_jobs=4)]: Using backend ThreadingBackend with 4 concurrent workers.\n"
     ]
    },
    {
     "name": "stdout",
     "output_type": "stream",
     "text": [
      "convergence after 30 epochs took 141 seconds\n"
     ]
    },
    {
     "name": "stderr",
     "output_type": "stream",
     "text": [
      "[Parallel(n_jobs=4)]: Done   1 out of   1 | elapsed:  2.3min finished\n"
     ]
    }
   ],
   "source": [
    "scores = []\n",
    "num_affirm = [] \n",
    "for i in range(1,6):\n",
    "    vectorizer = TfidfVectorizer(stop_words='english',min_df=(0.1)**i)\n",
    "    vectorizer = vectorizer.fit(str_txt)\n",
    "    matrix = vectorizer.transform(str_txt)\n",
    "    pd_matrix = pd.DataFrame(matrix.toarray())\n",
    "    \n",
    "    # Perform Logistic Regression\n",
    "    logreg = LogisticRegression(verbose=1,solver=\"sag\",n_jobs=4).fit(pd_matrix,list(all_cases[\"decision\"]))\n",
    "    \n",
    "    #logistic regression training accuracy%\n",
    "    scores.append(logreg.score(pd_matrix,list(all_cases[\"decision\"])))\n",
    "    \n",
    "    # Now we label the unlabeled data with the model we created\n",
    "    # Starting by vectorizing it\n",
    "    undecided_matrix = vectorizer.transform(undecided_cases[\"text\"].values)\n",
    "    undecided_df = pd.DataFrame(undecided_matrix.toarray())\n",
    "\n",
    "    # And using our model to predict the labels\n",
    "    predictions = logreg.predict(undecided_df)\n",
    "    num1 = sum(predictions)\n",
    "    num_affirm.append(num1)\n"
   ]
  },
  {
   "cell_type": "code",
   "execution_count": 50,
   "metadata": {},
   "outputs": [
    {
     "data": {
      "text/plain": [
       "Text(0.5, 1.0, 'Training Accuracy with multiple vectorizations')"
      ]
     },
     "execution_count": 50,
     "metadata": {},
     "output_type": "execute_result"
    },
    {
     "data": {
      "image/png": "[encoded data removed]",
      "text/plain": [
       "<Figure size 432x288 with 1 Axes>"
      ]
     },
     "metadata": {
      "needs_background": "light"
     },
     "output_type": "display_data"
    }
   ],
   "source": [
    "import matplotlib.pyplot as plt\n",
    "x = 0.1**np.asarray(range(1,6))\n",
    "plt.semilogx(x,scores)\n",
    "plt.xlabel(\"min_df\")\n",
    "plt.ylabel(\"accuracy\")\n",
    "plt.title(\"Training Accuracy with multiple vectorizations\")"
   ]
  },
  {
   "cell_type": "code",
   "execution_count": 51,
   "metadata": {},
   "outputs": [
    {
     "data": {
      "text/plain": [
       "Text(0.5, 1.0, 'Percentage of affirmed cases with multiple vectorizations')"
      ]
     },
     "execution_count": 51,
     "metadata": {},
     "output_type": "execute_result"
    },
    {
     "data": {
      "image/png": "[encoded data removed]",
      "text/plain": [
       "<Figure size 432x288 with 1 Axes>"
      ]
     },
     "metadata": {
      "needs_background": "light"
     },
     "output_type": "display_data"
    }
   ],
   "source": [
    "x = 0.1**np.asarray(range(1,6))\n",
    "plt.semilogx(x,np.asarray(num_affirm)/len(predictions))\n",
    "plt.xlabel(\"min_df\")\n",
    "plt.ylabel(\"ratio of affirmed case predictions\")\n",
    "plt.title(\"Percentage of affirmed cases with multiple vectorizations\")"
   ]
  },
  {
   "cell_type": "code",
   "execution_count": 128,
   "metadata": {},
   "outputs": [
    {
     "data": {
      "text/plain": [
       "Text(0.5, 1.0, 'After Logistic Regression')"
      ]
     },
     "execution_count": 128,
     "metadata": {},
     "output_type": "execute_result"
    },
    {
     "data": {
      "image/png": "[encoded data removed]",
      "text/plain": [
       "<Figure size 432x288 with 1 Axes>"
      ]
     },
     "metadata": {},
     "output_type": "display_data"
    }
   ],
   "source": [
    "num_affirm = all_cases.loc[all_cases[\"decision\"] == 1]\n",
    "num_reversed = all_cases.loc[all_cases[\"decision\"] == 0]\n",
    "plt.pie([len(num_affirm),len(num_reversed)],labels=[\"affirm\",\"reversed\"],startangle=90,autopct='%1.1f%%')\n",
    "plt.axis('equal')\n",
    "plt.title(\"After Logistic Regression\")\n"
   ]
  },
  {
   "cell_type": "code",
   "execution_count": 182,
   "metadata": {},
   "outputs": [
    {
     "data": {
      "text/plain": [
       "<matplotlib.legend.Legend at 0x1a2f239b50>"
      ]
     },
     "execution_count": 182,
     "metadata": {},
     "output_type": "execute_result"
    },
    {
     "data": {
      "image/png": "[encoded data removed]",
      "text/plain": [
       "<Figure size 432x288 with 1 Axes>"
      ]
     },
     "metadata": {},
     "output_type": "display_data"
    }
   ],
   "source": [
    "important_keywords = [\"confidential informant\", \" ci \", \"snitch\", \"informant\", \"gang informant\"]\n",
    "affirm_inform = contains(num_affirm,\"confidential informant\", \" ci \", \"snitch\", \"informant\", \"gang informant\")\n",
    "affirm_inform = affirm_inform.loc[affirm_inform==True]\n",
    "reverse_inform = contains(num_reversed,\"confidential informant\", \" ci \", \"snitch\", \"informant\", \"gang informant\")\n",
    "reverse_inform = reverse_inform.loc[reverse_inform==True]\n",
    "labels=[\"affirmed and informant\",\"reversed and informant\",\"affirmed not informant\",\"reversed not informant\"]\n",
    "plt.pie([len(affirm_inform),len(reverse_inform),len(num_affirm)-len(affirm_inform),len(num_reversed)-len(reverse_inform)],labels=labels,startangle=90,autopct=\"%1.0i%%\",explode=(0.3, 0.3, 0.01, 0.01),textprops={'size': 'small'})\n",
    "plt.axis('equal')\n",
    "plt.title(\"After Logistic Regression Separated by Informant Cases\")\n",
    "plt.legend(loc='lower right',bbox_to_anchor=(1, 0, 0.5, 1))\n"
   ]
  },
  {
   "cell_type": "code",
   "execution_count": 192,
   "metadata": {},
   "outputs": [
    {
     "data": {
      "text/plain": [
       "Text(0.5, 1.0, 'After Logistic Regression Informant Cases and their Decisions')"
      ]
     },
     "execution_count": 192,
     "metadata": {},
     "output_type": "execute_result"
    },
    {
     "data": {
      "image/png": "[encoded data removed]",
      "text/plain": [
       "<Figure size 432x288 with 1 Axes>"
      ]
     },
     "metadata": {},
     "output_type": "display_data"
    }
   ],
   "source": [
    "plt.pie([len(affirm_inform),len(reverse_inform)],labels=[\"from affirmed\",\"from reversed\"],startangle=90,autopct=\"%1.0i%%\")\n",
    "plt.axis('equal')\n",
    "plt.title(\"After Logistic Regression Informant Cases and their Decisions\")"
   ]
  },
  {
   "cell_type": "markdown",
   "metadata": {},
   "source": [
    "### searching for total number (using all_cases now)"
   ]
  },
  {
   "cell_type": "code",
   "execution_count": 68,
   "metadata": {},
   "outputs": [
    {
     "name": "stdout",
     "output_type": "stream",
     "text": [
      "total number of cases was:  7011\n"
     ]
    }
   ],
   "source": [
    "print(\"total number of cases was: \",len(all_sjc) +len(all_state_appeals) )"
   ]
  },
  {
   "cell_type": "code",
   "execution_count": 72,
   "metadata": {},
   "outputs": [
    {
     "ename": "KeyError",
     "evalue": "0",
     "output_type": "error",
     "traceback": [
      "\u001b[0;31m---------------------------------------------------------------------------\u001b[0m",
      "\u001b[0;31mKeyError\u001b[0m                                  Traceback (most recent call last)",
      "\u001b[0;32m/opt/anaconda3/lib/python3.7/site-packages/pandas/core/indexes/base.py\u001b[0m in \u001b[0;36mget_loc\u001b[0;34m(self, key, method, tolerance)\u001b[0m\n\u001b[1;32m   2645\u001b[0m             \u001b[0;32mtry\u001b[0m\u001b[0;34m:\u001b[0m\u001b[0;34m\u001b[0m\u001b[0;34m\u001b[0m\u001b[0m\n\u001b[0;32m-> 2646\u001b[0;31m                 \u001b[0;32mreturn\u001b[0m \u001b[0mself\u001b[0m\u001b[0;34m.\u001b[0m\u001b[0m_engine\u001b[0m\u001b[0;34m.\u001b[0m\u001b[0mget_loc\u001b[0m\u001b[0;34m(\u001b[0m\u001b[0mkey\u001b[0m\u001b[0;34m)\u001b[0m\u001b[0;34m\u001b[0m\u001b[0;34m\u001b[0m\u001b[0m\n\u001b[0m\u001b[1;32m   2647\u001b[0m             \u001b[0;32mexcept\u001b[0m \u001b[0mKeyError\u001b[0m\u001b[0;34m:\u001b[0m\u001b[0;34m\u001b[0m\u001b[0;34m\u001b[0m\u001b[0m\n",
      "\u001b[0;32mpandas/_libs/index.pyx\u001b[0m in \u001b[0;36mpandas._libs.index.IndexEngine.get_loc\u001b[0;34m()\u001b[0m\n",
      "\u001b[0;32mpandas/_libs/index.pyx\u001b[0m in \u001b[0;36mpandas._libs.index.IndexEngine.get_loc\u001b[0;34m()\u001b[0m\n",
      "\u001b[0;32mpandas/_libs/hashtable_class_helper.pxi\u001b[0m in \u001b[0;36mpandas._libs.hashtable.PyObjectHashTable.get_item\u001b[0;34m()\u001b[0m\n",
      "\u001b[0;32mpandas/_libs/hashtable_class_helper.pxi\u001b[0m in \u001b[0;36mpandas._libs.hashtable.PyObjectHashTable.get_item\u001b[0;34m()\u001b[0m\n",
      "\u001b[0;31mKeyError\u001b[0m: 0",
      "\nDuring handling of the above exception, another exception occurred:\n",
      "\u001b[0;31mKeyError\u001b[0m                                  Traceback (most recent call last)",
      "\u001b[0;32m<ipython-input-72-3e42a16a92ff>\u001b[0m in \u001b[0;36m<module>\u001b[0;34m\u001b[0m\n\u001b[0;32m----> 1\u001b[0;31m \u001b[0mresult\u001b[0m \u001b[0;34m=\u001b[0m \u001b[0mlen\u001b[0m\u001b[0;34m(\u001b[0m\u001b[0mnumber_of_cases_per_keywords\u001b[0m\u001b[0;34m(\u001b[0m\u001b[0mall_sjc\u001b[0m\u001b[0;34m,\u001b[0m\u001b[0mimportant_keywords\u001b[0m\u001b[0;34m)\u001b[0m\u001b[0;34m)\u001b[0m \u001b[0;34m+\u001b[0m \u001b[0mlen\u001b[0m\u001b[0;34m(\u001b[0m\u001b[0mnumber_of_cases_per_keywords\u001b[0m\u001b[0;34m(\u001b[0m\u001b[0mall_state_appeals\u001b[0m\u001b[0;34m,\u001b[0m\u001b[0mimportant_keywords\u001b[0m\u001b[0;34m)\u001b[0m\u001b[0;34m)\u001b[0m\u001b[0;34m\u001b[0m\u001b[0;34m\u001b[0m\u001b[0m\n\u001b[0m\u001b[1;32m      2\u001b[0m \u001b[0mprint\u001b[0m\u001b[0;34m(\u001b[0m\u001b[0mresult\u001b[0m\u001b[0;34m)\u001b[0m\u001b[0;34m\u001b[0m\u001b[0;34m\u001b[0m\u001b[0m\n",
      "\u001b[0;32m<ipython-input-4-00429d9fde98>\u001b[0m in \u001b[0;36mnumber_of_cases_per_keywords\u001b[0;34m(case_data, list_of_keywords)\u001b[0m\n\u001b[1;32m      7\u001b[0m     \u001b[0;32mfor\u001b[0m \u001b[0mkeyword\u001b[0m \u001b[0;32min\u001b[0m \u001b[0mlist_of_keywords\u001b[0m\u001b[0;34m:\u001b[0m\u001b[0;34m\u001b[0m\u001b[0;34m\u001b[0m\u001b[0m\n\u001b[1;32m      8\u001b[0m         \u001b[0mall_with_keyword\u001b[0m \u001b[0;34m=\u001b[0m \u001b[0mset\u001b[0m\u001b[0;34m(\u001b[0m\u001b[0;34m)\u001b[0m\u001b[0;34m\u001b[0m\u001b[0;34m\u001b[0m\u001b[0m\n\u001b[0;32m----> 9\u001b[0;31m         \u001b[0mall_in_text\u001b[0m \u001b[0;34m=\u001b[0m \u001b[0mfind_in_text\u001b[0m\u001b[0;34m(\u001b[0m\u001b[0mcase_data\u001b[0m\u001b[0;34m,\u001b[0m \u001b[0mkeyword\u001b[0m\u001b[0;34m)\u001b[0m\u001b[0;34m\u001b[0m\u001b[0;34m\u001b[0m\u001b[0m\n\u001b[0m\u001b[1;32m     10\u001b[0m         \u001b[0mall_in_headnote\u001b[0m \u001b[0;34m=\u001b[0m \u001b[0mfind_in_headnote\u001b[0m\u001b[0;34m(\u001b[0m\u001b[0mcase_data\u001b[0m\u001b[0;34m,\u001b[0m \u001b[0mkeyword\u001b[0m\u001b[0;34m)\u001b[0m\u001b[0;34m\u001b[0m\u001b[0;34m\u001b[0m\u001b[0m\n\u001b[1;32m     11\u001b[0m         \u001b[0;32mfor\u001b[0m \u001b[0moccurence\u001b[0m \u001b[0;32min\u001b[0m \u001b[0mall_in_text\u001b[0m\u001b[0;34m:\u001b[0m\u001b[0;34m\u001b[0m\u001b[0;34m\u001b[0m\u001b[0m\n",
      "\u001b[0;32m<ipython-input-2-42f7b64bd6d9>\u001b[0m in \u001b[0;36mfind_in_text\u001b[0;34m(case_data, phrase)\u001b[0m\n\u001b[1;32m      4\u001b[0m     \u001b[0;32mfor\u001b[0m \u001b[0mcase\u001b[0m \u001b[0;32min\u001b[0m \u001b[0mrange\u001b[0m\u001b[0;34m(\u001b[0m\u001b[0mlen\u001b[0m\u001b[0;34m(\u001b[0m\u001b[0mcase_data\u001b[0m\u001b[0;34m)\u001b[0m\u001b[0;34m)\u001b[0m\u001b[0;34m:\u001b[0m\u001b[0;34m\u001b[0m\u001b[0;34m\u001b[0m\u001b[0m\n\u001b[1;32m      5\u001b[0m         \u001b[0mplace_found\u001b[0m \u001b[0;34m=\u001b[0m \u001b[0;34m[\u001b[0m\u001b[0;34m]\u001b[0m\u001b[0;34m\u001b[0m\u001b[0;34m\u001b[0m\u001b[0m\n\u001b[0;32m----> 6\u001b[0;31m         \u001b[0;32mfor\u001b[0m \u001b[0mi\u001b[0m \u001b[0;32min\u001b[0m \u001b[0mrange\u001b[0m\u001b[0;34m(\u001b[0m\u001b[0mlen\u001b[0m\u001b[0;34m(\u001b[0m\u001b[0mcase_data\u001b[0m\u001b[0;34m[\u001b[0m\u001b[0mcase\u001b[0m\u001b[0;34m]\u001b[0m\u001b[0;34m[\u001b[0m\u001b[0;34m\"text\"\u001b[0m\u001b[0;34m]\u001b[0m\u001b[0;34m)\u001b[0m\u001b[0;34m)\u001b[0m\u001b[0;34m:\u001b[0m\u001b[0;34m\u001b[0m\u001b[0;34m\u001b[0m\u001b[0m\n\u001b[0m\u001b[1;32m      7\u001b[0m             \u001b[0;32mif\u001b[0m \u001b[0mcase_data\u001b[0m\u001b[0;34m[\u001b[0m\u001b[0mcase\u001b[0m\u001b[0;34m]\u001b[0m\u001b[0;34m[\u001b[0m\u001b[0;34m\"text\"\u001b[0m\u001b[0;34m]\u001b[0m\u001b[0;34m[\u001b[0m\u001b[0mi\u001b[0m\u001b[0;34m]\u001b[0m\u001b[0;34m.\u001b[0m\u001b[0mlower\u001b[0m\u001b[0;34m(\u001b[0m\u001b[0;34m)\u001b[0m\u001b[0;34m.\u001b[0m\u001b[0mfind\u001b[0m\u001b[0;34m(\u001b[0m\u001b[0mphrase\u001b[0m\u001b[0;34m.\u001b[0m\u001b[0mlower\u001b[0m\u001b[0;34m(\u001b[0m\u001b[0;34m)\u001b[0m\u001b[0;34m)\u001b[0m \u001b[0;34m!=\u001b[0m \u001b[0;34m-\u001b[0m\u001b[0;36m1\u001b[0m\u001b[0;34m:\u001b[0m\u001b[0;34m\u001b[0m\u001b[0;34m\u001b[0m\u001b[0m\n\u001b[1;32m      8\u001b[0m                 \u001b[0mplace_found\u001b[0m\u001b[0;34m.\u001b[0m\u001b[0mappend\u001b[0m\u001b[0;34m(\u001b[0m\u001b[0mi\u001b[0m\u001b[0;34m)\u001b[0m\u001b[0;34m\u001b[0m\u001b[0;34m\u001b[0m\u001b[0m\n",
      "\u001b[0;32m/opt/anaconda3/lib/python3.7/site-packages/pandas/core/frame.py\u001b[0m in \u001b[0;36m__getitem__\u001b[0;34m(self, key)\u001b[0m\n\u001b[1;32m   2798\u001b[0m             \u001b[0;32mif\u001b[0m \u001b[0mself\u001b[0m\u001b[0;34m.\u001b[0m\u001b[0mcolumns\u001b[0m\u001b[0;34m.\u001b[0m\u001b[0mnlevels\u001b[0m \u001b[0;34m>\u001b[0m \u001b[0;36m1\u001b[0m\u001b[0;34m:\u001b[0m\u001b[0;34m\u001b[0m\u001b[0;34m\u001b[0m\u001b[0m\n\u001b[1;32m   2799\u001b[0m                 \u001b[0;32mreturn\u001b[0m \u001b[0mself\u001b[0m\u001b[0;34m.\u001b[0m\u001b[0m_getitem_multilevel\u001b[0m\u001b[0;34m(\u001b[0m\u001b[0mkey\u001b[0m\u001b[0;34m)\u001b[0m\u001b[0;34m\u001b[0m\u001b[0;34m\u001b[0m\u001b[0m\n\u001b[0;32m-> 2800\u001b[0;31m             \u001b[0mindexer\u001b[0m \u001b[0;34m=\u001b[0m \u001b[0mself\u001b[0m\u001b[0;34m.\u001b[0m\u001b[0mcolumns\u001b[0m\u001b[0;34m.\u001b[0m\u001b[0mget_loc\u001b[0m\u001b[0;34m(\u001b[0m\u001b[0mkey\u001b[0m\u001b[0;34m)\u001b[0m\u001b[0;34m\u001b[0m\u001b[0;34m\u001b[0m\u001b[0m\n\u001b[0m\u001b[1;32m   2801\u001b[0m             \u001b[0;32mif\u001b[0m \u001b[0mis_integer\u001b[0m\u001b[0;34m(\u001b[0m\u001b[0mindexer\u001b[0m\u001b[0;34m)\u001b[0m\u001b[0;34m:\u001b[0m\u001b[0;34m\u001b[0m\u001b[0;34m\u001b[0m\u001b[0m\n\u001b[1;32m   2802\u001b[0m                 \u001b[0mindexer\u001b[0m \u001b[0;34m=\u001b[0m \u001b[0;34m[\u001b[0m\u001b[0mindexer\u001b[0m\u001b[0;34m]\u001b[0m\u001b[0;34m\u001b[0m\u001b[0;34m\u001b[0m\u001b[0m\n",
      "\u001b[0;32m/opt/anaconda3/lib/python3.7/site-packages/pandas/core/indexes/base.py\u001b[0m in \u001b[0;36mget_loc\u001b[0;34m(self, key, method, tolerance)\u001b[0m\n\u001b[1;32m   2646\u001b[0m                 \u001b[0;32mreturn\u001b[0m \u001b[0mself\u001b[0m\u001b[0;34m.\u001b[0m\u001b[0m_engine\u001b[0m\u001b[0;34m.\u001b[0m\u001b[0mget_loc\u001b[0m\u001b[0;34m(\u001b[0m\u001b[0mkey\u001b[0m\u001b[0;34m)\u001b[0m\u001b[0;34m\u001b[0m\u001b[0;34m\u001b[0m\u001b[0m\n\u001b[1;32m   2647\u001b[0m             \u001b[0;32mexcept\u001b[0m \u001b[0mKeyError\u001b[0m\u001b[0;34m:\u001b[0m\u001b[0;34m\u001b[0m\u001b[0;34m\u001b[0m\u001b[0m\n\u001b[0;32m-> 2648\u001b[0;31m                 \u001b[0;32mreturn\u001b[0m \u001b[0mself\u001b[0m\u001b[0;34m.\u001b[0m\u001b[0m_engine\u001b[0m\u001b[0;34m.\u001b[0m\u001b[0mget_loc\u001b[0m\u001b[0;34m(\u001b[0m\u001b[0mself\u001b[0m\u001b[0;34m.\u001b[0m\u001b[0m_maybe_cast_indexer\u001b[0m\u001b[0;34m(\u001b[0m\u001b[0mkey\u001b[0m\u001b[0;34m)\u001b[0m\u001b[0;34m)\u001b[0m\u001b[0;34m\u001b[0m\u001b[0;34m\u001b[0m\u001b[0m\n\u001b[0m\u001b[1;32m   2649\u001b[0m         \u001b[0mindexer\u001b[0m \u001b[0;34m=\u001b[0m \u001b[0mself\u001b[0m\u001b[0;34m.\u001b[0m\u001b[0mget_indexer\u001b[0m\u001b[0;34m(\u001b[0m\u001b[0;34m[\u001b[0m\u001b[0mkey\u001b[0m\u001b[0;34m]\u001b[0m\u001b[0;34m,\u001b[0m \u001b[0mmethod\u001b[0m\u001b[0;34m=\u001b[0m\u001b[0mmethod\u001b[0m\u001b[0;34m,\u001b[0m \u001b[0mtolerance\u001b[0m\u001b[0;34m=\u001b[0m\u001b[0mtolerance\u001b[0m\u001b[0;34m)\u001b[0m\u001b[0;34m\u001b[0m\u001b[0;34m\u001b[0m\u001b[0m\n\u001b[1;32m   2650\u001b[0m         \u001b[0;32mif\u001b[0m \u001b[0mindexer\u001b[0m\u001b[0;34m.\u001b[0m\u001b[0mndim\u001b[0m \u001b[0;34m>\u001b[0m \u001b[0;36m1\u001b[0m \u001b[0;32mor\u001b[0m \u001b[0mindexer\u001b[0m\u001b[0;34m.\u001b[0m\u001b[0msize\u001b[0m \u001b[0;34m>\u001b[0m \u001b[0;36m1\u001b[0m\u001b[0;34m:\u001b[0m\u001b[0;34m\u001b[0m\u001b[0;34m\u001b[0m\u001b[0m\n",
      "\u001b[0;32mpandas/_libs/index.pyx\u001b[0m in \u001b[0;36mpandas._libs.index.IndexEngine.get_loc\u001b[0;34m()\u001b[0m\n",
      "\u001b[0;32mpandas/_libs/index.pyx\u001b[0m in \u001b[0;36mpandas._libs.index.IndexEngine.get_loc\u001b[0;34m()\u001b[0m\n",
      "\u001b[0;32mpandas/_libs/hashtable_class_helper.pxi\u001b[0m in \u001b[0;36mpandas._libs.hashtable.PyObjectHashTable.get_item\u001b[0;34m()\u001b[0m\n",
      "\u001b[0;32mpandas/_libs/hashtable_class_helper.pxi\u001b[0m in \u001b[0;36mpandas._libs.hashtable.PyObjectHashTable.get_item\u001b[0;34m()\u001b[0m\n",
      "\u001b[0;31mKeyError\u001b[0m: 0"
     ]
    }
   ],
   "source": [
    "result = len(number_of_cases_per_keywords(all_sjc,important_keywords)) + len(number_of_cases_per_keywords(all_state_appeals,important_keywords))\n",
    "print(result)"
   ]
  },
  {
   "cell_type": "code",
   "execution_count": null,
   "metadata": {},
   "outputs": [],
   "source": []
  },
  {
   "cell_type": "code",
   "execution_count": 67,
   "metadata": {},
   "outputs": [
    {
     "ename": "NameError",
     "evalue": "name 'cases' is not defined",
     "output_type": "error",
     "traceback": [
      "\u001b[0;31m---------------------------------------------------------------------------\u001b[0m",
      "\u001b[0;31mNameError\u001b[0m                                 Traceback (most recent call last)",
      "\u001b[0;32m<ipython-input-67-2e55fd771c58>\u001b[0m in \u001b[0;36m<module>\u001b[0;34m\u001b[0m\n\u001b[1;32m      1\u001b[0m \u001b[0mimportant_keywords\u001b[0m\u001b[0;34m.\u001b[0m\u001b[0mremove\u001b[0m\u001b[0;34m(\u001b[0m\u001b[0;34m\"informant\"\u001b[0m\u001b[0;34m)\u001b[0m\u001b[0;34m\u001b[0m\u001b[0;34m\u001b[0m\u001b[0m\n\u001b[0;32m----> 2\u001b[0;31m \u001b[0mprint\u001b[0m\u001b[0;34m(\u001b[0m\u001b[0mnumber_of_cases_per_keywords\u001b[0m\u001b[0;34m(\u001b[0m\u001b[0mcases\u001b[0m\u001b[0;34m,\u001b[0m \u001b[0mimportant_keywords\u001b[0m\u001b[0;34m)\u001b[0m\u001b[0;34m[\u001b[0m\u001b[0;36m0\u001b[0m\u001b[0;34m]\u001b[0m \u001b[0;34m+\u001b[0m \u001b[0mnumber_of_cases_per_keywords\u001b[0m\u001b[0;34m(\u001b[0m\u001b[0mappeals\u001b[0m\u001b[0;34m,\u001b[0m \u001b[0mimportant_keywords\u001b[0m\u001b[0;34m)\u001b[0m\u001b[0;34m[\u001b[0m\u001b[0;36m0\u001b[0m\u001b[0;34m]\u001b[0m\u001b[0;34m)\u001b[0m\u001b[0;34m\u001b[0m\u001b[0;34m\u001b[0m\u001b[0m\n\u001b[0m",
      "\u001b[0;31mNameError\u001b[0m: name 'cases' is not defined"
     ]
    }
   ],
   "source": [
    "important_keywords.remove(\"informant\")\n",
    "print(number_of_cases_per_keywords(all_sjc, important_keywords)[0] + number_of_cases_per_keywords(all_state_appeals, important_keywords)[0])"
   ]
  },
  {
   "cell_type": "markdown",
   "metadata": {},
   "source": [
    "### Searching terms in text then headnote for cases.csv"
   ]
  },
  {
   "cell_type": "code",
   "execution_count": null,
   "metadata": {
    "scrolled": true
   },
   "outputs": [],
   "source": [
    "print(find_in_text(cases,\"confidential informant\"))"
   ]
  },
  {
   "cell_type": "code",
   "execution_count": null,
   "metadata": {},
   "outputs": [],
   "source": [
    "print(find_in_headnote(cases,\"confidential informant\"))"
   ]
  },
  {
   "cell_type": "code",
   "execution_count": null,
   "metadata": {},
   "outputs": [],
   "source": []
  },
  {
   "cell_type": "code",
   "execution_count": null,
   "metadata": {},
   "outputs": [],
   "source": [
    "print(find_in_text(cases,\" ci \"))"
   ]
  },
  {
   "cell_type": "code",
   "execution_count": null,
   "metadata": {},
   "outputs": [],
   "source": [
    "print(find_in_headnote(cases,\" ci \"))"
   ]
  },
  {
   "cell_type": "code",
   "execution_count": null,
   "metadata": {},
   "outputs": [],
   "source": []
  },
  {
   "cell_type": "code",
   "execution_count": null,
   "metadata": {},
   "outputs": [],
   "source": [
    "print(find_in_text(cases,\"snitch\"))"
   ]
  },
  {
   "cell_type": "code",
   "execution_count": null,
   "metadata": {},
   "outputs": [],
   "source": [
    "print(find_in_headnote(cases,\"snitch\"))"
   ]
  },
  {
   "cell_type": "code",
   "execution_count": null,
   "metadata": {},
   "outputs": [],
   "source": []
  },
  {
   "cell_type": "code",
   "execution_count": null,
   "metadata": {},
   "outputs": [],
   "source": [
    "print(find_in_text(cases,\"informant\"))"
   ]
  },
  {
   "cell_type": "code",
   "execution_count": null,
   "metadata": {},
   "outputs": [],
   "source": [
    "print(find_in_headnote(cases,\"informant\"))"
   ]
  },
  {
   "cell_type": "code",
   "execution_count": null,
   "metadata": {},
   "outputs": [],
   "source": []
  },
  {
   "cell_type": "code",
   "execution_count": null,
   "metadata": {},
   "outputs": [],
   "source": [
    "print(find_in_text(cases,\"gang informant\"))"
   ]
  },
  {
   "cell_type": "code",
   "execution_count": null,
   "metadata": {},
   "outputs": [],
   "source": [
    "print(find_in_headnote(cases,\"gang informant\"))"
   ]
  },
  {
   "cell_type": "code",
   "execution_count": null,
   "metadata": {},
   "outputs": [],
   "source": []
  },
  {
   "cell_type": "code",
   "execution_count": null,
   "metadata": {},
   "outputs": [],
   "source": [
    "print(find_in_text(cases,\"mafia informant\"))"
   ]
  },
  {
   "cell_type": "code",
   "execution_count": null,
   "metadata": {},
   "outputs": [],
   "source": [
    "print(find_in_headnote(cases,\"mafia informant\"))"
   ]
  },
  {
   "cell_type": "code",
   "execution_count": null,
   "metadata": {},
   "outputs": [],
   "source": []
  },
  {
   "cell_type": "code",
   "execution_count": null,
   "metadata": {},
   "outputs": [],
   "source": [
    "print(find_in_text(cases,\"organized crime informant\"))"
   ]
  },
  {
   "cell_type": "code",
   "execution_count": null,
   "metadata": {},
   "outputs": [],
   "source": [
    "print(find_in_headnote(cases,\"organized crime informant\"))"
   ]
  },
  {
   "cell_type": "code",
   "execution_count": null,
   "metadata": {},
   "outputs": [],
   "source": []
  },
  {
   "cell_type": "code",
   "execution_count": null,
   "metadata": {},
   "outputs": [],
   "source": [
    "print(find_in_text(cases,\"Stephen Lynch informant\"))"
   ]
  },
  {
   "cell_type": "code",
   "execution_count": null,
   "metadata": {},
   "outputs": [],
   "source": [
    "print(find_in_headnote(cases,\"Stephen Lynch informant\"))"
   ]
  },
  {
   "cell_type": "code",
   "execution_count": null,
   "metadata": {},
   "outputs": [],
   "source": []
  },
  {
   "cell_type": "code",
   "execution_count": null,
   "metadata": {},
   "outputs": [],
   "source": [
    "print(find_in_text(cases,\"federal prison informant\"))"
   ]
  },
  {
   "cell_type": "code",
   "execution_count": null,
   "metadata": {},
   "outputs": [],
   "source": [
    "print(find_in_headnote(cases,\"federal prison informant\"))"
   ]
  },
  {
   "cell_type": "code",
   "execution_count": null,
   "metadata": {},
   "outputs": [],
   "source": []
  },
  {
   "cell_type": "code",
   "execution_count": null,
   "metadata": {},
   "outputs": [],
   "source": [
    "print(find_in_text(cases,\"prison informant\"))"
   ]
  },
  {
   "cell_type": "code",
   "execution_count": null,
   "metadata": {},
   "outputs": [],
   "source": [
    "print(find_in_headnote(cases,\"prison informant\"))"
   ]
  },
  {
   "cell_type": "code",
   "execution_count": null,
   "metadata": {},
   "outputs": [],
   "source": []
  },
  {
   "cell_type": "code",
   "execution_count": null,
   "metadata": {},
   "outputs": [],
   "source": [
    "print(find_in_text(cases,\"Whitey Bulger informant\"))"
   ]
  },
  {
   "cell_type": "code",
   "execution_count": null,
   "metadata": {},
   "outputs": [],
   "source": [
    "print(find_in_headnote(cases,\"Whitey Bulger informant\"))"
   ]
  },
  {
   "cell_type": "code",
   "execution_count": null,
   "metadata": {},
   "outputs": [],
   "source": []
  },
  {
   "cell_type": "code",
   "execution_count": null,
   "metadata": {},
   "outputs": [],
   "source": [
    "print(find_in_text(cases,\"U.S. government informant\"))"
   ]
  },
  {
   "cell_type": "code",
   "execution_count": null,
   "metadata": {},
   "outputs": [],
   "source": [
    "print(find_in_headnote(cases,\"U.S. government informant\"))"
   ]
  },
  {
   "cell_type": "code",
   "execution_count": null,
   "metadata": {},
   "outputs": [],
   "source": []
  },
  {
   "cell_type": "code",
   "execution_count": null,
   "metadata": {},
   "outputs": [],
   "source": [
    "print(find_in_text(cases,\"government informant\"))"
   ]
  },
  {
   "cell_type": "code",
   "execution_count": null,
   "metadata": {},
   "outputs": [],
   "source": [
    "print(find_in_headnote(cases,\"government informant\"))"
   ]
  },
  {
   "cell_type": "code",
   "execution_count": null,
   "metadata": {},
   "outputs": [],
   "source": []
  },
  {
   "cell_type": "code",
   "execution_count": null,
   "metadata": {},
   "outputs": [],
   "source": [
    "print(find_in_text(cases,\"government snitch\"))"
   ]
  },
  {
   "cell_type": "code",
   "execution_count": null,
   "metadata": {
    "scrolled": true
   },
   "outputs": [],
   "source": [
    "print(find_in_headnote(cases,\"government snitch\"))"
   ]
  },
  {
   "cell_type": "markdown",
   "metadata": {},
   "source": [
    "### Searching terms in text then headnote for cases_appeals.csv"
   ]
  },
  {
   "cell_type": "code",
   "execution_count": null,
   "metadata": {
    "scrolled": true
   },
   "outputs": [],
   "source": [
    "print(find_in_text(appeals,\"confidential informant\"))"
   ]
  },
  {
   "cell_type": "code",
   "execution_count": null,
   "metadata": {},
   "outputs": [],
   "source": [
    "print(find_in_headnote(appeals,\"confidential informant\"))"
   ]
  },
  {
   "cell_type": "code",
   "execution_count": null,
   "metadata": {},
   "outputs": [],
   "source": []
  },
  {
   "cell_type": "code",
   "execution_count": null,
   "metadata": {},
   "outputs": [],
   "source": [
    "print(find_in_text(appeals,\" ci \"))"
   ]
  },
  {
   "cell_type": "code",
   "execution_count": null,
   "metadata": {},
   "outputs": [],
   "source": [
    "print(find_in_headnote(appeals,\" ci \"))"
   ]
  },
  {
   "cell_type": "code",
   "execution_count": null,
   "metadata": {},
   "outputs": [],
   "source": []
  },
  {
   "cell_type": "code",
   "execution_count": null,
   "metadata": {},
   "outputs": [],
   "source": [
    "print(find_in_text(appeals,\"snitch\"))"
   ]
  },
  {
   "cell_type": "code",
   "execution_count": null,
   "metadata": {},
   "outputs": [],
   "source": [
    "print(find_in_headnote(appeals,\"snitch\"))"
   ]
  },
  {
   "cell_type": "code",
   "execution_count": null,
   "metadata": {},
   "outputs": [],
   "source": []
  },
  {
   "cell_type": "code",
   "execution_count": null,
   "metadata": {},
   "outputs": [],
   "source": [
    "print(find_in_text(appeals,\"informant\"))"
   ]
  },
  {
   "cell_type": "code",
   "execution_count": null,
   "metadata": {},
   "outputs": [],
   "source": [
    "print(find_in_headnote(appeals,\"informant\"))"
   ]
  },
  {
   "cell_type": "code",
   "execution_count": null,
   "metadata": {},
   "outputs": [],
   "source": []
  },
  {
   "cell_type": "code",
   "execution_count": null,
   "metadata": {},
   "outputs": [],
   "source": [
    "print(find_in_text(appeals,\"gang informant\"))"
   ]
  },
  {
   "cell_type": "code",
   "execution_count": null,
   "metadata": {},
   "outputs": [],
   "source": [
    "print(find_in_headnote(appeals,\"gang informant\"))"
   ]
  },
  {
   "cell_type": "code",
   "execution_count": null,
   "metadata": {},
   "outputs": [],
   "source": []
  },
  {
   "cell_type": "code",
   "execution_count": null,
   "metadata": {},
   "outputs": [],
   "source": [
    "print(find_in_text(appeals,\"mafia informant\"))"
   ]
  },
  {
   "cell_type": "code",
   "execution_count": null,
   "metadata": {},
   "outputs": [],
   "source": [
    "print(find_in_headnote(appeals,\"mafia informant\"))"
   ]
  },
  {
   "cell_type": "code",
   "execution_count": null,
   "metadata": {},
   "outputs": [],
   "source": []
  },
  {
   "cell_type": "code",
   "execution_count": null,
   "metadata": {},
   "outputs": [],
   "source": [
    "print(find_in_text(appeals,\"organized crime informant\"))"
   ]
  },
  {
   "cell_type": "code",
   "execution_count": null,
   "metadata": {},
   "outputs": [],
   "source": [
    "print(find_in_headnote(appeals,\"organized crime informant\"))"
   ]
  },
  {
   "cell_type": "code",
   "execution_count": null,
   "metadata": {},
   "outputs": [],
   "source": []
  },
  {
   "cell_type": "code",
   "execution_count": null,
   "metadata": {},
   "outputs": [],
   "source": [
    "print(find_in_text(appeals,\"Stephen Lynch informant\"))"
   ]
  },
  {
   "cell_type": "code",
   "execution_count": null,
   "metadata": {},
   "outputs": [],
   "source": [
    "print(find_in_headnote(appeals,\"Stephen Lynch informant\"))"
   ]
  },
  {
   "cell_type": "code",
   "execution_count": null,
   "metadata": {},
   "outputs": [],
   "source": []
  },
  {
   "cell_type": "code",
   "execution_count": null,
   "metadata": {},
   "outputs": [],
   "source": [
    "print(find_in_text(appeals,\"federal prison informant\"))"
   ]
  },
  {
   "cell_type": "code",
   "execution_count": null,
   "metadata": {},
   "outputs": [],
   "source": [
    "print(find_in_headnote(appeals,\"federal prison informant\"))"
   ]
  },
  {
   "cell_type": "code",
   "execution_count": null,
   "metadata": {},
   "outputs": [],
   "source": []
  },
  {
   "cell_type": "code",
   "execution_count": null,
   "metadata": {},
   "outputs": [],
   "source": [
    "print(find_in_text(appeals,\"prison informant\"))"
   ]
  },
  {
   "cell_type": "code",
   "execution_count": null,
   "metadata": {},
   "outputs": [],
   "source": [
    "print(find_in_headnote(appeals,\"prison informant\"))"
   ]
  },
  {
   "cell_type": "code",
   "execution_count": null,
   "metadata": {},
   "outputs": [],
   "source": []
  },
  {
   "cell_type": "code",
   "execution_count": null,
   "metadata": {},
   "outputs": [],
   "source": [
    "print(find_in_text(appeals,\"Whitey Bulger informant\"))"
   ]
  },
  {
   "cell_type": "code",
   "execution_count": null,
   "metadata": {},
   "outputs": [],
   "source": [
    "print(find_in_headnote(appeals,\"Whitey Bulger informant\"))"
   ]
  },
  {
   "cell_type": "code",
   "execution_count": null,
   "metadata": {},
   "outputs": [],
   "source": []
  },
  {
   "cell_type": "code",
   "execution_count": null,
   "metadata": {},
   "outputs": [],
   "source": [
    "print(find_in_text(appeals,\"U.S. government informant\"))"
   ]
  },
  {
   "cell_type": "code",
   "execution_count": null,
   "metadata": {},
   "outputs": [],
   "source": [
    "print(find_in_headnote(appeals,\"U.S. government informant\"))"
   ]
  },
  {
   "cell_type": "code",
   "execution_count": null,
   "metadata": {},
   "outputs": [],
   "source": []
  },
  {
   "cell_type": "code",
   "execution_count": null,
   "metadata": {},
   "outputs": [],
   "source": [
    "print(find_in_text(appeals,\"government informant\"))"
   ]
  },
  {
   "cell_type": "code",
   "execution_count": null,
   "metadata": {},
   "outputs": [],
   "source": [
    "print(find_in_headnote(appeals,\"government informant\"))"
   ]
  },
  {
   "cell_type": "code",
   "execution_count": null,
   "metadata": {},
   "outputs": [],
   "source": []
  },
  {
   "cell_type": "code",
   "execution_count": null,
   "metadata": {},
   "outputs": [],
   "source": [
    "print(find_in_text(appeals,\"government snitch\"))"
   ]
  },
  {
   "cell_type": "code",
   "execution_count": null,
   "metadata": {
    "scrolled": true
   },
   "outputs": [],
   "source": [
    "print(find_in_headnote(appeals,\"government snitch\"))"
   ]
  },
  {
   "cell_type": "code",
   "execution_count": null,
   "metadata": {},
   "outputs": [],
   "source": []
  },
  {
   "cell_type": "code",
   "execution_count": null,
   "metadata": {
    "scrolled": true
   },
   "outputs": [],
   "source": []
  },
  {
   "cell_type": "code",
   "execution_count": null,
   "metadata": {
    "scrolled": true
   },
   "outputs": [],
   "source": [
    "print(len(find_in_text(cases,\"appeal\")))"
   ]
  },
  {
   "cell_type": "code",
   "execution_count": null,
   "metadata": {},
   "outputs": [],
   "source": [
    "len(cases)"
   ]
  },
  {
   "cell_type": "code",
   "execution_count": null,
   "metadata": {},
   "outputs": [],
   "source": []
  }
 ],
 "metadata": {
  "kernelspec": {
   "display_name": "Python 3",
   "language": "python",
   "name": "python3"
  },
  "language_info": {
   "codemirror_mode": {
    "name": "ipython",
    "version": 3
   },
   "file_extension": ".py",
   "mimetype": "text/x-python",
   "name": "python",
   "nbconvert_exporter": "python",
   "pygments_lexer": "ipython3",
   "version": "3.7.6"
  }
 },
 "nbformat": 4,
 "nbformat_minor": 2
}
