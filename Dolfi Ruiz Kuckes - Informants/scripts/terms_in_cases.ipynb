{
 "cells": [
  {
   "cell_type": "code",
   "execution_count": 19,
   "metadata": {},
   "outputs": [
    {
     "name": "stdout",
     "output_type": "stream",
     "text": [
      "The autoreload extension is already loaded. To reload it, use:\n",
      "  %reload_ext autoreload\n"
     ]
    }
   ],
   "source": [
    "\"\"\"\n",
    "If you run this block more than once you will get 88 THOUSAND newlines (in the data)\n",
    "\"\"\"\n",
    "\n",
    "import json\n",
    "import numpy as np\n",
    "import pandas\n",
    "\n",
    "#this code makes your editing experience using both python files \n",
    "#and notebooks a lot easier\n",
    "%load_ext autoreload\n",
    "#written to make things easier\n",
    "%aimport utility \n",
    "%autoreload 1\n",
    "\n",
    "#this is done to avoid the double processing problem\n",
    "origin_sjc, origin_state_appeals = utility.combine_cases()\n",
    "all_sjc = origin_sjc.copy(deep=True)\n",
    "all_state_appeals = origin_state_appeals.copy(deep=True)"
   ]
  },
  {
   "cell_type": "code",
   "execution_count": 20,
   "metadata": {},
   "outputs": [],
   "source": [
    "#returns case numbers and sections in which found within a case\n",
    "def find_in_text(case_data,phrase):\n",
    "    cases_found = []\n",
    "    for case in range(len(case_data)):\n",
    "        place_found = []\n",
    "        for i in range(len(case_data[case][\"text\"])):\n",
    "            if case_data[case][\"text\"][i].lower().find(phrase.lower()) != -1:\n",
    "                place_found.append(i)\n",
    "        \n",
    "        if len(place_found) > 0:\n",
    "            cases_found.append([case,place_found])\n",
    "    return cases_found"
   ]
  },
  {
   "cell_type": "code",
   "execution_count": 21,
   "metadata": {},
   "outputs": [],
   "source": [
    "def find_in_headnote(case_data,phrase):\n",
    "    cases_found = []\n",
    "    for case in range(len(case_data)):\n",
    "        place_found = []\n",
    "        for i in range(len(case_data[case][\"headnote\"])):\n",
    "            if case_data[case][\"headnote\"][i].lower().find(phrase.lower()) != -1:\n",
    "                place_found.append(i)\n",
    "        \n",
    "        if len(place_found) > 0:\n",
    "            cases_found.append([case,place_found])\n",
    "    return cases_found"
   ]
  },
  {
   "cell_type": "code",
   "execution_count": 22,
   "metadata": {},
   "outputs": [],
   "source": [
    "# Searches list_of_keywords in string case_data\n",
    "# and returns the total number of cases that contained any keyword\n",
    "#as well as the \"case numbers\", that is, currently\n",
    "#line numbers in the file\n",
    "def number_of_cases_per_keywords(case_data, list_of_keywords):\n",
    "    all_cases = set()\n",
    "    for keyword in list_of_keywords:\n",
    "        all_with_keyword = set()\n",
    "        all_in_text = find_in_text(case_data, keyword)\n",
    "        all_in_headnote = find_in_headnote(case_data, keyword)\n",
    "        for occurence in all_in_text:\n",
    "            all_with_keyword.add(occurence[0])\n",
    "        for occurence in all_in_headnote:\n",
    "            all_with_keyword.add(occurence[0])\n",
    "        all_cases.update(all_with_keyword)\n",
    "    pretty = list(all_cases)\n",
    "    pretty.sort()\n",
    "    return len(pretty), pretty"
   ]
  },
  {
   "cell_type": "code",
   "execution_count": 23,
   "metadata": {},
   "outputs": [],
   "source": [
    "def contains(dataframe, *keywords):\n",
    "    logical_list = dataframe.text.str.contains(keywords[0])\n",
    "    for i in range(1, len(keywords)):\n",
    "        logical_list = logical_list | dataframe.text.str.contains(keywords[i])\n",
    "    return logical_list\n",
    "\n",
    "#elementwise xor:\n",
    "#returns true at i if and only if series1[i] and series2[i]\n",
    "#are different\n",
    "def logic_xor(series1, series2):\n",
    "    return (series1 | series2) & ~(series1 & series2)\n"
   ]
  },
  {
   "cell_type": "code",
   "execution_count": 24,
   "metadata": {},
   "outputs": [],
   "source": [
    "important_keywords = [\"confidential informant\", \" ci \", \"snitch\", \"informant\", \"gang informant\"]"
   ]
  },
  {
   "cell_type": "code",
   "execution_count": 25,
   "metadata": {},
   "outputs": [],
   "source": [
    "#we used to have a duplicate row problem\n",
    "\n",
    "\n",
    "# print(\"statistics of how we are double counting: values represent how many times an index appears\")\n",
    "# print(all_sjc.index.to_series().value_counts().describe(), \"\\n\\n\")\n",
    "\n",
    "# print(\"showing you in the other list, max is like half of the whole list (statistics a)\")\n",
    "# print(all_state_appeals.index.to_series().describe(), \"\\n\")\n",
    "\n",
    "# print(\"statistics of how bad the problem is in that list\")\n",
    "# print(all_state_appeals.index.to_series().value_counts().describe(), \"\\n\\n\")\n",
    "\n",
    "# print(\"thus, if you sort things, it looks like this\")\n",
    "# print(all_state_appeals.sort_index()[0:6], \"\\n\")\n",
    "\n",
    "# print(\"this leads to the following problem:\")\n",
    "\n",
    "\n",
    "# \"\"\"\n",
    "# print(\"You see this makes things much more reasonable to remove \\\n",
    "# newlines but it also squishes punctuation sometimes:\\n\")\n",
    "# print(messed_up.str.replace(pat=\"\\n\", repl=\"\").iloc[0][0:500], \"...\\n\")\n",
    "\n",
    "# print(\"This is a big problem in the state appeals cases. Statistics for newlines in state appeals:\\n\",\n",
    "#       all_state_appeals.text.str.count(\"\\n\").describe())\n",
    "\n",
    "# print(\"\\nNote: there are no newlines in sjc cases: \\n\", all_sjc.text.str.count(\"\\n\").describe(), \"\\n\")\n",
    "\n",
    "# #so, replace the text column to have it be good\n",
    "# all_state_appeals.text = all_state_appeals.text.str.replace(pat=\"\\n\", repl=\"\")\n",
    "# \"\"\"\n"
   ]
  },
  {
   "cell_type": "code",
   "execution_count": 26,
   "metadata": {},
   "outputs": [
    {
     "name": "stdout",
     "output_type": "stream",
     "text": [
      "An sjc case partial text:\n",
      "\n",
      "\n",
      "T\n",
      "h\n",
      "e\n",
      " \n",
      "p\n",
      "r\n",
      "e\n",
      "s\n",
      "e\n",
      "n\n",
      "t\n",
      " \n",
      "c\n",
      "a\n",
      "s\n",
      "e\n",
      " \n",
      "i\n",
      "s\n",
      " \n",
      "t\n",
      "h\n",
      "e\n",
      " \n",
      "m\n",
      "o\n",
      "s\n",
      "t\n",
      " \n",
      "r\n",
      "e\n",
      "c\n",
      "e\n",
      "n\n",
      "t\n",
      " \n",
      "i\n",
      "n\n",
      " \n",
      "a\n",
      " \n",
      "s\n",
      "e\n",
      "r\n",
      "i\n",
      "e\n",
      "s\n",
      " \n",
      "o\n",
      "f\n",
      " \n",
      "c\n",
      "a\n",
      "s\n",
      "e\n",
      "s\n",
      " \n",
      "c\n",
      "o\n",
      "n\n",
      "c\n",
      "e\n",
      "r\n",
      "n\n",
      "i\n",
      "n\n",
      "g\n",
      " \n",
      "t\n",
      "h\n",
      "e\n",
      " \n",
      "e\n",
      "g\n",
      "r\n",
      "e\n",
      "g\n",
      "i\n",
      "o\n",
      "u\n",
      "s\n",
      " \n",
      "m\n",
      "i\n",
      "s\n",
      "c\n",
      "o\n",
      "n\n",
      "d\n",
      "u\n",
      "c\n",
      "t\n",
      " \n",
      "o\n",
      "f\n",
      " \n",
      "A\n",
      "n\n",
      "n\n",
      "i\n",
      "e\n",
      " \n",
      "D\n",
      "o\n",
      "o\n",
      "k\n",
      "h\n",
      "a\n",
      "n\n",
      ",\n",
      " \n",
      "a\n",
      " \n",
      "c\n",
      "h\n",
      "e\n",
      "m\n",
      "i\n",
      "s\n",
      "t\n",
      " \n",
      "w\n",
      "h\n",
      "o\n",
      " \n",
      "w\n",
      "a\n",
      "s\n",
      " \n",
      "e\n",
      "m\n",
      "p\n",
      "l\n",
      "o\n",
      "y\n",
      "e\n",
      "d\n",
      " \n",
      "i\n",
      "n\n",
      " \n",
      "t\n",
      "h\n",
      "e\n",
      " \n",
      "f\n",
      "o\n",
      "r\n",
      "e\n",
      " ...\n",
      "\n",
      "\n",
      "A state appeals partial text:\n",
      "\n",
      "\n",
      "T\n",
      "h\n",
      "i\n",
      "s\n",
      " \n",
      "c\n",
      "a\n",
      "s\n",
      "e\n",
      " \n",
      "a\n",
      "r\n",
      "i\n",
      "s\n",
      "e\n",
      "s\n",
      " \n",
      "f\n",
      "r\n",
      "o\n",
      "m\n",
      " \n",
      "t\n",
      "h\n",
      "e\n",
      " \n",
      "g\n",
      "r\n",
      "a\n",
      "n\n",
      "t\n",
      " \n",
      "o\n",
      "f\n",
      " \n",
      "a\n",
      " \n",
      "g\n",
      "r\n",
      "o\n",
      "u\n",
      "n\n",
      "d\n",
      "w\n",
      "a\n",
      "t\n",
      "e\n",
      "r\n",
      " \n",
      "d\n",
      "i\n",
      "s\n",
      "c\n",
      "h\n",
      "a\n",
      "r\n",
      "g\n",
      "e\n",
      " \n",
      "p\n",
      "e\n",
      "r\n",
      "m\n",
      "i\n",
      "t\n",
      " \n",
      "(\n",
      "p\n",
      "e\n",
      "r\n",
      "m\n",
      "i\n",
      "t\n",
      ")\n",
      " \n",
      "t\n",
      "o\n",
      " \n",
      "t\n",
      "h\n",
      "e\n",
      " \n",
      "t\n",
      "o\n",
      "w\n",
      "n\n",
      " \n",
      "o\n",
      "f\n",
      " \n",
      "F\n",
      "a\n",
      "l\n",
      "m\n",
      "o\n",
      "u\n",
      "t\n",
      "h\n",
      " \n",
      "(\n",
      "t\n",
      "o\n",
      "w\n",
      "n\n",
      ")\n",
      " \n",
      "f\n",
      "o\n",
      "r\n",
      " \n",
      "t\n",
      "h\n",
      "e\n",
      " \n",
      "c\n",
      "o\n",
      "n\n",
      "s\n",
      "t\n",
      "r\n",
      "u\n",
      "c\n",
      "t\n",
      "i\n",
      "o\n",
      "n\n",
      " \n",
      "a\n",
      "n\n",
      "d\n",
      " \n",
      "o\n",
      "p\n",
      "e\n",
      "r\n",
      "a\n",
      "t\n",
      "i\n",
      "o\n",
      "n\n",
      " \n",
      "o\n",
      "f\n",
      " \n",
      "a\n",
      " \n",
      "w\n",
      "a\n",
      "s\n",
      " ...\n",
      "\n",
      "\n"
     ]
    }
   ],
   "source": [
    "#Check that some files are ok\n",
    "#There also used to be a big problem here with newlines\n",
    "\n",
    "print(\"An sjc case partial text:\")\n",
    "print(all_sjc.loc[ 0, : ].text[0:300], \"...\\n\\n\")\n",
    "\n",
    "print(\"A state appeals partial text:\")\n",
    "messed_up = all_state_appeals[1:2].text\n",
    "print(messed_up.values[0][0:300], \"...\\n\\n\")\n",
    "\n"
   ]
  },
  {
   "cell_type": "code",
   "execution_count": 27,
   "metadata": {},
   "outputs": [
    {
     "name": "stdout",
     "output_type": "stream",
     "text": [
      "we affirm\n",
      " False    1779\n",
      "True      876\n",
      "Name: text, dtype: int64\n",
      "all Affirmed cases:\n",
      " True     1489\n",
      "False    1166\n",
      "Name: text, dtype: int64\n",
      "\n",
      "we reverse\n",
      " False    2513\n",
      "True      142\n",
      "Name: text, dtype: int64\n",
      "\n",
      "all w reversed:\n",
      " False    2125\n",
      "True      530\n",
      "Name: text, dtype: int64\n",
      "\n",
      "has both we affirm and we reverse\n",
      " False    2613\n",
      "True       42\n",
      "Name: text, dtype: int64\n",
      "\n",
      "reversed and affirmed\n",
      " False    2241\n",
      "True      414\n",
      "Name: text, dtype: int64\n",
      "0       False\n",
      "1673    False\n",
      "1674    False\n",
      "1675    False\n",
      "1677    False\n",
      "        ...  \n",
      "1825     True\n",
      "1827     True\n",
      "1834     True\n",
      "674      True\n",
      "1327     True\n",
      "Name: text, Length: 2655, dtype: bool\n",
      "\n",
      "only one or the other appears:\n",
      "False    1464\n",
      "True     1191\n",
      "Name: text, dtype: int64\n"
     ]
    }
   ],
   "source": [
    "vacate_indeces = all_sjc.text.str.contains(\"vacate\") | contains(all_sjc,\"vacated\")\n",
    "\n",
    "\n",
    "we_affirm = contains(all_sjc, \"We affirm\", \"we affirm\")\n",
    "print(\"we affirm\\n\", we_affirm.value_counts())\n",
    "\n",
    "affirmed_indeces = all_sjc.text.str.contains(\"affirm\") | we_affirm\n",
    "print(\"all Affirmed cases:\\n\", affirmed_indeces.value_counts())\n",
    "\n",
    "\n",
    "we_reverse = contains(all_sjc, \"we reverse\") | contains(all_sjc, \"We reverse\")\n",
    "print(\"\\nwe reverse\\n\", we_reverse.value_counts())\n",
    "\n",
    "reversed_indeces = all_sjc.text.str.contains(\"reverse\") | we_reverse\n",
    "print(\"\\nall w reversed:\\n\", reversed_indeces.value_counts())\n",
    "\n",
    "\n",
    "really_bad = we_affirm & we_reverse\n",
    "\n",
    "print(\"\\nhas both we affirm and we reverse\\n\", really_bad.value_counts())\n",
    "\n",
    "both_reversed_and_affirmed = reversed_indeces & affirmed_indeces\n",
    "print(\"\\nreversed and affirmed\\n\", both_reversed_and_affirmed.value_counts())\n",
    "print(both_reversed_and_affirmed.sort_values())\n",
    "#print(all_sjc.loc[ 681, : ].text)\n",
    "\n",
    "print(\"\\nonly one or the other appears:\")\n",
    "print(logic_xor(reversed_indeces, affirmed_indeces).value_counts())"
   ]
  },
  {
   "cell_type": "code",
   "execution_count": 28,
   "metadata": {},
   "outputs": [
    {
     "name": "stdout",
     "output_type": "stream",
     "text": [
      "Terrible cases we can't deal with, have no keywords:\n",
      " False    1843\n",
      "True      812\n",
      "Name: text, dtype: int64 \n",
      "\n",
      "Classification of some of the cases:\n",
      " 1327    False\n",
      "1668    False\n",
      "1669    False\n",
      "1670    False\n",
      "1671    False\n",
      "        ...  \n",
      "395      True\n",
      "394      True\n",
      "393      True\n",
      "402      True\n",
      "0        True\n",
      "Name: text, Length: 2655, dtype: bool \n",
      "\n",
      "For example:\n",
      "INDICTMENTS found and returned in the Superior Court Department on November 2, 2010.\n",
      "Pretrial motions to suppress evidence were heard by Charles J. Hely, J., and Janet L. Sanders, J., and cases were tried before Linda E. Giles, J.\n",
      "Jeffrey L. Baler for Alexander Gallett.\n",
      "Andrew S. Crouch for Michel St. Jean.\n",
      "Sarah Montgomery Lewis, Assistant District Attorney (Jennifer Hickman, Assistant District Attorney, also present) for the Commonwealth. ...\n",
      "\n",
      "\n"
     ]
    }
   ],
   "source": [
    "terrible_cases = ~(contains(all_sjc,\n",
    "    \"reverse\", \"affirm\", \"vacate\", \"uphold\", \"overturn\", \"disagree\", \"defer\",\n",
    "                            \"reject\", \"remand\", \"Appeal dismissed\"))\n",
    "print(\"Terrible cases we can't deal with, have no keywords:\\n\", \n",
    "         terrible_cases.value_counts(), \"\\n\")\n",
    "\n",
    "terrible_cases = terrible_cases.sort_values()\n",
    "print(\"Classification of some of the cases:\\n\", terrible_cases,\"\\n\")\n",
    "\n",
    "print(\"For example:\")\n",
    "print(all_sjc.loc[ 2500, : ].text, \"...\\n\\n\")\n",
    "    "
   ]
  },
  {
   "cell_type": "code",
   "execution_count": 29,
   "metadata": {},
   "outputs": [
    {
     "name": "stdout",
     "output_type": "stream",
     "text": [
      "                                                   case  \\\n",
      "0       C O M M O N W E A L T H     v s .     A D M ...   \n",
      "1       C O M M O N W E A L T H     v s .     G E O ...   \n",
      "2       L I N D A   S .   B O W E R S     v s .     ...   \n",
      "3       C O M M O N W E A L T H     v s .     J A R ...   \n",
      "4       C O M M O N W E A L T H     v s .     R O B ...   \n",
      "...                                                 ...   \n",
      "2650                      IN THE MATTER OF CLAUDE DAVID   \n",
      "2651                             KAROL E. SIMONTON, pet   \n",
      "2652                                              A.F.    \n",
      "2653                      IN THE MATTER OF CARL MARTIN    \n",
      "2654               BHARANIDHARAN PADMANABHAN vs. LORETT   \n",
      "\n",
      "                                               headnote  \\\n",
      "0     C\\no\\nn\\nt\\nr\\no\\nl\\nl\\ne\\nd\\n \\nS\\nu\\nb\\ns\\nt...   \n",
      "1     H\\no\\nm\\ni\\nc\\ni\\nd\\ne\\n.\\n \\nE\\nv\\ni\\nd\\ne\\nn...   \n",
      "2     N\\ne\\ng\\nl\\ni\\ng\\ne\\nn\\nc\\ne\\n,\\n \\nR\\ne\\nt\\na...   \n",
      "3     C\\no\\nn\\ns\\nt\\ni\\nt\\nu\\nt\\ni\\no\\nn\\na\\nl\\n \\nL...   \n",
      "4     A\\nm\\ne\\nn\\nd\\ne\\nd\\n \\nO\\nc\\nt\\no\\nb\\ne\\nr\\n ...   \n",
      "...                                                 ...   \n",
      "2650  SJC-12642\\nAttorney at Law, Disciplinary proce...   \n",
      "2651  SJC-12588\\nHabeas Corpus. Practice, Criminal, ...   \n",
      "2652  SJC-12686\\nHarassment Prevention. Supreme Judi...   \n",
      "2653  SJC-12589\\nAttorney at Law, Admission to pract...   \n",
      "2654  SJC-12718\\nPractice, Civil, Action in nature o...   \n",
      "\n",
      "                                                   text               date  \\\n",
      "0     \\n\\nT\\nh\\ne\\n \\np\\nr\\ne\\ns\\ne\\nn\\nt\\n \\nc\\na\\n...                NaN   \n",
      "1     \\n\\nT\\nh\\ne\\n \\nd\\ne\\nf\\ne\\nn\\nd\\na\\nn\\nt\\n \\n...                NaN   \n",
      "2     \\n\\nI\\nn\\n \\nt\\nh\\ni\\ns\\n \\nc\\na\\ns\\ne\\n \\nw\\n...                NaN   \n",
      "3     \\n\\nA\\nf\\nt\\ne\\nr\\n \\nc\\na\\nu\\ns\\ni\\nn\\ng\\n \\n...                NaN   \n",
      "4     \\n\\nT\\nh\\ni\\ns\\n \\nc\\na\\ns\\ne\\n \\nr\\ne\\nq\\nu\\n...                NaN   \n",
      "...                                                 ...                ...   \n",
      "2650  The respondent, Claude David Grayer, appeals f...   December 2, 2019   \n",
      "2651  Karol E. Simonton appeals from a judgment of t...  December 11, 2019   \n",
      "2652  The petitioner, A.F., appeals from a judgment ...  December 11, 2019   \n",
      "2653  Carl Martin Swanson has filed, in the county c...  December 12, 2019   \n",
      "2654  The petitioner, Bharanidharan Padmanabhan, app...  December 12, 2019   \n",
      "\n",
      "     county  We affirm count  we affirm count  We reverse count  \\\n",
      "0       NaN                0                0                 0   \n",
      "1       NaN                0                0                 0   \n",
      "2       NaN                0                0                 0   \n",
      "3       NaN                0                0                 0   \n",
      "4       NaN                0                0                 0   \n",
      "...     ...              ...              ...               ...   \n",
      "2650                       1                0                 0   \n",
      "2651                       0                0                 0   \n",
      "2652                       2                1                 0   \n",
      "2653                       0                1                 0   \n",
      "2654                       1                0                 0   \n",
      "\n",
      "      we reverse count  vacate count  affirm count  reverse count  \\\n",
      "0                    0             0             0              0   \n",
      "1                    0             0             0              0   \n",
      "2                    0             0             0              0   \n",
      "3                    0             0             0              0   \n",
      "4                    0             0             0              0   \n",
      "...                ...           ...           ...            ...   \n",
      "2650                 0             4             2              0   \n",
      "2651                 0             0             1              0   \n",
      "2652                 0             2             5              0   \n",
      "2653                 0             0             2              0   \n",
      "2654                 0             0             2              0   \n",
      "\n",
      "      Appeal dismissed count  \n",
      "0                          0  \n",
      "1                          0  \n",
      "2                          0  \n",
      "3                          0  \n",
      "4                          0  \n",
      "...                      ...  \n",
      "2650                       0  \n",
      "2651                       0  \n",
      "2652                       0  \n",
      "2653                       0  \n",
      "2654                       0  \n",
      "\n",
      "[2655 rows x 13 columns]\n"
     ]
    }
   ],
   "source": [
    "copy = all_sjc.copy(deep=True)\n",
    "\n",
    "def add_counts(dataframe, word_list):\n",
    "    for word in word_list:\n",
    "        col_name = word+ \" count\"\n",
    "        dataframe[col_name] = dataframe.text.str.count(word)\n",
    "        \n",
    "        \n",
    "triggers = [\"We affirm\", \"we affirm\", \"We reverse\", \n",
    "            \"we reverse\", \"vacate\", \"affirm\", \"reverse\", \"Appeal dismissed\"]\n",
    "add_counts(copy, triggers)\n",
    "\n",
    "print(copy)\n",
    "    \n",
    "# print(copy[\"Appeal dismissed count\"].value_counts())"
   ]
  },
  {
   "cell_type": "code",
   "execution_count": 30,
   "metadata": {},
   "outputs": [
    {
     "name": "stdout",
     "output_type": "stream",
     "text": [
      "After look for\"we\" keyword, we have the following:\n",
      "undecided    1679\n",
      "affirm        876\n",
      "reverse       100\n",
      "Name: decision, dtype: int64\n",
      "Adding a less strict approach we have the following:\n",
      "undecided    1120\n",
      "affirm        876\n",
      "reverse       659\n",
      "Name: decision, dtype: int64\n",
      "With dismissed:\n",
      "undecided    1090\n",
      "affirm        906\n",
      "reverse       659\n",
      "Name: decision, dtype: int64\n"
     ]
    },
    {
     "name": "stderr",
     "output_type": "stream",
     "text": [
      "/usr/local/lib/python3.7/site-packages/ipykernel_launcher.py:14: SettingWithCopyWarning: \n",
      "A value is trying to be set on a copy of a slice from a DataFrame\n",
      "\n",
      "See the caveats in the documentation: https://pandas.pydata.org/pandas-docs/stable/user_guide/indexing.html#returning-a-view-versus-a-copy\n",
      "  \n",
      "/usr/local/lib/python3.7/site-packages/ipykernel_launcher.py:15: SettingWithCopyWarning: \n",
      "A value is trying to be set on a copy of a slice from a DataFrame\n",
      "\n",
      "See the caveats in the documentation: https://pandas.pydata.org/pandas-docs/stable/user_guide/indexing.html#returning-a-view-versus-a-copy\n",
      "  from ipykernel import kernelapp as app\n",
      "/usr/local/lib/python3.7/site-packages/ipykernel_launcher.py:24: SettingWithCopyWarning: \n",
      "A value is trying to be set on a copy of a slice from a DataFrame\n",
      "\n",
      "See the caveats in the documentation: https://pandas.pydata.org/pandas-docs/stable/user_guide/indexing.html#returning-a-view-versus-a-copy\n",
      "/usr/local/lib/python3.7/site-packages/ipykernel_launcher.py:25: SettingWithCopyWarning: \n",
      "A value is trying to be set on a copy of a slice from a DataFrame\n",
      "\n",
      "See the caveats in the documentation: https://pandas.pydata.org/pandas-docs/stable/user_guide/indexing.html#returning-a-view-versus-a-copy\n",
      "/usr/local/lib/python3.7/site-packages/ipykernel_launcher.py:31: SettingWithCopyWarning: \n",
      "A value is trying to be set on a copy of a slice from a DataFrame\n",
      "\n",
      "See the caveats in the documentation: https://pandas.pydata.org/pandas-docs/stable/user_guide/indexing.html#returning-a-view-versus-a-copy\n"
     ]
    }
   ],
   "source": [
    "\n",
    "#need to look at vacate\n",
    "def add_status(dataframe):\n",
    "    \n",
    "    \n",
    "    #creating the column\n",
    "    triggers = [\"We affirm\", \"we affirm\", \"We reverse\", \n",
    "            \"we reverse\", \"vacate\", \"affirm\", \"reverse\", \"Appeal dismissed\"]\n",
    "    add_counts(dataframe, triggers)\n",
    "    dataframe[\"decision\"] = \"undecided\"\n",
    "    \n",
    "    definite_affirm = contains(dataframe, \"We affirm\", \"we affirm\")\n",
    "    definite_reverse = contains(dataframe, \"We reverse\", \"we reverse\")\n",
    "    \n",
    "    dataframe.decision[definite_reverse] = \"reverse\"\n",
    "    dataframe.decision[definite_affirm] = \"affirm\"\n",
    "    \n",
    "    print(\"After look for\\\"we\\\" keyword, we have the following:\")\n",
    "    print(dataframe.decision.value_counts())\n",
    "        \n",
    "    \n",
    "    sort_of_affirm = (dataframe[\"affirm count\"] > 0) & (dataframe.decision == \"undecided\")\n",
    "    sort_of_reverse = (dataframe.decision == \"undecided\") & (dataframe[\"affirm count\"] > 0)\n",
    "    \n",
    "    dataframe.decision[sort_of_affirm] = \"affirm\"\n",
    "    dataframe.decision[sort_of_reverse] = \"reverse\"\n",
    "    \n",
    "    print(\"Adding a less strict approach we have the following:\")\n",
    "    print(dataframe.decision.value_counts())\n",
    "    \n",
    "    dismissed = (dataframe.decision == \"undecided\") & (dataframe[\"Appeal dismissed count\"] > 0)\n",
    "    dataframe.decision[dismissed] = \"affirm\"\n",
    "    \n",
    "    print(\"With dismissed:\")\n",
    "    print(dataframe.decision.value_counts())\n",
    "    \n",
    "#     dataframe.decision[sort_of_affirm] = \"affirm\"\n",
    "#     dataframe.decision[sort_of_reverse] = \"reverse\"\n",
    "    \n",
    "#     undecided_still = dataframe.decision.str.contains(\"undecided\")\n",
    "#     print(\"Decision was not that conclusive couldn't find any keyword :\\n\"\n",
    "#           , undecided_still.value_counts(), \"\\n\")\n",
    "\n",
    "    \n",
    "    \n",
    "    \n",
    "add_status(copy)\n"
   ]
  },
  {
   "cell_type": "markdown",
   "metadata": {},
   "source": [
    "### Expanding on our overturned analysis we will perform a logistic regression on the data. "
   ]
  },
  {
   "cell_type": "code",
   "execution_count": 31,
   "metadata": {},
   "outputs": [
    {
     "name": "stderr",
     "output_type": "stream",
     "text": [
      "/usr/local/lib/python3.7/site-packages/ipykernel_launcher.py:14: SettingWithCopyWarning: \n",
      "A value is trying to be set on a copy of a slice from a DataFrame\n",
      "\n",
      "See the caveats in the documentation: https://pandas.pydata.org/pandas-docs/stable/user_guide/indexing.html#returning-a-view-versus-a-copy\n",
      "  \n",
      "/usr/local/lib/python3.7/site-packages/ipykernel_launcher.py:15: SettingWithCopyWarning: \n",
      "A value is trying to be set on a copy of a slice from a DataFrame\n",
      "\n",
      "See the caveats in the documentation: https://pandas.pydata.org/pandas-docs/stable/user_guide/indexing.html#returning-a-view-versus-a-copy\n",
      "  from ipykernel import kernelapp as app\n",
      "/usr/local/lib/python3.7/site-packages/ipykernel_launcher.py:24: SettingWithCopyWarning: \n",
      "A value is trying to be set on a copy of a slice from a DataFrame\n",
      "\n",
      "See the caveats in the documentation: https://pandas.pydata.org/pandas-docs/stable/user_guide/indexing.html#returning-a-view-versus-a-copy\n",
      "/usr/local/lib/python3.7/site-packages/ipykernel_launcher.py:25: SettingWithCopyWarning: \n",
      "A value is trying to be set on a copy of a slice from a DataFrame\n",
      "\n",
      "See the caveats in the documentation: https://pandas.pydata.org/pandas-docs/stable/user_guide/indexing.html#returning-a-view-versus-a-copy\n",
      "/usr/local/lib/python3.7/site-packages/ipykernel_launcher.py:31: SettingWithCopyWarning: \n",
      "A value is trying to be set on a copy of a slice from a DataFrame\n",
      "\n",
      "See the caveats in the documentation: https://pandas.pydata.org/pandas-docs/stable/user_guide/indexing.html#returning-a-view-versus-a-copy\n"
     ]
    },
    {
     "name": "stdout",
     "output_type": "stream",
     "text": [
      "After look for\"we\" keyword, we have the following:\n",
      "undecided    1679\n",
      "affirm        876\n",
      "reverse       100\n",
      "Name: decision, dtype: int64\n",
      "Adding a less strict approach we have the following:\n",
      "undecided    1120\n",
      "affirm        876\n",
      "reverse       659\n",
      "Name: decision, dtype: int64\n",
      "With dismissed:\n",
      "undecided    1090\n",
      "affirm        906\n",
      "reverse       659\n",
      "Name: decision, dtype: int64\n",
      "After look for\"we\" keyword, we have the following:\n",
      "undecided    3115\n",
      "affirm        933\n",
      "reverse       308\n",
      "Name: decision, dtype: int64\n",
      "Adding a less strict approach we have the following:\n",
      "undecided    2406\n",
      "reverse      1017\n",
      "affirm        933\n",
      "Name: decision, dtype: int64\n",
      "With dismissed:\n",
      "undecided    2402\n",
      "reverse      1017\n",
      "affirm        937\n",
      "Name: decision, dtype: int64\n"
     ]
    },
    {
     "name": "stderr",
     "output_type": "stream",
     "text": [
      "/usr/local/lib/python3.7/site-packages/ipykernel_launcher.py:21: SettingWithCopyWarning: \n",
      "A value is trying to be set on a copy of a slice from a DataFrame\n",
      "\n",
      "See the caveats in the documentation: https://pandas.pydata.org/pandas-docs/stable/user_guide/indexing.html#returning-a-view-versus-a-copy\n"
     ]
    }
   ],
   "source": [
    "from sklearn.linear_model import LogisticRegression\n",
    "from sklearn.feature_extraction.text import TfidfVectorizer\n",
    "import pandas as pd\n",
    "\n",
    "# First we do a deep copy of both our sjc and appeals cases and assign as many decisions as we can\n",
    "copy_sjc = all_sjc.copy(deep=True)\n",
    "add_status(copy_sjc)\n",
    "copy_appeals = all_state_appeals.copy(deep=True)\n",
    "add_status(copy_appeals)\n",
    "\n",
    "# now we separate all unlabeled data from our dataframe, all undecided cases.\n",
    "all_cases = copy_sjc.append(copy_appeals)\n",
    "\n",
    "undecided_cases = all_cases.loc[all_cases[\"decision\"] == \"undecided\"]\n",
    "all_cases = all_cases.loc[all_cases[\"decision\"] != \"undecided\"]\n",
    "\n",
    "# We change labels to indeces\n",
    "affirm = (all_cases.decision == \"affirm\")\n",
    "all_cases.decision[affirm] = 1\n",
    "reverse = (all_cases.decision == \"reverse\")\n",
    "all_cases.decision[reverse] = 0\n",
    "\n",
    "# Compile all our text data.\n",
    "str_txt = []\n",
    "text = pd.DataFrame(all_cases[\"text\"])\n",
    "for i in range(len(text.values)):\n",
    "    str_txt.append(text.values[i][0])\n",
    "\n",
    "# Vectorize the text data\n",
    "vectorizer = TfidfVectorizer(stop_words='english',min_df=0.001)\n",
    "vectorizer = vectorizer.fit(str_txt)\n",
    "matrix = vectorizer.transform(str_txt)\n",
    "pd_matrix = pd.DataFrame(matrix.toarray())\n"
   ]
  },
  {
   "cell_type": "code",
   "execution_count": 40,
   "metadata": {},
   "outputs": [
    {
     "name": "stderr",
     "output_type": "stream",
     "text": [
      "/usr/local/lib/python3.7/site-packages/sklearn/linear_model/_logistic.py:1539: UserWarning: 'n_jobs' > 1 does not have any effect when 'solver' is set to 'liblinear'. Got 'n_jobs' = 4.\n",
      "  \" = {}.\".format(effective_n_jobs(self.n_jobs)))\n"
     ]
    },
    {
     "name": "stdout",
     "output_type": "stream",
     "text": [
      "[LibLinear]"
     ]
    }
   ],
   "source": [
    "# Perform Logistic Regression\n",
    "logreg = LogisticRegression(verbose=1,solver=\"sag\", n_jobs=4).fit(pd_matrix,list(all_cases[\"decision\"]))"
   ]
  },
  {
   "cell_type": "code",
   "execution_count": 41,
   "metadata": {},
   "outputs": [
    {
     "data": {
      "text/plain": [
       "0.886615515771526"
      ]
     },
     "execution_count": 41,
     "metadata": {},
     "output_type": "execute_result"
    }
   ],
   "source": [
    "#logistic regression training accuracy 76%\n",
    "logreg.score(pd_matrix,list(all_cases[\"decision\"]))"
   ]
  },
  {
   "cell_type": "code",
   "execution_count": 44,
   "metadata": {},
   "outputs": [
    {
     "name": "stdout",
     "output_type": "stream",
     "text": [
      "[[-0.05587987 -0.01240895 -0.03259292 ... -0.02745043 -0.02344857\n",
      "  -0.02355428]]\n"
     ]
    },
    {
     "data": {
      "text/plain": [
       "array([0, 1])"
      ]
     },
     "execution_count": 44,
     "metadata": {},
     "output_type": "execute_result"
    }
   ],
   "source": [
    "print(logreg.coef_)\n",
    "logreg.classes_"
   ]
  },
  {
   "cell_type": "code",
   "execution_count": 34,
   "metadata": {},
   "outputs": [
    {
     "name": "stdout",
     "output_type": "stream",
     "text": [
      "250\n",
      "[0 0 0 0 0 0 0 0 0 0 0 0 0 0 0 0 0 0 0 0 0 0 0 0 0 0 0 0 0 0 0 0 0 0 0 0 0\n",
      " 0 0 0 0 0 0 0 0 0 0 0 0 0 0 0 0 0 0 0 0 0 0 0 0 0 0 0 0 0 0 0 0 0 0 0 0 0\n",
      " 0 0 0 0 0 0 0 0 0 0 0 0 0 0 0 0 0 0 0 0 0 0 0 0 0 0 0 0 0 0 0 0 0 0 0 0 0\n",
      " 0 0 0 0 0 0 0 0 0 0 0 0 0 0 0 0 0 0 0 0 0 0 0 0 0 0 0 0 0 0 0 0 0 0 0 0 0\n",
      " 0 0 0 0 0 0 0 0 0 0 0 0 0 0 0 0 0 0 0 0 0 0 0 0 0 0 0 0 0 0 0 0 0 0 0 0 0\n",
      " 0 0 0 0 0 0 0 0 0 0 0 0 0 0 0 0 0 0 0 0 0 0 0 0 0 0 0 0 0 0 0 0 0 0 0 0 0\n",
      " 0 0 0 0 0 0 0 0 0 0 0 0 0 0 0 0 0 0 0 0 0 0 0 0 0 0 0 0 0 0 0 0 0 0 0 0 0\n",
      " 0 0 0 0 0 0 0 0 0 0 0 0 0 0 0 0 0 0 0 0 0 0 0 0 0 0 0 0 0 0 0 0 0 0 0 0 0\n",
      " 0 0 0 0 0 0 0 0 0 0 0 0 0 0 0 0 0 0 0 0 0 0 0 0 0 0 0 0 0 0 0 0 0 0 0 0 0\n",
      " 0 0 0 0 0 0 0 0 0 0 0 0 0 0 0 0 0 0 0 0 0 0 0 0 0 0 0 0 0 0 0 0 0 0 0 0 0\n",
      " 0 0 0 0 0 0 0 0 0 0 0 0 0 0 0 0 0 0 0 0 0 0 0 0 0 0 0 0 0 0 0 0 0 0 0 0 0\n",
      " 0 0 0 0 0 0 0 0 0 0 0 0 0 0 0 0 0 0 0 0 0 0 0 0 0 0 0 0 0 0 0 0 0 0 0 0 0\n",
      " 0 0 0 0 0 0 0 0 0 0 0 0 0 0 0 0 0 0 0 0 0 0 0 0 0 0 0 0 0 0 0 0 0 0 0 0 0\n",
      " 0 0 0 0 0 0 0 0 0 0 0 0 0 0 0 0 0 0 0 0 0 0 0 0 0 0 0 0 0 0 0 0 0 0 0 0 0\n",
      " 0 0 0 0 0 0 0 0 0 0 0 0 0 0 0 0 0 0 0 0 0 0 0 0 0 0 0 0 0 0 0 0 0 0 0 0 0\n",
      " 0 0 0 0 0 0 0 0 0 0 0 0 0 0 0 0 0 0 0 0 0 0 0 0 0 0 0 0 0 0 0 0 0 0 0 0 0\n",
      " 0 0 0 0 0 0 0 0 0 0 0 0 0 0 0 0 0 0 0 0 0 0 0 0 0 0 0 0 0 0 0 0 0 0 0 0 0\n",
      " 0 0 0 0 0 0 0 0 0 0 0 0 0 0 0 0 0 0 0 0 0 0 0 0 1 0 1 1 0 0 0 0 0 0 0 0 0\n",
      " 1 0 0 0 0 1 1 0 0 0 1 0 1 0 0 1 0 1 0 0 0 0 0 0 0 1 0 0 1 0 1 0 1 0 1 0 1\n",
      " 0 1 1 0 0 0 0 1 0 0 0 1 0 0 0 1 1 1 0 0 1 0 1 1 0 0 0 0 1 0 0 1 0 0 1 0 0\n",
      " 0 0 0 0 0 1 1 0 1 1 0 1 1 0 0 1 0 0 1 1 0 1 0 0 0 0 1 0 0 0 0 0 1 0 1 0 0\n",
      " 1 1 0 1 1 1 0 0 1 0 0 1 1 0 0 1 0 1 1 0 1 0 1 0 0 0 0 0 0 0 0 0 0 0 1 1 1\n",
      " 1 0 0 1 0 1 1 0 0 0 0 0 0 1 1 1 0 0 0 0 0 0 0 1 0 0 1 0 0 1 0 1 0 0 1 1 0\n",
      " 1 0 0 0 0 1 0 0 0 0 0 0 0 1 1 1 0 0 0 0 0 1 0 0 0 1 0 0 1 0 1 0 1 1 0 0 0\n",
      " 0 1 1 0 0 0 1 0 0 1 0 0 0 0 0 1 1 0 1 0 0 0 0 1 0 0 0 0 0 0 0 0 0 1 0 0 0\n",
      " 0 1 1 1 1 0 0 0 0 0 0 1 0 1 0 0 0 1 1 0 1 0 1 0 0 0 0 0 0 0 0 0 0 0 0 1 0\n",
      " 1 1 0 1 0 0 0 0 0 0 0 0 0 0 0 0 0 0 0 0 0 0 0 0 0 0 0 0 0 0 0 0 0 0 0 0 0\n",
      " 0]\n",
      "3492\n"
     ]
    }
   ],
   "source": [
    "# Now we label the unlabeled data with the model we created\n",
    "# Starting by vectorizing it\n",
    "undecided_matrix = vectorizer.transform(undecided_cases[\"text\"].values)\n",
    "undecided_df = pd.DataFrame(undecided_matrix.toarray())\n",
    "\n",
    "# And using our model to predict the labels\n",
    "predictions = logreg.predict(undecided_df)\n",
    "num1 = sum(predictions)\n",
    "print(num1)\n",
    "print(predictions[0:1000])\n",
    "print(len(undecided_cases))"
   ]
  },
  {
   "cell_type": "code",
   "execution_count": 35,
   "metadata": {},
   "outputs": [
    {
     "name": "stdout",
     "output_type": "stream",
     "text": [
      "[LibLinear][LibLinear][LibLinear][LibLinear][LibLinear]"
     ]
    }
   ],
   "source": [
    "scores = []\n",
    "num_affirm = [] \n",
    "for i in range(1,6):\n",
    "    vectorizer = TfidfVectorizer(stop_words='english',min_df=(0.1)**i)\n",
    "    vectorizer = vectorizer.fit(str_txt)\n",
    "    matrix = vectorizer.transform(str_txt)\n",
    "    pd_matrix = pd.DataFrame(matrix.toarray())\n",
    "    \n",
    "    # Perform Logistic Regression\n",
    "    logreg = LogisticRegression(verbose=1,solver=\"liblinear\").fit(pd_matrix,list(all_cases[\"decision\"]))\n",
    "    \n",
    "    #logistic regression training accuracy 76%\n",
    "    scores.append(logreg.score(pd_matrix,list(all_cases[\"decision\"])))\n",
    "    \n",
    "    # Now we label the unlabeled data with the model we created\n",
    "    # Starting by vectorizing it\n",
    "    undecided_matrix = vectorizer.transform(undecided_cases[\"text\"].values)\n",
    "    undecided_df = pd.DataFrame(undecided_matrix.toarray())\n",
    "\n",
    "    # And using our model to predict the labels\n",
    "    predictions = logreg.predict(undecided_df)\n",
    "    num1 = sum(predictions)\n",
    "    num_affirm.append(num1)\n"
   ]
  },
  {
   "cell_type": "code",
   "execution_count": 36,
   "metadata": {},
   "outputs": [
    {
     "data": {
      "text/plain": [
       "Text(0.5, 1.0, 'Training Accuracy with multiple vectorizations')"
      ]
     },
     "execution_count": 36,
     "metadata": {},
     "output_type": "execute_result"
    },
    {
     "data": {
      "image/png": "[encoded data removed]",
      "text/plain": [
       "<Figure size 432x288 with 1 Axes>"
      ]
     },
     "metadata": {
      "needs_background": "light"
     },
     "output_type": "display_data"
    }
   ],
   "source": [
    "import matplotlib.pyplot as plt\n",
    "x = 0.1**np.asarray(range(1,6))\n",
    "plt.semilogx(x,scores)\n",
    "plt.xlabel(\"min_df\")\n",
    "plt.ylabel(\"accuracy\")\n",
    "plt.title(\"Training Accuracy with multiple vectorizations\")"
   ]
  },
  {
   "cell_type": "code",
   "execution_count": 37,
   "metadata": {},
   "outputs": [
    {
     "data": {
      "text/plain": [
       "Text(0.5, 1.0, 'Percentage of affirmed cases with multiple vectorizations')"
      ]
     },
     "execution_count": 37,
     "metadata": {},
     "output_type": "execute_result"
    },
    {
     "data": {
      "image/png": "[encoded data removed]",
      "text/plain": [
       "<Figure size 432x288 with 1 Axes>"
      ]
     },
     "metadata": {
      "needs_background": "light"
     },
     "output_type": "display_data"
    }
   ],
   "source": [
    "x = 0.1**np.asarray(range(1,6))\n",
    "plt.semilogx(x,np.asarray(num_affirm)/len(predictions))\n",
    "plt.xlabel(\"min_df\")\n",
    "plt.ylabel(\"ratio of affirmed case predictions\")\n",
    "plt.title(\"Percentage of affirmed cases with multiple vectorizations\")"
   ]
  },
  {
   "cell_type": "markdown",
   "metadata": {},
   "source": [
    "### searching for total number"
   ]
  },
  {
   "cell_type": "code",
   "execution_count": null,
   "metadata": {},
   "outputs": [],
   "source": [
    "print(\"total number of cases was: \", len(all_sjc) + len(all_state_appeals))"
   ]
  },
  {
   "cell_type": "code",
   "execution_count": null,
   "metadata": {},
   "outputs": [],
   "source": [
    "result = number_of_cases_per_keywords(cases, important_keywords)\n",
    "print(result)"
   ]
  },
  {
   "cell_type": "code",
   "execution_count": null,
   "metadata": {},
   "outputs": [],
   "source": [
    "print(number_of_cases_per_keywords(appeals, important_keywords))"
   ]
  },
  {
   "cell_type": "code",
   "execution_count": null,
   "metadata": {},
   "outputs": [],
   "source": [
    "important_keywords.remove(\"informant\")\n",
    "print(number_of_cases_per_keywords(cases, important_keywords)[0] + number_of_cases_per_keywords(cases, important_keywords)[0])"
   ]
  },
  {
   "cell_type": "markdown",
   "metadata": {},
   "source": [
    "### Searching terms in text then headnote for cases.csv"
   ]
  },
  {
   "cell_type": "code",
   "execution_count": null,
   "metadata": {
    "scrolled": true
   },
   "outputs": [],
   "source": [
    "print(find_in_text(cases,\"confidential informant\"))"
   ]
  },
  {
   "cell_type": "code",
   "execution_count": null,
   "metadata": {},
   "outputs": [],
   "source": [
    "print(find_in_headnote(cases,\"confidential informant\"))"
   ]
  },
  {
   "cell_type": "code",
   "execution_count": null,
   "metadata": {},
   "outputs": [],
   "source": []
  },
  {
   "cell_type": "code",
   "execution_count": null,
   "metadata": {},
   "outputs": [],
   "source": [
    "print(find_in_text(cases,\" ci \"))"
   ]
  },
  {
   "cell_type": "code",
   "execution_count": null,
   "metadata": {},
   "outputs": [],
   "source": [
    "print(find_in_headnote(cases,\" ci \"))"
   ]
  },
  {
   "cell_type": "code",
   "execution_count": null,
   "metadata": {},
   "outputs": [],
   "source": []
  },
  {
   "cell_type": "code",
   "execution_count": null,
   "metadata": {},
   "outputs": [],
   "source": [
    "print(find_in_text(cases,\"snitch\"))"
   ]
  },
  {
   "cell_type": "code",
   "execution_count": null,
   "metadata": {},
   "outputs": [],
   "source": [
    "print(find_in_headnote(cases,\"snitch\"))"
   ]
  },
  {
   "cell_type": "code",
   "execution_count": null,
   "metadata": {},
   "outputs": [],
   "source": []
  },
  {
   "cell_type": "code",
   "execution_count": null,
   "metadata": {},
   "outputs": [],
   "source": [
    "print(find_in_text(cases,\"informant\"))"
   ]
  },
  {
   "cell_type": "code",
   "execution_count": null,
   "metadata": {},
   "outputs": [],
   "source": [
    "print(find_in_headnote(cases,\"informant\"))"
   ]
  },
  {
   "cell_type": "code",
   "execution_count": null,
   "metadata": {},
   "outputs": [],
   "source": []
  },
  {
   "cell_type": "code",
   "execution_count": null,
   "metadata": {},
   "outputs": [],
   "source": [
    "print(find_in_text(cases,\"gang informant\"))"
   ]
  },
  {
   "cell_type": "code",
   "execution_count": null,
   "metadata": {},
   "outputs": [],
   "source": [
    "print(find_in_headnote(cases,\"gang informant\"))"
   ]
  },
  {
   "cell_type": "code",
   "execution_count": null,
   "metadata": {},
   "outputs": [],
   "source": []
  },
  {
   "cell_type": "code",
   "execution_count": null,
   "metadata": {},
   "outputs": [],
   "source": [
    "print(find_in_text(cases,\"mafia informant\"))"
   ]
  },
  {
   "cell_type": "code",
   "execution_count": null,
   "metadata": {},
   "outputs": [],
   "source": [
    "print(find_in_headnote(cases,\"mafia informant\"))"
   ]
  },
  {
   "cell_type": "code",
   "execution_count": null,
   "metadata": {},
   "outputs": [],
   "source": []
  },
  {
   "cell_type": "code",
   "execution_count": null,
   "metadata": {},
   "outputs": [],
   "source": [
    "print(find_in_text(cases,\"organized crime informant\"))"
   ]
  },
  {
   "cell_type": "code",
   "execution_count": null,
   "metadata": {},
   "outputs": [],
   "source": [
    "print(find_in_headnote(cases,\"organized crime informant\"))"
   ]
  },
  {
   "cell_type": "code",
   "execution_count": null,
   "metadata": {},
   "outputs": [],
   "source": []
  },
  {
   "cell_type": "code",
   "execution_count": null,
   "metadata": {},
   "outputs": [],
   "source": [
    "print(find_in_text(cases,\"Stephen Lynch informant\"))"
   ]
  },
  {
   "cell_type": "code",
   "execution_count": null,
   "metadata": {},
   "outputs": [],
   "source": [
    "print(find_in_headnote(cases,\"Stephen Lynch informant\"))"
   ]
  },
  {
   "cell_type": "code",
   "execution_count": null,
   "metadata": {},
   "outputs": [],
   "source": []
  },
  {
   "cell_type": "code",
   "execution_count": null,
   "metadata": {},
   "outputs": [],
   "source": [
    "print(find_in_text(cases,\"federal prison informant\"))"
   ]
  },
  {
   "cell_type": "code",
   "execution_count": null,
   "metadata": {},
   "outputs": [],
   "source": [
    "print(find_in_headnote(cases,\"federal prison informant\"))"
   ]
  },
  {
   "cell_type": "code",
   "execution_count": null,
   "metadata": {},
   "outputs": [],
   "source": []
  },
  {
   "cell_type": "code",
   "execution_count": null,
   "metadata": {},
   "outputs": [],
   "source": [
    "print(find_in_text(cases,\"prison informant\"))"
   ]
  },
  {
   "cell_type": "code",
   "execution_count": null,
   "metadata": {},
   "outputs": [],
   "source": [
    "print(find_in_headnote(cases,\"prison informant\"))"
   ]
  },
  {
   "cell_type": "code",
   "execution_count": null,
   "metadata": {},
   "outputs": [],
   "source": []
  },
  {
   "cell_type": "code",
   "execution_count": null,
   "metadata": {},
   "outputs": [],
   "source": [
    "print(find_in_text(cases,\"Whitey Bulger informant\"))"
   ]
  },
  {
   "cell_type": "code",
   "execution_count": null,
   "metadata": {},
   "outputs": [],
   "source": [
    "print(find_in_headnote(cases,\"Whitey Bulger informant\"))"
   ]
  },
  {
   "cell_type": "code",
   "execution_count": null,
   "metadata": {},
   "outputs": [],
   "source": []
  },
  {
   "cell_type": "code",
   "execution_count": null,
   "metadata": {},
   "outputs": [],
   "source": [
    "print(find_in_text(cases,\"U.S. government informant\"))"
   ]
  },
  {
   "cell_type": "code",
   "execution_count": null,
   "metadata": {},
   "outputs": [],
   "source": [
    "print(find_in_headnote(cases,\"U.S. government informant\"))"
   ]
  },
  {
   "cell_type": "code",
   "execution_count": null,
   "metadata": {},
   "outputs": [],
   "source": []
  },
  {
   "cell_type": "code",
   "execution_count": null,
   "metadata": {},
   "outputs": [],
   "source": [
    "print(find_in_text(cases,\"government informant\"))"
   ]
  },
  {
   "cell_type": "code",
   "execution_count": null,
   "metadata": {},
   "outputs": [],
   "source": [
    "print(find_in_headnote(cases,\"government informant\"))"
   ]
  },
  {
   "cell_type": "code",
   "execution_count": null,
   "metadata": {},
   "outputs": [],
   "source": []
  },
  {
   "cell_type": "code",
   "execution_count": null,
   "metadata": {},
   "outputs": [],
   "source": [
    "print(find_in_text(cases,\"government snitch\"))"
   ]
  },
  {
   "cell_type": "code",
   "execution_count": null,
   "metadata": {
    "scrolled": true
   },
   "outputs": [],
   "source": [
    "print(find_in_headnote(cases,\"government snitch\"))"
   ]
  },
  {
   "cell_type": "markdown",
   "metadata": {},
   "source": [
    "### Searching terms in text then headnote for cases_appeals.csv"
   ]
  },
  {
   "cell_type": "code",
   "execution_count": null,
   "metadata": {
    "scrolled": true
   },
   "outputs": [],
   "source": [
    "print(find_in_text(appeals,\"confidential informant\"))"
   ]
  },
  {
   "cell_type": "code",
   "execution_count": null,
   "metadata": {},
   "outputs": [],
   "source": [
    "print(find_in_headnote(appeals,\"confidential informant\"))"
   ]
  },
  {
   "cell_type": "code",
   "execution_count": null,
   "metadata": {},
   "outputs": [],
   "source": []
  },
  {
   "cell_type": "code",
   "execution_count": null,
   "metadata": {},
   "outputs": [],
   "source": [
    "print(find_in_text(appeals,\" ci \"))"
   ]
  },
  {
   "cell_type": "code",
   "execution_count": null,
   "metadata": {},
   "outputs": [],
   "source": [
    "print(find_in_headnote(appeals,\" ci \"))"
   ]
  },
  {
   "cell_type": "code",
   "execution_count": null,
   "metadata": {},
   "outputs": [],
   "source": []
  },
  {
   "cell_type": "code",
   "execution_count": null,
   "metadata": {},
   "outputs": [],
   "source": [
    "print(find_in_text(appeals,\"snitch\"))"
   ]
  },
  {
   "cell_type": "code",
   "execution_count": null,
   "metadata": {},
   "outputs": [],
   "source": [
    "print(find_in_headnote(appeals,\"snitch\"))"
   ]
  },
  {
   "cell_type": "code",
   "execution_count": null,
   "metadata": {},
   "outputs": [],
   "source": []
  },
  {
   "cell_type": "code",
   "execution_count": null,
   "metadata": {},
   "outputs": [],
   "source": [
    "print(find_in_text(appeals,\"informant\"))"
   ]
  },
  {
   "cell_type": "code",
   "execution_count": null,
   "metadata": {},
   "outputs": [],
   "source": [
    "print(find_in_headnote(appeals,\"informant\"))"
   ]
  },
  {
   "cell_type": "code",
   "execution_count": null,
   "metadata": {},
   "outputs": [],
   "source": []
  },
  {
   "cell_type": "code",
   "execution_count": null,
   "metadata": {},
   "outputs": [],
   "source": [
    "print(find_in_text(appeals,\"gang informant\"))"
   ]
  },
  {
   "cell_type": "code",
   "execution_count": null,
   "metadata": {},
   "outputs": [],
   "source": [
    "print(find_in_headnote(appeals,\"gang informant\"))"
   ]
  },
  {
   "cell_type": "code",
   "execution_count": null,
   "metadata": {},
   "outputs": [],
   "source": []
  },
  {
   "cell_type": "code",
   "execution_count": null,
   "metadata": {},
   "outputs": [],
   "source": [
    "print(find_in_text(appeals,\"mafia informant\"))"
   ]
  },
  {
   "cell_type": "code",
   "execution_count": null,
   "metadata": {},
   "outputs": [],
   "source": [
    "print(find_in_headnote(appeals,\"mafia informant\"))"
   ]
  },
  {
   "cell_type": "code",
   "execution_count": null,
   "metadata": {},
   "outputs": [],
   "source": []
  },
  {
   "cell_type": "code",
   "execution_count": null,
   "metadata": {},
   "outputs": [],
   "source": [
    "print(find_in_text(appeals,\"organized crime informant\"))"
   ]
  },
  {
   "cell_type": "code",
   "execution_count": null,
   "metadata": {},
   "outputs": [],
   "source": [
    "print(find_in_headnote(appeals,\"organized crime informant\"))"
   ]
  },
  {
   "cell_type": "code",
   "execution_count": null,
   "metadata": {},
   "outputs": [],
   "source": []
  },
  {
   "cell_type": "code",
   "execution_count": null,
   "metadata": {},
   "outputs": [],
   "source": [
    "print(find_in_text(appeals,\"Stephen Lynch informant\"))"
   ]
  },
  {
   "cell_type": "code",
   "execution_count": null,
   "metadata": {},
   "outputs": [],
   "source": [
    "print(find_in_headnote(appeals,\"Stephen Lynch informant\"))"
   ]
  },
  {
   "cell_type": "code",
   "execution_count": null,
   "metadata": {},
   "outputs": [],
   "source": []
  },
  {
   "cell_type": "code",
   "execution_count": null,
   "metadata": {},
   "outputs": [],
   "source": [
    "print(find_in_text(appeals,\"federal prison informant\"))"
   ]
  },
  {
   "cell_type": "code",
   "execution_count": null,
   "metadata": {},
   "outputs": [],
   "source": [
    "print(find_in_headnote(appeals,\"federal prison informant\"))"
   ]
  },
  {
   "cell_type": "code",
   "execution_count": null,
   "metadata": {},
   "outputs": [],
   "source": []
  },
  {
   "cell_type": "code",
   "execution_count": null,
   "metadata": {},
   "outputs": [],
   "source": [
    "print(find_in_text(appeals,\"prison informant\"))"
   ]
  },
  {
   "cell_type": "code",
   "execution_count": null,
   "metadata": {},
   "outputs": [],
   "source": [
    "print(find_in_headnote(appeals,\"prison informant\"))"
   ]
  },
  {
   "cell_type": "code",
   "execution_count": null,
   "metadata": {},
   "outputs": [],
   "source": []
  },
  {
   "cell_type": "code",
   "execution_count": null,
   "metadata": {},
   "outputs": [],
   "source": [
    "print(find_in_text(appeals,\"Whitey Bulger informant\"))"
   ]
  },
  {
   "cell_type": "code",
   "execution_count": null,
   "metadata": {},
   "outputs": [],
   "source": [
    "print(find_in_headnote(appeals,\"Whitey Bulger informant\"))"
   ]
  },
  {
   "cell_type": "code",
   "execution_count": null,
   "metadata": {},
   "outputs": [],
   "source": []
  },
  {
   "cell_type": "code",
   "execution_count": null,
   "metadata": {},
   "outputs": [],
   "source": [
    "print(find_in_text(appeals,\"U.S. government informant\"))"
   ]
  },
  {
   "cell_type": "code",
   "execution_count": null,
   "metadata": {},
   "outputs": [],
   "source": [
    "print(find_in_headnote(appeals,\"U.S. government informant\"))"
   ]
  },
  {
   "cell_type": "code",
   "execution_count": null,
   "metadata": {},
   "outputs": [],
   "source": []
  },
  {
   "cell_type": "code",
   "execution_count": null,
   "metadata": {},
   "outputs": [],
   "source": [
    "print(find_in_text(appeals,\"government informant\"))"
   ]
  },
  {
   "cell_type": "code",
   "execution_count": null,
   "metadata": {},
   "outputs": [],
   "source": [
    "print(find_in_headnote(appeals,\"government informant\"))"
   ]
  },
  {
   "cell_type": "code",
   "execution_count": null,
   "metadata": {},
   "outputs": [],
   "source": []
  },
  {
   "cell_type": "code",
   "execution_count": null,
   "metadata": {},
   "outputs": [],
   "source": [
    "print(find_in_text(appeals,\"government snitch\"))"
   ]
  },
  {
   "cell_type": "code",
   "execution_count": null,
   "metadata": {
    "scrolled": true
   },
   "outputs": [],
   "source": [
    "print(find_in_headnote(appeals,\"government snitch\"))"
   ]
  },
  {
   "cell_type": "code",
   "execution_count": null,
   "metadata": {},
   "outputs": [],
   "source": []
  },
  {
   "cell_type": "code",
   "execution_count": null,
   "metadata": {
    "scrolled": true
   },
   "outputs": [],
   "source": []
  },
  {
   "cell_type": "code",
   "execution_count": null,
   "metadata": {
    "scrolled": true
   },
   "outputs": [],
   "source": [
    "print(len(find_in_text(cases,\"appeal\")))"
   ]
  },
  {
   "cell_type": "code",
   "execution_count": null,
   "metadata": {},
   "outputs": [],
   "source": [
    "len(cases)"
   ]
  },
  {
   "cell_type": "code",
   "execution_count": null,
   "metadata": {},
   "outputs": [],
   "source": []
  }
 ],
 "metadata": {
  "kernelspec": {
   "display_name": "Python 3",
   "language": "python",
   "name": "python3"
  },
  "language_info": {
   "codemirror_mode": {
    "name": "ipython",
    "version": 3
   },
   "file_extension": ".py",
   "mimetype": "text/x-python",
   "name": "python",
   "nbconvert_exporter": "python",
   "pygments_lexer": "ipython3",
   "version": "3.7.4"
  }
 },
 "nbformat": 4,
 "nbformat_minor": 2
}
