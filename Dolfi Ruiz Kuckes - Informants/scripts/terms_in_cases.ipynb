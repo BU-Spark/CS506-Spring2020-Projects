{
 "cells": [
  {
   "cell_type": "code",
   "execution_count": 1,
   "metadata": {},
   "outputs": [
    {
     "name": "stdout",
     "output_type": "stream",
     "text": [
      "\n",
      "imported utility.py\n",
      "\n"
     ]
    }
   ],
   "source": [
    "\"\"\"\n",
    "If you run this block more than once you will get 88 THOUSAND newlines (in the data)\n",
    "\"\"\"\n",
    "\n",
    "import json\n",
    "import numpy as np\n",
    "import pandas\n",
    "\n",
    "#this code makes your editing experience using both python files \n",
    "#and notebooks a lot easier\n",
    "%load_ext autoreload\n",
    "#written to make things easier\n",
    "%aimport utility \n",
    "%autoreload 1\n",
    "\n",
    "#this is done to avoid the double processing problem\n",
    "origin_sjc, origin_state_appeals = utility.combine_cases()\n",
    "all_sjc = origin_sjc.copy(deep=True)\n",
    "all_state_appeals = origin_state_appeals.copy(deep=True)"
   ]
  },
  {
   "cell_type": "code",
   "execution_count": 2,
   "metadata": {},
   "outputs": [],
   "source": [
    "#returns case numbers and sections in which found within a case\n",
    "def find_in_text(case_data,phrase):\n",
    "    cases_found = []\n",
    "    for case in range(len(case_data)):\n",
    "        place_found = []\n",
    "        for i in range(len(case_data[case][\"text\"])):\n",
    "            if case_data[case][\"text\"][i].lower().find(phrase.lower()) != -1:\n",
    "                place_found.append(i)\n",
    "        \n",
    "        if len(place_found) > 0:\n",
    "            cases_found.append([case,place_found])\n",
    "    return cases_found"
   ]
  },
  {
   "cell_type": "code",
   "execution_count": 3,
   "metadata": {},
   "outputs": [],
   "source": [
    "def find_in_headnote(case_data,phrase):\n",
    "    cases_found = []\n",
    "    for case in range(len(case_data)):\n",
    "        place_found = []\n",
    "        for i in range(len(case_data[case][\"headnote\"])):\n",
    "            if case_data[case][\"headnote\"][i].lower().find(phrase.lower()) != -1:\n",
    "                place_found.append(i)\n",
    "        \n",
    "        if len(place_found) > 0:\n",
    "            cases_found.append([case,place_found])\n",
    "    return cases_found"
   ]
  },
  {
   "cell_type": "code",
   "execution_count": 4,
   "metadata": {},
   "outputs": [],
   "source": [
    "# Searches list_of_keywords in string case_data\n",
    "# and returns the total number of cases that contained any keyword\n",
    "#as well as the \"case numbers\", that is, currently\n",
    "#line numbers in the file\n",
    "def number_of_cases_per_keywords(case_data, list_of_keywords):\n",
    "    all_cases = set()\n",
    "    for keyword in list_of_keywords:\n",
    "        all_with_keyword = set()\n",
    "        all_in_text = find_in_text(case_data, keyword)\n",
    "        all_in_headnote = find_in_headnote(case_data, keyword)\n",
    "        for occurence in all_in_text:\n",
    "            all_with_keyword.add(occurence[0])\n",
    "        for occurence in all_in_headnote:\n",
    "            all_with_keyword.add(occurence[0])\n",
    "        all_cases.update(all_with_keyword)\n",
    "    pretty = list(all_cases)\n",
    "    pretty.sort()\n",
    "    return len(pretty), pretty"
   ]
  },
  {
   "cell_type": "code",
   "execution_count": 26,
   "metadata": {},
   "outputs": [],
   "source": [
    "def contains(dataframe, *keywords):\n",
    "    logical_list = dataframe.text.str.contains(keywords[0])\n",
    "    for i in range(1, len(keywords)):\n",
    "        logical_list = logical_list | dataframe.text.str.contains(keywords[i])\n",
    "    return logical_list\n",
    "\n",
    "#elementwise xor:\n",
    "#returns true at i if and only if series1[i] and series2[i]\n",
    "#are different\n",
    "def logic_xor(series1, series2):\n",
    "    return (series1 | series2) & ~(series1 & series2)\n"
   ]
  },
  {
   "cell_type": "code",
   "execution_count": 6,
   "metadata": {},
   "outputs": [],
   "source": [
    "important_keywords = [\"confidential informant\", \" ci \", \"snitch\", \"informant\", \"gang informant\"]"
   ]
  },
  {
   "cell_type": "code",
   "execution_count": 27,
   "metadata": {},
   "outputs": [
    {
     "name": "stdout",
     "output_type": "stream",
     "text": [
      "statistics of how we are double counting: values represent how many times an index appears\n",
      "count    2009.000000\n",
      "mean        1.321553\n",
      "std         0.467189\n",
      "min         1.000000\n",
      "25%         1.000000\n",
      "50%         1.000000\n",
      "75%         2.000000\n",
      "max         2.000000\n",
      "dtype: float64 \n",
      "\n",
      "\n",
      "showing you in the other list, max is like half of the whole list (statistics a)\n",
      "count    4356.000000\n",
      "mean     1104.379017\n",
      "std       655.543994\n",
      "min         0.000000\n",
      "25%       544.000000\n",
      "50%      1088.500000\n",
      "75%      1633.000000\n",
      "max      2440.000000\n",
      "dtype: float64 \n",
      "\n",
      "statistics of how bad the problem is in that list\n",
      "count    2441.000000\n",
      "mean        1.784515\n",
      "std         0.411243\n",
      "min         1.000000\n",
      "25%         2.000000\n",
      "50%         2.000000\n",
      "75%         2.000000\n",
      "max         2.000000\n",
      "dtype: float64 \n",
      "\n",
      "\n",
      "thus, if you sort things, it looks like this\n",
      "                                                case  \\\n",
      "0   STEPHANIE  & another vs. MARCIA SZABO & anoth...   \n",
      "0  CITY OF CAMBRIDGE vs. EDWARD RONALD BALDASARO ...   \n",
      "1  JOHN V. SPENCER, individually and as trustee, ...   \n",
      "1   RICHARD L. HEALER & others vs. DEPARTMENT OF ...   \n",
      "2         SVITLANA VORONTSOVA vs. JAROSLAV WARONZOV.   \n",
      "2                     JOHN L. SULLIVAN vs. TOWN OF B   \n",
      "\n",
      "                                            headnote  \\\n",
      "0  Practice, Civil, Summary judgment. Real Proper...   \n",
      "0  The Civil Service Commission correctly conclud...   \n",
      "1  In an action for breach of contract and breach...   \n",
      "1  Massachusetts Clean Water Act. Administrative ...   \n",
      "2  Divorce and Separation, Foreign judgment. Comi...   \n",
      "2  The Public Employee Retirement Administration ...   \n",
      "\n",
      "                                                text  \\\n",
      "0  \\nOn August 15, 2006, the plaintiffs, Stephani...   \n",
      "0  PORADA, J. The city of Cambridge (city) appeal...   \n",
      "1  RAPOZA, J. The plaintiffs appeal from summary ...   \n",
      "1  \\nThis case arises from the grant of a groundw...   \n",
      "2  \\nWe are asked to decide whether a judge of th...   \n",
      "2  DREBEN, J. In August, 1977, the plaintiff, a p...   \n",
      "\n",
      "                               date  \n",
      "0                               NaN  \n",
      "0   April 6, 2000 - August 18, 2000  \n",
      "1    May 17, 1999 - August 21, 2000  \n",
      "1                               NaN  \n",
      "2                               NaN  \n",
      "2  March 13, 2000 - August 21, 2000   \n",
      "\n"
     ]
    }
   ],
   "source": [
    "#Something weird is going on where there's duplicate indeces: I'm not sure how to handle this\n",
    "print(\"statistics of how we are double counting: values represent how many times an index appears\")\n",
    "print(all_sjc.index.to_series().value_counts().describe(), \"\\n\\n\")\n",
    "      \n",
    "print(\"showing you in the other list, max is like half of the whole list (statistics a)\")\n",
    "print(all_state_appeals.index.to_series().describe(), \"\\n\")\n",
    "\n",
    "print(\"statistics of how bad the problem is in that list\")\n",
    "print(all_state_appeals.index.to_series().value_counts().describe(), \"\\n\\n\")\n",
    "\n",
    "print(\"thus, if you sort things, it looks like this\")\n",
    "print(all_state_appeals.sort_index()[0:6], \"\\n\")\n",
    "\n"
   ]
  },
  {
   "cell_type": "code",
   "execution_count": 28,
   "metadata": {},
   "outputs": [
    {
     "name": "stdout",
     "output_type": "stream",
     "text": [
      "this leads to the following problem:\n",
      "0    \\nThe present case is the most recent in a ser...\n",
      "0    COWIN, J. We granted the Commonwealth's applic...\n",
      "Name: text, dtype: object\n"
     ]
    }
   ],
   "source": [
    "print(\"this leads to the following problem:\")\n",
    "print(all_sjc.loc[ 0, : ].text)"
   ]
  },
  {
   "cell_type": "code",
   "execution_count": 29,
   "metadata": {},
   "outputs": [
    {
     "name": "stdout",
     "output_type": "stream",
     "text": [
      "['\\nThis case arises from the grant of a groundwater discharge permit (permit) to the town of Falmouth (town) for the construction and operation of a wastewater treatment facility (treatment facility) and leach field.\\nThe plaintiffs are abutters to the site of the proposed treatment facility or the proposed leach field, and some or all of the plaintiffs rely on private water wells near the site of the proposed treatment facility or leach field as their sole source of drinking water. Acting on the plaintiffs\\' motion for judgment on the pleadings, a judge in the Superior Court upheld the decision of an acting commissioner (commissioner) of the Department of Environmental Protection (department) affirming the grant of the permit to the town.\\nOn appeal, the plaintiffs argue that the commissioner erred in granting the permit because (1) the permit does not provide a reasonable margin of safety to account for any lack of knowledge\\nPage 10\\nconcerning the impact of the treatment facility\\'s discharge on the quality of the groundwaters and on nearby residential homes served by private drinking water wells; (2) the permit does not contain monitoring requirements for known toxic pollutants that are found in residential sewage; (3) the town failed to meet its burden to prove that the discharge from the treatment facility would not harm downgradient drinking water wells; (4) the treatment facility\\'s discharge would harm nearby wetlands; (5) the commissioner improperly rejected an alleged finding that the discharge from the treatment facility would degrade the groundwater; and (6) both the administrative magistrate and the commissioner failed to give due weight to the testimony of the plaintiffs\\' expert, who opined that discharge from the treatment facility would harm nearby wetlands. We affirm.\\n1. Factual background. The treatment facility is part of a plan developed by the town to address a public health emergency within the New Silver Beach area of Falmouth. The New Silver Beach area lies in an area of low elevation by the waters of Buzzards Bay. There is no public sewer in the New Silver Beach area; approximately 210 homes located in the area are served by private septic systems. Due, in part, to high groundwater, many of the private septic systems do not satisfy the regulatory standards governing on-site sewage treatment and disposal systems (Title 5 standards).\\n\\nThe town plans to alleviate the problems in the New Silver Beach area by piping wastewater from New Silver Beach approximately 1.5 miles inland to the newly constructed treatment facility. The treatment facility will use sequencing batch reactor technology, a biological treatment system designed to remove nitrogen from wastewater. Treated wastewater, or \"effluent,\" will be discharged into the ground through a leach field constructed to the rear of the site of the North Falmouth elementary school. Although the elementary school currently has a septic system that satisfies Title 5 standards, the town plans to treat wastewater from the elementary school at the treatment facility. The permit limits the treatment facility to a discharge of 60,000 gallons per day (gpd). All wastewater to be treated at the treatment facility will be residential wastewater or wastewater from\\nPage 11\\nthe elementary school. The plaintiffs\\' homes, which are not within the New Silver Beach area, will not be connected to the new treatment facility.\\n2. Regulatory background. \"The Massachusetts Clean Water Act (Act), G. L. c. 21, §§ 26-53, is a comprehensive program for protection of the surface and groundwaters of the Commonwealth. General Laws c. 21, § 27 (6), vests authority in the department to adopt water quality standards and to prescribe effluent limitation[s], permit programs, and procedures for management and disposal of pollutants.\" Friends & Fishers of the Edgartown Great Pond, Inc. v. Department of Envtl. Protection,\\n, 837 (2006) (Friends & Fishers). Under the Act, the department may grant a permit for the discharge of pollutants into the waters of the Commonwealth or for the construction of a wastewater treatment facility \"only if the discharge and the treatment [facility] . . . will, in [the department\\'s] judgment, conform to effluent limitations specified in the permit, and will conform to regulations, receiving water standards and comprehensive plans adopted by the [department].\" G. L. c. 21, § 43(5), as amended through St. 1973, c. 546, § 9. \"The statutory purpose of the Act, expressed through its text, makes it clear that the department has the discretion to create regulations that will best preserve and also restore the quality of our waters.\" Friends & Fishers, 446 Mass. at 838.\\nThe department regulates the discharge of pollutants into the groundwaters of the Commonwealth through its groundwater discharge permit program, 314 Code Mass. Regs. §§ 5.00 et seq. (1996). Under the program, the department is prohibited from issuing a groundwater discharge permit \"when the discharge will cause or contribute to a condition in contravention of\" the groundwater quality standards, 314 Code Mass. Regs. §§ 6.00 et seq. (1996),\\nor the surface water quality standards, 314 Code Mass. Regs. §§ 4.00 et seq. (1996). See 314 Code\\nPage 12\\nMass. Regs. § 5.06 (1997). Permits issued pursuant to the groundwater discharge permit program contain general conditions, which are applicable to all permits, and may contain special conditions, which are established by the department on a case-by-case basis. 314 Code Mass. Regs. § 5.10 (1996). Each permit contains \"monitoring requirements to assure compliance with permit limitations and conditions.\" 314 Code Mass. Regs. § 5.10(6) (1996).\\nThe groundwaters of the Commonwealth are grouped into three classifications: Class I, Class II, and Class III. See 314 Code Mass. Regs. § 6.03 (1996).\\nSection 6.06 of the groundwater quality standards provides limitations on various enumerated pollutants (or \"parameters\") applicable to each groundwater class. 314 Code Mass. Regs. § 6.06 (1996). A groundwater discharge permit issued by the department must contain \"such conditions as the Department may deem necessary to insure compliance with the standards established in [§] 6.06.\" 314 Code Mass. Regs. § 6.07(1) (1996). The treatment facility at issue here will discharge effluent into Class I groundwaters, \"fresh ground waters . . . designated as a source of potable water supply.\" 314 Code Mass. Regs. § 6.03(1) (1996). \"The determination of compliance or non-compliance of . . . waste discharges with the requirements of [the groundwater quality standards] shall be made through tests or analytical determinations of ground water or effluent samples collected, transported and stored in such manner as is approved by the Department.\" 314 Code Mass. Regs. § 6.08(1) (1996). The plaintiffs argue that, in affirming the issuance of the permit to the town, the commissioner misapplied these regulations.\\n3. Standard of review. A party aggrieved by the commissioner\\'s final decision may appeal to the Superior Court pursuant to G. L. c. 30A, § 14. Judicial review is confined to the administrative record. G. L. c. 30A, § 14(5). The burden is on the appealing\\nPage 13\\nparty to demonstrate the invalidity of the commissioner\\'s decision. Merisme v. Board of Appeals on Motor Vehicle Liab. Policies & Bonds,\\n, 474 (1989).\\nWe review the commissioner\\'s decision to determine whether it was \"unsupported by substantial evidence, arbitrary and capricious, or otherwise based on an error of law.\" Friends & Fishers, 446 Mass. at 836. \"Substantial evidence [is] such evidence as a reasonable mind might accept as adequate to support a conclusion.\" G. L. c. 30A, § 1(6). The applicable standard of review is \"highly deferential to the agency\" and requires the reviewing court to accord \"due weight to the experience, technical competence, and specialized knowledge of the agency, as well as to the discretionary authority conferred upon it.\" Friends & Fishers, 446 Mass. at 836-837, quoting from Flint v. Commissioner of Pub. Welfare,\\n, 420 (1992).\\n\"We give deference to the decision of an agency interpreting its own regulations . . . [and] do not intrude lightly within the agency\\'s area of expertise, as long as the regulations are interpreted with reference to their purpose and to the purpose and design of the controlling statute.\" Friends & Fishers, supra at 837 (quotations and citations omitted).\\n4. Reasonable margin of safety. The plaintiffs argue that the department has failed to provide a reasonable margin of safety to account for any lack of knowledge regarding the impact of the treatment facility\\'s discharge on the quality of the groundwaters and on the plaintiffs\\' wells.\\nThe minimum acceptable separation distance between private wells and the leaching facility of a small treatment plant with land disposal is one hundred\\nPage 14\\nfeet. Department of Environmental Protection, Guidelines for the Design, Construction, Operation and Maintenance of Small Sewage Treatment Facilities with Land Disposal 42 (2d draft Jan. 1988).\\nThe private well closest to the proposed leach field is more than 400 feet from the leach field; the commissioner thus concluded reasonably that the plaintiffs had not presented sufficient evidence to show that their wells would be polluted by the treatment facility\\'s discharge. The department need not establish permit conditions based on the most pessimistic projection of pollution presented by the plaintiffs. See Friends & Fishers, 446 Mass. at 840-841.\\n5. Monitoring. The plaintiffs also argue that the permit should not have been issued without a requirement that the town monitor the treatment facility\\'s discharge for all applicable parameters listed within the regulations, and for toxic chemicals used in ordinary households. We disagree. The Legislature \"has chosen to put into the hands of an expert administrative agency the decision making regarding complex issues of environmental . . . science,\" Friends & Fishers, supra at 838, quoting from Brookline v. Commissioner of the Dept. of Envtl. Quality Engr.,\\n, 413 (1986), and has allowed the agency considerable discretion in determining monitoring of applicable parameters in order to carry out its duty to insure that a waste discharge will conform to the requirements of the groundwater quality standards. See Friends & Fishers, supra. The regulations do not explicitly require such monitoring. The commissioner\\'s determination that \"[t]he regulations governing monitoring of ground water discharges at 314 C[ode] M[ass.] R[egs. §] 5.10(6) [1996] and 314 C[ode] M[ass.] R[egs. §] 6.08 [1996] do not require monitoring of each parameter\" is reasonable in light of the regulations\\' purpose and the purpose and design of the Act.\\nBased on its determination of the parameters of concern for sanitary wastewater from residential uses and an elementary school, the department issued to the town a permit that includes conditions required to maintain the quality of the receiving groundwaters. In accordance with the regulations, the permit contains a total nitrogen discharge limit of ten milligrams per\\nPage 15\\nliter (mg/l) and a nitrate-nitrogen discharge limit of 10 mg/l. It requires daily, monthly, or annual analysis, at the pump chamber to the leach field, of the effluent that is discharged into the ground, including monthly analysis of nitrogen content and annual analysis of volatile organic compounds. It also requires installation of monitoring wells (one upgradient and two downgradient) in order to monitor water quality, including quarterly analysis of nitrogen content and annual analysis of volatile organic compounds. The permit comports with the department\\'s statutory mandate to protect the groundwaters of the Commonwealth.\\nThe plaintiffs have raised the possibility that toxic household chemicals may enter the treatment facility\\'s discharge, disrupt the facility\\'s treatment system, and cause pollution of their wells, and on that basis argue that the department must require the town to monitor the treatment facility\\'s discharge for toxic chemicals used in ordinary households. Based upon our review of the record, the commissioner reasonably could have determined that the plaintiffs failed to present sufficient evidence to show that such toxins were likely to be present in concentrations that pose a threat to the quality of the receiving groundwaters. The regulations do not require the department to establish permit conditions based on the plaintiffs\\' speculative concerns. See Friends & Fishers, 446 Mass. at 840 (plaintiffs\\' argument that the department must establish permit limitations based on the most pessimistic projection of pollution failed).\\n6. Burden of proof. The plaintiffs argue that, contrary to the commissioner\\'s determination, in the course of the agency proceedings, they raised a serious issue of risk that toxic chemicals used in ordinary households would enter the treatment facility\\'s discharge and cause pollution of their wells, and that the town did not meet its burden to show that the treatment facility\\'s discharge was safe. \"[O]nce a serious issue of risk has been raised by an opponent [of a proposed facility], the applicant bears the burden of proving that the facility will be safe with regard to that issue.\" Brookline v. Commissioner of the Dept. of Envtl. Quality Engr., 398 Mass. at 412. The commissioner reasonably concluded that the plaintiffs\\' evidence was insufficient to shift the burden of proof because the plaintiffs failed to offer sufficient evidence to show that toxic household chemicals were likely to be present in concentrations that pose a threat to the quality of the receiving\\nPage 16\\ngroundwaters. The town was not required to respond to the plaintiffs\\' speculative and unsupported assertions. See id. at 412-413.\\n7. Surface water quality standards. The plaintiffs next contend that the treatment facility\\'s discharge \"will cause or contribute to a condition in contravention of\" the surface water quality standards, thus violating the groundwater discharge permit regulations. See 314 Code Mass. Regs. § 5.06 (1997). They argue that the department did not adequately consider the water quality of the nearby vernal pool and marsh because it did not require the town to analyze the existing \"background levels\" of any pollutants in those surface waters. Substantial evidence in the record supports the commissioner\\'s decision to uphold the issuance of the permit.\\nAlthough the groundwater discharge permit program draws upon both the groundwater quality standards and the surface water quality standards in appropriate cases, most surface water quality standards do not apply to a permit for discharges into groundwater. Friends & Fishers, 446 Mass. at 842. Because the treatment facility will not discharge effluent directly into either the vernal pool or the marsh, \"the only relevant surface water quality standards are those dealing with the nitrogen loading and eutrophication [\\n] of [surface waters] from nonpoint source discharges into groundwater, 314 Code Mass. Regs. § 4.05(5)(c) [1997], and, to some extent, the antidegradation provisions of the surface water quality standards, 314 Code Mass. Regs. § 4.04(5) [1997].\" Ibid.\\nThe commissioner\\'s decision to grant the permit is supported by evidence in the record showing that the treatment facility will lower the risk of eutrophication in the vernal pool and marsh. Amy Lowell, the wastewater superintendent for the town, stated, in written testimony submitted to the department, that the elementary school and approximately 210 New Silver Beach homes are currently discharging untreated wastewater into the ground. The treatment facility would reduce the impact of wastewater upon surface waters because the wastewater from the elementary school and New Silver Beach homes would be subject\\nPage 17\\nto nitrogen removal at the treatment facility before it is discharged into the ground.\\nIn addition, the commissioner considered testimony from Brian Dudley, the department staff engineer who reviewed and signed the permit. He averred that the permit\\'s 10 mg/l limit on nitrogen loading into the ground is more stringent than the limit provided in the regulations for discharge into Class I groundwaters because the 10 mg/l limit in the regulations is required only for wastewater flows in excess of 150,000 gpd,\\nwhereas the treatment facility\\'s flow limit is 60,000 gpd.\\nAt the hearing before the administrative magistrate, the plaintiffs argued that, because of the direction of groundwater flow, nutrients from the treatment facility\\'s discharge would flow towards and mix with the water in the vernal pool and marsh, and would degrade the quality of these surface waters. The administrative magistrate and the commissioner could reasonably conclude that the plaintiffs failed to present sufficient evidence to support this claim. Thus, the department\\'s decision to uphold the issuance of the permit to the town, without requiring the town to conduct analytical tests of the water within the vernal pool and marsh, is supported by substantial evidence.\\n8. Magistrate\\'s findings. The plaintiffs argue that the commissioner improperly rejected that part of the administrative magistrate\\'s recommended decision implying that the discharge from the treatment facility would degrade the receiving groundwater from Class I to Class III. They argue that where there is doubt about the accuracy of the administrative magistrate\\'s determination, the commissioner is required to remand the case to the administrative magistrate for additional findings or the taking of additional evidence. As we read the recommended decision, it contained no such implication, and in any event, there was no error.\\n\"Recommended decisions should include findings of fact, conclusions of law and recommendations on issues necessary to the decision.\" 310 Code Mass. Regs. § 1.01(14)(a) (2004). \"A final decision may adopt, modify, or reject a recommended decision, with a statement of reasons.\" 310 Code Mass. Regs.\\nPage 18\\n§ 1.01(14)(b) (2004). In his recommended decision, the administrative magistrate concluded that the department could issue a groundwater discharge permit to the town for the treatment facility project even if the discharge from the treatment facility would degrade groundwater at the site. In the final decision, the commissioner stated:\\n\"While I concur with the Recommended Decision that the regulations allow the reclassification of ground water from Class I to Class III, the Town has not applied for, nor has the Department given any indication it would approve, a reclassification to accommodate [the treatment facility] project. . . . In fact, the permit contains effluent limitations adequate to meet Class I standards . . . . I reject the implication that a Class III designation might be necessary to support the issuance of this permit.\"\\nThe commissioner\\'s statement of reasons was sufficient.\\n\\n        9. Terry Bauer\\'s testimony. Finally, the plaintiffs argue that both the administrative magistrate and the commissioner failed to give due weight to the testimony of their expert, Terry Bauer,\\nwho opined that discharge from the treatment facility would harm nearby wetlands. At the agency hearing, Bauer stated that nitrogen and phosphorus from the treatment facility\\'s discharge would cause eutrophication in the vernal pool and the marsh. There is no merit to the plaintiffs\\' contention that the administrative magistrate impermissibly excluded Bauer\\'s testimony. Rather, the administrative magistrate considered Bauer\\'s testimony\\nand determined that it was not credible. Specifically, the administrative magistrate found that the plaintiffs \"did not establish that Bauer\\'s training as a geologist or his work experience qualify him to provide expert opinion on how the concentrations\\nPage 19\\nof nitrogen and phosphorus allowed by the discharge permit will affect the vernal pool and marsh. Accordingly, his testimony on this point is entitled to no weight.\"\\nIn assessing the credibility of Bauer\\'s testimony, the administrative magistrate properly took into account Bauer\\'s training and expertise. See Letch v. Daniels,\\n, 69 (1987), citing Commonwealth v. Schulze,\\n, 740 (1983) (the extent of the training and experience of an expert witness appropriately bears on the weight that should be accorded his testimony). The administrative magistrate\\'s decision to give \"no weight\" to Bauer\\'s testimony as to eutrophication was based on an explicit and objectively adequate reason. See New Boston Garden Corp. v. Assessors of Boston,\\n, 470-471 (1981), quoting from Jaffe, Judicial Control of Administrative Action 598, 607 (1965) (\"[E]vidence of a party having the burden of proof may not be disbelieved without an explicit and objectively adequate reason\"). Because the plaintiffs failed to meet their burden to prove that nutrients from the treatment facility\\'s discharge would cause eutrophication in the vernal pool and marsh,\\nthe commissioner properly resolved the issue in favor of the defendants, even in the absence of affirmative evidence showing that the treatment facility\\'s discharge would not cause eutrophication.\\n\\nConclusion. For the reasons stated above, we affirm the judgment of the Superior Court.\\nSo ordered.']\n",
      "\n",
      "This case arises from the grant of a groundwater discharge permit (permit) to the town of Falmouth (town) for the construction and operation of a wastewater treatment facility (treatment facility) and leach field.\n",
      "The plaintiffs are abutters to the site of the proposed treatment facility or the proposed leach field, and some or all of the plaintiffs rely on private water wells near the site of the proposed treatment facility or leach field as their sole source of drinking water. Acting on the plaintiffs' motion for judgment on the pleadings, a judge in the Superior Court upheld the decision of an acting commissioner (commissioner) of the Department of Environmental Protection (department) affirming the grant of the permit to the town.\n",
      "On appeal, the plaintiffs argue that the commissioner erred in granting the permit because (1) the permit does not provide a reasonable margin of safety to account for any lack of knowledge\n",
      "Page 10\n",
      "concerning the impact of the treatment facility's discharge on the quality of the groundwaters and on nearby residential homes served by private drinking water wells; (2) the permit does not contain monitoring requirements for known toxic pollutants that are found in residential sewage; (3) the town failed to meet its burden to prove that the discharge from the treatment facility would not harm downgradient drinking water wells; (4) the treatment facility's discharge would harm nearby wetlands; (5) the commissioner improperly rejected an alleged finding that the discharge from the treatment facility would degrade the groundwater; and (6) both the administrative magistrate and the commissioner failed to give due weight to the testimony of the plaintiffs' expert, who opined that discharge from the treatment facility would harm nearby wetlands. We affirm.\n",
      "1. Factual background. The treatment facility is part of a plan developed by the town to address a public health emergency within the New Silver Beach area of Falmouth. The New Silver Beach area lies in an area of low elevation by the waters of Buzzards Bay. There is no public sewer in the New Silver Beach area; approximately 210 homes located in the area are served by private septic systems. Due, in part, to high groundwater, many of the private septic systems do not satisfy the regulatory standards governing on-site sewage treatment and disposal systems (Title 5 standards).\n",
      "\n",
      "The town plans to alleviate the problems in the New Silver Beach area by piping wastewater from New Silver Beach approximately 1.5 miles inland to the newly constructed treatment facility. The treatment facility will use sequencing batch reactor technology, a biological treatment system designed to remove nitrogen from wastewater. Treated wastewater, or \"effluent,\" will be discharged into the ground through a leach field constructed to the rear of the site of the North Falmouth elementary school. Although the elementary school currently has a septic system that satisfies Title 5 standards, the town plans to treat wastewater from the elementary school at the treatment facility. The permit limits the treatment facility to a discharge of 60,000 gallons per day (gpd). All wastewater to be treated at the treatment facility will be residential wastewater or wastewater from\n",
      "Page 11\n",
      "the elementary school. The plaintiffs' homes, which are not within the New Silver Beach area, will not be connected to the new treatment facility.\n",
      "2. Regulatory background. \"The Massachusetts Clean Water Act (Act), G. L. c. 21, §§ 26-53, is a comprehensive program for protection of the surface and groundwaters of the Commonwealth. General Laws c. 21, § 27 (6), vests authority in the department to adopt water quality standards and to prescribe effluent limitation[s], permit programs, and procedures for management and disposal of pollutants.\" Friends & Fishers of the Edgartown Great Pond, Inc. v. Department of Envtl. Protection,\n",
      ", 837 (2006) (Friends & Fishers). Under the Act, the department may grant a permit for the discharge of pollutants into the waters of the Commonwealth or for the construction of a wastewater treatment facility \"only if the discharge and the treatment [facility] . . . will, in [the department's] judgment, conform to effluent limitations specified in the permit, and will conform to regulations, receiving water standards and comprehensive plans adopted by the [department].\" G. L. c. 21, § 43(5), as amended through St. 1973, c. 546, § 9. \"The statutory purpose of the Act, expressed through its text, makes it clear that the department has the discretion to create regulations that will best preserve and also restore the quality of our waters.\" Friends & Fishers, 446 Mass. at 838.\n",
      "The department regulates the discharge of pollutants into the groundwaters of the Commonwealth through its groundwater discharge permit program, 314 Code Mass. Regs. §§ 5.00 et seq. (1996). Under the program, the department is prohibited from issuing a groundwater discharge permit \"when the discharge will cause or contribute to a condition in contravention of\" the groundwater quality standards, 314 Code Mass. Regs. §§ 6.00 et seq. (1996),\n",
      "or the surface water quality standards, 314 Code Mass. Regs. §§ 4.00 et seq. (1996). See 314 Code\n",
      "Page 12\n",
      "Mass. Regs. § 5.06 (1997). Permits issued pursuant to the groundwater discharge permit program contain general conditions, which are applicable to all permits, and may contain special conditions, which are established by the department on a case-by-case basis. 314 Code Mass. Regs. § 5.10 (1996). Each permit contains \"monitoring requirements to assure compliance with permit limitations and conditions.\" 314 Code Mass. Regs. § 5.10(6) (1996).\n",
      "The groundwaters of the Commonwealth are grouped into three classifications: Class I, Class II, and Class III. See 314 Code Mass. Regs. § 6.03 (1996).\n",
      "Section 6.06 of the groundwater quality standards provides limitations on various enumerated pollutants (or \"parameters\") applicable to each groundwater class. 314 Code Mass. Regs. § 6.06 (1996). A groundwater discharge permit issued by the department must contain \"such conditions as the Department may deem necessary to insure compliance with the standards established in [§] 6.06.\" 314 Code Mass. Regs. § 6.07(1) (1996). The treatment facility at issue here will discharge effluent into Class I groundwaters, \"fresh ground waters . . . designated as a source of potable water supply.\" 314 Code Mass. Regs. § 6.03(1) (1996). \"The determination of compliance or non-compliance of . . . waste discharges with the requirements of [the groundwater quality standards] shall be made through tests or analytical determinations of ground water or effluent samples collected, transported and stored in such manner as is approved by the Department.\" 314 Code Mass. Regs. § 6.08(1) (1996). The plaintiffs argue that, in affirming the issuance of the permit to the town, the commissioner misapplied these regulations.\n",
      "3. Standard of review. A party aggrieved by the commissioner's final decision may appeal to the Superior Court pursuant to G. L. c. 30A, § 14. Judicial review is confined to the administrative record. G. L. c. 30A, § 14(5). The burden is on the appealing\n",
      "Page 13\n",
      "party to demonstrate the invalidity of the commissioner's decision. Merisme v. Board of Appeals on Motor Vehicle Liab. Policies & Bonds,\n",
      ", 474 (1989).\n",
      "We review the commissioner's decision to determine whether it was \"unsupported by substantial evidence, arbitrary and capricious, or otherwise based on an error of law.\" Friends & Fishers, 446 Mass. at 836. \"Substantial evidence [is] such evidence as a reasonable mind might accept as adequate to support a conclusion.\" G. L. c. 30A, § 1(6). The applicable standard of review is \"highly deferential to the agency\" and requires the reviewing court to accord \"due weight to the experience, technical competence, and specialized knowledge of the agency, as well as to the discretionary authority conferred upon it.\" Friends & Fishers, 446 Mass. at 836-837, quoting from Flint v. Commissioner of Pub. Welfare,\n",
      ", 420 (1992).\n",
      "\"We give deference to the decision of an agency interpreting its own regulations . . . [and] do not intrude lightly within the agency's area of expertise, as long as the regulations are interpreted with reference to their purpose and to the purpose and design of the controlling statute.\" Friends & Fishers, supra at 837 (quotations and citations omitted).\n",
      "4. Reasonable margin of safety. The plaintiffs argue that the department has failed to provide a reasonable margin of safety to account for any lack of knowledge regarding the impact of the treatment facility's discharge on the quality of the groundwaters and on the plaintiffs' wells.\n",
      "The minimum acceptable separation distance between private wells and the leaching facility of a small treatment plant with land disposal is one hundred\n",
      "Page 14\n",
      "feet. Department of Environmental Protection, Guidelines for the Design, Construction, Operation and Maintenance of Small Sewage Treatment Facilities with Land Disposal 42 (2d draft Jan. 1988).\n",
      "The private well closest to the proposed leach field is more than 400 feet from the leach field; the commissioner thus concluded reasonably that the plaintiffs had not presented sufficient evidence to show that their wells would be polluted by the treatment facility's discharge. The department need not establish permit conditions based on the most pessimistic projection of pollution presented by the plaintiffs. See Friends & Fishers, 446 Mass. at 840-841.\n",
      "5. Monitoring. The plaintiffs also argue that the permit should not have been issued without a requirement that the town monitor the treatment facility's discharge for all applicable parameters listed within the regulations, and for toxic chemicals used in ordinary households. We disagree. The Legislature \"has chosen to put into the hands of an expert administrative agency the decision making regarding complex issues of environmental . . . science,\" Friends & Fishers, supra at 838, quoting from Brookline v. Commissioner of the Dept. of Envtl. Quality Engr.,\n",
      ", 413 (1986), and has allowed the agency considerable discretion in determining monitoring of applicable parameters in order to carry out its duty to insure that a waste discharge will conform to the requirements of the groundwater quality standards. See Friends & Fishers, supra. The regulations do not explicitly require such monitoring. The commissioner's determination that \"[t]he regulations governing monitoring of ground water discharges at 314 C[ode] M[ass.] R[egs. §] 5.10(6) [1996] and 314 C[ode] M[ass.] R[egs. §] 6.08 [1996] do not require monitoring of each parameter\" is reasonable in light of the regulations' purpose and the purpose and design of the Act.\n",
      "Based on its determination of the parameters of concern for sanitary wastewater from residential uses and an elementary school, the department issued to the town a permit that includes conditions required to maintain the quality of the receiving groundwaters. In accordance with the regulations, the permit contains a total nitrogen discharge limit of ten milligrams per\n",
      "Page 15\n",
      "liter (mg/l) and a nitrate-nitrogen discharge limit of 10 mg/l. It requires daily, monthly, or annual analysis, at the pump chamber to the leach field, of the effluent that is discharged into the ground, including monthly analysis of nitrogen content and annual analysis of volatile organic compounds. It also requires installation of monitoring wells (one upgradient and two downgradient) in order to monitor water quality, including quarterly analysis of nitrogen content and annual analysis of volatile organic compounds. The permit comports with the department's statutory mandate to protect the groundwaters of the Commonwealth.\n",
      "The plaintiffs have raised the possibility that toxic household chemicals may enter the treatment facility's discharge, disrupt the facility's treatment system, and cause pollution of their wells, and on that basis argue that the department must require the town to monitor the treatment facility's discharge for toxic chemicals used in ordinary households. Based upon our review of the record, the commissioner reasonably could have determined that the plaintiffs failed to present sufficient evidence to show that such toxins were likely to be present in concentrations that pose a threat to the quality of the receiving groundwaters. The regulations do not require the department to establish permit conditions based on the plaintiffs' speculative concerns. See Friends & Fishers, 446 Mass. at 840 (plaintiffs' argument that the department must establish permit limitations based on the most pessimistic projection of pollution failed).\n",
      "6. Burden of proof. The plaintiffs argue that, contrary to the commissioner's determination, in the course of the agency proceedings, they raised a serious issue of risk that toxic chemicals used in ordinary households would enter the treatment facility's discharge and cause pollution of their wells, and that the town did not meet its burden to show that the treatment facility's discharge was safe. \"[O]nce a serious issue of risk has been raised by an opponent [of a proposed facility], the applicant bears the burden of proving that the facility will be safe with regard to that issue.\" Brookline v. Commissioner of the Dept. of Envtl. Quality Engr., 398 Mass. at 412. The commissioner reasonably concluded that the plaintiffs' evidence was insufficient to shift the burden of proof because the plaintiffs failed to offer sufficient evidence to show that toxic household chemicals were likely to be present in concentrations that pose a threat to the quality of the receiving\n",
      "Page 16\n",
      "groundwaters. The town was not required to respond to the plaintiffs' speculative and unsupported assertions. See id. at 412-413.\n",
      "7. Surface water quality standards. The plaintiffs next contend that the treatment facility's discharge \"will cause or contribute to a condition in contravention of\" the surface water quality standards, thus violating the groundwater discharge permit regulations. See 314 Code Mass. Regs. § 5.06 (1997). They argue that the department did not adequately consider the water quality of the nearby vernal pool and marsh because it did not require the town to analyze the existing \"background levels\" of any pollutants in those surface waters. Substantial evidence in the record supports the commissioner's decision to uphold the issuance of the permit.\n",
      "Although the groundwater discharge permit program draws upon both the groundwater quality standards and the surface water quality standards in appropriate cases, most surface water quality standards do not apply to a permit for discharges into groundwater. Friends & Fishers, 446 Mass. at 842. Because the treatment facility will not discharge effluent directly into either the vernal pool or the marsh, \"the only relevant surface water quality standards are those dealing with the nitrogen loading and eutrophication [\n",
      "] of [surface waters] from nonpoint source discharges into groundwater, 314 Code Mass. Regs. § 4.05(5)(c) [1997], and, to some extent, the antidegradation provisions of the surface water quality standards, 314 Code Mass. Regs. § 4.04(5) [1997].\" Ibid.\n",
      "The commissioner's decision to grant the permit is supported by evidence in the record showing that the treatment facility will lower the risk of eutrophication in the vernal pool and marsh. Amy Lowell, the wastewater superintendent for the town, stated, in written testimony submitted to the department, that the elementary school and approximately 210 New Silver Beach homes are currently discharging untreated wastewater into the ground. The treatment facility would reduce the impact of wastewater upon surface waters because the wastewater from the elementary school and New Silver Beach homes would be subject\n",
      "Page 17\n",
      "to nitrogen removal at the treatment facility before it is discharged into the ground.\n",
      "In addition, the commissioner considered testimony from Brian Dudley, the department staff engineer who reviewed and signed the permit. He averred that the permit's 10 mg/l limit on nitrogen loading into the ground is more stringent than the limit provided in the regulations for discharge into Class I groundwaters because the 10 mg/l limit in the regulations is required only for wastewater flows in excess of 150,000 gpd,\n",
      "whereas the treatment facility's flow limit is 60,000 gpd.\n",
      "At the hearing before the administrative magistrate, the plaintiffs argued that, because of the direction of groundwater flow, nutrients from the treatment facility's discharge would flow towards and mix with the water in the vernal pool and marsh, and would degrade the quality of these surface waters. The administrative magistrate and the commissioner could reasonably conclude that the plaintiffs failed to present sufficient evidence to support this claim. Thus, the department's decision to uphold the issuance of the permit to the town, without requiring the town to conduct analytical tests of the water within the vernal pool and marsh, is supported by substantial evidence.\n",
      "8. Magistrate's findings. The plaintiffs argue that the commissioner improperly rejected that part of the administrative magistrate's recommended decision implying that the discharge from the treatment facility would degrade the receiving groundwater from Class I to Class III. They argue that where there is doubt about the accuracy of the administrative magistrate's determination, the commissioner is required to remand the case to the administrative magistrate for additional findings or the taking of additional evidence. As we read the recommended decision, it contained no such implication, and in any event, there was no error.\n",
      "\"Recommended decisions should include findings of fact, conclusions of law and recommendations on issues necessary to the decision.\" 310 Code Mass. Regs. § 1.01(14)(a) (2004). \"A final decision may adopt, modify, or reject a recommended decision, with a statement of reasons.\" 310 Code Mass. Regs.\n",
      "Page 18\n",
      "§ 1.01(14)(b) (2004). In his recommended decision, the administrative magistrate concluded that the department could issue a groundwater discharge permit to the town for the treatment facility project even if the discharge from the treatment facility would degrade groundwater at the site. In the final decision, the commissioner stated:\n",
      "\"While I concur with the Recommended Decision that the regulations allow the reclassification of ground water from Class I to Class III, the Town has not applied for, nor has the Department given any indication it would approve, a reclassification to accommodate [the treatment facility] project. . . . In fact, the permit contains effluent limitations adequate to meet Class I standards . . . . I reject the implication that a Class III designation might be necessary to support the issuance of this permit.\"\n",
      "The commissioner's statement of reasons was sufficient.\n",
      "\n",
      "        9. Terry Bauer's testimony. Finally, the plaintiffs argue that both the administrative magistrate and the commissioner failed to give due weight to the testimony of their expert, Terry Bauer,\n",
      "who opined that discharge from the treatment facility would harm nearby wetlands. At the agency hearing, Bauer stated that nitrogen and phosphorus from the treatment facility's discharge would cause eutrophication in the vernal pool and the marsh. There is no merit to the plaintiffs' contention that the administrative magistrate impermissibly excluded Bauer's testimony. Rather, the administrative magistrate considered Bauer's testimony\n",
      "and determined that it was not credible. Specifically, the administrative magistrate found that the plaintiffs \"did not establish that Bauer's training as a geologist or his work experience qualify him to provide expert opinion on how the concentrations\n",
      "Page 19\n",
      "of nitrogen and phosphorus allowed by the discharge permit will affect the vernal pool and marsh. Accordingly, his testimony on this point is entitled to no weight.\"\n",
      "In assessing the credibility of Bauer's testimony, the administrative magistrate properly took into account Bauer's training and expertise. See Letch v. Daniels,\n",
      ", 69 (1987), citing Commonwealth v. Schulze,\n",
      ", 740 (1983) (the extent of the training and experience of an expert witness appropriately bears on the weight that should be accorded his testimony). The administrative magistrate's decision to give \"no weight\" to Bauer's testimony as to eutrophication was based on an explicit and objectively adequate reason. See New Boston Garden Corp. v. Assessors of Boston,\n",
      ", 470-471 (1981), quoting from Jaffe, Judicial Control of Administrative Action 598, 607 (1965) (\"[E]vidence of a party having the burden of proof may not be disbelieved without an explicit and objectively adequate reason\"). Because the plaintiffs failed to meet their burden to prove that nutrients from the treatment facility's discharge would cause eutrophication in the vernal pool and marsh,\n",
      "the commissioner properly resolved the issue in favor of the defendants, even in the absence of affirmative evidence showing that the treatment facility's discharge would not cause eutrophication.\n",
      "\n",
      "Conclusion. For the reasons stated above, we affirm the judgment of the Superior Court.\n",
      "So ordered.\n"
     ]
    }
   ],
   "source": [
    "#something is seriously wrong with our algorithm somewhere in here\n",
    "messed_up = all_state_appeals[1:2].text\n",
    "print(messed_up.values)\n",
    "\n",
    "print(messed_up.values[0])"
   ]
  },
  {
   "cell_type": "code",
   "execution_count": 30,
   "metadata": {},
   "outputs": [
    {
     "data": {
      "text/plain": [
       "'\\nprint(\"You see this makes things much more reasonable to remove newlines but it also squishes punctuation sometimes:\\n\")\\nprint(messed_up.str.replace(pat=\"\\n\", repl=\"\").iloc[0][0:500], \"...\\n\")\\n\\nprint(\"This is a big problem in the state appeals cases. Statistics for newlines in state appeals:\\n\",\\n      all_state_appeals.text.str.count(\"\\n\").describe())\\n\\nprint(\"\\nNote: there are no newlines in sjc cases: \\n\", all_sjc.text.str.count(\"\\n\").describe(), \"\\n\")\\n\\n#so, replace the text column to have it be good\\nall_state_appeals.text = all_state_appeals.text.str.replace(pat=\"\\n\", repl=\"\")\\n'"
      ]
     },
     "execution_count": 30,
     "metadata": {},
     "output_type": "execute_result"
    }
   ],
   "source": [
    "\n",
    "\"\"\"\n",
    "print(\"You see this makes things much more reasonable to remove \\\n",
    "newlines but it also squishes punctuation sometimes:\\n\")\n",
    "print(messed_up.str.replace(pat=\"\\n\", repl=\"\").iloc[0][0:500], \"...\\n\")\n",
    "\n",
    "print(\"This is a big problem in the state appeals cases. Statistics for newlines in state appeals:\\n\",\n",
    "      all_state_appeals.text.str.count(\"\\n\").describe())\n",
    "\n",
    "print(\"\\nNote: there are no newlines in sjc cases: \\n\", all_sjc.text.str.count(\"\\n\").describe(), \"\\n\")\n",
    "\n",
    "#so, replace the text column to have it be good\n",
    "all_state_appeals.text = all_state_appeals.text.str.replace(pat=\"\\n\", repl=\"\")\n",
    "\"\"\"\n"
   ]
  },
  {
   "cell_type": "code",
   "execution_count": 32,
   "metadata": {},
   "outputs": [
    {
     "name": "stdout",
     "output_type": "stream",
     "text": [
      "we affirm\n",
      " False    1456\n",
      "True     1199\n",
      "Name: text, dtype: int64\n",
      "all Affirmed cases:\n",
      " True     2008\n",
      "False     647\n",
      "Name: text, dtype: int64\n",
      "\n",
      "we reverse\n",
      " False    2449\n",
      "True      206\n",
      "Name: text, dtype: int64\n",
      "\n",
      "all w reversed:\n",
      " False    1924\n",
      "True      731\n",
      "Name: text, dtype: int64\n",
      "\n",
      "has both we affirm and we reverse\n",
      " False    2601\n",
      "True       54\n",
      "Name: text, dtype: int64\n",
      "\n",
      "reversed and affirmed\n",
      " False    2096\n",
      "True      559\n",
      "Name: text, dtype: int64\n",
      "0       False\n",
      "1027    False\n",
      "1028    False\n",
      "1029    False\n",
      "1031    False\n",
      "        ...  \n",
      "1267     True\n",
      "1270     True\n",
      "1272     True\n",
      "1209     True\n",
      "681      True\n",
      "Name: text, Length: 2655, dtype: bool\n",
      "SPINA, J. The defendants, brothers John Evans (John) and Jimmy Evans (Jimmy), were convicted of murder in the first degree on theories of extreme atrocity or cruelty and of deliberate premeditation, and illegal possession of handguns (G. L. c. 269, § 10 [a]), and ammunition (G. L. c. 269, § 10 [h]). John was also convicted of assault by means of a dangerous weapon, discharging a firearm within 500 feet of a building (G. L. c. 269, § 12E), and a number of motor vehicle and weapons violations. [Note 2] Both defendants filed motions for a new trial, and motions for funds for an investigator as to claims raised in their motions for a new trial. A judge in the Superior Court (not the trial judge) denied both postconviction motions without an evidentiary hearing. On appeal the defendants claim error in various evidentiary rulings, prosecutorial misconduct during closing argument and during the cross-examination of Jimmy, ineffective assistance of counsel, and error in the denial of their motions for a new trial and for postconviction funds to investigate. We affirm the convictions and decline to exercise our power under G. L. c. 278, § 33E, to order a new trial or reduce the convictions.\n",
      "1. Background. The jury could have found the following facts. At about midnight on January 24, 1995, the victim, Lyle Jackson, went to Cortee's, a nightclub in the Dorchester\n",
      "Page 187\n",
      "neighborhood of Boston, where he met a friend, Marcello Holliday. The defendants were at the same nightclub with two friends, Robert Brown and Ronald Tinsley. At approximately 1:45 A.M. on January 25, the victim, Holliday, and another friend left to go to a nearby fast food restaurant, Walaikum's. As they were in their car preparing to leave, John ran past their car and fired a handgun three or four times at a group of people on the other side of the street.\n",
      "The victim, Holliday, and their friend arrived at Walaikum's at approximately 2:20 A.M. The restaurant, which occupies a small space, was crowded with customers. About fifteen minutes later the defendants and their two companions entered the restaurant, looked around for about one minute or so, and walked out. Less than one minute later, they reentered. Tinsley talked with a girl standing behind Holliday, and the other three remained near the door. Brown said to the defendants, \"That's one of them right there.\" Jimmy asked, \"Is that him right there?\" Brown said, \"Yeah.\" Jimmy then produced a silver handgun with a black handle. John was standing right beside him. Jimmy walked toward the victim, who, seeing him approach with a gun drawn, began to back away. Holliday ran outside. The victim fell over some chairs and tables as he backed away, then crawled into a corner and begged Jimmy for his life. Jimmy shot at him four or five times.\n",
      "Alton Clarke, a patron of the restaurant, tried to leave but was confronted by John, who was armed with a black handgun. Clarke was allowed to leave after he said he had nothing to do with the victim. John then approached the victim and fired a shot at him. Clarke heard the shot from just outside the restaurant and said it sounded different from the shots he heard when he was inside. Willy Wiggins, who owned Walaikum's, saw the first gunman shooting at the victim, then went to the back of the restaurant to telephone the police.\n",
      "The defendants, Brown, and Tinsley fled the scene in a gold Lexus automobile. John drove, Jimmy sat in the front passenger seat, and the other two sat in the back. Police arrived and pursued them. At one point a marked police cruiser with its blue lights flashing was forced off the road to avoid a head-on collision with the Lexus. During the chase two guns were\n",
      "Page 188\n",
      "thrown out of the front passenger window of the Lexus. The Lexus turned up a dead end street and stopped. The occupants were apprehended as they tried to flee on foot. The two guns thrown from the Lexus were recovered. One was a silver-plated nine millimeter Ruger semiautomatic handgun with a black handle. The other was a black nine millimeter Heckler & Koch semiautomatic handgun.\n",
      "Ballistics evidence recovered from both inside and outside the restaurant included six shell casings (three from the Ruger, and three from the Heckler & Koch) and four bullet fragments (two from the Ruger and two from the Heckler & Koch, including a projectile removed from the victim's body). No identifiable fingerprints could be retrieved from either gun.\n",
      "The victim died from an infection due to his wounds. He had been shot three times. One shot passed through his left forearm and into his ribs. Two shots entered the left side of his abdomen and passed through his body. A fourth was recovered from his body. The victim had no gunpowder residue on his clothes, indicating that he had been shot from a distance of at least three feet.\n",
      "The four men were tried together on a theory of murder by joint venture. Both John and Jimmy testified, but neither Brown nor Tinsley testified. The jury found the defendants guilty, and acquitted Brown and Tinsley.\n",
      "2. Evidentiary rulings.\n",
      "(a) The defendants argue that their rights under the Sixth Amendment to the United States Constitution and art. 12 of the Massachusetts Declaration of Rights to cross-examine a Commonwealth witness, Alton Clarke, with evidence of bias was impermissibly limited by a ruling that charges pending against him in Suffolk County, including aggravated rape and kidnapping (Commonwealth v. Clarke, 48 Mass. App. Ct. 482 [2000]), be described as \"serious felony charges\" during cross-examination without naming the specific crimes.\n",
      "Where there is some evidence of bias, a defendant has a constitutional right to cross-examine a prosecution witness to show bias, but \"the judge has broad discretion to determine the scope and extent of cross-examination.\" Commonwealth v. Jackson, 431 Mass. 535 , 538 (2000). Although \"it would ordinarily\n",
      "Page 189\n",
      "be helpful for the jurors to know the nature of the unresolved charges pending against a witness so that they will have some means of gauging the extent to which the witness may be biased[, m]uch must be left to the discretion of the trial judge in this area.\" Commonwealth v. Lewis, 12 Mass. App. Ct. 562 , 573 n.20 (1981).\n",
      "The defendants were able to explore adequately the question and extent of Clarke's bias and motive to cooperate with the prosecution arising from the pending \"serious felony\" charges without referring to the specific charge. Clarke testified emphatically that he was promised nothing and he expected nothing. Clarke in fact later went to trial and was convicted of aggravated rape and kidnapping. His convictions were reversed on appeal. See Commonwealth v. Clarke, supra. The defendants have failed to show how the limitation on cross-examination was an abuse of discretion.\n",
      "(b) The Commonwealth called a witness, Marvette Neal, who testified that he knew the victim and the Evans brothers. He recalled seeing the victim at Cortee's on January 24, 1995, and later at Walaikum's. He could not remember whether he had seen the Evans brothers at either place that night or the next morning. Over objection, the judge permitted the prosecutor to introduce a portion of Neal's testimony before the grand jury as substantive evidence under the \"past recollection recorded\" exception to the hearsay rule. Neal had told the grand jury that he had seen the defendants inside Cortee's and inside Walaikum's on January 24 and 25. [Note 3]\n",
      "A writing may be admitted under the past recollection recorded exception to the hearsay rule if \"(1) the witness has no revivable recollection of the subject, (2) the witness had firsthand knowledge of the facts recorded, (3) the witness can testify that the statement was truthful when made, and (4) the recording was made when the events were fresh in [his] memory.\" Commonwealth v. Nolan, 427 Mass. 541 , 543 (1998). As to the fourth element of the foundation, where the recording was made by another, it must be shown that the witness adopted\n",
      "Page 190\n",
      "the writing \"when the events were fresh in [the witness's] mind\" (emphasis in original). Commonwealth v. Bookman, 386 Mass. 657 , 664 (1982). See Commonwealth v. Fryar, 414 Mass. 732 , 746 (1993), S.C., 425 Mass. 237 , cert. denied, 522 U.S. 1033 (1997); P.J. Liacos, M.S. Brodin & M. Avery, Massachusetts Evidence § 8.17 (7th ed. 1999 & Supp. 2003). Here, there was evidence to satisfy the first three elements, but not the fourth. Neal had no recollection of what he had told the grand jury and there was no evidence that he adopted the minutes of his grand jury testimony when his memory of events was fresh. Commonwealth v. Fryar, supra. It was error to admit Neal's grand jury testimony as past recollection recorded.\n",
      "The Commonwealth alternatively contends that Neal's grand jury testimony was admissible for substantive purposes under the rule of Commonwealth v. Sineiro, 432 Mass. 735 , 741 (2000), in which we extended the principle of Commonwealth v. Daye, 393 Mass. 55 , 75 (1984) (under certain conditions, acknowledged prior testimony of witness before grand jury that is inconsistent with his trial testimony may be admitted for substantive use), to instances where a witness falsely asserts a lack of memory of the event and a lack of memory of his prior testimony. Before a witness's grand jury testimony may be admitted under the Daye-Sineiro rule, the judge must make a preliminary finding that the witness's claimed lack of memory has been fabricated. If that finding is made and is supported by the evidence, it is conclusive. See Commonwealth v. Sineiro, supra at 742-743 & n.6. Here, the judge did not make a finding that Neal's lack of memory was feigned. The single statement made by the judge on which the Commonwealth relies pertains to the judge's reason for giving the prosecutor some leeway in examining Neal about a conversation he had with two detectives a week before he gave his grand jury testimony. In the absence of a finding of feigned memory loss, Neal's grand jury testimony was not admissible under Commonwealth v. Sineiro, supra.\n",
      "Where the erroneous admission of hearsay involving an identification of the defendant has been preserved for appellate review and the declarant testified at trial, we review its impact for prejudicial error. See Commonwealth v. Martinez, 431 Mass. 168 ,\n",
      "Page 191\n",
      "176 & n.7 (2000). There was no prejudice. Both defendants testified and admitted that they had been at Cortee's. Jimmy also admitted that he had entered Walaikum's. Marcello Holliday saw John enter Walaikum's, and Alton Clarke said that the driver of the Lexus automobile -- whom John admitted to be -- had entered Walaikum's and shot the victim. Neal's grand jury testimony about the defendants' presence inside both establishments was merely cumulative of other testimony. See id. at 176.\n",
      "(c) The prosecutor was permitted, over objection, to lay a foundation for his anticipated impeachment of Marvette Neal by prior inconsistent statement. Neal was asked during his direct examination if he had told police on February 10, 1995, that he had seen Jimmy walk into Walaikum's and stare at the victim; walk over to the entrance, where he ratcheted the slide of a silver automatic handgun; then approach the victim and fire approximately five shots at him. He was also asked whether he had told police that John entered Walaikum's and fired three or four shots at the victim after Jimmy shot him. Neal denied making those statements to police. The judge immediately instructed the jury that, where Neal denied making the statements incorporated in the prosecutor's questions, and where there was no evidence that Neal ever made those statements, there was no evidentiary value in the questions. See Commonwealth v. Repoza, 382 Mass. 119 , 131 (1980), S.C., 400 Mass. 516 , cert. denied, 484 U.S. 935 (1987).\n",
      "The next day the prosecutor called Detective Kenneth Dorch of the Boston police department, who testified that on February 10, 1995, Marvette Neal had told him that he saw both Jimmy and John shoot at the victim in Walaikum's. Dorch gave details that were essentially the same as those in the questions previously put to Neal by the prosecutor. The judge instructed the jury six times during Dorch's testimony that the evidence they just heard could not be considered for substantive purposes, but only for evaluating the credibility of Neal.\n",
      "The defendants respond by arguing that the prosecutor had no legitimate basis to impeach Neal with a prior inconsistent statement. They contend that because Neal had given very little testimony that could be considered for substantive purposes,\n",
      "Page 192\n",
      "and all of it favorable to the Commonwealth, the plan to impeach Neal with a prior inconsistent statement was nothing more than a \"subterfuge to get before the jury evidence not otherwise admissible.\" Commonwealth v. Benoit, 32 Mass. App. Ct. 111 , 115 (1992), quoting United States v. Morlang, 531 F.2d 183, 190 (4th Cir. 1975). See Commonwealth v. McAfee, 430 Mass. 483 , 490 (1999). They point to the fact that after Neal denied making the statement to police, the judge instructed the jury that there was no evidence of the statement before them. Consequently, nothing was in evidence at that time that would have justified the prosecutor's plan to impeach Neal with Dorch's testimony. At that juncture the only purpose of calling Dorch would have been to put before the jury Neal's hearsay statement to police under the guise of impeachment.\n",
      "The argument has initial appeal, but it ignores one important fact. A proper basis for admitting Dorch's testimony did exist. Neal had been asked on cross-examination whether he ever saw John with a gun in his hand on January 24 or 25, to which he said he was sure that he had not. He was also asked on cross-examination if he ever saw Jimmy shoot anyone in Walaikum's, or if he saw Jimmy with a gun. Neal answered both questions in the negative. That cross-examination provided evidence that was relevant to the issues on trial and helpful to the defense, but it also provided the proper basis needed by the prosecutor to impeach Neal with his prior inconsistent statement to Dorch. See Commonwealth v. Gil, 393 Mass. 204 , 219 (1984). There was no error in the admission of Dorch's testimony.\n",
      "(d) The judge ruled that the defendants could not ask Eddie Hawkins, a potential defense witness, about his pretrial statement to police that Tinsley had admitted shooting the victim. The ruling came after a voir dire in which Hawkins repudiated his prior statement. He testified during voir dire that Tinsley had not told him that he shot the victim, and that he fabricated the statement he gave police with the hope of gaining favorable treatment in his own pending case. As a result of the ruling, Hawkins was never called to testify. The defendants claim that the ruling violated their constitutional right to present a defense, guaranteed by the Sixth Amendment and art. 12. See Commonwealth v. Durning, 406 Mass. 485 , 494 (1990).\n",
      "Page 193\n",
      "Hawkins's prior statement to police was hearsay, and the defendants have not shown that the hearsay fell within an exception to the hearsay rule. See Commonwealth v. Semedo, 422 Mass. 716 , 727-728 (1996). The defendants also have not shown that Hawkins's statement to police was inconsistent with any relevant testimony he would have given that would have permitted them to use the statement to impeach him. From Hawkins's voir dire testimony the judge could properly conclude that, if called, Hawkins would offer no testimony relevant to any issue being tried, and therefore he could not be called solely for the purpose of being impeached by a prior inconsistent statement that was otherwise inadmissible. See Commonwealth v. McAfee, supra at 489-490. In addition, in light of Hawkins's testimony that the statement was not true and that he had made it up because he was motivated by self-interest, the defendants have not shown that Hawkins's statement to police was so reliable and trustworthy that, although hearsay, its exclusion might offend their constitutional right to present a defense. Id. at 491 n.3. There was no error in the exclusion of Hawkins's statement to police.\n",
      "In any event, exclusion of the desired testimony could not have prejudiced the defendants. The Commonwealth proceeded against them at trial under the theory that they were joint venturers as well as principals. Tinsley's purported admission that he was one of the shooters was consistent with the Commonwealth's theory. Jimmy admitted in his testimony that he fired the Ruger; Holliday had testified that all four men appeared to be acting in concert inside the restaurant; and John admitted driving the getaway car.\n",
      "3. The prosecutor's closing argument. The defendants argue that the prosecutor's closing argument was improper in three respects.\n",
      "(a) The defendants contend that the prosecutor improperly vouched for the credibility of Alton Clarke by arguing that he (the prosecutor) had no deal with Clarke. Counsel objected at the conclusion of the prosecutor's argument.\n",
      "Clarke had stated emphatically that he received no promises, and that he expected nothing for his testimony. The prosecutor's interjection of himself into Clarke's testimony by implying that\n",
      "Page 194\n",
      "Clarke had no deal with him personally and by saying that Clarke was \"expecting nothing from me\" was unwise and unfortunate, but in the context of the whole argument, it did not constitute improper vouching. His comments were nothing more than a paraphrase of Clarke's testimony. See Commonwealth v. Mitchell, 428 Mass. 852 , 857 (1999). The prosecutor's statement that he had \"absolutely no interest in [Clarke's] criminal matter, because if I [the prosecutor] did, legally, you [the jury] would have found out about it,\" was not improper. It was \"an accurate statement of the law and evidence.\" Commonwealth v. Rise, 50 Mass. App. Ct. 836 , 845 (2001).\n",
      "(b) The defendants argue that the prosecutor improperly appealed to the sympathy of jurors. The prosecutor referred to the arrival of the victim's mother at the scene as the victim was being placed in an ambulance, and that the victim began to cry when he saw her. The prosecutor then asked: \"Should any mother have to see her own son [like] that?\" The judge immediately interrupted the prosecutor and instructed the jury that \"emotions have nothing to do with this. You must be very clinical. I refer you to alluding to the mother's feeling. I want you to disregard that.\" Counsel did not object and there was no request for a further instruction from the judge, an indication from experienced trial counsel that the judge's response was appropriate to mitigate any prejudice. See Commonwealth v. Toro, 395 Mass. 354 , 360 (1985). The judge's prompt, direct, and forceful curative instruction mitigated any substantial likelihood of a miscarriage of justice. [Note 4] Contrary to the defendants' claim that the judge's instruction was \"bland\" and \"perfunctory,\" it was precisely what was required, and the fact that the judge interrupted the prosecutor's argument, sua sponte, must have impressed the jury that the prosecutor's comment had been rebuked with the most serious disapproval.\n",
      "The defendants also argue that the prosecutor improperly appealed to juror sympathy when he argued that the victim left a\n",
      "Page 195\n",
      "five year old child. The Commonwealth may properly \"tell the jury something of the person whose life [has] been lost in order to humanize the proceedings.\" Commonwealth v. Degro, 432 Mass. 319 , 323 (2000), quoting Commonwealth v. Santiago, 425 Mass. 491 , 495 (1997), S.C., 427 Mass. 298 , and 428 Mass. 39 , cert. denied, 525 U.S. 1003 (1998). The prosecutor's comment was brief and he did not repeat or dwell on the potentially sympathetic material. Contrast Commonwealth v. Santiago, supra at 494 (prosecutor repeated twelve times that victim was pregnant and had been murdered day before her eighteenth birthday). The comment was not improper.\n",
      "(c) There is no merit to John's claim that the prosecutor improperly disparaged a defense witness, Willie Wiggins, and that the prosecutor implied that he (the prosecutor) had a supervisory role over defense counsel's selection of witnesses. The prosecutor merely commented on the failure of the witness to testify as predicted in defense counsel's opening statement, something he was entitled to do. See Commonwealth v. Thomas, 429 Mass. 146 , 149-154 (1999).\n",
      "4. Assistance of counsel. John claims that he was denied the effective assistance of counsel in several respects. Both defendants argue that their respective counsel were ineffective because they failed to investigate and develop forensic evidence to assist in their defense.\n",
      "(a) John's first claim of ineffective assistance of counsel involves failure to object to testimony of the victim's mother, which, he argues, was marginally relevant and \"appears to be more related to evoking sympathy [than] to proving the elements of the alleged crimes.\" Commonwealth v. Santiago, supra at 497, quoting Commonwealth v. Gordon, 422 Mass. 816 , 830-831 (1996).\n",
      "Under G. L. c. 278, § 33E, our review of claims of ineffective assistance of counsel is not limited to the adequacy of trial counsel's performance. We consider whether any \"error in the course of the trial (by defense counsel, the prosecutor, or the judge) . . . was likely to have influenced the jury's conclusion.\" Commonwealth v. Wright, 411 Mass. 678 , 682 (1992). We accord tactical decisions of trial counsel \"due deference. Unless\n",
      "Page 196\n",
      "such a decision was 'manifestly unreasonable when made,' we will not find ineffectiveness.\" (Citations omitted.) Commonwealth v. Harbin, 435 Mass. 654 , 656 (2002), quoting Commonwealth v. Coonan, 428 Mass. 823 , 827 (1999).\n",
      "The testimony of the victim's mother was brief, covering four pages of eleven volumes of trial transcripts. She identified a photograph of her son, testified that he was twenty-two years old at the time he died, that he had a five and one-half year old child, and three siblings. She testified that he started to cry when he looked at her as he was being placed in an ambulance. As previously discussed, Part 3 (b), supra, the prosecutor was entitled to \"tell the jury something of the person whose life [has] been lost,\" Commonwealth v. Degro, supra at 323, and the victim's reaction to seeing his mother was relevant to show that he was close to her. The judge would have acted within his discretion had he admitted this testimony over objection. The prosecutor's development of her testimony was factual and he did not emphasize or exploit its emotional potential. Contrast Commonwealth v. Santiago, supra at 497. The defendant has failed to show error.\n",
      "(b) John faults counsel for failing to object to the testimony of Gene Robbins, which informed the jury that, under the name Anthony Wilson, John leased the gold Lexus from Lexus of Norwood. The defendant claims that this evidence was not material to any issue in the case and therefore was the \"functional equivalent\" of improper character evidence. See Commonwealth v. Helfant, 398 Mass. 214 , 224 (1986). We disagree. The evidence was admissible to show John's control over the Lexus, which was relevant to the question of his identity as a participant in the murder. See id. Alton Clarke had identified the driver of the Lexus as one of the men wielding a gun. Officer Craig Jones identified John as the person who stepped out of the driver's door of the Lexus when it stopped after a lengthy high-speed chase. His willingness to drive the getaway car was relevant to the question of his participation as a joint venturer in the killing. See Commonwealth v. Stewart, 411 Mass. 345 , 351-352 (1991). If there had been an objection\n",
      "Page 197\n",
      "to Robbins's testimony, there would have been no error in overruling the objection. [Note 5]\n",
      "As to the testimony that John had leased the Lexus under a different name, counsel had a strategic reason for not objecting. There had been testimony that John used the name Anthony D. Wilson at the time of his booking. Trial counsel immediately began to diffuse the potential for that evidence to be used as consciousness of guilt, see Commonwealth v. Carrion, 407 Mass. 263 , 276 (1990), by planting a seed during his cross-examination of the booking officer. He suggested that John did not use the name Anthony Wilson to deceive police, but instead regularly used the name in his business and personal affairs. Later, during his cross-examination of Robbins, counsel elicited testimony that John had prior business dealings with Lexus of Norwood in which he used the name Anthony Wilson. He also elicited testimony from John that John had been using the name Anthony Wilson to reestablish his credit. His strategic use of Robbins's testimony was not unreasonable.\n",
      "(c) There is no merit to John's claim that counsel should have moved to sever the trial of his indictments from those of Robert Brown so that Brown could have been tried first and acquitted, and then could have testified for him at John's trial. [Note 6] There is nothing in the record to show that counsel knew or could have known before trial that Brown would have been tried first, that Brown would have been acquitted, or that Brown would have testified favorably for John if the cases had been severed. See United States v. Drougas, 748 F.2d 8, 19 (1st Cir.\n",
      "Page 198\n",
      "1984). Moreover, counsel could not have shown a bona fide need for Brown's testimony, because he expected that Willie Wiggins would testify that John was not inside Walaikum's, and it is likely that he knew Jimmy would testify, as he did, that John and Brown were outside Walaikum's during the shooting. See id. Had a motion to sever been presented, the judge would have acted within his discretion if he denied the motion. The defendant has failed to show that counsel had a basis to move for severance that would have outweighed the public interest in promoting the efficient administration of justice by joinder. See Commonwealth v. Clarke, 418 Mass. 207 , 217 (1994).\n",
      "(d) John asserts that counsel was ineffective in three respects pertaining to the indictment alleging illegal discharge of a firearm (G. L. c. 269, § 12E) during the earlier incident outside Cortee's. He claims that counsel should have filed (i) a pretrial motion to dismiss based on the sufficiency of the evidence presented to the grand jury, Commonwealth v. McCarthy, 385 Mass. 160 (1982); (ii) a pretrial motion to sever the trial of this indictment from the other indictments because the conduct supporting the two sets of indictments was unrelated, Commonwealth v. Blow, 362 Mass. 196 , 200 (1972); and (iii) a motion for a required finding of not guilty based on the sufficiency of the evidence at trial, Commonwealth v. Latimore, 378 Mass. 671 , 679-680 (1979).\n",
      "Marcello Holliday testified before the grand jury that he saw John outside Cortee's at about 2 A.M. on January 25, 1995, and that John took a gun \"out of his pocket,\" shot it \"three to four times\" at \"members of the Castlegate Gang,\" then fled. Because John removed the gun from his pocket, the grand jury could have inferred that the barrel length was less than sixteen inches. See G. L. c. 140, § 121. See Commonwealth v. Sylvester, 35 Mass. App. Ct. 906 , 907 (1993), and cases cited. The grand jury also reasonably could have inferred from this testimony that the defendant discharged a firearm within 500 feet of a building in use, without the permission of the owner or legal occupant. See G. L. c. 269, § 12E. A judge would not have erred by denying a motion to dismiss the indictment.\n",
      "If counsel had moved to sever trial of the indictment alleging a violation of G. L. c. 269, § 12E, from trial of the other indictments,\n",
      "Page 199\n",
      "there would have been no error in denying the motion. The incident outside Cortee's was relevant to show that John had access to a weapon consistent with one of the weapons used in the homicide shortly thereafter. See Commonwealth v. Otsuki, 411 Mass. 218 , 235-236 (1991). There is no requirement that the Commonwealth show that the weapon he possessed earlier actually was the murder weapon. Id. at 230 n.12. See Commonwealth v. O'Toole, 326 Mass. 35 , 39 (1950). The evidence was also relevant to show that he knew that someone in his party was armed, undermining his claim to the contrary, and it was relevant to show that he played a deliberate role in hostilities shortly before the homicide. See Commonwealth v. Stewart, supra at 354. Severance would have served no purpose because the jury could have heard evidence of the earlier incident outside Cortee's. See Commonwealth v. Hoppin, 387 Mass. 25 , 33 (1982). Joinder was warranted. Id.\n",
      "A motion for a required finding of not guilty on the indictment alleging the § 12E violation would not have been meritorious, for reasons similar to those discussed with respect to the sufficiency of the evidence presented to the grand jury. Holliday's testimony at trial was substantially similar to his testimony before the grand jury about the incident. In addition, Officer Earl Perkins testified that he heard the shots, and went to Cortee's to investigate. Officer Richard Walker testified that shortly thereafter he saw a beige Lexus, similar to the Lexus driven by John after the shooting at Walaikum's, speeding away from Cortee's, from which the jury could have inferred that it was John fleeing. We are satisfied that the evidence met the standard set forth in Commonwealth v. Latimore, supra, to warrant denial of a motion for a required finding of not guilty.\n",
      "(e) John claims spillover prejudice from the improper joinder of the indictment alleging the § 12E violation. Although we conclude that joinder was proper, we must address an evidentiary issue and an allegation of prosecutorial misconduct raised in his argument. The judge admitted, over John's objection, evidence that Officer Richard Walker was dispatched to the area around Cortee's to investigate a call about gunshots. He saw a Peugeot moving toward him at a high rate of speed, followed closely by a beige Lexus. He turned his cruiser around and followed\n",
      "Page 200\n",
      "them. The Lexus had turned away in another direction. He eventually stopped the Peugeot. Its right rear window had been shattered. About forty-five minutes later he became involved in the chase of the Lexus leased by John, which appeared similar to the one he had seen behind the Peugeot. John contends that the prosecutor later improperly suggested in his closing argument that the beige Lexus was being driven by him, that he was chasing the Peugeot, and that he destroyed the rear window of the Peugeot with a gunshot.\n",
      "The evidence concerning the Peugeot and the Lexus at Cortee's was admissible. The incidents at Cortee's and Walaikum's occurred within one mile of each other and about one-half hour apart. The Lexus driven by John as the getaway car after the shooting at Walaikum's was similar to the Lexus speeding away from Cortee's shortly after the shooting there. Evidence of John shooting a gun outside Cortee's was relevant. The inference that he was driving the Lexus that sped away from Cortee's was a fair inference, and the prosecutor's argument to that effect was fair. An inference need not be inescapable, just reasonable and possible. See Commonwealth v. Marquetty, 416 Mass. 445 , 452 (1993). The reference to the Peugeot was merely background, being one of two speeding cars that Officer Walker saw but the only one he stopped.\n",
      "We turn to the argument that the prosecutor improperly implied in his closing that John was chasing after the Peugeot and had destroyed the rear window with a gunshot. One week before his closing argument, during a sidebar conference in the middle of Walker's testimony, the prosecutor indicated that such evidence was forthcoming. However, it never materialized. In his closing, the prosecutor did not argue as the defendant suggests. He argued as follows: \"Officer Walker began chasing the Peugeot right after those shots were fired. . . . He observed one of the windows shattered, and he just happened to see a Lexus following that Peugeot. Use your common sense. Draw the appropriate inferences. Do you think that Lexus is fleeing from Club Cortee's [sic] after the shooting? Use your common sense. I suggest there's evidence to suggest that. That's for you to determine, of course.\" The prosecutor did not imply that John had chased or shot out the window of the Peugeot, but that\n",
      "Page 201\n",
      "he was \"fleeing\" from Cortee's, presumably before the police could arrive. The inference he was asking the jury to draw was different from what he had anticipated earlier in the trial, and it was fairly grounded in the evidence.\n",
      "(f) Both defendants contend that their counsel were ineffective for failing to investigate and develop forensic evidence. In particular, they assert that counsel failed to arrange (i) bullet trajectory, (ii) blood, and (iii) fingerprint tests. We conclude that there was no reason for counsel to believe that any testing would benefit the defense or that any hoped for results would likely have influenced the jury's conclusion. See Commonwealth v. Wright, 411 Mass. 678 , 682 (1992).\n",
      "(i) Jimmy argues that his counsel was ineffective for failing to engage a ballistics expert to give bullet trajectory evidence. Jimmy had testified that, after he had stepped outside Walaikum's, the Ruger discharged accidentally three times as it was pointing downward. A bullet fragment fired from the Ruger was found on a rug in the middle of the floor at Walaikum's. It had blood on it, from which the jury could infer that it was one of the bullets that passed through the victim's body. Contrary to Jimmy's claim, there was no evidence that the bullet had been moved. Because the victim had been lying down when he was shot, it is not likely that a ballistics expert could have helped the defense in any material respect.\n",
      "(ii) If counsel had arranged to test the blood on Tinsley's coat, and if the test results indicated that the blood was that of the victim, the Commonwealth's case against the defendants would not have deteriorated. The Commonwealth had proceeded at trial on the basis that all four defendants were in close proximity to the victim in the confined space of Walaikum's. The prosecutor conceded twice at trial that the blood on Tinsley's coat could be the victim's, and he introduced evidence that the blood type on Tinsley's coat was consistent with that of both the victim and Tinsley. Thus, the blood evidence was not a substantial part of the Commonwealth's case. See Commonwealth v. Erdely, 430 Mass. 149 , 154 (1999). But, even if Tinsley had shot the victim, that would not have helped Jimmy, who admitted being the one who shot the Ruger from which a bullet was fired that passed through the victim's body. Nor\n",
      "Page 202\n",
      "would it have helped John under the Commonwealth's alternative joint venture theory. See Commonwealth v. Ellis, 432 Mass. 746 , 761-762 (2000) (where evidence established that defendant participated in joint venture to murder, jury need not determine precise role played); Commonwealth v. Stewart, supra. John had fired a gun about one-half hour before the victim was shot, and drove all the defendants from Walaikum's at high speed.\n",
      "(iii) The failure to conduct fingerprint testing of the guns similarly would have produced nothing better for the defense. There is no reason to believe that the Commonwealth's fingerprint expert was wrong in concluding that there was insufficient fingerprint detail on either gun to make an identification. Nor is there reason to believe that he was wrong in concluding that in only about two per cent of cases do guns yield identifiable fingerprints, and in cases where prints can be identified, the age of the print cannot be determined. Thus, fingerprint evidence also was not a substantial part of the Commonwealth's case. See Commonwealth v. Erdely, supra. Even if fingerprint evidence could show that Tinsley had once touched the Heckler & Koch handgun, it would not prove that John had not also touched it. Given the Commonwealth's eyewitness testimony that John fired the Heckler & Koch, and Jimmy's admission that he fired the Ruger at Walaikum's, the Commonwealth's case against both John and Jimmy would not have been undermined. Moreover, as discussed, even if Tinsley had been one of the shooters, the evidence of joint venture was overwhelming.\n",
      "We conclude that the defendants have failed to show that they were denied the effective assistance of counsel.\n",
      "5. Motions for a new trial. The defendants filed motions for a new trial and for an evidentiary hearing on the motion. The newly discovered evidence is laid out in two affidavits. The first affidavit is that of John's appellate counsel, which states that Robert Brown, a codefendant who was acquitted, told counsel that Tinsley admitted three times that he shot the victim: once in the Lexus as they were fleeing from Walaikum's, once in court while they were waiting to be arraigned, and a third time at the Nashua Street jail. Brown also allegedly told counsel that he was outside Walaikum's with John during the shooting.\n",
      "Page 203\n",
      "The second affidavit is that of Tasha Smith, who stated that she was outside Walaikum's talking with John at the time of the shooting.\n",
      "\"A defendant seeking a new trial on the ground of newly discovered evidence must establish both that the evidence is newly discovered and that it casts real doubt on the justice of the conviction.\" Commonwealth v. Grace, 397 Mass. 303 , 305 (1986). \"Moreover, the judge must find there is a substantial risk that the jury would have reached a different conclusion had the evidence been admitted at trial.\" Id. at 306. The newly discovered evidence \"must also have been unknown to the defendant or his counsel and not reasonably discoverable by them at the time of trial (or at the time of the presentation of an earlier motion for a new trial).\" Id. The judge may deny the motion summarily, without an evidentiary hearing, \"if no substantial issue is raised by the motion or affidavits.\" Mass. R. Crim. P. 30 (c) (3), 378 Mass. 900 (1979). See Commonwealth v. Wolinski, 431 Mass. 228 , 237 (2000). The motion judge concluded that the evidence was not newly discovered and that the motion and supporting affidavits did not present a substantial issue requiring an evidentiary hearing. We agree.\n",
      "John was aware of Tinsley's admission in the car as they fled Walaikum's because he testified about it. He also testified that he was outside Walaikum's at the time of the shooting talking with three friends, including Tasha Smith, although he did not know their last names. Consequently, the evidence in question is not \"newly discovered.\" The defendants try to avoid the consequences of the rule by distinguishing the evidence as \"newly available.\" They contend that Brown was not available because of his right not to testify under the Fifth Amendment to the United States Constitution, and Smith moved and could not be located until her affidavit was prepared. We recognize no such distinction, and treat them the same under the rule. See Commonwealth v. Simmons, 417 Mass. 60 , 71 (1994).\n",
      "Moreover, Brown's assertions, which were contained in an affidavit signed by appellate counsel, constitute inadmissible hearsay and need not be considered. Commonwealth v. Francis, 432 Mass. 353 , 372 & n.16 (2000). See rule 30 (c) (3). Even if Brown had given an affidavit, \"[t]he affidavit of . . . a\n",
      "Page 204\n",
      "codefendant who did not testify 'is the weakest sort of evidence.' \" Commonwealth v. Grace, 370 Mass. 746 , 752 (1976), quoting Dirring v. United States, 353 F.2d 519, 520 (1st Cir. 1965). \"[I]f a new trial could be predicated as of right upon a codefendant's change of heart after failure to take the stand there could always be a second chance for everyone.\" Commonwealth v. Hennessey, 23 Mass. App. Ct. 384 , 386 (1987), quoting Dirring v. United States, supra.\n",
      "Nothing in what Brown or Smith could have said would have helped Jimmy, especially where Brown told counsel that Tinsley passed his gun to Jimmy, who then threw both guns out of the car. As previously noted, Jimmy admitting having the Ruger in his hand when it was discharged, and the jury could have inferred that a bullet fired from Jimmy's gun, recovered from the middle of the floor at Walaikum's with blood on it, had been fired at the victim intentionally while Jimmy was inside the restaurant, not accidentally while he was outside. None of the \"new\" evidence could help him on that point.\n",
      "Where the defendants failed to present a substantial issue, there was no error in the denial of the requests for an evidentiary hearing. Where the evidence was not newly discovered, the motions for a new trial were correctly denied. Finally, to the extent that the motions also raised issues that have been raised in the defendants' direct appeals, the motions were correctly denied.\n",
      "6. Motion for funds. The defendants filed motions for funds to conduct forensic tests to support their claims of ineffective assistance of counsel, discussed in Part 4 (f), supra. Rule 30 (c) (5) of the Massachusetts Rules of Criminal Procedure, as appearing in 435 Mass. 1501 (2001), gives a judge \"discretion to allow the defendant costs associated with the preparation and presentation of a motion [for a new trial].\" The Reporter's Notes state that, \"the court should consider a request for funds in conjunction with the appropriate discovery motion under subsection (c) (4) seeking access to the evidence in question.\" 43D Mass. Gen. Laws Ann., Rules of Criminal Procedure at 393 (West 2002). Under rule 30 (c) (4), a defendant is not entitled to access to the evidence in question unless he makes a prima facie showing that the test results would warrant a new\n",
      "Page 205\n",
      "trial. See Commonwealth v. Tague, 434 Mass. 510 , 519 (2001), cert. denied, 534 U.S. 1146 (2002).\n",
      "The defendants have failed to make the prima facie showing that the tests now sought would have produced results that likely would have influenced the jury's conclusion. See Part 4 (f), supra.\n",
      "7. Miscellaneous issues. Jimmy raises four additional issues that may be resolved summarily.\n",
      "The prosecutor's question to Jimmy about his lack of concern for the people in Walaikum's was relevant to Jimmy's state of mind at the time of the shooting. See Commonwealth v. Jenks, 426 Mass. 582 , 586 (1998).\n",
      "The prosecutor's sarcastic remark about Jimmy's inability to recall the last names of friends was uncalled for and unprofessional, but the judge interrupted, told the prosecutor to refrain from making comments, and directed the jury to disregard the remark. The judge kept the trial under control and the transgression reflected more poorly on the prosecutor than it did on the defendant.\n",
      "There is no merit to the claim that the judge improperly excluded Jimmy's explanation for discarding his gun. Jimmy did explain, and as he started to ramble, the prosecutor objected and counsel put a new question to him. There was no ruling, and no testimony was excluded.\n",
      "Jimmy argues that the judge erred by instructing on all three prongs of malice. There was no objection. The error did not create a substantial likelihood of a miscarriage of justice because the instruction on deliberate premeditation was correct, and the evidence supports a verdict of deliberate premeditation. See Commonwealth v. Jiles, 428 Mass. 66 , 72 (1998).\n",
      "8. General Laws c. 278, § 33E. We have reviewed the briefs, the transcripts, and the complete record. The defendants shot at the victim as he was lying on the floor, begging for his life. We see no reason to reduce the degree of guilt or order a new trial.\n",
      "Judgments affirmed.\n",
      "Orders denying motions for a new trial and motions for costs affirmed.\n",
      "\n",
      "only one or the other appears:\n",
      "True     1621\n",
      "False    1034\n",
      "Name: text, dtype: int64\n"
     ]
    }
   ],
   "source": [
    "vacate_indeces = all_sjc.text.str.contains(\"vacate\") | contains(all_sjc,\"vacated\")\n",
    "\n",
    "\n",
    "we_affirm = contains(all_sjc, \"We affirm\", \"we affirm\")\n",
    "print(\"we affirm\\n\", we_affirm.value_counts())\n",
    "\n",
    "affirmed_indeces = all_sjc.text.str.contains(\"affirm\") | we_affirm\n",
    "print(\"all Affirmed cases:\\n\", affirmed_indeces.value_counts())\n",
    "\n",
    "\n",
    "we_reverse = contains(all_sjc, \"we reverse\") | contains(all_sjc, \"We reverse\")\n",
    "print(\"\\nwe reverse\\n\", we_reverse.value_counts())\n",
    "\n",
    "reversed_indeces = all_sjc.text.str.contains(\"reverse\") | we_reverse\n",
    "print(\"\\nall w reversed:\\n\", reversed_indeces.value_counts())\n",
    "\n",
    "\n",
    "really_bad = we_affirm & we_reverse\n",
    "\n",
    "print(\"\\nhas both we affirm and we reverse\\n\", really_bad.value_counts())\n",
    "\n",
    "both_reversed_and_affirmed = reversed_indeces & affirmed_indeces\n",
    "print(\"\\nreversed and affirmed\\n\", both_reversed_and_affirmed.value_counts())\n",
    "print(both_reversed_and_affirmed.sort_values())\n",
    "print(all_sjc.loc[ 681, : ].text)\n",
    "\n",
    "print(\"\\nonly one or the other appears:\")\n",
    "print(logic_xor(reversed_indeces, affirmed_indeces).value_counts())"
   ]
  },
  {
   "cell_type": "code",
   "execution_count": 49,
   "metadata": {},
   "outputs": [
    {
     "name": "stdout",
     "output_type": "stream",
     "text": [
      "Terrible cases we can't deal with, have no keywords:\n",
      " False    2343\n",
      "True      312\n",
      "Name: text, dtype: int64 \n",
      "\n",
      "Decision was not that conclusive, coudn't find a \"we\" keyword :\n",
      " False    1351\n",
      "True     1304\n",
      "Name: decision, dtype: int64 \n",
      "\n",
      "                                                   case  \\\n",
      "0                  COMMONWEALTH  vs.  ADMILSON RESENDE.   \n",
      "2                LINDA S. BOWERS  vs.  P. WILE'S, INC.    \n",
      "4                    COMMONWEALTH  vs.  ROBERT D. WADE.   \n",
      "9      CURT F. PFANNENSTIEHL  vs.  DIANE L. PFANNENS...   \n",
      "10                        COMMONWEALTH  vs.  KIM HENRY.   \n",
      "...                                                 ...   \n",
      "1997  JON BUTCHER vs. UNIVERSITY OF MASSACHUSETTS & ...   \n",
      "1999                            COMMONWEALTH vs. ERVIN    \n",
      "2000                       COMMONWEALTH vs. FREDERICK H   \n",
      "2003                      COMMONWEALTH vs. RICHARD S. F   \n",
      "2005                             KAROL E. SIMONTON, pet   \n",
      "\n",
      "                                               headnote  \\\n",
      "0     Controlled Substances. Constitutional Law, Ple...   \n",
      "2     Negligence, Retailer. Notice. Practice, Civil,...   \n",
      "4     Amended October 28, 2016\\nDeoxyribonucleic Aci...   \n",
      "9     Divorce and Separation, Division of property.\\...   \n",
      "10    Restitution. Practice, Criminal, Probation, Re...   \n",
      "...                                                 ...   \n",
      "1997  SJC-12698\\nNewspaper. Libel and Slander. Emoti...   \n",
      "1999  SJC-12765\\nPractice, Criminal, Capital case, P...   \n",
      "2000  SJC-12771\\nPractice, Criminal, Capital case, P...   \n",
      "2003  SJC-12772\\nPractice, Criminal, Capital case, P...   \n",
      "2005  SJC-12588\\nHabeas Corpus. Practice, Criminal, ...   \n",
      "\n",
      "                                                   text  \\\n",
      "0     \\nThe present case is the most recent in a ser...   \n",
      "2     \\nIn this case we are called upon to determine...   \n",
      "4     \\nThis case requires us to decide whether the ...   \n",
      "9     \\nIn this appeal from a judgment of divorce, w...   \n",
      "10    \\nThis case presents two issues on appeal:  fi...   \n",
      "...                                                 ...   \n",
      "1997  CIVIL ACTION commenced in the Superior Court D...   \n",
      "1999  The defendant, Ervin Johnson, was convicted of...   \n",
      "2000  The defendant, Frederick Perry, was convicted ...   \n",
      "2003  The defendant, Richard S. Freiberg, was convic...   \n",
      "2005  Karol E. Simonton appeals from a judgment of t...   \n",
      "\n",
      "                                     date  \\\n",
      "0                                     NaN   \n",
      "2                                     NaN   \n",
      "4                                     NaN   \n",
      "9                                     NaN   \n",
      "10                                    NaN   \n",
      "...                                   ...   \n",
      "1997  October 1, 2019 - December 31, 2019   \n",
      "1999                     October 17, 2019   \n",
      "2000                     October 17, 2019   \n",
      "2003                    November 13, 2019   \n",
      "2005                    December 11, 2019   \n",
      "\n",
      "                                           county   decision  \n",
      "0                                             NaN  undecided  \n",
      "2                                             NaN  undecided  \n",
      "4                                             NaN  undecided  \n",
      "9                                             NaN  undecided  \n",
      "10                                            NaN  undecided  \n",
      "...                                           ...        ...  \n",
      "1997  Court Below: Superior Court, Suffolk County  undecided  \n",
      "1999                                               undecided  \n",
      "2000                                               undecided  \n",
      "2003                                               undecided  \n",
      "2005                                               undecided  \n",
      "\n",
      "[1304 rows x 6 columns]\n",
      "particularly inconclusive:\n",
      " False    1114\n",
      "True      190\n",
      "Name: text, dtype: int64\n"
     ]
    },
    {
     "ename": "ValueError",
     "evalue": "cannot reindex from a duplicate axis",
     "output_type": "error",
     "traceback": [
      "\u001b[0;31m---------------------------------------------------------------------------\u001b[0m",
      "\u001b[0;31mTypeError\u001b[0m                                 Traceback (most recent call last)",
      "\u001b[0;32m/usr/local/lib/python3.7/site-packages/pandas/core/series.py\u001b[0m in \u001b[0;36m__setitem__\u001b[0;34m(self, key, value)\u001b[0m\n\u001b[1;32m   1013\u001b[0m         \u001b[0;32mtry\u001b[0m\u001b[0;34m:\u001b[0m\u001b[0;34m\u001b[0m\u001b[0;34m\u001b[0m\u001b[0m\n\u001b[0;32m-> 1014\u001b[0;31m             \u001b[0mself\u001b[0m\u001b[0;34m.\u001b[0m\u001b[0m_set_with_engine\u001b[0m\u001b[0;34m(\u001b[0m\u001b[0mkey\u001b[0m\u001b[0;34m,\u001b[0m \u001b[0mvalue\u001b[0m\u001b[0;34m)\u001b[0m\u001b[0;34m\u001b[0m\u001b[0;34m\u001b[0m\u001b[0m\n\u001b[0m\u001b[1;32m   1015\u001b[0m         \u001b[0;32mexcept\u001b[0m \u001b[0mcom\u001b[0m\u001b[0;34m.\u001b[0m\u001b[0mSettingWithCopyError\u001b[0m\u001b[0;34m:\u001b[0m\u001b[0;34m\u001b[0m\u001b[0;34m\u001b[0m\u001b[0m\n",
      "\u001b[0;32m/usr/local/lib/python3.7/site-packages/pandas/core/series.py\u001b[0m in \u001b[0;36m_set_with_engine\u001b[0;34m(self, key, value)\u001b[0m\n\u001b[1;32m   1053\u001b[0m         \u001b[0;32mtry\u001b[0m\u001b[0;34m:\u001b[0m\u001b[0;34m\u001b[0m\u001b[0;34m\u001b[0m\u001b[0m\n\u001b[0;32m-> 1054\u001b[0;31m             \u001b[0mself\u001b[0m\u001b[0;34m.\u001b[0m\u001b[0mindex\u001b[0m\u001b[0;34m.\u001b[0m\u001b[0m_engine\u001b[0m\u001b[0;34m.\u001b[0m\u001b[0mset_value\u001b[0m\u001b[0;34m(\u001b[0m\u001b[0mvalues\u001b[0m\u001b[0;34m,\u001b[0m \u001b[0mkey\u001b[0m\u001b[0;34m,\u001b[0m \u001b[0mvalue\u001b[0m\u001b[0;34m)\u001b[0m\u001b[0;34m\u001b[0m\u001b[0;34m\u001b[0m\u001b[0m\n\u001b[0m\u001b[1;32m   1055\u001b[0m             \u001b[0;32mreturn\u001b[0m\u001b[0;34m\u001b[0m\u001b[0;34m\u001b[0m\u001b[0m\n",
      "\u001b[0;32mpandas/_libs/index.pyx\u001b[0m in \u001b[0;36mpandas._libs.index.IndexEngine.set_value\u001b[0;34m()\u001b[0m\n",
      "\u001b[0;32mpandas/_libs/index.pyx\u001b[0m in \u001b[0;36mpandas._libs.index.IndexEngine.set_value\u001b[0;34m()\u001b[0m\n",
      "\u001b[0;32mpandas/_libs/index.pyx\u001b[0m in \u001b[0;36mpandas._libs.index.IndexEngine.get_loc\u001b[0;34m()\u001b[0m\n",
      "\u001b[0;31mTypeError\u001b[0m: '0        True\n2        True\n4       False\n9        True\n10       True\n        ...  \n1997    False\n1999    False\n2000    False\n2003     True\n2005     True\nName: text, Length: 1304, dtype: bool' is an invalid key",
      "\nDuring handling of the above exception, another exception occurred:\n",
      "\u001b[0;31mValueError\u001b[0m                                Traceback (most recent call last)",
      "\u001b[0;32m<ipython-input-49-d80b0aac3725>\u001b[0m in \u001b[0;36m<module>\u001b[0;34m\u001b[0m\n\u001b[1;32m     39\u001b[0m \u001b[0;34m\u001b[0m\u001b[0m\n\u001b[1;32m     40\u001b[0m \u001b[0;34m\u001b[0m\u001b[0m\n\u001b[0;32m---> 41\u001b[0;31m \u001b[0madd_status\u001b[0m\u001b[0;34m(\u001b[0m\u001b[0mcopy\u001b[0m\u001b[0;34m)\u001b[0m\u001b[0;34m\u001b[0m\u001b[0;34m\u001b[0m\u001b[0m\n\u001b[0m",
      "\u001b[0;32m<ipython-input-49-d80b0aac3725>\u001b[0m in \u001b[0;36madd_status\u001b[0;34m(dataframe)\u001b[0m\n\u001b[1;32m     29\u001b[0m     \u001b[0msort_of_reverse\u001b[0m \u001b[0;34m=\u001b[0m \u001b[0mcontains\u001b[0m\u001b[0;34m(\u001b[0m\u001b[0mdataframe\u001b[0m\u001b[0;34m[\u001b[0m\u001b[0mundecided_still\u001b[0m\u001b[0;34m]\u001b[0m\u001b[0;34m,\u001b[0m \u001b[0;34m\"reverse\"\u001b[0m\u001b[0;34m)\u001b[0m\u001b[0;34m\u001b[0m\u001b[0;34m\u001b[0m\u001b[0m\n\u001b[1;32m     30\u001b[0m \u001b[0;34m\u001b[0m\u001b[0m\n\u001b[0;32m---> 31\u001b[0;31m     \u001b[0mdataframe\u001b[0m\u001b[0;34m.\u001b[0m\u001b[0mdecision\u001b[0m\u001b[0;34m[\u001b[0m\u001b[0msort_of_affirm\u001b[0m\u001b[0;34m]\u001b[0m \u001b[0;34m=\u001b[0m \u001b[0;34m\"affirm\"\u001b[0m\u001b[0;34m\u001b[0m\u001b[0;34m\u001b[0m\u001b[0m\n\u001b[0m\u001b[1;32m     32\u001b[0m     \u001b[0mdataframe\u001b[0m\u001b[0;34m.\u001b[0m\u001b[0mdecision\u001b[0m\u001b[0;34m[\u001b[0m\u001b[0msort_of_reverse\u001b[0m\u001b[0;34m]\u001b[0m \u001b[0;34m=\u001b[0m \u001b[0;34m\"reverse\"\u001b[0m\u001b[0;34m\u001b[0m\u001b[0;34m\u001b[0m\u001b[0m\n\u001b[1;32m     33\u001b[0m \u001b[0;34m\u001b[0m\u001b[0m\n",
      "\u001b[0;32m/usr/local/lib/python3.7/site-packages/pandas/core/series.py\u001b[0m in \u001b[0;36m__setitem__\u001b[0;34m(self, key, value)\u001b[0m\n\u001b[1;32m   1033\u001b[0m \u001b[0;34m\u001b[0m\u001b[0m\n\u001b[1;32m   1034\u001b[0m             \u001b[0;32mif\u001b[0m \u001b[0mcom\u001b[0m\u001b[0;34m.\u001b[0m\u001b[0mis_bool_indexer\u001b[0m\u001b[0;34m(\u001b[0m\u001b[0mkey\u001b[0m\u001b[0;34m)\u001b[0m\u001b[0;34m:\u001b[0m\u001b[0;34m\u001b[0m\u001b[0;34m\u001b[0m\u001b[0m\n\u001b[0;32m-> 1035\u001b[0;31m                 \u001b[0mkey\u001b[0m \u001b[0;34m=\u001b[0m \u001b[0mcheck_bool_indexer\u001b[0m\u001b[0;34m(\u001b[0m\u001b[0mself\u001b[0m\u001b[0;34m.\u001b[0m\u001b[0mindex\u001b[0m\u001b[0;34m,\u001b[0m \u001b[0mkey\u001b[0m\u001b[0;34m)\u001b[0m\u001b[0;34m\u001b[0m\u001b[0;34m\u001b[0m\u001b[0m\n\u001b[0m\u001b[1;32m   1036\u001b[0m                 \u001b[0;32mtry\u001b[0m\u001b[0;34m:\u001b[0m\u001b[0;34m\u001b[0m\u001b[0;34m\u001b[0m\u001b[0m\n\u001b[1;32m   1037\u001b[0m                     \u001b[0mself\u001b[0m\u001b[0;34m.\u001b[0m\u001b[0m_where\u001b[0m\u001b[0;34m(\u001b[0m\u001b[0;34m~\u001b[0m\u001b[0mkey\u001b[0m\u001b[0;34m,\u001b[0m \u001b[0mvalue\u001b[0m\u001b[0;34m,\u001b[0m \u001b[0minplace\u001b[0m\u001b[0;34m=\u001b[0m\u001b[0;32mTrue\u001b[0m\u001b[0;34m)\u001b[0m\u001b[0;34m\u001b[0m\u001b[0;34m\u001b[0m\u001b[0m\n",
      "\u001b[0;32m/usr/local/lib/python3.7/site-packages/pandas/core/indexing.py\u001b[0m in \u001b[0;36mcheck_bool_indexer\u001b[0;34m(index, key)\u001b[0m\n\u001b[1;32m   2311\u001b[0m     \u001b[0mresult\u001b[0m \u001b[0;34m=\u001b[0m \u001b[0mkey\u001b[0m\u001b[0;34m\u001b[0m\u001b[0;34m\u001b[0m\u001b[0m\n\u001b[1;32m   2312\u001b[0m     \u001b[0;32mif\u001b[0m \u001b[0misinstance\u001b[0m\u001b[0;34m(\u001b[0m\u001b[0mkey\u001b[0m\u001b[0;34m,\u001b[0m \u001b[0mABCSeries\u001b[0m\u001b[0;34m)\u001b[0m \u001b[0;32mand\u001b[0m \u001b[0;32mnot\u001b[0m \u001b[0mkey\u001b[0m\u001b[0;34m.\u001b[0m\u001b[0mindex\u001b[0m\u001b[0;34m.\u001b[0m\u001b[0mequals\u001b[0m\u001b[0;34m(\u001b[0m\u001b[0mindex\u001b[0m\u001b[0;34m)\u001b[0m\u001b[0;34m:\u001b[0m\u001b[0;34m\u001b[0m\u001b[0;34m\u001b[0m\u001b[0m\n\u001b[0;32m-> 2313\u001b[0;31m         \u001b[0mresult\u001b[0m \u001b[0;34m=\u001b[0m \u001b[0mresult\u001b[0m\u001b[0;34m.\u001b[0m\u001b[0mreindex\u001b[0m\u001b[0;34m(\u001b[0m\u001b[0mindex\u001b[0m\u001b[0;34m)\u001b[0m\u001b[0;34m\u001b[0m\u001b[0;34m\u001b[0m\u001b[0m\n\u001b[0m\u001b[1;32m   2314\u001b[0m         \u001b[0mmask\u001b[0m \u001b[0;34m=\u001b[0m \u001b[0misna\u001b[0m\u001b[0;34m(\u001b[0m\u001b[0mresult\u001b[0m\u001b[0;34m.\u001b[0m\u001b[0m_values\u001b[0m\u001b[0;34m)\u001b[0m\u001b[0;34m\u001b[0m\u001b[0;34m\u001b[0m\u001b[0m\n\u001b[1;32m   2315\u001b[0m         \u001b[0;32mif\u001b[0m \u001b[0mmask\u001b[0m\u001b[0;34m.\u001b[0m\u001b[0many\u001b[0m\u001b[0;34m(\u001b[0m\u001b[0;34m)\u001b[0m\u001b[0;34m:\u001b[0m\u001b[0;34m\u001b[0m\u001b[0;34m\u001b[0m\u001b[0m\n",
      "\u001b[0;32m/usr/local/lib/python3.7/site-packages/pandas/core/series.py\u001b[0m in \u001b[0;36mreindex\u001b[0;34m(self, index, **kwargs)\u001b[0m\n\u001b[1;32m   4028\u001b[0m     \u001b[0;34m@\u001b[0m\u001b[0mAppender\u001b[0m\u001b[0;34m(\u001b[0m\u001b[0mgeneric\u001b[0m\u001b[0;34m.\u001b[0m\u001b[0mNDFrame\u001b[0m\u001b[0;34m.\u001b[0m\u001b[0mreindex\u001b[0m\u001b[0;34m.\u001b[0m\u001b[0m__doc__\u001b[0m\u001b[0;34m)\u001b[0m\u001b[0;34m\u001b[0m\u001b[0;34m\u001b[0m\u001b[0m\n\u001b[1;32m   4029\u001b[0m     \u001b[0;32mdef\u001b[0m \u001b[0mreindex\u001b[0m\u001b[0;34m(\u001b[0m\u001b[0mself\u001b[0m\u001b[0;34m,\u001b[0m \u001b[0mindex\u001b[0m\u001b[0;34m=\u001b[0m\u001b[0;32mNone\u001b[0m\u001b[0;34m,\u001b[0m \u001b[0;34m**\u001b[0m\u001b[0mkwargs\u001b[0m\u001b[0;34m)\u001b[0m\u001b[0;34m:\u001b[0m\u001b[0;34m\u001b[0m\u001b[0;34m\u001b[0m\u001b[0m\n\u001b[0;32m-> 4030\u001b[0;31m         \u001b[0;32mreturn\u001b[0m \u001b[0msuper\u001b[0m\u001b[0;34m(\u001b[0m\u001b[0;34m)\u001b[0m\u001b[0;34m.\u001b[0m\u001b[0mreindex\u001b[0m\u001b[0;34m(\u001b[0m\u001b[0mindex\u001b[0m\u001b[0;34m=\u001b[0m\u001b[0mindex\u001b[0m\u001b[0;34m,\u001b[0m \u001b[0;34m**\u001b[0m\u001b[0mkwargs\u001b[0m\u001b[0;34m)\u001b[0m\u001b[0;34m\u001b[0m\u001b[0;34m\u001b[0m\u001b[0m\n\u001b[0m\u001b[1;32m   4031\u001b[0m \u001b[0;34m\u001b[0m\u001b[0m\n\u001b[1;32m   4032\u001b[0m     def drop(\n",
      "\u001b[0;32m/usr/local/lib/python3.7/site-packages/pandas/core/generic.py\u001b[0m in \u001b[0;36mreindex\u001b[0;34m(self, *args, **kwargs)\u001b[0m\n\u001b[1;32m   4542\u001b[0m         \u001b[0;31m# perform the reindex on the axes\u001b[0m\u001b[0;34m\u001b[0m\u001b[0;34m\u001b[0m\u001b[0;34m\u001b[0m\u001b[0m\n\u001b[1;32m   4543\u001b[0m         return self._reindex_axes(\n\u001b[0;32m-> 4544\u001b[0;31m             \u001b[0maxes\u001b[0m\u001b[0;34m,\u001b[0m \u001b[0mlevel\u001b[0m\u001b[0;34m,\u001b[0m \u001b[0mlimit\u001b[0m\u001b[0;34m,\u001b[0m \u001b[0mtolerance\u001b[0m\u001b[0;34m,\u001b[0m \u001b[0mmethod\u001b[0m\u001b[0;34m,\u001b[0m \u001b[0mfill_value\u001b[0m\u001b[0;34m,\u001b[0m \u001b[0mcopy\u001b[0m\u001b[0;34m\u001b[0m\u001b[0;34m\u001b[0m\u001b[0m\n\u001b[0m\u001b[1;32m   4545\u001b[0m         ).__finalize__(self)\n\u001b[1;32m   4546\u001b[0m \u001b[0;34m\u001b[0m\u001b[0m\n",
      "\u001b[0;32m/usr/local/lib/python3.7/site-packages/pandas/core/generic.py\u001b[0m in \u001b[0;36m_reindex_axes\u001b[0;34m(self, axes, level, limit, tolerance, method, fill_value, copy)\u001b[0m\n\u001b[1;32m   4565\u001b[0m                 \u001b[0mfill_value\u001b[0m\u001b[0;34m=\u001b[0m\u001b[0mfill_value\u001b[0m\u001b[0;34m,\u001b[0m\u001b[0;34m\u001b[0m\u001b[0;34m\u001b[0m\u001b[0m\n\u001b[1;32m   4566\u001b[0m                 \u001b[0mcopy\u001b[0m\u001b[0;34m=\u001b[0m\u001b[0mcopy\u001b[0m\u001b[0;34m,\u001b[0m\u001b[0;34m\u001b[0m\u001b[0;34m\u001b[0m\u001b[0m\n\u001b[0;32m-> 4567\u001b[0;31m                 \u001b[0mallow_dups\u001b[0m\u001b[0;34m=\u001b[0m\u001b[0;32mFalse\u001b[0m\u001b[0;34m,\u001b[0m\u001b[0;34m\u001b[0m\u001b[0;34m\u001b[0m\u001b[0m\n\u001b[0m\u001b[1;32m   4568\u001b[0m             )\n\u001b[1;32m   4569\u001b[0m \u001b[0;34m\u001b[0m\u001b[0m\n",
      "\u001b[0;32m/usr/local/lib/python3.7/site-packages/pandas/core/generic.py\u001b[0m in \u001b[0;36m_reindex_with_indexers\u001b[0;34m(self, reindexers, fill_value, copy, allow_dups)\u001b[0m\n\u001b[1;32m   4611\u001b[0m                 \u001b[0mfill_value\u001b[0m\u001b[0;34m=\u001b[0m\u001b[0mfill_value\u001b[0m\u001b[0;34m,\u001b[0m\u001b[0;34m\u001b[0m\u001b[0;34m\u001b[0m\u001b[0m\n\u001b[1;32m   4612\u001b[0m                 \u001b[0mallow_dups\u001b[0m\u001b[0;34m=\u001b[0m\u001b[0mallow_dups\u001b[0m\u001b[0;34m,\u001b[0m\u001b[0;34m\u001b[0m\u001b[0;34m\u001b[0m\u001b[0m\n\u001b[0;32m-> 4613\u001b[0;31m                 \u001b[0mcopy\u001b[0m\u001b[0;34m=\u001b[0m\u001b[0mcopy\u001b[0m\u001b[0;34m,\u001b[0m\u001b[0;34m\u001b[0m\u001b[0;34m\u001b[0m\u001b[0m\n\u001b[0m\u001b[1;32m   4614\u001b[0m             )\n\u001b[1;32m   4615\u001b[0m \u001b[0;34m\u001b[0m\u001b[0m\n",
      "\u001b[0;32m/usr/local/lib/python3.7/site-packages/pandas/core/internals/managers.py\u001b[0m in \u001b[0;36mreindex_indexer\u001b[0;34m(self, new_axis, indexer, axis, fill_value, allow_dups, copy)\u001b[0m\n\u001b[1;32m   1249\u001b[0m         \u001b[0;31m# some axes don't allow reindexing with dups\u001b[0m\u001b[0;34m\u001b[0m\u001b[0;34m\u001b[0m\u001b[0;34m\u001b[0m\u001b[0m\n\u001b[1;32m   1250\u001b[0m         \u001b[0;32mif\u001b[0m \u001b[0;32mnot\u001b[0m \u001b[0mallow_dups\u001b[0m\u001b[0;34m:\u001b[0m\u001b[0;34m\u001b[0m\u001b[0;34m\u001b[0m\u001b[0m\n\u001b[0;32m-> 1251\u001b[0;31m             \u001b[0mself\u001b[0m\u001b[0;34m.\u001b[0m\u001b[0maxes\u001b[0m\u001b[0;34m[\u001b[0m\u001b[0maxis\u001b[0m\u001b[0;34m]\u001b[0m\u001b[0;34m.\u001b[0m\u001b[0m_can_reindex\u001b[0m\u001b[0;34m(\u001b[0m\u001b[0mindexer\u001b[0m\u001b[0;34m)\u001b[0m\u001b[0;34m\u001b[0m\u001b[0;34m\u001b[0m\u001b[0m\n\u001b[0m\u001b[1;32m   1252\u001b[0m \u001b[0;34m\u001b[0m\u001b[0m\n\u001b[1;32m   1253\u001b[0m         \u001b[0;32mif\u001b[0m \u001b[0maxis\u001b[0m \u001b[0;34m>=\u001b[0m \u001b[0mself\u001b[0m\u001b[0;34m.\u001b[0m\u001b[0mndim\u001b[0m\u001b[0;34m:\u001b[0m\u001b[0;34m\u001b[0m\u001b[0;34m\u001b[0m\u001b[0m\n",
      "\u001b[0;32m/usr/local/lib/python3.7/site-packages/pandas/core/indexes/base.py\u001b[0m in \u001b[0;36m_can_reindex\u001b[0;34m(self, indexer)\u001b[0m\n\u001b[1;32m   3097\u001b[0m         \u001b[0;31m# trying to reindex on an axis with duplicates\u001b[0m\u001b[0;34m\u001b[0m\u001b[0;34m\u001b[0m\u001b[0;34m\u001b[0m\u001b[0m\n\u001b[1;32m   3098\u001b[0m         \u001b[0;32mif\u001b[0m \u001b[0;32mnot\u001b[0m \u001b[0mself\u001b[0m\u001b[0;34m.\u001b[0m\u001b[0mis_unique\u001b[0m \u001b[0;32mand\u001b[0m \u001b[0mlen\u001b[0m\u001b[0;34m(\u001b[0m\u001b[0mindexer\u001b[0m\u001b[0;34m)\u001b[0m\u001b[0;34m:\u001b[0m\u001b[0;34m\u001b[0m\u001b[0;34m\u001b[0m\u001b[0m\n\u001b[0;32m-> 3099\u001b[0;31m             \u001b[0;32mraise\u001b[0m \u001b[0mValueError\u001b[0m\u001b[0;34m(\u001b[0m\u001b[0;34m\"cannot reindex from a duplicate axis\"\u001b[0m\u001b[0;34m)\u001b[0m\u001b[0;34m\u001b[0m\u001b[0;34m\u001b[0m\u001b[0m\n\u001b[0m\u001b[1;32m   3100\u001b[0m \u001b[0;34m\u001b[0m\u001b[0m\n\u001b[1;32m   3101\u001b[0m     \u001b[0;32mdef\u001b[0m \u001b[0mreindex\u001b[0m\u001b[0;34m(\u001b[0m\u001b[0mself\u001b[0m\u001b[0;34m,\u001b[0m \u001b[0mtarget\u001b[0m\u001b[0;34m,\u001b[0m \u001b[0mmethod\u001b[0m\u001b[0;34m=\u001b[0m\u001b[0;32mNone\u001b[0m\u001b[0;34m,\u001b[0m \u001b[0mlevel\u001b[0m\u001b[0;34m=\u001b[0m\u001b[0;32mNone\u001b[0m\u001b[0;34m,\u001b[0m \u001b[0mlimit\u001b[0m\u001b[0;34m=\u001b[0m\u001b[0;32mNone\u001b[0m\u001b[0;34m,\u001b[0m \u001b[0mtolerance\u001b[0m\u001b[0;34m=\u001b[0m\u001b[0;32mNone\u001b[0m\u001b[0;34m)\u001b[0m\u001b[0;34m:\u001b[0m\u001b[0;34m\u001b[0m\u001b[0;34m\u001b[0m\u001b[0m\n",
      "\u001b[0;31mValueError\u001b[0m: cannot reindex from a duplicate axis"
     ]
    }
   ],
   "source": [
    "copy = all_sjc.copy(deep=True)\n",
    "\n",
    "#need to look at vacate\n",
    "def add_status(dataframe):\n",
    "    \n",
    "    terrible_cases = ~(contains(dataframe, \"reverse\", \"affirm\", \"vacate\"))\n",
    "    print(\"Terrible cases we can't deal with, have no keywords:\\n\", \n",
    "         terrible_cases.value_counts(), \"\\n\")\n",
    "    \n",
    "    #creating the column\n",
    "    dataframe[\"decision\"] = \"undecided\"\n",
    "    \n",
    "    definite_affirm = contains(dataframe, \"We affirm\", \"we affirm\")\n",
    "    definite_reverse = contains(dataframe, \"We reverse\", \"we reverse\")\n",
    "    \n",
    "    dataframe.decision[definite_reverse] = \"reverse\"\n",
    "    dataframe.decision[definite_affirm] = \"affirm\"\n",
    "    \n",
    "    undecided_still = dataframe.decision.str.contains(\"undecided\")\n",
    "    print(\"Decision was not that conclusive, coudn't find a \\\"we\\\" keyword :\\n\"\n",
    "          , undecided_still.value_counts(), \"\\n\")\n",
    "    \n",
    "    remaining = dataframe[undecided_still]\n",
    "    print(remaining)\n",
    "    particularly_inconclusive = contains(remaining, \"affirm\") & contains(remaining, \"reverse\")\n",
    "    print(\"particularly inconclusive:\\n\", particularly_inconclusive.value_counts())\n",
    "    \n",
    "    sort_of_affirm = contains(dataframe[undecided_still], \"affirm\")\n",
    "    sort_of_reverse = contains(dataframe[undecided_still], \"reverse\")\n",
    "    \n",
    "    dataframe.decision[sort_of_affirm] = \"affirm\"\n",
    "    dataframe.decision[sort_of_reverse] = \"reverse\"\n",
    "    \n",
    "    undecided_still = dataframe.decision.str.contains(\"undecided\")\n",
    "    print(\"Decision was not that conclusive couldn't find any keyword :\\n\"\n",
    "          , undecided_still.value_counts(), \"\\n\")\n",
    "\n",
    "    \n",
    "    \n",
    "    \n",
    "add_status(copy)\n"
   ]
  },
  {
   "cell_type": "markdown",
   "metadata": {},
   "source": [
    "### searching for total number"
   ]
  },
  {
   "cell_type": "code",
   "execution_count": null,
   "metadata": {},
   "outputs": [],
   "source": [
    "print(\"total number of cases was: \", len(all_sjc) + len(all_state_appeals))"
   ]
  },
  {
   "cell_type": "code",
   "execution_count": null,
   "metadata": {},
   "outputs": [],
   "source": [
    "result = number_of_cases_per_keywords(cases, important_keywords)\n",
    "print(result)"
   ]
  },
  {
   "cell_type": "code",
   "execution_count": null,
   "metadata": {},
   "outputs": [],
   "source": [
    "print(number_of_cases_per_keywords(appeals, important_keywords))"
   ]
  },
  {
   "cell_type": "code",
   "execution_count": null,
   "metadata": {},
   "outputs": [],
   "source": [
    "important_keywords.remove(\"informant\")\n",
    "print(number_of_cases_per_keywords(cases, important_keywords)[0] + number_of_cases_per_keywords(cases, important_keywords)[0])"
   ]
  },
  {
   "cell_type": "markdown",
   "metadata": {},
   "source": [
    "### Searching terms in text then headnote for cases.csv"
   ]
  },
  {
   "cell_type": "code",
   "execution_count": null,
   "metadata": {
    "scrolled": true
   },
   "outputs": [],
   "source": [
    "print(find_in_text(cases,\"confidential informant\"))"
   ]
  },
  {
   "cell_type": "code",
   "execution_count": null,
   "metadata": {},
   "outputs": [],
   "source": [
    "print(find_in_headnote(cases,\"confidential informant\"))"
   ]
  },
  {
   "cell_type": "code",
   "execution_count": null,
   "metadata": {},
   "outputs": [],
   "source": []
  },
  {
   "cell_type": "code",
   "execution_count": null,
   "metadata": {},
   "outputs": [],
   "source": [
    "print(find_in_text(cases,\" ci \"))"
   ]
  },
  {
   "cell_type": "code",
   "execution_count": null,
   "metadata": {},
   "outputs": [],
   "source": [
    "print(find_in_headnote(cases,\" ci \"))"
   ]
  },
  {
   "cell_type": "code",
   "execution_count": null,
   "metadata": {},
   "outputs": [],
   "source": []
  },
  {
   "cell_type": "code",
   "execution_count": null,
   "metadata": {},
   "outputs": [],
   "source": [
    "print(find_in_text(cases,\"snitch\"))"
   ]
  },
  {
   "cell_type": "code",
   "execution_count": null,
   "metadata": {},
   "outputs": [],
   "source": [
    "print(find_in_headnote(cases,\"snitch\"))"
   ]
  },
  {
   "cell_type": "code",
   "execution_count": null,
   "metadata": {},
   "outputs": [],
   "source": []
  },
  {
   "cell_type": "code",
   "execution_count": null,
   "metadata": {},
   "outputs": [],
   "source": [
    "print(find_in_text(cases,\"informant\"))"
   ]
  },
  {
   "cell_type": "code",
   "execution_count": null,
   "metadata": {},
   "outputs": [],
   "source": [
    "print(find_in_headnote(cases,\"informant\"))"
   ]
  },
  {
   "cell_type": "code",
   "execution_count": null,
   "metadata": {},
   "outputs": [],
   "source": []
  },
  {
   "cell_type": "code",
   "execution_count": null,
   "metadata": {},
   "outputs": [],
   "source": [
    "print(find_in_text(cases,\"gang informant\"))"
   ]
  },
  {
   "cell_type": "code",
   "execution_count": null,
   "metadata": {},
   "outputs": [],
   "source": [
    "print(find_in_headnote(cases,\"gang informant\"))"
   ]
  },
  {
   "cell_type": "code",
   "execution_count": null,
   "metadata": {},
   "outputs": [],
   "source": []
  },
  {
   "cell_type": "code",
   "execution_count": null,
   "metadata": {},
   "outputs": [],
   "source": [
    "print(find_in_text(cases,\"mafia informant\"))"
   ]
  },
  {
   "cell_type": "code",
   "execution_count": null,
   "metadata": {},
   "outputs": [],
   "source": [
    "print(find_in_headnote(cases,\"mafia informant\"))"
   ]
  },
  {
   "cell_type": "code",
   "execution_count": null,
   "metadata": {},
   "outputs": [],
   "source": []
  },
  {
   "cell_type": "code",
   "execution_count": null,
   "metadata": {},
   "outputs": [],
   "source": [
    "print(find_in_text(cases,\"organized crime informant\"))"
   ]
  },
  {
   "cell_type": "code",
   "execution_count": null,
   "metadata": {},
   "outputs": [],
   "source": [
    "print(find_in_headnote(cases,\"organized crime informant\"))"
   ]
  },
  {
   "cell_type": "code",
   "execution_count": null,
   "metadata": {},
   "outputs": [],
   "source": []
  },
  {
   "cell_type": "code",
   "execution_count": null,
   "metadata": {},
   "outputs": [],
   "source": [
    "print(find_in_text(cases,\"Stephen Lynch informant\"))"
   ]
  },
  {
   "cell_type": "code",
   "execution_count": null,
   "metadata": {},
   "outputs": [],
   "source": [
    "print(find_in_headnote(cases,\"Stephen Lynch informant\"))"
   ]
  },
  {
   "cell_type": "code",
   "execution_count": null,
   "metadata": {},
   "outputs": [],
   "source": []
  },
  {
   "cell_type": "code",
   "execution_count": null,
   "metadata": {},
   "outputs": [],
   "source": [
    "print(find_in_text(cases,\"federal prison informant\"))"
   ]
  },
  {
   "cell_type": "code",
   "execution_count": null,
   "metadata": {},
   "outputs": [],
   "source": [
    "print(find_in_headnote(cases,\"federal prison informant\"))"
   ]
  },
  {
   "cell_type": "code",
   "execution_count": null,
   "metadata": {},
   "outputs": [],
   "source": []
  },
  {
   "cell_type": "code",
   "execution_count": null,
   "metadata": {},
   "outputs": [],
   "source": [
    "print(find_in_text(cases,\"prison informant\"))"
   ]
  },
  {
   "cell_type": "code",
   "execution_count": null,
   "metadata": {},
   "outputs": [],
   "source": [
    "print(find_in_headnote(cases,\"prison informant\"))"
   ]
  },
  {
   "cell_type": "code",
   "execution_count": null,
   "metadata": {},
   "outputs": [],
   "source": []
  },
  {
   "cell_type": "code",
   "execution_count": null,
   "metadata": {},
   "outputs": [],
   "source": [
    "print(find_in_text(cases,\"Whitey Bulger informant\"))"
   ]
  },
  {
   "cell_type": "code",
   "execution_count": null,
   "metadata": {},
   "outputs": [],
   "source": [
    "print(find_in_headnote(cases,\"Whitey Bulger informant\"))"
   ]
  },
  {
   "cell_type": "code",
   "execution_count": null,
   "metadata": {},
   "outputs": [],
   "source": []
  },
  {
   "cell_type": "code",
   "execution_count": null,
   "metadata": {},
   "outputs": [],
   "source": [
    "print(find_in_text(cases,\"U.S. government informant\"))"
   ]
  },
  {
   "cell_type": "code",
   "execution_count": null,
   "metadata": {},
   "outputs": [],
   "source": [
    "print(find_in_headnote(cases,\"U.S. government informant\"))"
   ]
  },
  {
   "cell_type": "code",
   "execution_count": null,
   "metadata": {},
   "outputs": [],
   "source": []
  },
  {
   "cell_type": "code",
   "execution_count": null,
   "metadata": {},
   "outputs": [],
   "source": [
    "print(find_in_text(cases,\"government informant\"))"
   ]
  },
  {
   "cell_type": "code",
   "execution_count": null,
   "metadata": {},
   "outputs": [],
   "source": [
    "print(find_in_headnote(cases,\"government informant\"))"
   ]
  },
  {
   "cell_type": "code",
   "execution_count": null,
   "metadata": {},
   "outputs": [],
   "source": []
  },
  {
   "cell_type": "code",
   "execution_count": null,
   "metadata": {},
   "outputs": [],
   "source": [
    "print(find_in_text(cases,\"government snitch\"))"
   ]
  },
  {
   "cell_type": "code",
   "execution_count": null,
   "metadata": {
    "scrolled": true
   },
   "outputs": [],
   "source": [
    "print(find_in_headnote(cases,\"government snitch\"))"
   ]
  },
  {
   "cell_type": "markdown",
   "metadata": {},
   "source": [
    "### Searching terms in text then headnote for cases_appeals.csv"
   ]
  },
  {
   "cell_type": "code",
   "execution_count": null,
   "metadata": {
    "scrolled": true
   },
   "outputs": [],
   "source": [
    "print(find_in_text(appeals,\"confidential informant\"))"
   ]
  },
  {
   "cell_type": "code",
   "execution_count": null,
   "metadata": {},
   "outputs": [],
   "source": [
    "print(find_in_headnote(appeals,\"confidential informant\"))"
   ]
  },
  {
   "cell_type": "code",
   "execution_count": null,
   "metadata": {},
   "outputs": [],
   "source": []
  },
  {
   "cell_type": "code",
   "execution_count": null,
   "metadata": {},
   "outputs": [],
   "source": [
    "print(find_in_text(appeals,\" ci \"))"
   ]
  },
  {
   "cell_type": "code",
   "execution_count": null,
   "metadata": {},
   "outputs": [],
   "source": [
    "print(find_in_headnote(appeals,\" ci \"))"
   ]
  },
  {
   "cell_type": "code",
   "execution_count": null,
   "metadata": {},
   "outputs": [],
   "source": []
  },
  {
   "cell_type": "code",
   "execution_count": null,
   "metadata": {},
   "outputs": [],
   "source": [
    "print(find_in_text(appeals,\"snitch\"))"
   ]
  },
  {
   "cell_type": "code",
   "execution_count": null,
   "metadata": {},
   "outputs": [],
   "source": [
    "print(find_in_headnote(appeals,\"snitch\"))"
   ]
  },
  {
   "cell_type": "code",
   "execution_count": null,
   "metadata": {},
   "outputs": [],
   "source": []
  },
  {
   "cell_type": "code",
   "execution_count": null,
   "metadata": {},
   "outputs": [],
   "source": [
    "print(find_in_text(appeals,\"informant\"))"
   ]
  },
  {
   "cell_type": "code",
   "execution_count": null,
   "metadata": {},
   "outputs": [],
   "source": [
    "print(find_in_headnote(appeals,\"informant\"))"
   ]
  },
  {
   "cell_type": "code",
   "execution_count": null,
   "metadata": {},
   "outputs": [],
   "source": []
  },
  {
   "cell_type": "code",
   "execution_count": null,
   "metadata": {},
   "outputs": [],
   "source": [
    "print(find_in_text(appeals,\"gang informant\"))"
   ]
  },
  {
   "cell_type": "code",
   "execution_count": null,
   "metadata": {},
   "outputs": [],
   "source": [
    "print(find_in_headnote(appeals,\"gang informant\"))"
   ]
  },
  {
   "cell_type": "code",
   "execution_count": null,
   "metadata": {},
   "outputs": [],
   "source": []
  },
  {
   "cell_type": "code",
   "execution_count": null,
   "metadata": {},
   "outputs": [],
   "source": [
    "print(find_in_text(appeals,\"mafia informant\"))"
   ]
  },
  {
   "cell_type": "code",
   "execution_count": null,
   "metadata": {},
   "outputs": [],
   "source": [
    "print(find_in_headnote(appeals,\"mafia informant\"))"
   ]
  },
  {
   "cell_type": "code",
   "execution_count": null,
   "metadata": {},
   "outputs": [],
   "source": []
  },
  {
   "cell_type": "code",
   "execution_count": null,
   "metadata": {},
   "outputs": [],
   "source": [
    "print(find_in_text(appeals,\"organized crime informant\"))"
   ]
  },
  {
   "cell_type": "code",
   "execution_count": null,
   "metadata": {},
   "outputs": [],
   "source": [
    "print(find_in_headnote(appeals,\"organized crime informant\"))"
   ]
  },
  {
   "cell_type": "code",
   "execution_count": null,
   "metadata": {},
   "outputs": [],
   "source": []
  },
  {
   "cell_type": "code",
   "execution_count": null,
   "metadata": {},
   "outputs": [],
   "source": [
    "print(find_in_text(appeals,\"Stephen Lynch informant\"))"
   ]
  },
  {
   "cell_type": "code",
   "execution_count": null,
   "metadata": {},
   "outputs": [],
   "source": [
    "print(find_in_headnote(appeals,\"Stephen Lynch informant\"))"
   ]
  },
  {
   "cell_type": "code",
   "execution_count": null,
   "metadata": {},
   "outputs": [],
   "source": []
  },
  {
   "cell_type": "code",
   "execution_count": null,
   "metadata": {},
   "outputs": [],
   "source": [
    "print(find_in_text(appeals,\"federal prison informant\"))"
   ]
  },
  {
   "cell_type": "code",
   "execution_count": null,
   "metadata": {},
   "outputs": [],
   "source": [
    "print(find_in_headnote(appeals,\"federal prison informant\"))"
   ]
  },
  {
   "cell_type": "code",
   "execution_count": null,
   "metadata": {},
   "outputs": [],
   "source": []
  },
  {
   "cell_type": "code",
   "execution_count": null,
   "metadata": {},
   "outputs": [],
   "source": [
    "print(find_in_text(appeals,\"prison informant\"))"
   ]
  },
  {
   "cell_type": "code",
   "execution_count": null,
   "metadata": {},
   "outputs": [],
   "source": [
    "print(find_in_headnote(appeals,\"prison informant\"))"
   ]
  },
  {
   "cell_type": "code",
   "execution_count": null,
   "metadata": {},
   "outputs": [],
   "source": []
  },
  {
   "cell_type": "code",
   "execution_count": null,
   "metadata": {},
   "outputs": [],
   "source": [
    "print(find_in_text(appeals,\"Whitey Bulger informant\"))"
   ]
  },
  {
   "cell_type": "code",
   "execution_count": null,
   "metadata": {},
   "outputs": [],
   "source": [
    "print(find_in_headnote(appeals,\"Whitey Bulger informant\"))"
   ]
  },
  {
   "cell_type": "code",
   "execution_count": null,
   "metadata": {},
   "outputs": [],
   "source": []
  },
  {
   "cell_type": "code",
   "execution_count": null,
   "metadata": {},
   "outputs": [],
   "source": [
    "print(find_in_text(appeals,\"U.S. government informant\"))"
   ]
  },
  {
   "cell_type": "code",
   "execution_count": null,
   "metadata": {},
   "outputs": [],
   "source": [
    "print(find_in_headnote(appeals,\"U.S. government informant\"))"
   ]
  },
  {
   "cell_type": "code",
   "execution_count": null,
   "metadata": {},
   "outputs": [],
   "source": []
  },
  {
   "cell_type": "code",
   "execution_count": null,
   "metadata": {},
   "outputs": [],
   "source": [
    "print(find_in_text(appeals,\"government informant\"))"
   ]
  },
  {
   "cell_type": "code",
   "execution_count": null,
   "metadata": {},
   "outputs": [],
   "source": [
    "print(find_in_headnote(appeals,\"government informant\"))"
   ]
  },
  {
   "cell_type": "code",
   "execution_count": null,
   "metadata": {},
   "outputs": [],
   "source": []
  },
  {
   "cell_type": "code",
   "execution_count": null,
   "metadata": {},
   "outputs": [],
   "source": [
    "print(find_in_text(appeals,\"government snitch\"))"
   ]
  },
  {
   "cell_type": "code",
   "execution_count": null,
   "metadata": {
    "scrolled": true
   },
   "outputs": [],
   "source": [
    "print(find_in_headnote(appeals,\"government snitch\"))"
   ]
  },
  {
   "cell_type": "code",
   "execution_count": null,
   "metadata": {},
   "outputs": [],
   "source": []
  },
  {
   "cell_type": "code",
   "execution_count": null,
   "metadata": {
    "scrolled": true
   },
   "outputs": [],
   "source": []
  },
  {
   "cell_type": "code",
   "execution_count": null,
   "metadata": {
    "scrolled": true
   },
   "outputs": [],
   "source": [
    "print(len(find_in_text(cases,\"appeal\")))"
   ]
  },
  {
   "cell_type": "code",
   "execution_count": null,
   "metadata": {},
   "outputs": [],
   "source": [
    "len(cases)"
   ]
  },
  {
   "cell_type": "code",
   "execution_count": null,
   "metadata": {},
   "outputs": [],
   "source": []
  }
 ],
 "metadata": {
  "kernelspec": {
   "display_name": "Python 3",
   "language": "python",
   "name": "python3"
  },
  "language_info": {
   "codemirror_mode": {
    "name": "ipython",
    "version": 3
   },
   "file_extension": ".py",
   "mimetype": "text/x-python",
   "name": "python",
   "nbconvert_exporter": "python",
   "pygments_lexer": "ipython3",
   "version": "3.7.4"
  }
 },
 "nbformat": 4,
 "nbformat_minor": 2
}
