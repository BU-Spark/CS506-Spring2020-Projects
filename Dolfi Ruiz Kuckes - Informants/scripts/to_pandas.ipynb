{
 "cells": [
  {
   "cell_type": "markdown",
   "metadata": {},
   "source": [
    "## This file creates a pandas implementation of the functions we have in terms_in_cases file\n",
    "### It uses data from previous teams, and our new data from 4/9"
   ]
  },
  {
   "cell_type": "code",
   "execution_count": 1,
   "metadata": {},
   "outputs": [
    {
     "name": "stdout",
     "output_type": "stream",
     "text": [
      "\n",
      "imported utility.py\n",
      "\n"
     ]
    }
   ],
   "source": [
    "#general imports\n",
    "import json\n",
    "import numpy as np\n",
    "import pandas as pd\n",
    "\n",
    "#this code makes your editing experience using both python files \n",
    "#and notebooks a lot easier\n",
    "%load_ext autoreload\n",
    "#written to make things easier\n",
    "%aimport utility \n",
    "%autoreload 1\n"
   ]
  },
  {
   "cell_type": "code",
   "execution_count": 32,
   "metadata": {},
   "outputs": [
    {
     "ename": "KeyError",
     "evalue": "'Requested level (dissent) does not match index name (None)'",
     "output_type": "error",
     "traceback": [
      "\u001b[0;31m---------------------------------------------------------------------------\u001b[0m",
      "\u001b[0;31mKeyError\u001b[0m                                  Traceback (most recent call last)",
      "\u001b[0;32m<ipython-input-32-68ed04edd903>\u001b[0m in \u001b[0;36m<module>\u001b[0;34m\u001b[0m\n\u001b[1;32m      1\u001b[0m \u001b[0mall_cases\u001b[0m\u001b[0;34m,\u001b[0m \u001b[0mall_appeals\u001b[0m \u001b[0;34m=\u001b[0m \u001b[0mutility\u001b[0m\u001b[0;34m.\u001b[0m\u001b[0mcombine_cases\u001b[0m\u001b[0;34m(\u001b[0m\u001b[0;34m)\u001b[0m\u001b[0;34m\u001b[0m\u001b[0;34m\u001b[0m\u001b[0m\n\u001b[1;32m      2\u001b[0m \u001b[0;34m\u001b[0m\u001b[0m\n\u001b[0;32m----> 3\u001b[0;31m \u001b[0mall_cases\u001b[0m\u001b[0;34m[\u001b[0m\u001b[0mall_cases\u001b[0m\u001b[0;34m.\u001b[0m\u001b[0mtext\u001b[0m\u001b[0;34m.\u001b[0m\u001b[0mstr\u001b[0m\u001b[0;34m.\u001b[0m\u001b[0mcontains\u001b[0m\u001b[0;34m(\u001b[0m\u001b[0;34m\"dissent\"\u001b[0m\u001b[0;34m)\u001b[0m\u001b[0;34m]\u001b[0m\u001b[0;34m.\u001b[0m\u001b[0mtext\u001b[0m\u001b[0;34m.\u001b[0m\u001b[0mcount\u001b[0m\u001b[0;34m(\u001b[0m\u001b[0;34m\"dissent\"\u001b[0m\u001b[0;34m)\u001b[0m\u001b[0;34m.\u001b[0m\u001b[0mdescribe\u001b[0m\u001b[0;34m(\u001b[0m\u001b[0;34m)\u001b[0m\u001b[0;34m\u001b[0m\u001b[0;34m\u001b[0m\u001b[0m\n\u001b[0m",
      "\u001b[0;32m/usr/local/lib/python3.7/site-packages/pandas/core/series.py\u001b[0m in \u001b[0;36mcount\u001b[0;34m(self, level)\u001b[0m\n\u001b[1;32m   1718\u001b[0m \u001b[0;34m\u001b[0m\u001b[0m\n\u001b[1;32m   1719\u001b[0m         \u001b[0;32mif\u001b[0m \u001b[0misinstance\u001b[0m\u001b[0;34m(\u001b[0m\u001b[0mlevel\u001b[0m\u001b[0;34m,\u001b[0m \u001b[0mstr\u001b[0m\u001b[0;34m)\u001b[0m\u001b[0;34m:\u001b[0m\u001b[0;34m\u001b[0m\u001b[0;34m\u001b[0m\u001b[0m\n\u001b[0;32m-> 1720\u001b[0;31m             \u001b[0mlevel\u001b[0m \u001b[0;34m=\u001b[0m \u001b[0mself\u001b[0m\u001b[0;34m.\u001b[0m\u001b[0mindex\u001b[0m\u001b[0;34m.\u001b[0m\u001b[0m_get_level_number\u001b[0m\u001b[0;34m(\u001b[0m\u001b[0mlevel\u001b[0m\u001b[0;34m)\u001b[0m\u001b[0;34m\u001b[0m\u001b[0;34m\u001b[0m\u001b[0m\n\u001b[0m\u001b[1;32m   1721\u001b[0m \u001b[0;34m\u001b[0m\u001b[0m\n\u001b[1;32m   1722\u001b[0m         \u001b[0mlev\u001b[0m \u001b[0;34m=\u001b[0m \u001b[0mself\u001b[0m\u001b[0;34m.\u001b[0m\u001b[0mindex\u001b[0m\u001b[0;34m.\u001b[0m\u001b[0mlevels\u001b[0m\u001b[0;34m[\u001b[0m\u001b[0mlevel\u001b[0m\u001b[0;34m]\u001b[0m\u001b[0;34m\u001b[0m\u001b[0;34m\u001b[0m\u001b[0m\n",
      "\u001b[0;32m/usr/local/lib/python3.7/site-packages/pandas/core/indexes/base.py\u001b[0m in \u001b[0;36m_get_level_number\u001b[0;34m(self, level)\u001b[0m\n\u001b[1;32m   1418\u001b[0m \u001b[0;34m\u001b[0m\u001b[0m\n\u001b[1;32m   1419\u001b[0m     \u001b[0;32mdef\u001b[0m \u001b[0m_get_level_number\u001b[0m\u001b[0;34m(\u001b[0m\u001b[0mself\u001b[0m\u001b[0;34m,\u001b[0m \u001b[0mlevel\u001b[0m\u001b[0;34m)\u001b[0m\u001b[0;34m:\u001b[0m\u001b[0;34m\u001b[0m\u001b[0;34m\u001b[0m\u001b[0m\n\u001b[0;32m-> 1420\u001b[0;31m         \u001b[0mself\u001b[0m\u001b[0;34m.\u001b[0m\u001b[0m_validate_index_level\u001b[0m\u001b[0;34m(\u001b[0m\u001b[0mlevel\u001b[0m\u001b[0;34m)\u001b[0m\u001b[0;34m\u001b[0m\u001b[0;34m\u001b[0m\u001b[0m\n\u001b[0m\u001b[1;32m   1421\u001b[0m         \u001b[0;32mreturn\u001b[0m \u001b[0;36m0\u001b[0m\u001b[0;34m\u001b[0m\u001b[0;34m\u001b[0m\u001b[0m\n\u001b[1;32m   1422\u001b[0m \u001b[0;34m\u001b[0m\u001b[0m\n",
      "\u001b[0;32m/usr/local/lib/python3.7/site-packages/pandas/core/indexes/base.py\u001b[0m in \u001b[0;36m_validate_index_level\u001b[0;34m(self, level)\u001b[0m\n\u001b[1;32m   1414\u001b[0m         \u001b[0;32melif\u001b[0m \u001b[0mlevel\u001b[0m \u001b[0;34m!=\u001b[0m \u001b[0mself\u001b[0m\u001b[0;34m.\u001b[0m\u001b[0mname\u001b[0m\u001b[0;34m:\u001b[0m\u001b[0;34m\u001b[0m\u001b[0;34m\u001b[0m\u001b[0m\n\u001b[1;32m   1415\u001b[0m             raise KeyError(\n\u001b[0;32m-> 1416\u001b[0;31m                 \u001b[0;34mf\"Requested level ({level}) does not match index name ({self.name})\"\u001b[0m\u001b[0;34m\u001b[0m\u001b[0;34m\u001b[0m\u001b[0m\n\u001b[0m\u001b[1;32m   1417\u001b[0m             )\n\u001b[1;32m   1418\u001b[0m \u001b[0;34m\u001b[0m\u001b[0m\n",
      "\u001b[0;31mKeyError\u001b[0m: 'Requested level (dissent) does not match index name (None)'"
     ]
    }
   ],
   "source": [
    "all_cases, all_appeals = utility.combine_cases()\n",
    "\n",
    "#for each case text\n",
    "def remove_dissent():\n",
    "    #look if contains \"dissent\", \"dissenting\"\n",
    "    #look if contains conclusion\n",
    "    \n",
    "    #if contains conclusion, look for all indeces after conclusion of words \"dissent\", \"dissenting\"\n",
    "    #remove text after earliest index of those two words\n",
    "    \n",
    "    #maybe do other stuff if you think you can"
   ]
  },
  {
   "cell_type": "code",
   "execution_count": 3,
   "metadata": {},
   "outputs": [
    {
     "data": {
      "text/plain": [
       "7011"
      ]
     },
     "execution_count": 3,
     "metadata": {},
     "output_type": "execute_result"
    }
   ],
   "source": [
    "len(all_appeals)+len(all_cases)"
   ]
  },
  {
   "cell_type": "code",
   "execution_count": null,
   "metadata": {},
   "outputs": [],
   "source": []
  },
  {
   "cell_type": "code",
   "execution_count": 4,
   "metadata": {},
   "outputs": [],
   "source": [
    "\n",
    "def pd_number_of_cases_per_keywords(case_data, list_of_keywords):\n",
    "    # This function takes as input: a pandas dataframe with the case data, and a list of keywords to search for. \n",
    "    # It searches through the headnote and text for the keywords\n",
    "    # Note: It is NOT caps sensitive.\n",
    "    # See pd_number_in_headnote if you want to only search the headnote.\n",
    "    headnotes = case_data[\"headnote\"]\n",
    "    headnotes = headnotes.str.contains(\"|\".join(list_of_keywords),regex=True,case=False)\n",
    "    texts = case_data[\"text\"]\n",
    "    texts = texts.str.contains(\"|\".join(list_of_keywords),regex=True,case=False)\n",
    "    all_cases = case_data[headnotes|texts]\n",
    "    return all_cases\n",
    "    \n",
    "    "
   ]
  },
  {
   "cell_type": "code",
   "execution_count": 5,
   "metadata": {},
   "outputs": [],
   "source": [
    "def pd_number_in_headnote(case_data, list_of_keywords):\n",
    "    # This function takes as input: a pandas dataframe with the case data, and a list of keywords to search for. \n",
    "    # It searches through the headnote for the keywords\n",
    "    # Note: It is NOT caps sensitive.\n",
    "    # See pd_number_of_cases_per_keyword if you want to search through the headnote and text.\n",
    "    headnotes = case_data[\"headnote\"]\n",
    "    headnotes = headnotes.str.contains(\"|\".join(list_of_keywords),regex=True,case=False)\n",
    "    all_cases = case_data[headnotes]\n",
    "    return all_cases\n",
    "    "
   ]
  },
  {
   "cell_type": "markdown",
   "metadata": {},
   "source": [
    "### Now we look for informant related cases in the data"
   ]
  },
  {
   "cell_type": "code",
   "execution_count": 6,
   "metadata": {},
   "outputs": [],
   "source": [
    "important_keywords = [\"confidential informant\", \" ci \", \"snitch\", \"informant\", \"gang informant\"]"
   ]
  },
  {
   "cell_type": "code",
   "execution_count": 7,
   "metadata": {},
   "outputs": [
    {
     "name": "stdout",
     "output_type": "stream",
     "text": [
      "79\n"
     ]
    }
   ],
   "source": [
    "result_cases = pd_number_of_cases_per_keywords(all_cases, important_keywords)\n",
    "print(len(result_cases))"
   ]
  },
  {
   "cell_type": "code",
   "execution_count": 8,
   "metadata": {},
   "outputs": [
    {
     "name": "stdout",
     "output_type": "stream",
     "text": [
      "146\n"
     ]
    }
   ],
   "source": [
    "result_appeals = pd_number_of_cases_per_keywords(all_appeals, important_keywords)\n",
    "print(len(result_appeals))"
   ]
  },
  {
   "cell_type": "code",
   "execution_count": null,
   "metadata": {},
   "outputs": [],
   "source": []
  },
  {
   "cell_type": "markdown",
   "metadata": {},
   "source": [
    "### Now we look for reversal related cases in the data"
   ]
  },
  {
   "cell_type": "code",
   "execution_count": 9,
   "metadata": {},
   "outputs": [
    {
     "name": "stdout",
     "output_type": "stream",
     "text": [
      "620\n"
     ]
    }
   ],
   "source": [
    "rev = [\"reversed\",\"reversing\"]\n",
    "result_reversed_cases = pd_number_of_cases_per_keywords(all_cases,rev)\n",
    "result_reversed_appeals = pd_number_of_cases_per_keywords(all_appeals,rev)\n",
    "print(len(result_reversed_cases))"
   ]
  },
  {
   "cell_type": "code",
   "execution_count": 10,
   "metadata": {},
   "outputs": [
    {
     "name": "stdout",
     "output_type": "stream",
     "text": [
      "1445\n"
     ]
    }
   ],
   "source": [
    "print(len(result_reversed_appeals))"
   ]
  },
  {
   "cell_type": "code",
   "execution_count": 11,
   "metadata": {},
   "outputs": [
    {
     "name": "stdout",
     "output_type": "stream",
     "text": [
      "37\n"
     ]
    }
   ],
   "source": [
    "reversed_headnote_cases = pd_number_in_headnote(all_cases,rev)\n",
    "reversed_headnote_appeals = pd_number_in_headnote(all_appeals,rev)\n",
    "print(len(reversed_headnote_cases))"
   ]
  },
  {
   "cell_type": "code",
   "execution_count": 12,
   "metadata": {},
   "outputs": [
    {
     "name": "stdout",
     "output_type": "stream",
     "text": [
      "102\n"
     ]
    }
   ],
   "source": [
    "print(len(reversed_headnote_appeals))"
   ]
  },
  {
   "cell_type": "code",
   "execution_count": null,
   "metadata": {},
   "outputs": [],
   "source": []
  },
  {
   "cell_type": "markdown",
   "metadata": {},
   "source": [
    "### Now we look for civil cases in the data"
   ]
  },
  {
   "cell_type": "code",
   "execution_count": 13,
   "metadata": {},
   "outputs": [
    {
     "name": "stdout",
     "output_type": "stream",
     "text": [
      "1156\n"
     ]
    }
   ],
   "source": [
    "civ = [\"civil \", \"civil action\",\"civil,\"]\n",
    "result_civil_cases = pd_number_of_cases_per_keywords(all_cases,civ)\n",
    "result_civil_appeals = pd_number_of_cases_per_keywords(all_appeals,civ)\n",
    "print(len(result_civil_cases))"
   ]
  },
  {
   "cell_type": "code",
   "execution_count": 14,
   "metadata": {},
   "outputs": [
    {
     "name": "stdout",
     "output_type": "stream",
     "text": [
      "2316\n"
     ]
    }
   ],
   "source": [
    "print(len(result_civil_appeals))"
   ]
  },
  {
   "cell_type": "code",
   "execution_count": 15,
   "metadata": {},
   "outputs": [
    {
     "name": "stdout",
     "output_type": "stream",
     "text": [
      "951\n"
     ]
    }
   ],
   "source": [
    "civil_headnote_cases = pd_number_in_headnote(all_cases,civ)\n",
    "civil_headnote_appeals = pd_number_in_headnote(all_appeals,civ)\n",
    "print(len(civil_headnote_cases))"
   ]
  },
  {
   "cell_type": "code",
   "execution_count": 16,
   "metadata": {},
   "outputs": [
    {
     "name": "stdout",
     "output_type": "stream",
     "text": [
      "2136\n"
     ]
    }
   ],
   "source": [
    "print(len(civil_headnote_appeals))"
   ]
  },
  {
   "cell_type": "code",
   "execution_count": null,
   "metadata": {},
   "outputs": [],
   "source": []
  },
  {
   "cell_type": "markdown",
   "metadata": {},
   "source": [
    "### Now we look for dissents in the cases"
   ]
  },
  {
   "cell_type": "code",
   "execution_count": 17,
   "metadata": {},
   "outputs": [
    {
     "name": "stdout",
     "output_type": "stream",
     "text": [
      "278\n"
     ]
    }
   ],
   "source": [
    "dis = [\"dissent\",\"dissenting\"] \n",
    "result_dissent_cases = pd_number_of_cases_per_keywords(all_cases,dis)\n",
    "result_dissent_appeals = pd_number_of_cases_per_keywords(all_appeals,dis)\n",
    "print(len(result_dissent_cases))"
   ]
  },
  {
   "cell_type": "code",
   "execution_count": 18,
   "metadata": {},
   "outputs": [
    {
     "name": "stdout",
     "output_type": "stream",
     "text": [
      "329\n"
     ]
    }
   ],
   "source": [
    "print(len(result_dissent_appeals))"
   ]
  },
  {
   "cell_type": "code",
   "execution_count": 19,
   "metadata": {},
   "outputs": [
    {
     "name": "stdout",
     "output_type": "stream",
     "text": [
      "147\n"
     ]
    }
   ],
   "source": [
    "dissent_headnote_cases = pd_number_in_headnote(all_cases,dis)\n",
    "dissent_headnote_appeals = pd_number_in_headnote(all_appeals,dis)\n",
    "print(len(dissent_headnote_cases))"
   ]
  },
  {
   "cell_type": "code",
   "execution_count": 20,
   "metadata": {},
   "outputs": [
    {
     "name": "stdout",
     "output_type": "stream",
     "text": [
      "216\n"
     ]
    }
   ],
   "source": [
    "print(len(dissent_headnote_appeals))"
   ]
  },
  {
   "cell_type": "code",
   "execution_count": null,
   "metadata": {},
   "outputs": [],
   "source": []
  },
  {
   "cell_type": "markdown",
   "metadata": {},
   "source": [
    "### Now we look for footnotes in the data"
   ]
  },
  {
   "cell_type": "code",
   "execution_count": 21,
   "metadata": {},
   "outputs": [
    {
     "name": "stdout",
     "output_type": "stream",
     "text": [
      "154\n",
      "288\n"
     ]
    }
   ],
   "source": [
    "ft = [\"Footnote\"]\n",
    "foots_c = pd_number_of_cases_per_keywords(all_cases,ft)\n",
    "foots_a = pd_number_of_cases_per_keywords(all_appeals,ft)\n",
    "print(len(foots_c))\n",
    "print(len(foots_a))"
   ]
  },
  {
   "cell_type": "code",
   "execution_count": 22,
   "metadata": {},
   "outputs": [
    {
     "data": {
      "text/plain": [
       "8    \\nThe plaintiffs appeal from a judgment of the...\n",
       "8    BY THE COURT. The judgment on the aggravated r...\n",
       "Name: text, dtype: object"
      ]
     },
     "execution_count": 22,
     "metadata": {},
     "output_type": "execute_result"
    }
   ],
   "source": [
    "all_cases.loc[8,\"text\"]"
   ]
  },
  {
   "cell_type": "code",
   "execution_count": null,
   "metadata": {},
   "outputs": [],
   "source": []
  },
  {
   "cell_type": "markdown",
   "metadata": {},
   "source": [
    "### Deeper on informant cases"
   ]
  },
  {
   "cell_type": "code",
   "execution_count": 23,
   "metadata": {},
   "outputs": [
    {
     "name": "stdout",
     "output_type": "stream",
     "text": [
      "in cases: 79\n",
      "in appeals: 146\n",
      "civil and informant cases: 10\n",
      "civil and informant appeals: 9\n",
      "reversed and informant cases: 28\n",
      "reversed and informant appeals: 69\n",
      "reversed, civil, informant cases: 2 2\n",
      "reversed, civil, informant appeals: 1 1\n",
      "dissent and informant cases: 15\n",
      "dissent and informant appeals: 19\n"
     ]
    }
   ],
   "source": [
    "print(\"in cases:\",len(result_cases))\n",
    "print(\"in appeals:\",len(result_appeals))\n",
    "\n",
    "civil_informant_cases = pd_number_in_headnote(result_cases,civ)\n",
    "civil_informant_appeals = pd_number_in_headnote(result_appeals,civ)\n",
    "print(\"civil and informant cases:\",len(civil_informant_cases))\n",
    "print(\"civil and informant appeals:\",len(civil_informant_appeals))\n",
    "\n",
    "reversed_informant_cases = pd_number_of_cases_per_keywords(result_cases,rev)\n",
    "reversed_informant_appeals = pd_number_of_cases_per_keywords(result_appeals,rev)\n",
    "print(\"reversed and informant cases:\",len(reversed_informant_cases))\n",
    "print(\"reversed and informant appeals:\",len(reversed_informant_appeals))\n",
    "\n",
    "reversed_civil_informant_cases = pd_number_in_headnote(reversed_informant_cases,civ)\n",
    "reversed_civil_informant_appeals = pd_number_in_headnote(reversed_informant_appeals,civ)\n",
    "civil_reversed_informant_cases = pd_number_of_cases_per_keywords(civil_informant_cases,rev)\n",
    "civil_reversed_informant_appeals = pd_number_of_cases_per_keywords(civil_informant_appeals,rev)\n",
    "print(\"reversed, civil, informant cases:\",len(reversed_civil_informant_cases),len(civil_reversed_informant_cases))\n",
    "print(\"reversed, civil, informant appeals:\",len(reversed_civil_informant_appeals),len(civil_reversed_informant_appeals))\n",
    "\n",
    "# idk dissent?\n",
    "dissent_informant_cases = pd_number_of_cases_per_keywords(result_cases,dis)\n",
    "dissent_informant_appeals = pd_number_of_cases_per_keywords(result_appeals,dis)\n",
    "print(\"dissent and informant cases:\",len(dissent_informant_cases))\n",
    "print(\"dissent and informant appeals:\",len(dissent_informant_appeals))\n",
    "\n"
   ]
  },
  {
   "cell_type": "code",
   "execution_count": null,
   "metadata": {},
   "outputs": [],
   "source": []
  },
  {
   "cell_type": "markdown",
   "metadata": {},
   "source": [
    "### Deeper on cases with dissent"
   ]
  },
  {
   "cell_type": "code",
   "execution_count": 27,
   "metadata": {},
   "outputs": [
    {
     "name": "stdout",
     "output_type": "stream",
     "text": [
      "278\n",
      "329\n"
     ]
    }
   ],
   "source": [
    "print(len(result_dissent_cases))\n",
    "print(len(result_dissent_appeals))"
   ]
  },
  {
   "cell_type": "code",
   "execution_count": 25,
   "metadata": {},
   "outputs": [
    {
     "name": "stdout",
     "output_type": "stream",
     "text": [
      "91\n",
      "130\n"
     ]
    }
   ],
   "source": [
    "dissent_reversed_cases = pd_number_of_cases_per_keywords(result_dissent_cases,rev)\n",
    "dissent_reversed_appeals = pd_number_of_cases_per_keywords(result_dissent_appeals,rev)\n",
    "print(len(dissent_reversed_cases))\n",
    "print(len(dissent_reversed_appeals))"
   ]
  },
  {
   "cell_type": "code",
   "execution_count": 28,
   "metadata": {},
   "outputs": [
    {
     "name": "stdout",
     "output_type": "stream",
     "text": [
      "222\n",
      "119\n"
     ]
    },
    {
     "data": {
      "text/plain": [
       "array([' MICHAEL PARR & another vs.  DANIEL ROSENTHAL.',\n",
       "       \"Limitations, Statute of. Medical Malpractice, Statute of limitations. Negligence, Doctor, Medical malpractice.\\nRecognizing the \\x93continuing treatment doctrine\\x94 applicable to medical malpractice claims, this court concluded that the statute of limitations for a medical malpractice claim generally does not begin to run while the plaintiff and the defendant physician continue to have a doctor-patient relationship and the plaintiff continues to receive treatment from the physician for the same or a related condition; that the continuing treatment exception to the discovery rule terminates once a patient (or the parent or guardian of a minor patient) learns that the physician's negligence was the cause of his or her injury; and that, once the allegedly negligent physician no longer has any role in treating the patient, the continuing treatment doctrine does not apply even if the physician had at one time been part of the same \\x93treatment team\\x94 as the physicians who continue to provide care. [376-388] Cordy, J., dissenting.\\nIn a civil action alleging medical malpractice, the judge properly entered judgment in favor of the defendant based on the jury's finding that the plaintiffs had known or should reasonably have known more than three years before commencing this action that they had been harmed by the conduct of the defendant, where the continuing treatment doctrine did not apply to continued treatment of the plaintiffs' minor son by a \\x93treatment team\\x94 that once included the defendant, and therefore, the statute of limitations was not tolled beyond the date that the defendant left the treatment team; likewise, the judge properly denied a motion for a new trial. [388-389]\",\n",
       "       'Conclusion.  We affirm the judgment in favor of the defendant\\nPage 389\\nand the order denying the plaintiffs\\' motion for a new trial.\\nSo ordered.\\n\\nThe court\\'s decision today fails to consider several factors that strongly militate against adopting a continuing treatment exception to our settled discovery rule for medical malpractice claims.  Instead, the court imprudently intrudes into a critically important sphere of health care policymaking and makes its own preferred policy judgment without any inkling of the effect it might have on the cost of health care in Massachusetts, a matter of acute concern to the executive and legislative branches of government.  These branches are far better equipped to balance the benefits of a prolonged statute of limitations with the cost and access issues it implicates.  Just because the court can act to change the law does not mean that it should.  Therefore, I respectfully dissent from the court\\'s adoption of the continuing treatment doctrine for medical malpractice cases.\\nFor nearly forty years, our law has been clear:  a cause of action for medical malpractice \"accrue[s] when the plaintiff learns, or reasonably should have learned, that he has been harmed by the defendant\\'s conduct.\"  Franklin v. Albert,\\n, 619 (1980).  See G. L. c. 231, § 60D.  Once the harm and its causal relationship to acts of the physician is known or reasonably should have been learned, the statute of limitations clock starts to run, and the patient has three years to determine whether to file suit.  See Bowen v. Eli Lilly & Co.,\\n, 208 (1990).\\nAlthough I agree with the court\\'s articulation of our rule that, in the absence of explicit legislative direction, it may determine, as a matter of common law, when a cause of action accrues, and hence when the limitation period begins to run, see Franklin, 381 Mass. at 617, the absence of explicit statutory language does not mean that the court should act to change settled law in a manner inconsistent with legislative objectives.  See Rosenbloom v. Kokofsky,\\n, 780 (1977).  In this case, the adoption of the continuing treatment doctrine runs contrary to the legislative aims undergirding the Commonwealth\\'s medical malpractice statutory framework and ignores decades of work and study by the executive and legislative branches regarding reducing the cost of health care in the Commonwealth, ensuring both affordability\\nPage 390\\nand access.\\nIndeed, the court\\'s ignorance of the impact on the cost of health care of its sudden change of mind on the accrual of malpractice claims is staggering.\\nIf ever there was a case that\\nPage 391\\ncried out for judicial restraint and deferral to the branches of government best equipped to strike the proper balance between ensuring affordable and available health care with the protection of injured patients, this is it.\\n1.  Legislative intent.  After our adoption of the discovery rule in Franklin, the Legislature amended G. L. c. 231, § 60D, regarding the limitations period during which a minor might bring a claim for medical malpractice.  See St. 1986 c. 351, § 23.  The legislative history is clear that the Legislature knew that we had adopted the discovery rule, and this knowledge informed the course of the statute\\'s amendment.  See Annual Report of the Special Commission Relative to Medical Professional Liability Insurance and the Nature and Consequences of Medical Malpractice, 1987 House Doc. No. 5262.\\nIn addition, our prior cases have carefully considered the intent of the Legislature in enacting major pieces of medical malpractice legislation, St. 1975, c. 362, and St. 1986 c. 351, and we have repeatedly acknowledged its concern regarding the costs associated with medical malpractice litigation and its efforts to ameliorate the costs of medical malpractice insurance.  See, e.g., Darviris v. Petros,\\n, 283-284 (2004) (describing medical malpractice act of 1986 as \"an\\nPage 392\\nexhaustive statutory scheme governing medical malpractice claims\" and concluding that \"[e]xpanding the scope of damages available to plaintiffs who are victims of medical malpractice, and the period within which to make such claims, is contrary to the express intent of the Legislature in enacting St. 1986, c. 351\"); McGuiggan v. New England Tel. & Tel. Co.,\\n, 163 (1986) (Lynch, J., concurring) (\"[T]he General Court has recently limited the amount that may be recovered by victims of medical malpractice in an attempt to solve what it perceives as a crisis in the medical profession brought about by the burgeoning cost of malpractice insurance.  St. 1986, c. 351.  The Legislature has acted to restrict recovery by injured litigants in order to limit the expense of practicing medicine\").  See also Paro v. Longwood Hosp.,\\n, 647 (1977) (tribunal requirement of medical malpractice act of 1975 was enacted \"as part of a comprehensive package designed to ensure the continued availability of medical malpractice insurance at a reasonable cost)\".\\nIn sum, the result reached by the court today is anomalous in light of the legislative history and intervening decisions of this court, which recognize that the medical malpractice statutory framework is intended to moderate the cost and expense of medical malpractice litigation and that such a purpose is accomplished, in part, by the statute of limitations period.  The court notes that the absence of legislative action cannot be interpreted as an affirmative rejection of the continuing treatment doctrine.  In reaching this conclusion, however, the court ignores the fact that the statutory scheme was developed in tandem with the common law, and that expanding the period in which a medical malpractice claim may be brought markedly departs from the clear policy aims the Legislature sought to accomplish by repeatedly enacting legislation addressing malpractice claims, insurance, and the objective of reducing the time of exposure to such malpractice claims.  See note 2, supra.\\nFinally, it is notable that the Legislature did include express \"exceptions\" to the limitations period in G. L. c. 231, § 60D.  First, there is an exception so any child under the age of six \"shall have until his ninth birthday\" to bring a claim. Second, the seven-year statute of repose has an exception for \"the leaving of a foreign object in the body.\"  Id.  Given the Legislature\\'s consideration and inclusion of these exceptions, I cannot conclude that a \"continuing treatment\" exception should be inferred where it was not included by the Legislature.  \"The fact that the Legislature\\nPage 393\\nspecified one exception . . . strengthens the inference that no other exception was intended.\"  Joslyn v. Chang,\\n, 350 (2005), quoting LaBranche v. A.J. Lane & Co.,\\n, 729 (1989).\\nThus, contrary to the court\\'s conclusion, it is apparent that, in the medical malpractice context, the Legislature has concurred with, and maintained, our uniformly applied \"accrual\" standard, as articulated in Franklin.\\nThe statutory history and framework reflect a legislative choice to balance the goals of protecting defendant health care providers from extended tort exposure from stale claims, and of eliminating the \"manifest injustice\" which would result without the discovery rule for plaintiffs who are \"blameless[ly] ignoran[t]\" of information which might have put them on inquiry notice for purposes of investigating and possibly pursuing a claim.  See Franklin, 381 Mass. at 618.\\nThe decision today elevates this latter policy concern over the former, based on the court\\'s belief that the continuing treatment exception to the discovery rule would benefit patients by addressing a shortcoming it perceives in our current law, namely that patients are unable to make informed judgments as to negligent treatment while such treatment is ongoing.  See, e.g., Harrison v. Valentini, 184 S.W.3d 521, 524 (Ky. 2005).  In adopting the continuing treatment exception, however, the court fails to consider future impacts to the health care industry -- impacts to which the Legislature has dedicated decades of study and, in response, carefully crafted legislation that reflects an effort to best balance competing policy concerns.  Where the Legislature\\'s policy determinations are fairly clear, the court should defer to those judgments.\\n2.  Adopting the exception by analogy.  I also disagree with the court\\'s reasoning that our adoption of the continuing representation doctrine to the discovery rule in legal malpractice claims, see Murphy v. Smith,\\n, 137-138 (1991), justifies the adoption of a continuing treatment exception to the discovery rule in medical malpractice claims.  I disagree with the proposition that, \"just as a wronged client is permitted to benefit from his or her attorney\\'s efforts to correct a problem without the disruption of exploring the viability of a legal malpractice action, so, too, is a patient permitted that same benefit without the disruption\\nPage 394\\nof exploring the viability of a medical malpractice action.\"  Ante at 380.  This statement both mischaracterizes the rationale underlying the continuing representation doctrine, and downplays the significant differences and interests at stake in those two arenas.\\nFirst, with respect to legal malpractice, as we have held, the continuing misrepresentation doctrine \"recognizes that a person seeking professional assistance has a right to repose confidence in the professional\\'s ability and good faith, and realistically cannot be expected to question and assess the techniques employed or the manner in which the services are rendered\" (citation omitted).  Murphy, 411 Mass. at 137.  Implicit in the doctrine is an understanding that a person seeking legal services may not recognize that certain acts or omissions by an attorney constitute malpractice.  Our justification of the doctrine says nothing, however, about permitting the representation to continue so that an attorney may correct an error arising from the attorney\\'s conduct; to the contrary, the facts in Murphy suggest that the attorney accused of malpractice did nothing to correct his alleged error.  Id.\\nMoreover, the rationale for adopting the continuing representation doctrine is largely distinguishable from any analogous rule in the medical malpractice context.  The \"continuing representation\" principle that we recognized in the context of legal malpractice arose from assurances given by an attorney that he had attended to a legal issue that had no perceptible manifestation to the client.  See id. at 136.  In the field of legal malpractice, there are situations, such as the one presented by Murphy, where the attorney may assure the client that a certain task has been carried out correctly and where the client should be able to accept such representations in the absence of information to the contrary.  Such a rule makes sense in the legal malpractice context because the alleged act or omission which gives rise to a claim and causes an injury to the plaintiff is caused somewhere other than in the plaintiff\\'s own body, often under circumstances remote from a plaintiff\\'s ability to detect circumstances which might put him or her on notice of a claim.  See, e.g., Murphy, 411 Mass. at 137 (plaintiffs unaware of attorney\\'s purportedly improper certification of good record title until receipt of letter from neighbor\\'s attorney).  The same cannot be said about the injury in a medical malpractice case, especially where the defendant\\'s actions had a direct and perceptible effect on the patient\\'s body.\\nThe court also justifies its adoption of the continuing treatment exception by analogy to the continuing representation doctrine in\\nPage 395\\nlegal malpractice on the ground that the Legislature otherwise used almost identical language to describe the limitations period for medical malpractice claims and for legal malpractice claims.  It is apparent, however, that the Commonwealth\\'s legislation governing medical malpractice was enacted in light of a number of competing policy concerns that are unique to the health care industry -- concerns simply not present in the practice of law -- a practice that we as a court regulate.\\n\\n3.  Conclusion.  The court\\'s adoption of the continuing treatment exception to the discovery rule is inconsistent with the apparent legislative objectives underlying the Commonwealth\\'s medical malpractice statutory regime, particularly G. L. c. 231, § 60D.  In my view, the court should apply the settled discovery rule to the facts of this case.  As the court acknowledges, the defendant\\'s treatment ceased in December, 2005.  Therefore, the plaintiffs\\' action, brought in 2009, was not timely.',\n",
       "       nan, nan], dtype=object)"
      ]
     },
     "execution_count": 28,
     "metadata": {},
     "output_type": "execute_result"
    }
   ],
   "source": [
    "conclu = pd_number_of_cases_per_keywords(result_dissent_cases,[\"Conclusion.\"])\n",
    "print(len(conclu))\n",
    "for i in range(len(conclu)):\n",
    "    text = conclu[\"text\"].values[i]\n",
    "    index = text.find(\"Conclusion.\")\n",
    "    conclu[\"text\"].values[i] = text[index:]\n",
    "dissents = pd_number_of_cases_per_keywords(conclu,dis)\n",
    "print(len(dissents))\n",
    "conclu.values[1]"
   ]
  },
  {
   "cell_type": "code",
   "execution_count": null,
   "metadata": {},
   "outputs": [],
   "source": []
  },
  {
   "cell_type": "code",
   "execution_count": null,
   "metadata": {},
   "outputs": [],
   "source": []
  },
  {
   "cell_type": "code",
   "execution_count": null,
   "metadata": {},
   "outputs": [],
   "source": []
  },
  {
   "cell_type": "code",
   "execution_count": null,
   "metadata": {},
   "outputs": [],
   "source": []
  },
  {
   "cell_type": "code",
   "execution_count": null,
   "metadata": {},
   "outputs": [],
   "source": []
  },
  {
   "cell_type": "code",
   "execution_count": null,
   "metadata": {},
   "outputs": [],
   "source": []
  }
 ],
 "metadata": {
  "kernelspec": {
   "display_name": "Python 3",
   "language": "python",
   "name": "python3"
  },
  "language_info": {
   "codemirror_mode": {
    "name": "ipython",
    "version": 3
   },
   "file_extension": ".py",
   "mimetype": "text/x-python",
   "name": "python",
   "nbconvert_exporter": "python",
   "pygments_lexer": "ipython3",
   "version": "3.7.4"
  }
 },
 "nbformat": 4,
 "nbformat_minor": 2
}
