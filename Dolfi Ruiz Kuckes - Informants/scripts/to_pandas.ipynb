{
 "cells": [
  {
   "cell_type": "markdown",
   "metadata": {},
   "source": [
    "## This file creates a pandas implementation of the functions we have in terms_in_cases file\n",
    "### It uses data from previous teams, and our new data from 4/9"
   ]
  },
  {
   "cell_type": "code",
   "execution_count": 8,
   "metadata": {},
   "outputs": [
    {
     "name": "stdout",
     "output_type": "stream",
     "text": [
      "The autoreload extension is already loaded. To reload it, use:\n",
      "  %reload_ext autoreload\n"
     ]
    }
   ],
   "source": [
    "#general imports\n",
    "import json\n",
    "import numpy as np\n",
    "import pandas as pd\n",
    "\n",
    "#this code makes your editing experience using both python files \n",
    "#and notebooks a lot easier\n",
    "%load_ext autoreload\n",
    "#written to make things easier\n",
    "%aimport utility \n",
    "%autoreload 1\n"
   ]
  },
  {
   "cell_type": "code",
   "execution_count": 9,
   "metadata": {},
   "outputs": [],
   "source": [
    "all_cases, all_appeals = utility.combine_cases()"
   ]
  },
  {
   "cell_type": "code",
   "execution_count": 10,
   "metadata": {},
   "outputs": [
    {
     "data": {
      "text/plain": [
       "7011"
      ]
     },
     "execution_count": 10,
     "metadata": {},
     "output_type": "execute_result"
    }
   ],
   "source": [
    "len(all_appeals)+len(all_cases)"
   ]
  },
  {
   "cell_type": "code",
   "execution_count": null,
   "metadata": {},
   "outputs": [],
   "source": []
  },
  {
   "cell_type": "code",
   "execution_count": 119,
   "metadata": {},
   "outputs": [],
   "source": [
    "\n",
    "def pd_number_of_cases_per_keywords(case_data, list_of_keywords):\n",
    "    # This function takes as input: a pandas dataframe with the case data, and a list of keywords to search for. \n",
    "    # It searches through the headnote and text for the keywords\n",
    "    # Note: It is NOT caps sensitive.\n",
    "    # See pd_number_in_headnote if you want to only search the headnote.\n",
    "    headnotes = case_data[\"headnote\"]\n",
    "    headnotes = headnotes.str.contains(\"|\".join(list_of_keywords),regex=True,case=False)\n",
    "    texts = case_data[\"text\"]\n",
    "    texts = texts.str.contains(\"|\".join(list_of_keywords),regex=True,case=False)\n",
    "    all_cases = case_data[headnotes|texts]\n",
    "    return all_cases\n",
    "    \n",
    "    "
   ]
  },
  {
   "cell_type": "code",
   "execution_count": 162,
   "metadata": {},
   "outputs": [],
   "source": [
    "def pd_number_in_headnote(case_data, list_of_keywords):\n",
    "    # This function takes as input: a pandas dataframe with the case data, and a list of keywords to search for. \n",
    "    # It searches through the headnote for the keywords\n",
    "    # Note: It is NOT caps sensitive.\n",
    "    # See pd_number_of_cases_per_keyword if you want to search through the headnote and text.\n",
    "    headnotes = case_data[\"headnote\"]\n",
    "    headnotes = headnotes.str.contains(\"|\".join(list_of_keywords),regex=True,case=False)\n",
    "    all_cases = case_data[headnotes]\n",
    "    return all_cases\n",
    "    "
   ]
  },
  {
   "cell_type": "markdown",
   "metadata": {},
   "source": [
    "### Now we look for informant related cases in the data"
   ]
  },
  {
   "cell_type": "code",
   "execution_count": 158,
   "metadata": {},
   "outputs": [],
   "source": [
    "important_keywords = [\"confidential informant\", \" ci \", \"snitch\", \"informant\", \"gang informant\"]"
   ]
  },
  {
   "cell_type": "code",
   "execution_count": 156,
   "metadata": {},
   "outputs": [
    {
     "name": "stdout",
     "output_type": "stream",
     "text": [
      "79\n"
     ]
    }
   ],
   "source": [
    "result_cases = pd_number_of_cases_per_keywords(all_cases, important_keywords)\n",
    "print(len(result_cases))"
   ]
  },
  {
   "cell_type": "code",
   "execution_count": 159,
   "metadata": {},
   "outputs": [
    {
     "name": "stdout",
     "output_type": "stream",
     "text": [
      "146\n"
     ]
    }
   ],
   "source": [
    "result_appeals = pd_number_of_cases_per_keywords(all_appeals, important_keywords)\n",
    "print(len(result_appeals))"
   ]
  },
  {
   "cell_type": "code",
   "execution_count": null,
   "metadata": {},
   "outputs": [],
   "source": []
  },
  {
   "cell_type": "markdown",
   "metadata": {},
   "source": [
    "### Now we look for reversal related cases in the data"
   ]
  },
  {
   "cell_type": "code",
   "execution_count": 144,
   "metadata": {},
   "outputs": [
    {
     "name": "stdout",
     "output_type": "stream",
     "text": [
      "620\n"
     ]
    }
   ],
   "source": [
    "rev = [\"reversed\",\"reversing\"]\n",
    "result_reversed_cases = pd_number_of_cases_per_keywords(all_cases,rev)\n",
    "result_reversed_appeals = pd_number_of_cases_per_keywords(all_appeals,rev)\n",
    "print(len(result_reversed_cases))"
   ]
  },
  {
   "cell_type": "code",
   "execution_count": 145,
   "metadata": {},
   "outputs": [
    {
     "name": "stdout",
     "output_type": "stream",
     "text": [
      "1445\n"
     ]
    }
   ],
   "source": [
    "print(len(result_reversed_appeals))"
   ]
  },
  {
   "cell_type": "code",
   "execution_count": 164,
   "metadata": {},
   "outputs": [
    {
     "name": "stdout",
     "output_type": "stream",
     "text": [
      "37\n"
     ]
    }
   ],
   "source": [
    "reversed_headnote_cases = pd_number_in_headnote(all_cases,rev)\n",
    "reversed_headnote_appeals = pd_number_in_headnote(all_appeals,rev)\n",
    "print(len(reversed_headnote_cases))"
   ]
  },
  {
   "cell_type": "code",
   "execution_count": 165,
   "metadata": {},
   "outputs": [
    {
     "name": "stdout",
     "output_type": "stream",
     "text": [
      "102\n"
     ]
    }
   ],
   "source": [
    "print(len(reversed_headnote_appeals))"
   ]
  },
  {
   "cell_type": "code",
   "execution_count": null,
   "metadata": {},
   "outputs": [],
   "source": []
  },
  {
   "cell_type": "markdown",
   "metadata": {},
   "source": [
    "### Now we look for civil cases in the data"
   ]
  },
  {
   "cell_type": "code",
   "execution_count": 146,
   "metadata": {},
   "outputs": [
    {
     "name": "stdout",
     "output_type": "stream",
     "text": [
      "1156\n"
     ]
    }
   ],
   "source": [
    "civ = [\"civil \", \"civil action\",\"civil,\"]\n",
    "result_civil_cases = pd_number_of_cases_per_keywords(all_cases,civ)\n",
    "result_civil_appeals = pd_number_of_cases_per_keywords(all_appeals,civ)\n",
    "print(len(result_civil_cases))"
   ]
  },
  {
   "cell_type": "code",
   "execution_count": 147,
   "metadata": {},
   "outputs": [
    {
     "name": "stdout",
     "output_type": "stream",
     "text": [
      "2316\n"
     ]
    }
   ],
   "source": [
    "print(len(result_civil_appeals))"
   ]
  },
  {
   "cell_type": "code",
   "execution_count": 166,
   "metadata": {},
   "outputs": [
    {
     "name": "stdout",
     "output_type": "stream",
     "text": [
      "951\n"
     ]
    }
   ],
   "source": [
    "civil_headnote_cases = pd_number_in_headnote(all_cases,civ)\n",
    "civil_headnote_appeals = pd_number_in_headnote(all_appeals,civ)\n",
    "print(len(civil_headnote_cases))"
   ]
  },
  {
   "cell_type": "code",
   "execution_count": 167,
   "metadata": {},
   "outputs": [
    {
     "name": "stdout",
     "output_type": "stream",
     "text": [
      "2136\n"
     ]
    }
   ],
   "source": [
    "print(len(civil_headnote_appeals))"
   ]
  },
  {
   "cell_type": "code",
   "execution_count": null,
   "metadata": {},
   "outputs": [],
   "source": []
  },
  {
   "cell_type": "markdown",
   "metadata": {},
   "source": [
    "### Now we look for dissents in the cases"
   ]
  },
  {
   "cell_type": "code",
   "execution_count": 160,
   "metadata": {},
   "outputs": [
    {
     "name": "stdout",
     "output_type": "stream",
     "text": [
      "278\n"
     ]
    }
   ],
   "source": [
    "dis = [\"dissent\",\"dissenting\"] \n",
    "result_dissent_cases = pd_number_of_cases_per_keywords(all_cases,dis)\n",
    "result_dissent_appeals = pd_number_of_cases_per_keywords(all_appeals,dis)\n",
    "print(len(result_dissent_cases))"
   ]
  },
  {
   "cell_type": "code",
   "execution_count": 161,
   "metadata": {},
   "outputs": [
    {
     "name": "stdout",
     "output_type": "stream",
     "text": [
      "329\n"
     ]
    }
   ],
   "source": [
    "print(len(result_dissent_appeals))"
   ]
  },
  {
   "cell_type": "code",
   "execution_count": 168,
   "metadata": {},
   "outputs": [
    {
     "name": "stdout",
     "output_type": "stream",
     "text": [
      "147\n"
     ]
    }
   ],
   "source": [
    "dissent_headnote_cases = pd_number_in_headnote(all_cases,dis)\n",
    "dissent_headnote_appeals = pd_number_in_headnote(all_appeals,dis)\n",
    "print(len(dissent_headnote_cases))"
   ]
  },
  {
   "cell_type": "code",
   "execution_count": 169,
   "metadata": {},
   "outputs": [
    {
     "name": "stdout",
     "output_type": "stream",
     "text": [
      "216\n"
     ]
    }
   ],
   "source": [
    "print(len(dissent_headnote_appeals))"
   ]
  },
  {
   "cell_type": "code",
   "execution_count": null,
   "metadata": {},
   "outputs": [],
   "source": []
  },
  {
   "cell_type": "markdown",
   "metadata": {},
   "source": [
    "### Now we look for footnotes in the data"
   ]
  },
  {
   "cell_type": "code",
   "execution_count": 182,
   "metadata": {},
   "outputs": [
    {
     "name": "stdout",
     "output_type": "stream",
     "text": [
      "154\n",
      "288\n"
     ]
    }
   ],
   "source": [
    "ft = [\"Footnote\"]\n",
    "foots_c = pd_number_of_cases_per_keywords(all_cases,ft)\n",
    "foots_a = pd_number_of_cases_per_keywords(all_appeals,ft)\n",
    "print(len(foots_c))\n",
    "print(len(foots_a))"
   ]
  },
  {
   "cell_type": "code",
   "execution_count": 181,
   "metadata": {},
   "outputs": [
    {
     "data": {
      "text/plain": [
       "8    \\nThe plaintiffs appeal from a judgment of the...\n",
       "8    BY THE COURT. The judgment on the aggravated r...\n",
       "Name: text, dtype: object"
      ]
     },
     "execution_count": 181,
     "metadata": {},
     "output_type": "execute_result"
    }
   ],
   "source": [
    "all_cases.loc[8,\"text\"]"
   ]
  },
  {
   "cell_type": "code",
   "execution_count": null,
   "metadata": {},
   "outputs": [],
   "source": []
  }
 ],
 "metadata": {
  "kernelspec": {
   "display_name": "Python 3",
   "language": "python",
   "name": "python3"
  },
  "language_info": {
   "codemirror_mode": {
    "name": "ipython",
    "version": 3
   },
   "file_extension": ".py",
   "mimetype": "text/x-python",
   "name": "python",
   "nbconvert_exporter": "python",
   "pygments_lexer": "ipython3",
   "version": "3.7.4"
  }
 },
 "nbformat": 4,
 "nbformat_minor": 2
}
