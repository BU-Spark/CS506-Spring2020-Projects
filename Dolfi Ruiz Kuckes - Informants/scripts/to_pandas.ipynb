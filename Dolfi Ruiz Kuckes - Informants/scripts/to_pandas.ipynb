{
 "cells": [
  {
   "cell_type": "markdown",
   "metadata": {},
   "source": [
    "## This file creates a pandas implementation of the functions we have in terms_in_cases file\n",
    "### It uses data from previous teams, and our new data from 4/9"
   ]
  },
  {
   "cell_type": "code",
   "execution_count": 2,
   "metadata": {},
   "outputs": [
    {
     "name": "stdout",
     "output_type": "stream",
     "text": [
      "\n",
      "imported utility.py\n",
      "\n"
     ]
    }
   ],
   "source": [
    "#general imports\n",
    "import json\n",
    "import numpy as np\n",
    "import pandas as pd\n",
    "\n",
    "#this code makes your editing experience using both python files \n",
    "#and notebooks a lot easier\n",
    "%load_ext autoreload\n",
    "#written to make things easier\n",
    "%aimport utility \n",
    "%autoreload 1\n"
   ]
  },
  {
   "cell_type": "code",
   "execution_count": 3,
   "metadata": {},
   "outputs": [],
   "source": [
    "all_cases, all_appeals = utility.combine_cases()"
   ]
  },
  {
   "cell_type": "code",
   "execution_count": 4,
   "metadata": {},
   "outputs": [
    {
     "data": {
      "text/plain": [
       "7011"
      ]
     },
     "execution_count": 4,
     "metadata": {},
     "output_type": "execute_result"
    }
   ],
   "source": [
    "len(all_appeals)+len(all_cases)"
   ]
  },
  {
   "cell_type": "code",
   "execution_count": null,
   "metadata": {},
   "outputs": [],
   "source": []
  },
  {
   "cell_type": "code",
   "execution_count": 5,
   "metadata": {},
   "outputs": [],
   "source": [
    "\n",
    "def pd_number_of_cases_per_keywords(case_data, list_of_keywords):\n",
    "    # This function takes as input: a pandas dataframe with the case data, and a list of keywords to search for. \n",
    "    # It searches through the headnote and text for the keywords\n",
    "    # Note: It is NOT caps sensitive.\n",
    "    # See pd_number_in_headnote if you want to only search the headnote.\n",
    "    headnotes = case_data[\"headnote\"]\n",
    "    headnotes = headnotes.str.contains(\"|\".join(list_of_keywords),regex=True,case=False)\n",
    "    texts = case_data[\"text\"]\n",
    "    texts = texts.str.contains(\"|\".join(list_of_keywords),regex=True,case=False)\n",
    "    all_cases = case_data[headnotes|texts]\n",
    "    return all_cases\n",
    "    \n",
    "    "
   ]
  },
  {
   "cell_type": "code",
   "execution_count": 6,
   "metadata": {},
   "outputs": [],
   "source": [
    "def pd_number_in_headnote(case_data, list_of_keywords):\n",
    "    # This function takes as input: a pandas dataframe with the case data, and a list of keywords to search for. \n",
    "    # It searches through the headnote for the keywords\n",
    "    # Note: It is NOT caps sensitive.\n",
    "    # See pd_number_of_cases_per_keyword if you want to search through the headnote and text.\n",
    "    headnotes = case_data[\"headnote\"]\n",
    "    headnotes = headnotes.str.contains(\"|\".join(list_of_keywords),regex=True,case=False)\n",
    "    all_cases = case_data[headnotes]\n",
    "    return all_cases\n",
    "    "
   ]
  },
  {
   "cell_type": "markdown",
   "metadata": {},
   "source": [
    "### Now we look for informant related cases in the data"
   ]
  },
  {
   "cell_type": "code",
   "execution_count": 7,
   "metadata": {},
   "outputs": [],
   "source": [
    "important_keywords = [\"confidential informant\", \" ci \", \"snitch\", \"informant\", \"gang informant\"]"
   ]
  },
  {
   "cell_type": "code",
   "execution_count": 8,
   "metadata": {},
   "outputs": [
    {
     "name": "stdout",
     "output_type": "stream",
     "text": [
      "79\n"
     ]
    }
   ],
   "source": [
    "result_cases = pd_number_of_cases_per_keywords(all_cases, important_keywords)\n",
    "print(len(result_cases))"
   ]
  },
  {
   "cell_type": "code",
   "execution_count": 9,
   "metadata": {},
   "outputs": [
    {
     "name": "stdout",
     "output_type": "stream",
     "text": [
      "146\n"
     ]
    }
   ],
   "source": [
    "result_appeals = pd_number_of_cases_per_keywords(all_appeals, important_keywords)\n",
    "print(len(result_appeals))"
   ]
  },
  {
   "cell_type": "code",
   "execution_count": null,
   "metadata": {},
   "outputs": [],
   "source": []
  },
  {
   "cell_type": "markdown",
   "metadata": {},
   "source": [
    "### Now we look for reversal related cases in the data"
   ]
  },
  {
   "cell_type": "code",
   "execution_count": 10,
   "metadata": {},
   "outputs": [
    {
     "name": "stdout",
     "output_type": "stream",
     "text": [
      "620\n"
     ]
    }
   ],
   "source": [
    "rev = [\"reversed\",\"reversing\"]\n",
    "result_reversed_cases = pd_number_of_cases_per_keywords(all_cases,rev)\n",
    "result_reversed_appeals = pd_number_of_cases_per_keywords(all_appeals,rev)\n",
    "print(len(result_reversed_cases))"
   ]
  },
  {
   "cell_type": "code",
   "execution_count": 11,
   "metadata": {},
   "outputs": [
    {
     "name": "stdout",
     "output_type": "stream",
     "text": [
      "1445\n"
     ]
    }
   ],
   "source": [
    "print(len(result_reversed_appeals))"
   ]
  },
  {
   "cell_type": "code",
   "execution_count": 12,
   "metadata": {},
   "outputs": [
    {
     "name": "stdout",
     "output_type": "stream",
     "text": [
      "37\n"
     ]
    }
   ],
   "source": [
    "reversed_headnote_cases = pd_number_in_headnote(all_cases,rev)\n",
    "reversed_headnote_appeals = pd_number_in_headnote(all_appeals,rev)\n",
    "print(len(reversed_headnote_cases))"
   ]
  },
  {
   "cell_type": "code",
   "execution_count": 13,
   "metadata": {},
   "outputs": [
    {
     "name": "stdout",
     "output_type": "stream",
     "text": [
      "102\n"
     ]
    }
   ],
   "source": [
    "print(len(reversed_headnote_appeals))"
   ]
  },
  {
   "cell_type": "code",
   "execution_count": null,
   "metadata": {},
   "outputs": [],
   "source": []
  },
  {
   "cell_type": "markdown",
   "metadata": {},
   "source": [
    "### Now we look for civil cases in the data"
   ]
  },
  {
   "cell_type": "code",
   "execution_count": 14,
   "metadata": {},
   "outputs": [
    {
     "name": "stdout",
     "output_type": "stream",
     "text": [
      "1156\n"
     ]
    }
   ],
   "source": [
    "civ = [\"civil \", \"civil action\",\"civil,\"]\n",
    "result_civil_cases = pd_number_of_cases_per_keywords(all_cases,civ)\n",
    "result_civil_appeals = pd_number_of_cases_per_keywords(all_appeals,civ)\n",
    "print(len(result_civil_cases))"
   ]
  },
  {
   "cell_type": "code",
   "execution_count": 15,
   "metadata": {},
   "outputs": [
    {
     "name": "stdout",
     "output_type": "stream",
     "text": [
      "2316\n"
     ]
    }
   ],
   "source": [
    "print(len(result_civil_appeals))"
   ]
  },
  {
   "cell_type": "code",
   "execution_count": 16,
   "metadata": {},
   "outputs": [
    {
     "name": "stdout",
     "output_type": "stream",
     "text": [
      "951\n"
     ]
    }
   ],
   "source": [
    "civil_headnote_cases = pd_number_in_headnote(all_cases,civ)\n",
    "civil_headnote_appeals = pd_number_in_headnote(all_appeals,civ)\n",
    "print(len(civil_headnote_cases))"
   ]
  },
  {
   "cell_type": "code",
   "execution_count": 17,
   "metadata": {},
   "outputs": [
    {
     "name": "stdout",
     "output_type": "stream",
     "text": [
      "2136\n"
     ]
    }
   ],
   "source": [
    "print(len(civil_headnote_appeals))"
   ]
  },
  {
   "cell_type": "code",
   "execution_count": null,
   "metadata": {},
   "outputs": [],
   "source": []
  },
  {
   "cell_type": "markdown",
   "metadata": {},
   "source": [
    "### Now we look for dissents in the cases"
   ]
  },
  {
   "cell_type": "code",
   "execution_count": 18,
   "metadata": {},
   "outputs": [
    {
     "name": "stdout",
     "output_type": "stream",
     "text": [
      "278\n"
     ]
    }
   ],
   "source": [
    "dis = [\"dissent\",\"dissenting\"] \n",
    "result_dissent_cases = pd_number_of_cases_per_keywords(all_cases,dis)\n",
    "result_dissent_appeals = pd_number_of_cases_per_keywords(all_appeals,dis)\n",
    "print(len(result_dissent_cases))"
   ]
  },
  {
   "cell_type": "code",
   "execution_count": 19,
   "metadata": {},
   "outputs": [
    {
     "name": "stdout",
     "output_type": "stream",
     "text": [
      "329\n"
     ]
    }
   ],
   "source": [
    "print(len(result_dissent_appeals))"
   ]
  },
  {
   "cell_type": "code",
   "execution_count": 20,
   "metadata": {},
   "outputs": [
    {
     "name": "stdout",
     "output_type": "stream",
     "text": [
      "147\n"
     ]
    }
   ],
   "source": [
    "dissent_headnote_cases = pd_number_in_headnote(all_cases,dis)\n",
    "dissent_headnote_appeals = pd_number_in_headnote(all_appeals,dis)\n",
    "print(len(dissent_headnote_cases))"
   ]
  },
  {
   "cell_type": "code",
   "execution_count": 21,
   "metadata": {},
   "outputs": [
    {
     "name": "stdout",
     "output_type": "stream",
     "text": [
      "216\n"
     ]
    }
   ],
   "source": [
    "print(len(dissent_headnote_appeals))"
   ]
  },
  {
   "cell_type": "code",
   "execution_count": null,
   "metadata": {},
   "outputs": [],
   "source": []
  },
  {
   "cell_type": "markdown",
   "metadata": {},
   "source": [
    "### Now we look for footnotes in the data"
   ]
  },
  {
   "cell_type": "code",
   "execution_count": 22,
   "metadata": {},
   "outputs": [
    {
     "name": "stdout",
     "output_type": "stream",
     "text": [
      "154\n",
      "288\n"
     ]
    }
   ],
   "source": [
    "ft = [\"Footnote\"]\n",
    "foots_c = pd_number_of_cases_per_keywords(all_cases,ft)\n",
    "foots_a = pd_number_of_cases_per_keywords(all_appeals,ft)\n",
    "print(len(foots_c))\n",
    "print(len(foots_a))"
   ]
  },
  {
   "cell_type": "code",
   "execution_count": 23,
   "metadata": {},
   "outputs": [
    {
     "data": {
      "text/plain": [
       "8    \\nThe plaintiffs appeal from a judgment of the...\n",
       "8    BY THE COURT. The judgment on the aggravated r...\n",
       "Name: text, dtype: object"
      ]
     },
     "execution_count": 23,
     "metadata": {},
     "output_type": "execute_result"
    }
   ],
   "source": [
    "all_cases.loc[8,\"text\"]"
   ]
  },
  {
   "cell_type": "code",
   "execution_count": null,
   "metadata": {},
   "outputs": [],
   "source": []
  },
  {
   "cell_type": "markdown",
   "metadata": {},
   "source": [
    "### Deeper on informant cases"
   ]
  },
  {
   "cell_type": "code",
   "execution_count": 24,
   "metadata": {},
   "outputs": [
    {
     "name": "stdout",
     "output_type": "stream",
     "text": [
      "in cases: 79\n",
      "in appeals: 146\n",
      "civil and informant cases: 10\n",
      "civil and informant appeals: 9\n",
      "reversed and informant cases: 28\n",
      "reversed and informant appeals: 69\n",
      "reversed, civil, informant cases: 2 2\n",
      "reversed, civil, informant appeals: 1 1\n",
      "dissent and informant cases: 15\n",
      "dissent and informant appeals: 19\n"
     ]
    }
   ],
   "source": [
    "print(\"in cases:\",len(result_cases))\n",
    "print(\"in appeals:\",len(result_appeals))\n",
    "\n",
    "civil_informant_cases = pd_number_in_headnote(result_cases,civ)\n",
    "civil_informant_appeals = pd_number_in_headnote(result_appeals,civ)\n",
    "print(\"civil and informant cases:\",len(civil_informant_cases))\n",
    "print(\"civil and informant appeals:\",len(civil_informant_appeals))\n",
    "\n",
    "reversed_informant_cases = pd_number_of_cases_per_keywords(result_cases,rev)\n",
    "reversed_informant_appeals = pd_number_of_cases_per_keywords(result_appeals,rev)\n",
    "print(\"reversed and informant cases:\",len(reversed_informant_cases))\n",
    "print(\"reversed and informant appeals:\",len(reversed_informant_appeals))\n",
    "\n",
    "reversed_civil_informant_cases = pd_number_in_headnote(reversed_informant_cases,civ)\n",
    "reversed_civil_informant_appeals = pd_number_in_headnote(reversed_informant_appeals,civ)\n",
    "civil_reversed_informant_cases = pd_number_of_cases_per_keywords(civil_informant_cases,rev)\n",
    "civil_reversed_informant_appeals = pd_number_of_cases_per_keywords(civil_informant_appeals,rev)\n",
    "print(\"reversed, civil, informant cases:\",len(reversed_civil_informant_cases),len(civil_reversed_informant_cases))\n",
    "print(\"reversed, civil, informant appeals:\",len(reversed_civil_informant_appeals),len(civil_reversed_informant_appeals))\n",
    "\n",
    "# idk dissent?\n",
    "dissent_informant_cases = pd_number_of_cases_per_keywords(result_cases,dis)\n",
    "dissent_informant_appeals = pd_number_of_cases_per_keywords(result_appeals,dis)\n",
    "print(\"dissent and informant cases:\",len(dissent_informant_cases))\n",
    "print(\"dissent and informant appeals:\",len(dissent_informant_appeals))\n",
    "\n"
   ]
  },
  {
   "cell_type": "code",
   "execution_count": null,
   "metadata": {},
   "outputs": [],
   "source": []
  },
  {
   "cell_type": "markdown",
   "metadata": {},
   "source": [
    "### Deeper on cases with dissent"
   ]
  },
  {
   "cell_type": "code",
   "execution_count": 25,
   "metadata": {},
   "outputs": [
    {
     "name": "stdout",
     "output_type": "stream",
     "text": [
      "278\n",
      "329\n"
     ]
    }
   ],
   "source": [
    "print(len(result_dissent_cases))\n",
    "print(len(result_dissent_appeals))"
   ]
  },
  {
   "cell_type": "code",
   "execution_count": 26,
   "metadata": {},
   "outputs": [
    {
     "name": "stdout",
     "output_type": "stream",
     "text": [
      "91\n",
      "130\n"
     ]
    }
   ],
   "source": [
    "dissent_reversed_cases = pd_number_of_cases_per_keywords(result_dissent_cases,rev)\n",
    "dissent_reversed_appeals = pd_number_of_cases_per_keywords(result_dissent_appeals,rev)\n",
    "print(len(dissent_reversed_cases))\n",
    "print(len(dissent_reversed_appeals))"
   ]
  },
  {
   "cell_type": "code",
   "execution_count": 29,
   "metadata": {},
   "outputs": [
    {
     "name": "stdout",
     "output_type": "stream",
     "text": [
      "222\n",
      "119\n"
     ]
    }
   ],
   "source": [
    "conclu = pd_number_of_cases_per_keywords(result_dissent_cases,[\"Conclusion.\"])\n",
    "print(len(conclu))\n",
    "for i in range(len(conclu)):\n",
    "    text = conclu[\"text\"].values[i]\n",
    "    index = text.find(\"Conclusion.\")\n",
    "    conclu[\"text\"].values[i] = text[index:]\n",
    "dissents = pd_number_of_cases_per_keywords(conclu,dis)\n",
    "print(len(dissents))"
   ]
  },
  {
   "cell_type": "code",
   "execution_count": null,
   "metadata": {},
   "outputs": [],
   "source": []
  }
 ],
 "metadata": {
  "kernelspec": {
   "display_name": "Python 3",
   "language": "python",
   "name": "python3"
  },
  "language_info": {
   "codemirror_mode": {
    "name": "ipython",
    "version": 3
   },
   "file_extension": ".py",
   "mimetype": "text/x-python",
   "name": "python",
   "nbconvert_exporter": "python",
   "pygments_lexer": "ipython3",
   "version": "3.7.6"
  }
 },
 "nbformat": 4,
 "nbformat_minor": 2
}
