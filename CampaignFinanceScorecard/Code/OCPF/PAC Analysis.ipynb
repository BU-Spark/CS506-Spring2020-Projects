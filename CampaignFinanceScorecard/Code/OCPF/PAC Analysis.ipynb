{
 "cells": [
  {
   "cell_type": "code",
   "execution_count": 1,
   "metadata": {},
   "outputs": [],
   "source": [
    "import pandas as pd"
   ]
  },
  {
   "cell_type": "code",
   "execution_count": 2,
   "metadata": {},
   "outputs": [],
   "source": [
    "pac_names = pd.read_csv('PAC-Names.txt', header = None, names = ['PAC_Names'])\n",
    "pac_names = pac_names.drop_duplicates()\n",
    "master_data = pd.read_excel('./master.xlsx')\n",
    "receipts_data = pd.read_excel('./receipts.xlsx')"
   ]
  },
  {
   "cell_type": "code",
   "execution_count": 3,
   "metadata": {},
   "outputs": [],
   "source": [
    "receipts_data_pacs = receipts_data[receipts_data.Last_Name.isin(pac_names['PAC_Names'])]\n",
    "pac_donations_merged = pd.merge(left=master_data, right=receipts_data_pacs, left_on='Report_ID', right_on='Report_ID')\n",
    "pac_donations_results = pd.DataFrame(columns = ['Candidate_Name', 'Donations_Received', 'Comittee', 'Donor_PAC'])"
   ]
  },
  {
   "cell_type": "code",
   "execution_count": 5,
   "metadata": {},
   "outputs": [],
   "source": [
    "pac_donations_results['Candidate_Name'] = pac_donations_merged['Full_Name']\n",
    "pac_donations_results = pac_donations_results.drop_duplicates()\n",
    "for idx,candidate in enumerate(pac_donations_results['Candidate_Name']):\n",
    "    donation = 0\n",
    "    comittee = []\n",
    "    donor_pacs = []\n",
    "    for index,candidate_merged in enumerate(pac_donations_merged['Full_Name']):\n",
    "        if candidate_merged == candidate:\n",
    "            donation = donation + pac_donations_merged.iloc[index]['Receipts']\n",
    "            comittee.append(pac_donations_merged.iloc[index]['Comm_Name'])\n",
    "    comittee = list(dict.fromkeys(comittee))\n",
    "    pac_donations_results.iloc[idx]['Donations_Received'] = donation\n",
    "    pac_donations_results.iloc[idx]['Comittee'] = comittee"
   ]
  },
  {
   "cell_type": "code",
   "execution_count": 12,
   "metadata": {},
   "outputs": [],
   "source": [
    "pac_donations_results_new = pac_donations_merged[['Full_Name', 'Receipts', 'Comm_Name', 'Last_Name']].copy()"
   ]
  },
  {
   "cell_type": "code",
   "execution_count": 16,
   "metadata": {},
   "outputs": [
    {
     "data": {
      "text/html": [
       "<div>\n",
       "<style scoped>\n",
       "    .dataframe tbody tr th:only-of-type {\n",
       "        vertical-align: middle;\n",
       "    }\n",
       "\n",
       "    .dataframe tbody tr th {\n",
       "        vertical-align: top;\n",
       "    }\n",
       "\n",
       "    .dataframe thead th {\n",
       "        text-align: right;\n",
       "    }\n",
       "</style>\n",
       "<table border=\"1\" class=\"dataframe\">\n",
       "  <thead>\n",
       "    <tr style=\"text-align: right;\">\n",
       "      <th></th>\n",
       "      <th>Candidate_Name</th>\n",
       "      <th>Donations_Received</th>\n",
       "      <th>Comittee</th>\n",
       "      <th>Donor_PAC</th>\n",
       "    </tr>\n",
       "  </thead>\n",
       "  <tbody>\n",
       "    <tr>\n",
       "      <th>0</th>\n",
       "      <td>Karyn E. Polito</td>\n",
       "      <td>6950.00</td>\n",
       "      <td>Polito Committee</td>\n",
       "      <td>Ma Hospital Assoc Pol Action Comm</td>\n",
       "    </tr>\n",
       "    <tr>\n",
       "      <th>1</th>\n",
       "      <td>Jay Livingstone</td>\n",
       "      <td>500.00</td>\n",
       "      <td>Livingstone Committee</td>\n",
       "      <td>1199 SEIU MA PAC</td>\n",
       "    </tr>\n",
       "    <tr>\n",
       "      <th>2</th>\n",
       "      <td>Daniel F. Cahill</td>\n",
       "      <td>9175.00</td>\n",
       "      <td>Cahill Committee</td>\n",
       "      <td>Physical Therapy Pol Action Comm</td>\n",
       "    </tr>\n",
       "    <tr>\n",
       "      <th>3</th>\n",
       "      <td>Committee for a Democratic Senate Pol Action C...</td>\n",
       "      <td>4800.00</td>\n",
       "      <td>Committee for a Democratic Senate Pol Action C...</td>\n",
       "      <td>1199 SEIU MA PAC</td>\n",
       "    </tr>\n",
       "    <tr>\n",
       "      <th>4</th>\n",
       "      <td>Charles D. Baker</td>\n",
       "      <td>8599.00</td>\n",
       "      <td>Baker Committee</td>\n",
       "      <td>Massachusetts Dental Society Political Action ...</td>\n",
       "    </tr>\n",
       "    <tr>\n",
       "      <th>...</th>\n",
       "      <td>...</td>\n",
       "      <td>...</td>\n",
       "      <td>...</td>\n",
       "      <td>...</td>\n",
       "    </tr>\n",
       "    <tr>\n",
       "      <th>953</th>\n",
       "      <td>Angelo J. Puppolo</td>\n",
       "      <td>34170.51</td>\n",
       "      <td>Puppolo Jr. Committee</td>\n",
       "      <td>Massachusetts Nurses PAC</td>\n",
       "    </tr>\n",
       "    <tr>\n",
       "      <th>954</th>\n",
       "      <td>Sal N. DiDomenico</td>\n",
       "      <td>45972.17</td>\n",
       "      <td>DiDomenico Committee</td>\n",
       "      <td>Massachusetts Health and Hospital Association ...</td>\n",
       "    </tr>\n",
       "    <tr>\n",
       "      <th>955</th>\n",
       "      <td>Sal N. DiDomenico</td>\n",
       "      <td>45972.17</td>\n",
       "      <td>DiDomenico Committee</td>\n",
       "      <td>MA Association of Community Health PAC</td>\n",
       "    </tr>\n",
       "    <tr>\n",
       "      <th>956</th>\n",
       "      <td>Joanne Comerford</td>\n",
       "      <td>400.00</td>\n",
       "      <td>Comerford Committee</td>\n",
       "      <td>Massachusetts Nurses PAC</td>\n",
       "    </tr>\n",
       "    <tr>\n",
       "      <th>957</th>\n",
       "      <td>Paul J. Donato</td>\n",
       "      <td>500.00</td>\n",
       "      <td>Donato Committee</td>\n",
       "      <td>Massachusetts Podiatric Medical Society</td>\n",
       "    </tr>\n",
       "  </tbody>\n",
       "</table>\n",
       "<p>958 rows × 4 columns</p>\n",
       "</div>"
      ],
      "text/plain": [
       "                                        Candidate_Name  Donations_Received  \\\n",
       "0                                      Karyn E. Polito             6950.00   \n",
       "1                                      Jay Livingstone              500.00   \n",
       "2                                     Daniel F. Cahill             9175.00   \n",
       "3    Committee for a Democratic Senate Pol Action C...             4800.00   \n",
       "4                                     Charles D. Baker             8599.00   \n",
       "..                                                 ...                 ...   \n",
       "953                                  Angelo J. Puppolo            34170.51   \n",
       "954                                  Sal N. DiDomenico            45972.17   \n",
       "955                                  Sal N. DiDomenico            45972.17   \n",
       "956                                   Joanne Comerford              400.00   \n",
       "957                                     Paul J. Donato              500.00   \n",
       "\n",
       "                                              Comittee  \\\n",
       "0                                     Polito Committee   \n",
       "1                                Livingstone Committee   \n",
       "2                                     Cahill Committee   \n",
       "3    Committee for a Democratic Senate Pol Action C...   \n",
       "4                                      Baker Committee   \n",
       "..                                                 ...   \n",
       "953                              Puppolo Jr. Committee   \n",
       "954                               DiDomenico Committee   \n",
       "955                               DiDomenico Committee   \n",
       "956                                Comerford Committee   \n",
       "957                                   Donato Committee   \n",
       "\n",
       "                                             Donor_PAC  \n",
       "0                    Ma Hospital Assoc Pol Action Comm  \n",
       "1                                     1199 SEIU MA PAC  \n",
       "2                     Physical Therapy Pol Action Comm  \n",
       "3                                     1199 SEIU MA PAC  \n",
       "4    Massachusetts Dental Society Political Action ...  \n",
       "..                                                 ...  \n",
       "953                           Massachusetts Nurses PAC  \n",
       "954  Massachusetts Health and Hospital Association ...  \n",
       "955             MA Association of Community Health PAC  \n",
       "956                           Massachusetts Nurses PAC  \n",
       "957            Massachusetts Podiatric Medical Society  \n",
       "\n",
       "[958 rows x 4 columns]"
      ]
     },
     "execution_count": 16,
     "metadata": {},
     "output_type": "execute_result"
    }
   ],
   "source": [
    "pac_donations_results_new.rename(columns={\"Full_Name\": \"Candidate_Name\", \"Receipts\": \"Donations_Received\",\"Comm_Name\": \"Comittee\", \"Last_Name\": \"Donor_PAC\"})"
   ]
  },
  {
   "cell_type": "code",
   "execution_count": 17,
   "metadata": {},
   "outputs": [],
   "source": [
    "pac_donations_results_new.to_csv(r'.\\pac_donations_results_new.csv', index = False)"
   ]
  },
  {
   "cell_type": "code",
   "execution_count": 10,
   "metadata": {},
   "outputs": [
    {
     "data": {
      "text/plain": [
       "Index(['Report_ID', 'CPF_ID', 'Filing_ID', 'Report_Type_Description',\n",
       "       'Filing_Date', 'Reporting_Period', 'Report_Year', 'Beginning_Date',\n",
       "       'Ending_Date', 'Beginning_Balance', 'Receipts', 'Subtotal',\n",
       "       'Expenditures', 'Ending_Balance', 'Candidate_First_Name',\n",
       "       'Candidate_Last_Name', 'Full_Name', 'District_Code', 'Office',\n",
       "       'District', 'Comm_Name', 'ID', 'Date', 'Contributor_Type', 'First_Name',\n",
       "       'Last_Name', 'Address', 'City', 'State', 'Zip', 'Occupation',\n",
       "       'Employer', 'Principal_Officer', 'Contributor_ID', 'Amount'],\n",
       "      dtype='object')"
      ]
     },
     "execution_count": 10,
     "metadata": {},
     "output_type": "execute_result"
    }
   ],
   "source": [
    "pac_donations_merged.columns"
   ]
  }
 ],
 "metadata": {
  "kernelspec": {
   "display_name": "Python 3",
   "language": "python",
   "name": "python3"
  },
  "language_info": {
   "codemirror_mode": {
    "name": "ipython",
    "version": 3
   },
   "file_extension": ".py",
   "mimetype": "text/x-python",
   "name": "python",
   "nbconvert_exporter": "python",
   "pygments_lexer": "ipython3",
   "version": "3.6.9"
  }
 },
 "nbformat": 4,
 "nbformat_minor": 4
}
