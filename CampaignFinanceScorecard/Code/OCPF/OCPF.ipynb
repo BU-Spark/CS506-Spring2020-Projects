{
 "cells": [
  {
   "cell_type": "markdown",
   "metadata": {},
   "source": [
    "## The two excel sheets were extracted from the campaign_finance_reports.mdb file. Specifically, the Master and Receipts tables were used, since the receipts table contained the contributor details and the master table contained the details of the people/entities that received the contributions"
   ]
  },
  {
   "cell_type": "code",
   "execution_count": 1,
   "metadata": {},
   "outputs": [],
   "source": [
    "import pandas as pd\n",
    "\n",
    "mst = pd.read_excel('./Data/OCPF Donor data/master.xlsx')\n",
    "rpt = pd.read_excel('./Data/OCPF Donor data/receipts.xlsx')"
   ]
  },
  {
   "cell_type": "code",
   "execution_count": 48,
   "metadata": {},
   "outputs": [
    {
     "name": "stdout",
     "output_type": "stream",
     "text": [
      "['Report_ID' 'CPF_ID' 'Filing_ID' 'Report_Type_Description' 'Filing_Date'\n",
      " 'Reporting_Period' 'Report_Year' 'Beginning_Date' 'Ending_Date'\n",
      " 'Beginning_Balance' 'Receipts' 'Subtotal' 'Expenditures' 'Ending_Balance'\n",
      " 'Candidate_First_Name' 'Candidate_Last_Name' 'Full_Name' 'District_Code'\n",
      " 'Office' 'District' 'Comm_Name']\n",
      "['ID' 'Report_ID' 'Date' 'Contributor_Type' 'First_Name' 'Last_Name'\n",
      " 'Address' 'City' 'State' 'Zip' 'Occupation' 'Employer'\n",
      " 'Principal_Officer' 'Contributor_ID' 'Amount']\n",
      "(166014, 21)\n",
      "(1042895, 15)\n"
     ]
    }
   ],
   "source": [
    "m_cols = mst.columns.values\n",
    "r_cols = rpt.columns.values\n",
    "m = mst.to_numpy()\n",
    "r = rpt.to_numpy()\n",
    "print(m_cols)\n",
    "print(r_cols)\n",
    "print(m.shape)\n",
    "print(r.shape)"
   ]
  },
  {
   "cell_type": "markdown",
   "metadata": {},
   "source": [
    "## Extracting rows from the master table based on 'Report_Year' (2016 - 2020)"
   ]
  },
  {
   "cell_type": "code",
   "execution_count": 22,
   "metadata": {},
   "outputs": [],
   "source": [
    "nums = [i for i in range(len(m_cols))]\n",
    "col_map = dict(zip(m_cols, nums))\n",
    "year = col_map['Report_Year']\n",
    "temp_m = []\n",
    "for i in range(1, len(m)):\n",
    "    if m[i][year] >= 2016 and m[i][year] <= 2020:\n",
    "        temp_m.append(m[i])"
   ]
  },
  {
   "cell_type": "code",
   "execution_count": 145,
   "metadata": {},
   "outputs": [
    {
     "name": "stdout",
     "output_type": "stream",
     "text": [
      "Number of extracted rows - 166013\n"
     ]
    }
   ],
   "source": [
    "print(\"Number of extracted rows - \" + str(len(temp_m)))"
   ]
  },
  {
   "cell_type": "markdown",
   "metadata": {},
   "source": [
    "## As above, we extract the relevant rows of the receipts table as well, while also applying the healthcare keywords as additional filters.\n",
    "\n",
    "## For the filters, we matched based on Occupation, Employer and Last_Name (some PAC's would have their business name listed in that column)"
   ]
  },
  {
   "cell_type": "code",
   "execution_count": 106,
   "metadata": {},
   "outputs": [],
   "source": [
    "import math\n",
    "nums2 = [i for i in range(len(r_cols))]\n",
    "col_map2 = dict(zip(r_cols, nums2))\n",
    "occupation = ['Nurse','Doctor','Physician','MD','Medical','Hospital','Clinical','RN','Health','Patient']\n",
    "employer = ['Hospital','Health','Healthcare','Medical']\n",
    "pacs = ['CVS Health Massachusetts Political Action Committee', 'MA Association of Community Health PAC', \\\n",
    "        'MA Pol Action Comm for Radiological Health Care', 'Massachusetts Health and Hospital Association Political Action Committee (MHAPAC)',\\\n",
    "       'Tenet Healthcare Corporation Political Action Committee Massachusetts']\n",
    "year = col_map2['Date']\n",
    "occ = col_map2['Occupation']\n",
    "emp = col_map2['Employer']\n",
    "pac = col_map2['Last_Name']\n",
    "temp_r = []\n",
    "for i in range(1, len(r)):\n",
    "    if r[i][year] >= '2016' and r[i][year] <= '2020':\n",
    "        e = r[i][emp]\n",
    "        o = r[i][occ]\n",
    "        p = r[i][pac]\n",
    "        flag = 0\n",
    "        if type(o) == str:\n",
    "            for job in occupation:\n",
    "                if job in o:\n",
    "                    temp_r.append(r[i])\n",
    "                    flag = 1\n",
    "                    break\n",
    "        if flag == 1:\n",
    "            continue\n",
    "        if type(e) == str:\n",
    "            for boss in employer:\n",
    "                if 'Hospitality' in e:\n",
    "                    flag = 1\n",
    "                    break\n",
    "                if boss in e:\n",
    "                    temp_r.append(r[i])\n",
    "                    flag = 1\n",
    "                    break\n",
    "        if flag == 1:\n",
    "            continue\n",
    "        if type(p) == str:\n",
    "            for poc in pacs:\n",
    "                if poc in p:\n",
    "                    temp_r.append(r[i])\n",
    "                    flag = 1\n",
    "                    break\n",
    "        if flag == 1:\n",
    "            continue\n",
    "        if type(p) == str:\n",
    "            for boss in employer:\n",
    "                if boss in p:\n",
    "                    temp_r.append(r[i])\n",
    "                    flag = 1\n",
    "                    break"
   ]
  },
  {
   "cell_type": "code",
   "execution_count": 147,
   "metadata": {},
   "outputs": [
    {
     "name": "stdout",
     "output_type": "stream",
     "text": [
      "Total number of transactions - 31041\n"
     ]
    }
   ],
   "source": [
    "print(\"Total number of transactions - \" + str(len(temp_r)))"
   ]
  },
  {
   "cell_type": "markdown",
   "metadata": {},
   "source": [
    "## Here we analyze the ranges of the contributions and draw a simple bar graph based on the results\n",
    "\n",
    "## On the side, we are also extracting values from the 'Report_ID' column to match with the master table"
   ]
  },
  {
   "cell_type": "code",
   "execution_count": 148,
   "metadata": {},
   "outputs": [],
   "source": [
    "received = col_map2['Amount']\n",
    "ids = col_map2['Report_ID']\n",
    "yrs = {}\n",
    "l = {'0-25':0,'25-100':0,'101-1000':0,'1001-10000':0,'10001-100000':0,'100001-1000000':0,'1000001+':0}\n",
    "m = 0\n",
    "id_list = []\n",
    "m_i = []\n",
    "for i in temp_r:\n",
    "    if i[ids] not in id_list:\n",
    "        id_list.append(i[ids])\n",
    "    amt = i[received]\n",
    "    if m < amt:\n",
    "        m_i = i\n",
    "        m = amt\n",
    "    if amt <= 25:\n",
    "        l['0-25'] += 1\n",
    "    elif amt >= 25 and amt <= 100:\n",
    "        l['25-100'] += 1\n",
    "    elif amt > 100 and amt <= 1000:\n",
    "        l['101-1000'] += 1\n",
    "    elif amt > 1000 and amt <= 10000:\n",
    "        l['1001-10000'] += 1\n",
    "    elif amt > 10000 and amt <= 100000:\n",
    "        l['10001-100000'] += 1\n",
    "    elif amt > 100000 and amt <= 1000000:\n",
    "        l['100001-1000000'] += 1\n",
    "    else:\n",
    "        l['1000001+'] += 1"
   ]
  },
  {
   "cell_type": "code",
   "execution_count": 159,
   "metadata": {},
   "outputs": [
    {
     "data": {
      "image/png": "[encoded data removed]",
      "text/plain": [
       "<Figure size 432x288 with 1 Axes>"
      ]
     },
     "metadata": {
      "needs_background": "light"
     },
     "output_type": "display_data"
    },
    {
     "name": "stdout",
     "output_type": "stream",
     "text": [
      "Highest contributor - [13082182 691799 '2018-10-23' 'OTHER' nan\n",
      " 'Massachusetts Health & Hospital Association' '500 District Ave'\n",
      " 'Burlington' 'MA' '01803' nan nan 'Steve Walsh' nan 3100000.0]\n",
      "\n",
      "Calculated ranges\n",
      "{'0-25': 11435, '25-100': 7427, '101-1000': 11737, '1001-10000': 387, '10001-100000': 28, '100001-1000000': 20, '1000001+': 7}\n"
     ]
    }
   ],
   "source": [
    "import matplotlib.pyplot as plt\n",
    "plt.bar(list(l), l.values())\n",
    "plt.xticks(list(l), rotation='45')\n",
    "plt.title('Donation ranges')\n",
    "plt.show()\n",
    "print(\"Highest contributor - \" + str(m_i))\n",
    "print(\"\\nCalculated ranges\")\n",
    "print(l)"
   ]
  },
  {
   "cell_type": "markdown",
   "metadata": {},
   "source": [
    "## Extract rows from the master table based on 'Report_ID' and also extracting unique recipients based on 'CPF_ID'"
   ]
  },
  {
   "cell_type": "code",
   "execution_count": 173,
   "metadata": {},
   "outputs": [],
   "source": [
    "ids = col_map['Report_ID']\n",
    "cpf = col_map['CPF_ID']\n",
    "name = col_map['Full_Name']\n",
    "amount = col_map['Receipts']\n",
    "cp = {}\n",
    "health_temp = []\n",
    "for i in temp_m:\n",
    "    if i[ids] in id_list:\n",
    "        health_temp.append(i)\n",
    "        if i[cpf] not in cp:\n",
    "            cp[i[cpf]] = {}\n",
    "            cp[i[cpf]]['Name'] = i[name]\n",
    "            cp[i[cpf]]['Amount'] = i[amount]\n",
    "        else:\n",
    "            cp[i[cpf]]['Amount'] += i[amount]"
   ]
  },
  {
   "cell_type": "code",
   "execution_count": 183,
   "metadata": {},
   "outputs": [
    {
     "name": "stdout",
     "output_type": "stream",
     "text": [
      "Number of unique recipients related to healthcare industry - 1039\n",
      "\n",
      "Top 10 recipients\n",
      "\n",
      "('Coalition to Protect Patient Safety', 25800788.790000003)\n",
      "('Save Our Public Schools', 15406896.5)\n",
      "('Committee to Ensure Safe Patient Care', 12298919.81)\n",
      "('YES on 4', 6065697.0)\n",
      "('Charles D. Baker', 5783997.62)\n",
      "('Freedom for All Massachusetts, Inc.', 5530348.4)\n",
      "('Maura T. Healey', 3008623.719999999)\n",
      "('Martin J. Walsh', 2930438.9200000004)\n",
      "('Karyn E. Polito', 2892809.67)\n",
      "('Campaign for Fair Access to Quality Public Schools', 2292183.11)\n"
     ]
    }
   ],
   "source": [
    "print(\"Number of unique recipients related to healthcare industry - \" + str(len(cp)))\n",
    "x = []\n",
    "for i in cp:\n",
    "    x.append((cp[i]['Name'],cp[i]['Amount']))\n",
    "x.sort(key = lambda x: x[1], reverse=True)\n",
    "print(\"\\nTop 10 recipients\\n\")\n",
    "for i in x[:10]:\n",
    "    print(i)"
   ]
  },
  {
   "cell_type": "markdown",
   "metadata": {},
   "source": [
    "## Extracting the total amount received by year, considering only the reports tagged as 'Deposit Report'"
   ]
  },
  {
   "cell_type": "code",
   "execution_count": 162,
   "metadata": {},
   "outputs": [],
   "source": [
    "y = {}\n",
    "re = col_map['Receipts']\n",
    "yr = col_map['Report_Year']\n",
    "desc = col_map['Report_Type_Description']\n",
    "for i in health_temp:\n",
    "    if i[desc] != 'Deposit Report':\n",
    "#     if i[desc] != 'Deposit Report' and i[desc] != 'Late Contribution Report' and i[desc] != 'Bank Report':\n",
    "# #         print(i[desc])\n",
    "        continue\n",
    "    amt = i[re]\n",
    "    if i[yr] not in y:\n",
    "        y[i[yr]] = 0\n",
    "    if not math.isnan(amt):\n",
    "        y[i[yr]] += int(amt)"
   ]
  },
  {
   "cell_type": "code",
   "execution_count": 172,
   "metadata": {},
   "outputs": [
    {
     "data": {
      "image/png": "[encoded data removed]",
      "text/plain": [
       "<Figure size 432x288 with 1 Axes>"
      ]
     },
     "metadata": {
      "needs_background": "light"
     },
     "output_type": "display_data"
    }
   ],
   "source": [
    "import matplotlib.pyplot as plt\n",
    "plt.bar(list(y), y.values())\n",
    "plt.xticks(list(y), rotation='45')\n",
    "plt.title('Donations by year')\n",
    "plt.ylabel('in million dollars')\n",
    "plt.show()"
   ]
  }
 ],
 "metadata": {
  "kernelspec": {
   "display_name": "Python 3",
   "language": "python",
   "name": "python3"
  },
  "language_info": {
   "codemirror_mode": {
    "name": "ipython",
    "version": 3
   },
   "file_extension": ".py",
   "mimetype": "text/x-python",
   "name": "python",
   "nbconvert_exporter": "python",
   "pygments_lexer": "ipython3",
   "version": "3.6.9"
  }
 },
 "nbformat": 4,
 "nbformat_minor": 4
}
