{
 "cells": [
  {
   "cell_type": "code",
   "execution_count": 1,
   "metadata": {},
   "outputs": [],
   "source": [
    "import pandas as pd"
   ]
  },
  {
   "cell_type": "code",
   "execution_count": 98,
   "metadata": {},
   "outputs": [],
   "source": [
    "healthcare_data = pd.read_csv('./output.csv')\n",
    "import numpy as np\n",
    "healthcare_data = healthcare_data.replace(np.nan, '', regex=True)\n",
    "healthcare_data_donor_consolidated = pd.DataFrame(columns = ['Donor_Name', 'Amount_Donated', 'Candidate_Received', 'Date'])\n",
    "healthcare_data_recipient_consolidated = pd.DataFrame(columns = ['Candidate_Name', 'Amount_Received', 'Donor_Name', 'Date'])"
   ]
  },
  {
   "cell_type": "code",
   "execution_count": 99,
   "metadata": {},
   "outputs": [
    {
     "name": "stdout",
     "output_type": "stream",
     "text": [
      "Index(['Unnamed: 0', 'ID', 'Report_ID', 'Date', 'Contributor_Type',\n",
      "       'First_Name', 'Last_Name', 'Address', 'City', 'State', 'Zip',\n",
      "       'Occupation', 'Employer', 'Contributor_ID', 'Amount', 'Full_Name',\n",
      "       'Comm_Name', 'Report_Year', 'CPF_ID', 'Filing_Date'],\n",
      "      dtype='object')\n"
     ]
    }
   ],
   "source": [
    "print(healthcare_data.columns)"
   ]
  },
  {
   "cell_type": "code",
   "execution_count": 100,
   "metadata": {},
   "outputs": [],
   "source": [
    "healthcare_data_donor_consolidated[\"Donor_Name\"] = healthcare_data[\"First_Name\"] + ' ' + healthcare_data[\"Last_Name\"]\n",
    "healthcare_data_donor_consolidated[\"Donor_Name\"] = healthcare_data_donor_consolidated[\"Donor_Name\"].str.title()\n",
    "healthcare_data_donor_consolidated[\"Amount_Donated\"] = healthcare_data[\"Amount\"]\n",
    "healthcare_data_donor_consolidated[\"Candidate_Received\"] = healthcare_data[\"Full_Name\"]\n",
    "healthcare_data_donor_consolidated[\"Date\"] = healthcare_data[\"Date\"]\n",
    "\n",
    "healthcare_data_recipient_consolidated[\"Candidate_Name\"] = healthcare_data[\"Full_Name\"]\n",
    "healthcare_data_recipient_consolidated[\"Amount_Received\"] = healthcare_data[\"Amount\"]\n",
    "healthcare_data_recipient_consolidated[\"Donor_Name\"] = healthcare_data_donor_consolidated[\"Donor_Name\"]\n",
    "healthcare_data_recipient_consolidated[\"Date\"] = healthcare_data_donor_consolidated[\"Date\"]"
   ]
  },
  {
   "cell_type": "code",
   "execution_count": 101,
   "metadata": {},
   "outputs": [],
   "source": [
    "healthcare_data_donor_consolidated = healthcare_data_donor_consolidated.sort_values(by=\"Donor_Name\")\n",
    "healthcare_data_recipient_consolidated = healthcare_data_recipient_consolidated.sort_values(by=\"Candidate_Name\")"
   ]
  },
  {
   "cell_type": "code",
   "execution_count": 104,
   "metadata": {},
   "outputs": [],
   "source": [
    "healthcare_data_donor_consolidated.to_csv('healthcare_data_donor_consolidated.csv', index = False)"
   ]
  },
  {
   "cell_type": "code",
   "execution_count": 105,
   "metadata": {},
   "outputs": [],
   "source": [
    "healthcare_data_recipient_consolidated.to_csv('healthcare_data_recipient_consolidated.csv', index = False)"
   ]
  },
  {
   "cell_type": "code",
   "execution_count": 106,
   "metadata": {},
   "outputs": [
    {
     "name": "stdout",
     "output_type": "stream",
     "text": [
      "(86635, 4)\n"
     ]
    }
   ],
   "source": [
    "df = healthcare_data_donor_consolidated.dropna()\n",
    "print(df.shape)\n",
    "candidates = df.groupby(['Candidate_Received']).sum()\n",
    "donors = df.groupby(['Donor_Name']).sum()"
   ]
  },
  {
   "cell_type": "code",
   "execution_count": 120,
   "metadata": {},
   "outputs": [
    {
     "name": "stdout",
     "output_type": "stream",
     "text": [
      "                                                    Amount_Donated\n",
      "Candidate_Received                                                \n",
      "Coalition to Protect Patient Safety                   2.580052e+07\n",
      "Committee to Ensure Safe Patient Care                 1.250142e+07\n",
      "Commonwealth Future Independent Expenditure Pol...    6.625000e+06\n",
      "The Campaign for a Safe and Healthy Massachusetts     4.249864e+06\n",
      "Charles D. Baker                                      6.740445e+05\n",
      "Ironworkers Union Local 7 Pol Action Comm             5.429560e+05\n",
      "Patients for Affordable Drugs Action Independen...    5.102500e+05\n",
      "1199 SEIU MA PAC                                      4.301240e+05\n",
      "Committee to Protect Massachusetts Hospital Care      3.763332e+05\n",
      "Karyn E. Polito                                       3.237270e+05\n",
      "Freedom for All Massachusetts, Inc.                   3.113760e+05\n",
      "Massachusetts Dental Society Political Action C...    3.041890e+05\n",
      "Maura T. Healey                                       2.376597e+05\n",
      "Raise Up Massachusetts 2018                           2.153900e+05\n",
      "Robert A. DeLeo                                       2.107700e+05\n",
      "Martin J. Walsh                                       1.997670e+05\n",
      "Massachusetts Senior Coalition                        1.683370e+05\n",
      "Ronald Mariano                                        1.290400e+05\n",
      "Jay Gonzalez                                          1.156177e+05\n",
      "Baker-Polito 2019 Inaugural Committee                 1.004687e+05\n"
     ]
    }
   ],
   "source": [
    "print(candidates.sort_values(['Amount_Donated'], ascending=False)[:20])"
   ]
  },
  {
   "cell_type": "markdown",
   "metadata": {},
   "source": [
    "# Committee Analysis"
   ]
  },
  {
   "cell_type": "code",
   "execution_count": 30,
   "metadata": {},
   "outputs": [],
   "source": [
    "HealthcareFinancingCommittee = pd.read_csv('Health Care Financing Comittee.txt', header = None, names = ['HFC'])\n",
    "MSRCommittee = pd.read_csv('Mental Health, Substance Use and Recovery Comittee.txt', header = None, names = ['MSR'])\n",
    "PublicHealthCommittee = pd.read_csv('Public Health Comittee.txt', header = None, names = ['PHC'])\n",
    "CommitteeDetails = pd.DataFrame(columns = ['MemberName', 'CommitteeNames'])\n",
    "CommitteeDetails[\"MemberName\"] = pd.concat([HealthcareFinancingCommittee[\"HFC\"], MSRCommittee[\"MSR\"], PublicHealthCommittee[\"PHC\"]])\n",
    "CommitteeDetails = CommitteeDetails.drop_duplicates()"
   ]
  },
  {
   "cell_type": "code",
   "execution_count": 42,
   "metadata": {},
   "outputs": [],
   "source": [
    "for index,member in enumerate(CommitteeDetails['MemberName']):\n",
    "    committees = []\n",
    "    if HealthcareFinancingCommittee[\"HFC\"].str.contains(member).sum():\n",
    "        committees.append(\"Healthcare Financing Committee\")\n",
    "    if MSRCommittee[\"MSR\"].str.contains(member).sum():\n",
    "        committees.append(\"Mental health and Recovery Committee\")\n",
    "    if PublicHealthCommittee[\"PHC\"].str.contains(member).sum():\n",
    "        committees.append(\"Public Health Committee\")\n",
    "    CommitteeDetails.iloc[index]['CommitteeNames'] = committees"
   ]
  },
  {
   "cell_type": "code",
   "execution_count": 44,
   "metadata": {},
   "outputs": [],
   "source": [
    "CommitteeDetails.to_csv(r'.\\CommitteeDetails.csv', index = False)"
   ]
  },
  {
   "cell_type": "markdown",
   "metadata": {},
   "source": [
    "# Committee Analysis Continuation"
   ]
  },
  {
   "cell_type": "code",
   "execution_count": 46,
   "metadata": {},
   "outputs": [],
   "source": [
    "CommitteeDetails = pd.read_csv('./CommitteeDetails.csv')"
   ]
  },
  {
   "cell_type": "code",
   "execution_count": 53,
   "metadata": {},
   "outputs": [
    {
     "name": "stdout",
     "output_type": "stream",
     "text": [
      "4 Dean A. Tran\n",
      "5 Brian M. Ashe\n",
      "6 Christine P. Barber\n",
      "7 Steven Ultrino\n",
      "8 Joseph W. McGonagle\n",
      "9 William J. Driscoll\n",
      "11 Brian W. Murray\n",
      "12 Jon Santiago\n",
      "14 Mathew J. Muratore\n",
      "16 Harriette L. Chandler\n",
      "18 Walter F. Timilty\n",
      "22 Angelo M. Scaccia\n",
      "26 Tami L. Gouveia\n",
      "28 Susannah M. Whipps\n",
      "29 William L. Crocker\n",
      "31 John F. Keenan\n",
      "32 Marjorie C. Decker\n"
     ]
    }
   ],
   "source": [
    "for index,member in enumerate(CommitteeDetails[\"MemberName\"]):\n",
    "    donors = []\n",
    "    \n",
    "    if healthcare_data_recipient_consolidated[\"Candidate_Name\"].str.contains(member).sum():\n",
    "        print(index,member)"
   ]
  },
  {
   "cell_type": "code",
   "execution_count": 48,
   "metadata": {},
   "outputs": [
    {
     "data": {
      "text/html": [
       "<div>\n",
       "<style scoped>\n",
       "    .dataframe tbody tr th:only-of-type {\n",
       "        vertical-align: middle;\n",
       "    }\n",
       "\n",
       "    .dataframe tbody tr th {\n",
       "        vertical-align: top;\n",
       "    }\n",
       "\n",
       "    .dataframe thead th {\n",
       "        text-align: right;\n",
       "    }\n",
       "</style>\n",
       "<table border=\"1\" class=\"dataframe\">\n",
       "  <thead>\n",
       "    <tr style=\"text-align: right;\">\n",
       "      <th></th>\n",
       "      <th>Candidate_Name</th>\n",
       "      <th>Amount_Received</th>\n",
       "      <th>Donor_Name</th>\n",
       "    </tr>\n",
       "  </thead>\n",
       "  <tbody>\n",
       "    <tr>\n",
       "      <th>10865</th>\n",
       "      <td>1199 SEIU MA PAC</td>\n",
       "      <td>5.0</td>\n",
       "      <td>Deborah Wheatley</td>\n",
       "    </tr>\n",
       "    <tr>\n",
       "      <th>14535</th>\n",
       "      <td>1199 SEIU MA PAC</td>\n",
       "      <td>5.0</td>\n",
       "      <td>Kerri Boudreau</td>\n",
       "    </tr>\n",
       "    <tr>\n",
       "      <th>14534</th>\n",
       "      <td>1199 SEIU MA PAC</td>\n",
       "      <td>10.0</td>\n",
       "      <td>Autumn Smith</td>\n",
       "    </tr>\n",
       "    <tr>\n",
       "      <th>14533</th>\n",
       "      <td>1199 SEIU MA PAC</td>\n",
       "      <td>5.0</td>\n",
       "      <td>Theresa Joseph</td>\n",
       "    </tr>\n",
       "    <tr>\n",
       "      <th>14532</th>\n",
       "      <td>1199 SEIU MA PAC</td>\n",
       "      <td>5.0</td>\n",
       "      <td>Rebecca Tucker</td>\n",
       "    </tr>\n",
       "    <tr>\n",
       "      <th>...</th>\n",
       "      <td>...</td>\n",
       "      <td>...</td>\n",
       "      <td>...</td>\n",
       "    </tr>\n",
       "    <tr>\n",
       "      <th>4796</th>\n",
       "      <td>Yvonne M. Spicer</td>\n",
       "      <td>150.0</td>\n",
       "      <td>Eileen W Feldman</td>\n",
       "    </tr>\n",
       "    <tr>\n",
       "      <th>4783</th>\n",
       "      <td>Yvonne M. Spicer</td>\n",
       "      <td>500.0</td>\n",
       "      <td>Camilla Graham</td>\n",
       "    </tr>\n",
       "    <tr>\n",
       "      <th>14040</th>\n",
       "      <td>Yvonne M. Spicer</td>\n",
       "      <td>100.0</td>\n",
       "      <td>Jayne Carvelli-Sheehan (2019 Contribution)</td>\n",
       "    </tr>\n",
       "    <tr>\n",
       "      <th>4792</th>\n",
       "      <td>Yvonne M. Spicer</td>\n",
       "      <td>50.0</td>\n",
       "      <td>Shellie Roney</td>\n",
       "    </tr>\n",
       "    <tr>\n",
       "      <th>4784</th>\n",
       "      <td>Yvonne M. Spicer</td>\n",
       "      <td>30.0</td>\n",
       "      <td>Nickie Gendreau</td>\n",
       "    </tr>\n",
       "  </tbody>\n",
       "</table>\n",
       "<p>15613 rows × 3 columns</p>\n",
       "</div>"
      ],
      "text/plain": [
       "         Candidate_Name  Amount_Received  \\\n",
       "10865  1199 SEIU MA PAC              5.0   \n",
       "14535  1199 SEIU MA PAC              5.0   \n",
       "14534  1199 SEIU MA PAC             10.0   \n",
       "14533  1199 SEIU MA PAC              5.0   \n",
       "14532  1199 SEIU MA PAC              5.0   \n",
       "...                 ...              ...   \n",
       "4796   Yvonne M. Spicer            150.0   \n",
       "4783   Yvonne M. Spicer            500.0   \n",
       "14040  Yvonne M. Spicer            100.0   \n",
       "4792   Yvonne M. Spicer             50.0   \n",
       "4784   Yvonne M. Spicer             30.0   \n",
       "\n",
       "                                       Donor_Name  \n",
       "10865                            Deborah Wheatley  \n",
       "14535                              Kerri Boudreau  \n",
       "14534                                Autumn Smith  \n",
       "14533                              Theresa Joseph  \n",
       "14532                              Rebecca Tucker  \n",
       "...                                           ...  \n",
       "4796                             Eileen W Feldman  \n",
       "4783                               Camilla Graham  \n",
       "14040  Jayne Carvelli-Sheehan (2019 Contribution)  \n",
       "4792                                Shellie Roney  \n",
       "4784                              Nickie Gendreau  \n",
       "\n",
       "[15613 rows x 3 columns]"
      ]
     },
     "execution_count": 48,
     "metadata": {},
     "output_type": "execute_result"
    }
   ],
   "source": [
    "healthcare_data_recipient_consolidated"
   ]
  }
 ],
 "metadata": {
  "kernelspec": {
   "display_name": "Python 3",
   "language": "python",
   "name": "python3"
  },
  "language_info": {
   "codemirror_mode": {
    "name": "ipython",
    "version": 3
   },
   "file_extension": ".py",
   "mimetype": "text/x-python",
   "name": "python",
   "nbconvert_exporter": "python",
   "pygments_lexer": "ipython3",
   "version": "3.6.9"
  }
 },
 "nbformat": 4,
 "nbformat_minor": 4
}
