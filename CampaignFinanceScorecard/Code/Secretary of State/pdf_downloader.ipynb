{
 "cells": [
  {
   "cell_type": "markdown",
   "metadata": {},
   "source": [
    "## This was the code used to download the PDF's from the Secretary of State website\n",
    "\n",
    "## We used selenium along with chrome to automate the process, while also using a virtual display to prevent the chrome browser from being displayed"
   ]
  },
  {
   "cell_type": "code",
   "execution_count": 140,
   "metadata": {},
   "outputs": [],
   "source": [
    "from selenium import webdriver\n",
    "import time\n",
    "import pandas as pd\n",
    "from selenium.webdriver.support.ui import WebDriverWait\n",
    "import pickle\n",
    "from selenium.webdriver.support.ui import Select\n",
    "from selenium.webdriver.chrome.options import Options\n",
    "\n",
    "download_dir = '.' #Put location where you want to download the PDF's, default to current directory\n",
    "\n",
    "chrome_options = Options()\n",
    "chrome_options.add_experimental_option('prefs',  {\n",
    "    \"download.default_directory\": download_dir,\n",
    "    \"download.prompt_for_download\": False,\n",
    "    \"download.directory_upgrade\": True,\n",
    "    \"plugins.always_open_pdf_externally\": True\n",
    "    })\n",
    "from pyvirtualdisplay import Display\n",
    "display = Display(visible=0, size=(800, 600))\n",
    "display.start()\n",
    "driver = webdriver.Chrome('./chromedriver', options = chrome_options)  # Optional argument, if not specified will search path."
   ]
  },
  {
   "cell_type": "markdown",
   "metadata": {},
   "source": [
    "## The below cell opens the saved links of each company. We navigate to these links first and then navigate further to obtain the Annual Report PDF"
   ]
  },
  {
   "cell_type": "code",
   "execution_count": 125,
   "metadata": {},
   "outputs": [],
   "source": [
    "f = open('saved_links.pkl','rb') #Put name of saved links pickle file\n",
    "links = pickle.load(f)\n",
    "f.close()"
   ]
  },
  {
   "cell_type": "code",
   "execution_count": 132,
   "metadata": {},
   "outputs": [],
   "source": [
    "latest = 0 #Allows automatically restarting from the last completed link if the code fails due"
   ]
  },
  {
   "cell_type": "markdown",
   "metadata": {},
   "source": [
    "## To combat the anti-scraper, we close and reopen the browser window every 100 links and also put sleep commands in a few places.\n",
    "\n",
    "## The code can still fail sometimes, either when the downloaded PDF's take time to show up in the system or when the PDF link turns out faulty. Nothing can be done about these situations except skip over to the next company."
   ]
  },
  {
   "cell_type": "code",
   "execution_count": 1,
   "metadata": {},
   "outputs": [],
   "source": [
    "import os\n",
    "driver.implicitly_wait(5)\n",
    "start = latest\n",
    "cur_count = 0\n",
    "for link_n in range(start, len(links)):\n",
    "    print(link_n)\n",
    "    driver.get('http://lgwhd2o.x.incapdns.net/CorpWeb/CorpSearch/CorpSummary.aspx?sysvalue=' + links[link_n])\n",
    "    time.sleep(1)\n",
    "    try:\n",
    "        el = driver.find_element_by_id('MainContent_btnViewFilings')\n",
    "    except:\n",
    "        driver.quit()\n",
    "        driver = webdriver.Chrome('./chromedriver', options = chrome_options)\n",
    "        driver.get('http://lgwhd2o.x.incapdns.net/CorpWeb/CorpSearch/CorpSummary.aspx?sysvalue=' + links[link_n])\n",
    "        time.sleep(1)\n",
    "    \n",
    "    id_link = driver.find_element_by_id('MainContent_lblIDNumber').text.split('Identification Number: ')[1]\n",
    "    filings_btn = driver.find_element_by_id('MainContent_btnViewFilings')\n",
    "    filings_btn.click()\n",
    "\n",
    "    try:\n",
    "        el = driver.find_element_by_id('MainContent_grdSearchResults')\n",
    "    except:\n",
    "        url = driver.current_url\n",
    "        driver.quit()\n",
    "        driver = webdriver.Chrome('./chromedriver', options = chrome_options)\n",
    "        driver.get(url)\n",
    "\n",
    "    try:\n",
    "        table = driver.find_element_by_id('MainContent_grdSearchResults')\n",
    "    except:\n",
    "        continue\n",
    "    li = table.find_elements_by_tag_name('tr')\n",
    "    ann_rep = None\n",
    "    org_cert = None\n",
    "    for i in li:\n",
    "        if ann_rep != None:\n",
    "            break\n",
    "        if i.get_attribute('class') == 'GridHeader':\n",
    "            continue\n",
    "        if \"Annual Report\" in i.text and ann_rep == None:\n",
    "            try:\n",
    "                ann_rep = i.find_element_by_tag_name('a').get_attribute('href')\n",
    "            except:\n",
    "                break\n",
    "    if ann_rep != None:\n",
    "        driver.get(ann_rep)\n",
    "        time.sleep(2)\n",
    "        try:\n",
    "            os.rename('./PDF/CorpSearchViewPDF.aspx','./PDF/' + id_link + '.pdf')\n",
    "        except:\n",
    "            driver.quit()\n",
    "            driver = webdriver.Chrome('./chromedriver', options = chrome_options)\n",
    "            time.sleep(1)\n",
    "            driver.get(ann_rep)\n",
    "            time.sleep(4)\n",
    "            os.rename('./PDF/CorpSearchViewPDF.aspx','./PDF/' + id_link + '.pdf')\n",
    "    latest = link_n\n",
    "    cur_count += 1\n",
    "    if cur_count == 100:\n",
    "        driver.quit()\n",
    "        driver = webdriver.Chrome('./chromedriver', options = chrome_options)\n",
    "        cur_count = 0"
   ]
  }
 ],
 "metadata": {
  "kernelspec": {
   "display_name": "Python 3",
   "language": "python",
   "name": "python3"
  },
  "language_info": {
   "codemirror_mode": {
    "name": "ipython",
    "version": 3
   },
   "file_extension": ".py",
   "mimetype": "text/x-python",
   "name": "python",
   "nbconvert_exporter": "python",
   "pygments_lexer": "ipython3",
   "version": "3.6.9"
  }
 },
 "nbformat": 4,
 "nbformat_minor": 4
}
