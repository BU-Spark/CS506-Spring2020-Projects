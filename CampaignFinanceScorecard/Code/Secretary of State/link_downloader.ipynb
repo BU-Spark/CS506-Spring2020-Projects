{
 "cells": [
  {
   "cell_type": "markdown",
   "metadata": {},
   "source": [
    "## This code collected the links of all companies using their identification number. This number was obtained using a manual search by alphabet (a - z) to get all the companies. Since the website was buggy, the only viable way to collect links to all the companies was to load all the companies starting with a particular alphabet and save the resulting html for later analysis. The below method was in addition to the manual collection because the website was changed\n",
    "## The website is an ASPX page and to emulate the request, we simulated a mock request in our browser and manually picked up all the variables that are passed as part of the request"
   ]
  },
  {
   "cell_type": "code",
   "execution_count": 101,
   "metadata": {},
   "outputs": [],
   "source": [
    "headers = {\n",
    "    \"User-Agent\": \"Mozilla/5.0 (X11; Linux x86_64) AppleWebKit/537.36 (KHTML, like Gecko) Chrome/80.0.3987.132 Safari/537.36\",\n",
    "    \"Accept\": \"text/plain\",\n",
    "    \"Accept-Encoding\": \"gzip,deflate,sdch\",\n",
    "    \"Accept-Language\": \"en-US,en;q=0.8\",\n",
    "    \"Cookie\":\"visid_incap_2224066=JH9X+D1RTdC0Vk4mPCFU7gw5g14AAAAAQUIPAAAAAAC9+45Vs1Ti3WLn6v1O2RGd; ASP.NET_SessionId=lb5uoxdbiromwyvb2bz1yjeq; incap_ses_220_2224066=qrcxNIlJQyEYYQzx5ZgNAx2GhF4AAAAAwl5B6astyk2BvyJCco+mbw==; incap_ses_284_2224066=v4UQIDORrELZfi1fevrwA8IBhV4AAAAATyDZRyFKhtmt2NbNmkzgYw==; TSPD_101=081707b061ab2800a6b8795ad5c5c1e9ce88775ffa202deb024dabc8dcbc6f59efef097848554e0a5ac8a6a72da85af4:; TS019ab495_77=081707b061ab2800f2a005a23b966e0d13ba099e8687a2276a4b7589463ba39457a32e86def826c67e130270e80a7cca08349662c282380070cd8730f7c61905d425c437b86e19c0553f2aa07e1b3156f323f67510f7bee1306e85f5f5e0ede193743dd92eda26929d52f78ff0469c59; incap_ses_149_2224066=e8HpSSZHxBgNQZqwIWERAsBShl4AAAAATwQ0ETamSi68oqjHefbNaw==; TS019ab495=01cf497f1e23eda0ddfa739aec19cf257e97c7a20d215e625e5b0f2d9d8ccc69a1826027bcaad0ad0eb7c4e674781282bb145da7620448a0cd77173c713ad43f215048cd2a\"\n",
    "}"
   ]
  },
  {
   "cell_type": "markdown",
   "metadata": {},
   "source": [
    "## The code can fail at times, this can be fixed by doing a mock request yourself and replacing the viewstate and eventvalidation keys in the cell below. These can be found in the Networks Tab after enabling 'Inspect Element'"
   ]
  },
  {
   "cell_type": "code",
   "execution_count": 102,
   "metadata": {},
   "outputs": [],
   "source": [
    "form_data = {\n",
    "\"ctl00$MainContent$ScriptManager1\": \"ctl00$MainContent$UpdatePanel1|ctl00$MainContent$btnSearch\",\n",
    "\"__LASTFOCUS\": \"\",\n",
    "\"__EVENTTARGET\": \"\",\n",
    "\"__EVENTARGUMENT\": \"\",\n",
    "\"__VIEWSTATE\": \"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\",\n",
    "\"__VIEWSTATEGENERATOR\": \"33318B09\",\n",
    "\"__SCROLLPOSITIONX\": 0,\n",
    "\"__SCROLLPOSITIONY\": 0,\n",
    "\"__VIEWSTATEENCRYPTED\": \"\",\n",
    "\"__EVENTVALIDATION\": \"2a/FhdhOVH2Fimy5Sz6xUDaNy2/8FtjszpO3KlATrxGFNW3WWRYMbOfpWSb8feL2kvhSC/oV/alXkzYT3vBQ2uzGSuBUeVjMmYARZMO4s+8ioT0/vLKRKQ16V2fR2LViw4cRgEgwS+1xCDs5fILAhw1wIljvSDmZc+1cHEIs8v4DAe+MH+pOj2eoS3ppX3zruGkdadzmjbcAx6iuOHsxPtd5dW80U9LQoWmOFwMdATlPrwxMgQ3GnC02CeN++tKlWgTMcZbxtTHFi7LqLeXFmPU82sbnFgZTbPdcEe6gYsSIdwj8obmSxTwt2WrszbXnwn5hTQLAwVSsbol7g2505q4RMXkJkz5AbyLXDicZurYG4aYgMvQQgrUhSVcF8WH1xWnb3iwdSnmie1iVd2zUiXKRXHetaNaicANEvrNYFjBm1tYF2+8x9eW2JzhQpqxltKe0vUiygxjt9zqLC22QUKw0YW+kAa/byIGxSFNYdnCrKGVmc+0yIJ6pS0TBTkG3f+eCnMZEshz3KA2w0fJBqIjEU2f9KHIAh+1nv/NGBZ0VhFSpjgKAkv2GROUfDt3OYDNrRebQKgZQKZLGwAM30KrS50JZHQDa70b+rKyuC+g463DuAPMMZHX6KZhftFR/SZCmKSHzayoXyrqH+7Q/ASKqIfYMkLdEuzJ6Bg3Q2c4/+3HNRSUb3bfFMurvKlh5kwRH47lnlfX5XicBIN+HclsSWIqhIOlN6ITqXzRKw04WnUlttz1RJa9eD59qKO7e\",\n",
    "\"ctl00$MainContent$hdnApplyMasterPageWitoutSidebar\": 0,\n",
    "\"ctl00$MainContent$hdn1\": 0,\n",
    "\"ctl00$MainContent$CorpSearch\": \"rdoByEntityName\",\n",
    "\"ctl00$MainContent$txtEntityName\": \"i\",\n",
    "\"ctl00$MainContent$ddBeginsWithEntityName\": \"B\",\n",
    "\"ctl00$MainContent$txtFirstName\": \"\",\n",
    "\"ctl00$MainContent$txtMiddleName\": \"\",\n",
    "\"ctl00$MainContent$txtLastName\": \"\",\n",
    "\"ctl00$MainContent$ddBeginsWithIndividual\": \"B\",\n",
    "\"ctl00$MainContent$txtIdentificationNumber\": \"\",\n",
    "\"ctl00$MainContent$txtFilingNumber\": \"\",\n",
    "\"ctl00$MainContent$ddRecordsPerPage\": 25,\n",
    "\"ctl00$MainContent$hdnW\": 1366,\n",
    "\"ctl00$MainContent$hdnH\": 741,\n",
    "\"ctl00$MainContent$SearchControl$hdnRecordsPerPage\": \"\",\n",
    "\"__ASYNCPOST\": \"true\",\n",
    "\"ctl00$MainContent$btnSearch\": \"Search Corporations\"\n",
    "}"
   ]
  },
  {
   "cell_type": "code",
   "execution_count": 103,
   "metadata": {},
   "outputs": [],
   "source": [
    "from requests_html import HTMLSession\n",
    "import pickle\n",
    "import selenium\n",
    "\n",
    "f = open('saved_links.pkl', 'rb')\n",
    "links = pickle.load(f)\n",
    "f.close()\n",
    "\n",
    "session = HTMLSession()\n",
    "form_response = session.get(\"http://lgwhd2o.x.incapdns.net/CorpWeb/CorpSearch/CorpSearch.aspx\", headers=headers)"
   ]
  },
  {
   "cell_type": "code",
   "execution_count": 104,
   "metadata": {},
   "outputs": [],
   "source": [
    "headers['Referer'] = form_response.url\n",
    "res = []"
   ]
  },
  {
   "cell_type": "markdown",
   "metadata": {},
   "source": [
    "## The below code iterates through each company ID and sends a post request to the server with the ID as part of the form data"
   ]
  },
  {
   "cell_type": "code",
   "execution_count": null,
   "metadata": {},
   "outputs": [],
   "source": [
    "count_start = 0\n",
    "count_end = len(links)"
   ]
  },
  {
   "cell_type": "code",
   "execution_count": null,
   "metadata": {},
   "outputs": [],
   "source": [
    "print(count_start, count_end)\n",
    "for link_n in range(count_start, count_end):\n",
    "    print(link_n)\n",
    "    fe = links[link_n].split('FEIN=')[1].split('&')[0]\n",
    "    form_data[\"ctl00$MainContent$txtIdentificationNumber\"] = fe\n",
    "    time.sleep(0.5)\n",
    "    response = session.post(url=\"http://lgwhd2o.x.incapdns.net//CorpWeb/CorpSearch/CorpSearch.aspx\", \n",
    "                        data=form_data,\n",
    "                        headers=headers)\n",
    "    val = response.text.split('sysvalue%3d')[1].split('|')[0]"
   ]
  },
  {
   "cell_type": "code",
   "execution_count": null,
   "metadata": {},
   "outputs": [],
   "source": [
    "f = open('saved_res.pkl','wb')\n",
    "pickle.dump(res, f)\n",
    "f.close()"
   ]
  }
 ],
 "metadata": {
  "kernelspec": {
   "display_name": "Python 3",
   "language": "python",
   "name": "python3"
  },
  "language_info": {
   "codemirror_mode": {
    "name": "ipython",
    "version": 3
   },
   "file_extension": ".py",
   "mimetype": "text/x-python",
   "name": "python",
   "nbconvert_exporter": "python",
   "pygments_lexer": "ipython3",
   "version": "3.6.9"
  }
 },
 "nbformat": 4,
 "nbformat_minor": 4
}
