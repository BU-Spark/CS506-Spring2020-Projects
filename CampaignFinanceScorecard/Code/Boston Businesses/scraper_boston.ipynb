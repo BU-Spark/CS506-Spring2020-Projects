{
 "cells": [
  {
   "cell_type": "code",
   "execution_count": 34,
   "metadata": {},
   "outputs": [],
   "source": [
    "from selenium import webdriver\n",
    "import time\n",
    "import pandas as pd\n",
    "import pickle\n",
    "from selenium.webdriver.support.ui import Select\n",
    "from selenium.webdriver.chrome.options import Options\n",
    "\n",
    "driver = webdriver.Chrome('./chromedriver')  # Optional argument, if not specified will search path."
   ]
  },
  {
   "cell_type": "code",
   "execution_count": 4,
   "metadata": {},
   "outputs": [],
   "source": [
    "driver.get('https://www.cityofboston.gov/cityclerk/dbasearch/')"
   ]
  },
  {
   "cell_type": "code",
   "execution_count": 5,
   "metadata": {},
   "outputs": [],
   "source": [
    "li = driver.find_element_by_id('business_neighborhood')"
   ]
  },
  {
   "cell_type": "code",
   "execution_count": 9,
   "metadata": {},
   "outputs": [],
   "source": [
    "nbrs = []\n",
    "for i in li.find_elements_by_tag_name('option'):\n",
    "    nbrs.append(i.text)\n",
    "nbrs = nbrs[1:]"
   ]
  },
  {
   "cell_type": "code",
   "execution_count": 35,
   "metadata": {},
   "outputs": [],
   "source": [
    "keys_name = ['Hospital','Health','Medical','Clinic','Nursing','Physician']\n",
    "keys_type = ['Hospital','Health','Healthcare','Medical','Patient','Clinic','Nurse','Physician']\n",
    "out = []\n",
    "seen_files = []\n",
    "for i in keys_type:\n",
    "    time.sleep(1)\n",
    "    driver.get('https://www.cityofboston.gov/cityclerk/dbasearch/Default.aspx?type_of_business=' + i)\n",
    "    btn = driver.find_element_by_xpath('//input[@title=\"Next Page\"]')\n",
    "    while btn.get_attribute(\"onclick\") != \"return false;\":\n",
    "        tbl = driver.find_element_by_id('RadGrid1_ctl00__0')\n",
    "        rows = tbl.find_elements_by_tag_name('div')\n",
    "        for row in rows:\n",
    "            t = row.text.split('\\n')\n",
    "            out.append(t)\n",
    "            seen_files.append(t[1].split(': ')[1])\n",
    "        time.sleep(1)\n",
    "        btn.click()\n",
    "        btn = driver.find_element_by_xpath('//input[@title=\"Next Page\"]')\n",
    "for i in keys_name:\n",
    "    time.sleep(1)\n",
    "    driver.get('https://www.cityofboston.gov/cityclerk/dbasearch/Default.aspx?business_name=' + i)\n",
    "    btn = driver.find_element_by_xpath('//input[@title=\"Next Page\"]')\n",
    "    while btn.get_attribute(\"onclick\") != \"return false;\":\n",
    "        tbl = driver.find_element_by_id('RadGrid1_ctl00__0')\n",
    "        rows = tbl.find_elements_by_tag_name('div')\n",
    "        for row in rows:\n",
    "            t = row.text.split('\\n')\n",
    "#             try:\n",
    "#                 business_type = t[5].split(': ')[1]\n",
    "#             except:\n",
    "#                 business_type = \"\"\n",
    "#             try:\n",
    "#                 business_name = t[0].split(': ')[1]\n",
    "#             except:\n",
    "#                 business_name = \"\"\n",
    "#             for key in keys:\n",
    "#                 if key in business_type or key in business_name:\n",
    "            if t[1].split(': ')[1] not in seen_files:\n",
    "                out.append(t)\n",
    "        time.sleep(1)\n",
    "        btn.click()\n",
    "        btn = driver.find_element_by_xpath('//input[@title=\"Next Page\"]')"
   ]
  },
  {
   "cell_type": "code",
   "execution_count": 38,
   "metadata": {},
   "outputs": [
    {
     "name": "stdout",
     "output_type": "stream",
     "text": [
      "['Business Name: CuraHealth Boston', 'File Number: CC310528', 'Issue Date: 12/6/2016', 'Last Renewal Date:', 'Expiration Date: 12/6/2020', 'Type of Business: Hospital', 'Business Address: 1515 Commonwealth AVE Brighton MA 02135', 'Owner Name: Curahealth Boston, LLC', 'Owner Address: 650 Beebalm LN, Suite 220', 'Owner Email: ken.mcgee@curahealth.com', ' ']\n"
     ]
    }
   ],
   "source": [
    "import csv\n",
    "cs = open('boston_businesses.csv', 'w')\n",
    "writer = csv.writer(cs, delimiter=',')\n",
    "print(out[0])"
   ]
  },
  {
   "cell_type": "code",
   "execution_count": 39,
   "metadata": {},
   "outputs": [],
   "source": [
    "columns = []\n",
    "for i in out[0]:\n",
    "    columns.append(i.split(': ')[0])"
   ]
  },
  {
   "cell_type": "code",
   "execution_count": 42,
   "metadata": {},
   "outputs": [],
   "source": [
    "writer.writerow(columns)\n",
    "for i in out:\n",
    "    arr = []\n",
    "    for line in i:\n",
    "        try:\n",
    "            arr.append(line.split(': ')[1])\n",
    "        except:\n",
    "            arr.append('')\n",
    "    writer.writerow(arr)\n",
    "cs.close()"
   ]
  }
 ],
 "metadata": {
  "kernelspec": {
   "display_name": "Python 3",
   "language": "python",
   "name": "python3"
  },
  "language_info": {
   "codemirror_mode": {
    "name": "ipython",
    "version": 3
   },
   "file_extension": ".py",
   "mimetype": "text/x-python",
   "name": "python",
   "nbconvert_exporter": "python",
   "pygments_lexer": "ipython3",
   "version": "3.6.9"
  }
 },
 "nbformat": 4,
 "nbformat_minor": 4
}
