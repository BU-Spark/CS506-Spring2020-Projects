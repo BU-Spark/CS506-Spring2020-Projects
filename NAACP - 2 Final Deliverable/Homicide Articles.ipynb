{
 "cells": [
  {
   "cell_type": "code",
   "execution_count": 6,
   "metadata": {},
   "outputs": [],
   "source": [
    "import nltk\n",
    "from nltk.tokenize import RegexpTokenizer\n",
    "from nltk.corpus import stopwords\n",
    "import json\n",
    "import pandas as pd\n",
    "from nltk import word_tokenize\n",
    "import gensim \n",
    "from gensim.models import Word2Vec\n",
    "import re\n",
    "import csv\n",
    "import sys\n",
    "import json"
   ]
  },
  {
   "cell_type": "code",
   "execution_count": 2,
   "metadata": {},
   "outputs": [],
   "source": [
    "inputFile = open('bostonglobe2018_3.json', encoding=\"utf-8\") #open json file\n",
    "outputFile = open('bostonglobe2018_3.csv', 'w' , encoding=\"utf-8\") #load csv file\n",
    "data = json.load(inputFile) #load json content\n",
    "inputFile.close() #close the input file\n",
    "output = csv.writer(outputFile) #create a csv.write\n",
    "output.writerow(data[0].keys())  # header row\n",
    "for row in data:\n",
    "    output.writerow(row.values()) #values row"
   ]
  },
  {
   "cell_type": "code",
   "execution_count": 3,
   "metadata": {},
   "outputs": [],
   "source": [
    "data_df = pd.read_csv('bostonglobe2018_3.csv')  \n",
    "#data_df_x = pd.read_csv('bostonglobe2018_3.csv') "
   ]
  },
  {
   "cell_type": "code",
   "execution_count": 5,
   "metadata": {},
   "outputs": [],
   "source": [
    "def remove_stopwords(text):\n",
    "    words = [w for w in text if w not in stopwords.words('english')]\n",
    "    return words\n"
   ]
  },
  {
   "cell_type": "code",
   "execution_count": 4,
   "metadata": {},
   "outputs": [],
   "source": [
    "tokenizer = RegexpTokenizer(r'[a-zA-Z]+')\n",
    "data_df_1 = data_df['text'].apply(lambda x: tokenizer.tokenize(str(x).lower()))\n",
    "data_df_1 = data_df['text'].apply(lambda x: remove_stopwords(x)) # will take a lot of time. \n"
   ]
  },
  {
   "cell_type": "code",
   "execution_count": 14,
   "metadata": {},
   "outputs": [
    {
     "name": "stderr",
     "output_type": "stream",
     "text": [
      "C:\\Users\\shubh\\Anaconda3\\lib\\site-packages\\ipykernel_launcher.py:6: DeprecationWarning: Call to deprecated `most_similar` (Method will be removed in 4.0.0, use self.wv.most_similar() instead).\n",
      "  \n"
     ]
    }
   ],
   "source": [
    "###To find most similar words#####\n",
    "\n",
    "model = Word2Vec(data_df_1, min_count=1, size=50, workers=3, window=3, sg=1)\n",
    "word_H=['crime']\n",
    "for i in range(5):\n",
    "    word_H.append((model.most_similar('crime')[:5])[i][0])"
   ]
  },
  {
   "cell_type": "code",
   "execution_count": 15,
   "metadata": {},
   "outputs": [
    {
     "name": "stdout",
     "output_type": "stream",
     "text": [
      "['crime', 'violent', 'violence', 'crimes', 'corruption', 'robbery']\n"
     ]
    }
   ],
   "source": [
    "print(word_H)"
   ]
  },
  {
   "cell_type": "code",
   "execution_count": 16,
   "metadata": {},
   "outputs": [],
   "source": [
    "##Number of articles for most similar words##\n",
    "count_F = []\n",
    "count = 0\n",
    "for k in range(len(word_H)):\n",
    "    for i in range(len(data_df_1)):\n",
    "        flag = 1\n",
    "        for j in range(len(data_df_1[i])):\n",
    "            if data_df_1[i][j]==word_H[k] and flag ==1:\n",
    "                count = count+1\n",
    "                flag = 0\n",
    "    count_F.append(count) \n",
    "    count = 0"
   ]
  },
  {
   "cell_type": "code",
   "execution_count": 17,
   "metadata": {},
   "outputs": [
    {
     "name": "stdout",
     "output_type": "stream",
     "text": [
      "[1211, 621, 1210, 527, 219, 206]\n"
     ]
    }
   ],
   "source": [
    "print(count_F)"
   ]
  },
  {
   "cell_type": "code",
   "execution_count": 18,
   "metadata": {},
   "outputs": [],
   "source": [
    "##To find the subset of articles containing below words related to homicide. \n",
    "##Run this only after all the similar words are identified\n",
    "\n",
    "data_df_homi=[]\n",
    "for i in range(len(data_df_1)):\n",
    "    for j in range(len(data_df_1[i])):\n",
    "        if((len(re.findall(r'homicide|murder|crime|carjacking|burglary|slaying|rape|Manslaughter',\n",
    "                           data_df_1[i][j])))!=0):\n",
    "            data_df_homi.append(data_df_x['text'][i])\n",
    "            break\n",
    "        \n",
    "                \n",
    "        "
   ]
  },
  {
   "cell_type": "code",
   "execution_count": 19,
   "metadata": {},
   "outputs": [
    {
     "name": "stdout",
     "output_type": "stream",
     "text": [
      "2739\n"
     ]
    }
   ],
   "source": [
    "print(len(data_df_homi))"
   ]
  },
  {
   "cell_type": "code",
   "execution_count": 21,
   "metadata": {},
   "outputs": [],
   "source": [
    "resultFyle = open(\"output_2018_3.txt\",'w',encoding=\"utf-8\")\n",
    "\n",
    "for r in data_df_homi:\n",
    "    resultFyle.write(r + \"\\n\")\n",
    "resultFyle.close()"
   ]
  }
 ],
 "metadata": {
  "kernelspec": {
   "display_name": "Python 3",
   "language": "python",
   "name": "python3"
  },
  "language_info": {
   "codemirror_mode": {
    "name": "ipython",
    "version": 3
   },
   "file_extension": ".py",
   "mimetype": "text/x-python",
   "name": "python",
   "nbconvert_exporter": "python",
   "pygments_lexer": "ipython3",
   "version": "3.7.6"
  }
 },
 "nbformat": 4,
 "nbformat_minor": 4
}
