{
 "cells": [
  {
   "cell_type": "code",
   "execution_count": 1,
   "metadata": {},
   "outputs": [],
   "source": [
    "import pandas as pd\n",
    "import numpy as np"
   ]
  },
  {
   "cell_type": "markdown",
   "metadata": {},
   "source": [
    "Initial Cleaning where columns contain unnecessary information are dropped."
   ]
  },
  {
   "cell_type": "code",
   "execution_count": 2,
   "metadata": {},
   "outputs": [
    {
     "name": "stdout",
     "output_type": "stream",
     "text": [
      "(19178, 9)\n"
     ]
    }
   ],
   "source": [
    "data = pd.read_csv(\"Haverhill.csv\")\n",
    "\n",
    "data = data.drop(['Master_Request','Has_Links','Status',\n",
    "                  'Status_Code','Work_Order_Created','Request_Type_Private',\n",
    "                 'Request_Type_Info','Department_ID','District','Escalations',\n",
    "                 'Origin_ID','Origin','Cross_Street_ID','District_ID','Cross_Street',\n",
    "                 'Address_Number','City_ID','City','Priority','Polling_Station_Name',\n",
    "                 'Ward','Street','Address','Last_Action',\n",
    "                 'Last_Change','Close_Date','Complete_Address'], axis = 1)\n",
    "print(data.shape)"
   ]
  },
  {
   "cell_type": "markdown",
   "metadata": {},
   "source": [
    "Now we focus on Departments that take care of issues by dropping all NaN entries"
   ]
  },
  {
   "cell_type": "code",
   "execution_count": 3,
   "metadata": {},
   "outputs": [
    {
     "name": "stdout",
     "output_type": "stream",
     "text": [
      "['311 Call Center' 'Animal control' 'City Clerk' 'Fire' 'Fire & Police'\n",
      " 'Highway' 'Inspectional Services' 'Mayor' 'Planning' 'Police'\n",
      " 'Stormwater/Sewer' 'Treasurer' 'Water' 'Water Billing'\n",
      " 'Water/Wastewater Department']\n"
     ]
    }
   ],
   "source": [
    "department = data[data['Department'].notna()]\n",
    "department = department.sort_values(by = 'Department')\n",
    "print(department.Department.unique())"
   ]
  },
  {
   "cell_type": "code",
   "execution_count": 46,
   "metadata": {},
   "outputs": [],
   "source": [
    "department.to_csv(\"department.csv\",index = False)"
   ]
  },
  {
   "cell_type": "code",
   "execution_count": 53,
   "metadata": {},
   "outputs": [],
   "source": [
    "call_center = department[department['Department'] == '311 Call Center']\n",
    "call_center.reset_index()\n",
    "call_center.to_csv(\"311_call_center.csv\",index = False)"
   ]
  },
  {
   "cell_type": "code",
   "execution_count": 54,
   "metadata": {},
   "outputs": [],
   "source": [
    "ac = department[department['Department'] == 'Animal control']\n",
    "ac.reset_index()\n",
    "ac.to_csv(\"animal_control.csv\",index = False)"
   ]
  },
  {
   "cell_type": "code",
   "execution_count": 55,
   "metadata": {},
   "outputs": [],
   "source": [
    "cc = department[department['Department'] == 'City Clerk']\n",
    "cc.reset_index()\n",
    "cc.to_csv(\"city_clerk.csv\",index = False)"
   ]
  },
  {
   "cell_type": "code",
   "execution_count": 56,
   "metadata": {},
   "outputs": [],
   "source": [
    "f = department[department['Department'] == 'Fire']\n",
    "f.reset_index()\n",
    "f.to_csv(\"fire.csv\",index = False)"
   ]
  },
  {
   "cell_type": "code",
   "execution_count": 57,
   "metadata": {},
   "outputs": [],
   "source": [
    "fp = department[department['Department'] == 'Fire & Police']\n",
    "fp.reset_index()\n",
    "fp.to_csv(\"fire_police.csv\",index = False)"
   ]
  },
  {
   "cell_type": "code",
   "execution_count": 58,
   "metadata": {},
   "outputs": [],
   "source": [
    "hw = department[department['Department'] == 'Highway']\n",
    "hw.reset_index()\n",
    "hw.to_csv(\"highway.csv\",index = False)"
   ]
  },
  {
   "cell_type": "code",
   "execution_count": 59,
   "metadata": {},
   "outputs": [],
   "source": [
    "ins = department[department['Department'] == 'Inspectional Services']\n",
    "ins.reset_index()\n",
    "ins.to_csv(\"inspectional_services.csv\",index = False)"
   ]
  },
  {
   "cell_type": "code",
   "execution_count": 60,
   "metadata": {},
   "outputs": [],
   "source": [
    "m = department[department['Department'] == 'Mayor']\n",
    "m.reset_index()\n",
    "m.to_csv(\"mayor.csv\",index = False)"
   ]
  },
  {
   "cell_type": "code",
   "execution_count": 61,
   "metadata": {},
   "outputs": [],
   "source": [
    "p = department[department['Department'] == 'Planning']\n",
    "p.reset_index()\n",
    "p.to_csv(\"planning.csv\",index = False)"
   ]
  },
  {
   "cell_type": "code",
   "execution_count": 62,
   "metadata": {},
   "outputs": [],
   "source": [
    "po = department[department['Department'] == 'Police']\n",
    "po.reset_index()\n",
    "po.to_csv(\"police.csv\",index = False)"
   ]
  },
  {
   "cell_type": "code",
   "execution_count": 64,
   "metadata": {},
   "outputs": [],
   "source": [
    "ss = department[department['Department'] == 'Stormwater/Sewer']\n",
    "ss.reset_index()\n",
    "ss.to_csv(\"stormwater_sewer.csv\",index = False)"
   ]
  },
  {
   "cell_type": "code",
   "execution_count": 65,
   "metadata": {},
   "outputs": [],
   "source": [
    "t = department[department['Department'] == 'Treasurer']\n",
    "t.reset_index()\n",
    "t.to_csv(\"treasurer.csv\",index = False)"
   ]
  },
  {
   "cell_type": "code",
   "execution_count": 66,
   "metadata": {},
   "outputs": [],
   "source": [
    "ac = department[department['Department'] == 'Water']\n",
    "ac.reset_index()\n",
    "ac.to_csv(\"water.csv\",index = False)"
   ]
  },
  {
   "cell_type": "code",
   "execution_count": 67,
   "metadata": {},
   "outputs": [],
   "source": [
    "ac = department[department['Department'] == 'Water Billing']\n",
    "ac.reset_index()\n",
    "ac.to_csv(\"water_billing.csv\",index = False)"
   ]
  },
  {
   "cell_type": "code",
   "execution_count": 68,
   "metadata": {},
   "outputs": [],
   "source": [
    "ac = department[department['Department'] == 'Water/Wastewater Department']\n",
    "ac.reset_index()\n",
    "ac.to_csv(\"water_wastewater.csv\",index = False)"
   ]
  },
  {
   "cell_type": "code",
   "execution_count": 5,
   "metadata": {},
   "outputs": [
    {
     "data": {
      "text/html": [
       "<div>\n",
       "<style scoped>\n",
       "    .dataframe tbody tr th:only-of-type {\n",
       "        vertical-align: middle;\n",
       "    }\n",
       "\n",
       "    .dataframe tbody tr th {\n",
       "        vertical-align: top;\n",
       "    }\n",
       "\n",
       "    .dataframe thead th {\n",
       "        text-align: right;\n",
       "    }\n",
       "</style>\n",
       "<table border=\"1\" class=\"dataframe\">\n",
       "  <thead>\n",
       "    <tr style=\"text-align: right;\">\n",
       "      <th></th>\n",
       "      <th>Request_ID</th>\n",
       "      <th>Create_Date</th>\n",
       "      <th>Request_Type_ID</th>\n",
       "      <th>Request_Type</th>\n",
       "      <th>Department</th>\n",
       "      <th>Street_ID</th>\n",
       "      <th>Longitude</th>\n",
       "      <th>Latitude</th>\n",
       "      <th>Ward_Precinct</th>\n",
       "    </tr>\n",
       "  </thead>\n",
       "  <tbody>\n",
       "    <tr>\n",
       "      <th>13754</th>\n",
       "      <td>64070</td>\n",
       "      <td>4/4/19 12:56</td>\n",
       "      <td>310</td>\n",
       "      <td>LAZ - Downtown Parking Issue</td>\n",
       "      <td>311 Call Center</td>\n",
       "      <td>1132</td>\n",
       "      <td>-71.079045</td>\n",
       "      <td>42.774499</td>\n",
       "      <td>3_1</td>\n",
       "    </tr>\n",
       "    <tr>\n",
       "      <th>16731</th>\n",
       "      <td>77191</td>\n",
       "      <td>9/20/19 21:46</td>\n",
       "      <td>71825</td>\n",
       "      <td>Utilities Other</td>\n",
       "      <td>311 Call Center</td>\n",
       "      <td>872</td>\n",
       "      <td>-71.148356</td>\n",
       "      <td>42.781949</td>\n",
       "      <td>5_2</td>\n",
       "    </tr>\n",
       "    <tr>\n",
       "      <th>3979</th>\n",
       "      <td>21359</td>\n",
       "      <td>10/30/17 13:34</td>\n",
       "      <td>311</td>\n",
       "      <td>Parking Meter Malfunction</td>\n",
       "      <td>311 Call Center</td>\n",
       "      <td>1035</td>\n",
       "      <td>-71.082849</td>\n",
       "      <td>42.773652</td>\n",
       "      <td>1_2</td>\n",
       "    </tr>\n",
       "    <tr>\n",
       "      <th>5756</th>\n",
       "      <td>27735</td>\n",
       "      <td>2/5/18 14:21</td>\n",
       "      <td>1980</td>\n",
       "      <td>Train Idling Compaint</td>\n",
       "      <td>311 Call Center</td>\n",
       "      <td>851</td>\n",
       "      <td>-71.075890</td>\n",
       "      <td>42.769535</td>\n",
       "      <td>2_1</td>\n",
       "    </tr>\n",
       "    <tr>\n",
       "      <th>3920</th>\n",
       "      <td>21212</td>\n",
       "      <td>10/26/17 18:47</td>\n",
       "      <td>310</td>\n",
       "      <td>LAZ - Downtown Parking Issue</td>\n",
       "      <td>311 Call Center</td>\n",
       "      <td>1036</td>\n",
       "      <td>-71.094576</td>\n",
       "      <td>42.770090</td>\n",
       "      <td>2_3</td>\n",
       "    </tr>\n",
       "  </tbody>\n",
       "</table>\n",
       "</div>"
      ],
      "text/plain": [
       "       Request_ID     Create_Date  Request_Type_ID  \\\n",
       "13754       64070    4/4/19 12:56              310   \n",
       "16731       77191   9/20/19 21:46            71825   \n",
       "3979        21359  10/30/17 13:34              311   \n",
       "5756        27735    2/5/18 14:21             1980   \n",
       "3920        21212  10/26/17 18:47              310   \n",
       "\n",
       "                       Request_Type       Department  Street_ID  Longitude  \\\n",
       "13754  LAZ - Downtown Parking Issue  311 Call Center       1132 -71.079045   \n",
       "16731               Utilities Other  311 Call Center        872 -71.148356   \n",
       "3979      Parking Meter Malfunction  311 Call Center       1035 -71.082849   \n",
       "5756          Train Idling Compaint  311 Call Center        851 -71.075890   \n",
       "3920   LAZ - Downtown Parking Issue  311 Call Center       1036 -71.094576   \n",
       "\n",
       "        Latitude Ward_Precinct  \n",
       "13754  42.774499           3_1  \n",
       "16731  42.781949           5_2  \n",
       "3979   42.773652           1_2  \n",
       "5756   42.769535           2_1  \n",
       "3920   42.770090           2_3  "
      ]
     },
     "execution_count": 5,
     "metadata": {},
     "output_type": "execute_result"
    }
   ],
   "source": [
    "department.head()"
   ]
  },
  {
   "cell_type": "code",
   "execution_count": 26,
   "metadata": {},
   "outputs": [
    {
     "data": {
      "text/plain": [
       "['Abandoned Vehicles',\n",
       " 'Accumulation of Litter/Garbage',\n",
       " 'Barking Dog',\n",
       " 'City Clerk',\n",
       " 'Community Development',\n",
       " 'Compost Center',\n",
       " 'Construction Issues - Street Closings',\n",
       " 'Dead Animal on Street',\n",
       " 'Dog License',\n",
       " 'Downed Electric Power Lines',\n",
       " 'Economic Development & Planning',\n",
       " 'Engineering - Drainage Problem',\n",
       " 'Engineering - Flooding',\n",
       " 'Excessive Noise/Disturbances',\n",
       " 'Failure to Display Permit/License',\n",
       " 'Fire Hydrant Issue',\n",
       " 'Graffiti - City Property',\n",
       " 'Graffiti - Private Property',\n",
       " 'HTA/contract question',\n",
       " 'Handicapped Parking Sign Request',\n",
       " 'Health & Inspections',\n",
       " 'Highway & Parks',\n",
       " 'Highway - Apron/Curb Repair',\n",
       " 'Highway - Bee Issue',\n",
       " 'Highway - Catch Basin Repair',\n",
       " 'Highway - City-Owned Parking Lot Appearance',\n",
       " 'Highway - Crosswalk',\n",
       " 'Highway - Culvert',\n",
       " 'Highway - Fence Issues',\n",
       " 'Highway - Line Painting',\n",
       " 'Highway - Manhole Repair',\n",
       " 'Highway - Overgrown grass/weeds',\n",
       " 'Highway - Park & Vacant Lot Maintenance',\n",
       " 'Highway - Pothole',\n",
       " 'Highway - Sidewalk Issues',\n",
       " 'Highway - Sidewalk Request',\n",
       " 'Highway - Sign Removal',\n",
       " 'Highway - Street Cleaning/Sweeping',\n",
       " 'Highway - Street Flooding',\n",
       " 'Highway - Street Paving Request',\n",
       " 'Highway - Street issues',\n",
       " 'Highway - Trench',\n",
       " 'Highway - trash/debris pickup',\n",
       " 'Illegal Out-of-State License',\n",
       " 'Illegal Parking',\n",
       " 'Illegal Posting',\n",
       " 'Illegal Work/No Visible Building Permit',\n",
       " 'LAZ - Downtown Parking Issue',\n",
       " 'LEAF missed pick up',\n",
       " 'Litter Problems',\n",
       " \"Mayor's Office\",\n",
       " 'Motorcycle Noise',\n",
       " 'New Construction Request',\n",
       " 'New Toter Request',\n",
       " 'No Electricity',\n",
       " 'Noise/Disturbance',\n",
       " 'Odor Complaint',\n",
       " 'Odor Issues',\n",
       " 'Other: Inspection Requested',\n",
       " 'Overgrown Grass/Weeds',\n",
       " 'Parking Meter Malfunction',\n",
       " 'Parking Ticket Issue',\n",
       " 'Parks & Recreation',\n",
       " 'Pet Cruelty',\n",
       " 'Police Department',\n",
       " 'Pool Issues',\n",
       " 'Poor Property Maintenance',\n",
       " 'Public Works Department',\n",
       " 'Public property',\n",
       " 'Questions',\n",
       " 'RECYCLING - Missed Pick Up',\n",
       " 'Residence',\n",
       " 'Resident Feedback',\n",
       " 'Rodents',\n",
       " 'Snow Removal Issues - Hydrant Issue',\n",
       " 'Snow Removal Issues - Ice buildup',\n",
       " 'Snow Removal Issues - Mailbox Damage',\n",
       " 'Snow Removal Issues - Private Property Damage',\n",
       " 'Snow Removal Issues - Replow Request',\n",
       " 'Snow Removal Issues - Sanding Request',\n",
       " 'Snow Removal Issues - Sidewalk Snow Removal',\n",
       " 'Snow Removal Issues - Snow Bank Removal',\n",
       " 'Snow Removal Issues - Street Unplowed',\n",
       " 'Snow Removal Issues - Vehicle Damage',\n",
       " 'Snow Removal Miscellaneous',\n",
       " 'State Road Issue',\n",
       " 'Stormwater/Sewer - Catch Basin Cleaning',\n",
       " 'Stormwater/Sewer - Culvert',\n",
       " 'Stormwater/Sewer - Manhole issue',\n",
       " 'Stormwater/Sewer - Sewer Problem',\n",
       " 'Stray Animal',\n",
       " 'Street Sign Issues - Stop Sign Missing/Damaged',\n",
       " 'Street Sign Issues - Street Signs Missing/Damaged',\n",
       " 'TRASH - Missed Pick Up',\n",
       " 'Tenant/Landlord Problems',\n",
       " 'Toter Issues',\n",
       " 'Traffic Light Camera',\n",
       " 'Traffic/Street Lights - School crosswalk light',\n",
       " 'Traffic/Street Lights - Street Light Repair',\n",
       " 'Traffic/Street Lights - Street Light Repair - National Grid-Owned',\n",
       " 'Traffic/Street Lights - Street Light Request',\n",
       " 'Traffic/Street Lights - Street Light Request - National Grid-Owned',\n",
       " 'Traffic/Street Lights - Street light/pole request',\n",
       " 'Traffic/Street Lights - Traffic Light Not Working',\n",
       " 'Train Idling Compaint',\n",
       " 'Trash - Bag Request',\n",
       " 'Trash - Barrel Overflow',\n",
       " 'Trash - Enforcement',\n",
       " 'Trash - Illegal Dumping',\n",
       " 'Trash Cart Management',\n",
       " 'Treasurer/Tax Collector',\n",
       " 'Tree Issues - City Owned Tree Issue',\n",
       " 'Tree Issues - Private Tree Issue',\n",
       " 'Tree Issues - Tree Fallen Across Road',\n",
       " 'Tree Issues - Tree Pruning/Trimming',\n",
       " 'Tree Issues - Tree Removal',\n",
       " 'Tree Issues - Tree Replacement',\n",
       " 'Unsafe Structures',\n",
       " 'Utilities Other',\n",
       " 'Vacant Building',\n",
       " 'Voicemails',\n",
       " 'Water - Discolored Water',\n",
       " 'Water - Hydrant Issue',\n",
       " 'Water - Leak',\n",
       " 'Water - No Water',\n",
       " 'Water - Pressure Problem',\n",
       " 'Water - Quality Problem',\n",
       " 'Water - Valve Problem',\n",
       " 'Water - Watergate Valve',\n",
       " 'Water Billing',\n",
       " 'Water/Wastewater',\n",
       " 'Wildlife',\n",
       " 'Wire Issues',\n",
       " 'XMAS TREE - Missed pick up',\n",
       " 'Zoning']"
      ]
     },
     "execution_count": 26,
     "metadata": {},
     "output_type": "execute_result"
    }
   ],
   "source": [
    "l = list(department.Request_Type.unique())\n",
    "\n",
    "l.sort()\n",
    "l"
   ]
  },
  {
   "cell_type": "code",
   "execution_count": 33,
   "metadata": {},
   "outputs": [],
   "source": [
    "t = department[department['Request_Type'] == 'Trash - Bag Request']\n",
    "t = t.append(department[department['Request_Type'] == 'Trash - Barrel Overflow'])\n",
    "t = t.append(department[department['Request_Type'] == 'Trash - Enforcement'])\n",
    "t = t.append(department[department['Request_Type'] == 'Trash - Illegal Dumping'])\n",
    "t = t.append(department[department['Request_Type'] == 'Trash Cart Management'])\n",
    "t.reset_index()\n",
    "t.to_csv(\"trash.csv\",index = False)"
   ]
  },
  {
   "cell_type": "code",
   "execution_count": null,
   "metadata": {},
   "outputs": [],
   "source": []
  }
 ],
 "metadata": {
  "kernelspec": {
   "display_name": "Python 3",
   "language": "python",
   "name": "python3"
  },
  "language_info": {
   "codemirror_mode": {
    "name": "ipython",
    "version": 3
   },
   "file_extension": ".py",
   "mimetype": "text/x-python",
   "name": "python",
   "nbconvert_exporter": "python",
   "pygments_lexer": "ipython3",
   "version": "3.7.3"
  }
 },
 "nbformat": 4,
 "nbformat_minor": 2
}
