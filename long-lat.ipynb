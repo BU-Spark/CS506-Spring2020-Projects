{
 "cells": [
  {
   "cell_type": "code",
   "execution_count": 6,
   "metadata": {},
   "outputs": [],
   "source": [
    "import pandas as pd\n",
    "import numpy as np\n",
    "from pyproj import CRS, Transformer"
   ]
  },
  {
   "cell_type": "code",
   "execution_count": 2,
   "metadata": {},
   "outputs": [],
   "source": [
    "accepted_codes = ['910','911','912','913','914','915','916','917','918','919','920','921','922', \\\n",
    "                  '923','924','925','926','927','928','929','970','971','972','973','974','975']\n",
    "\n",
    "def filter_luc(dataframe):\n",
    "    \"\"\"filters by land use codes affiliated with MA state agencies\n",
    "    \"\"\"\n",
    "    return dataframe[dataframe['luc_1'].isin(accepted_codes) | \\\n",
    "            dataframe['luc_2'].isin(accepted_codes) | \\\n",
    "            dataframe['luc_adj_1'].isin(accepted_codes)| \\\n",
    "            dataframe['luc_adj_2'].isin(accepted_codes)]\n",
    "\n",
    "def filter_poly_typ(dataframe):\n",
    "    # filter out data only with poly_typ equal to FEE or TAX, returns pandas dataframe\n",
    "    accepted_codes = ['FEE', 'TAX']\n",
    "    return dataframe[dataframe['poly_typ'].isin(accepted_codes)]\n",
    "\n",
    "def filter_bldg(dataframe):\n",
    "    '''\n",
    "    Filter on related columns that indicate whether building(s) are present on the land parcel.\n",
    "    Removes rows that correspond to land parcels that do not contain buildings.\n",
    "    Ziba specified: \n",
    "        bldg_value - for condos, generally includes land value\n",
    "        bldg_area - may include garages, stairwells, basements, and other uninhabitable areas.\n",
    "        bldgv_psf - building value $ per sq foot\n",
    "    Additional: \n",
    "        sqm_bldg - parcel area estimated to be covered by a building (sq meters)\n",
    "        pct_bldg - % parcel area estimated to be covered by a building \n",
    "    '''\n",
    "    \n",
    "    return dataframe.query('bldg_value > 0 | \\\n",
    "                           bldg_area > 0 | \\\n",
    "                           bldgv_psf > 0 | \\\n",
    "                           sqm_bldg > 0 | \\\n",
    "                           pct_bldg > 0')"
   ]
  },
  {
   "cell_type": "code",
   "execution_count": 4,
   "metadata": {},
   "outputs": [
    {
     "name": "stderr",
     "output_type": "stream",
     "text": [
      "C:\\Users\\xsmil\\Anaconda3\\lib\\site-packages\\IPython\\core\\interactiveshell.py:3063: DtypeWarning: Columns (6,14,17,18,34) have mixed types.Specify dtype option on import or set low_memory=False.\n",
      "  interactivity=interactivity, compiler=compiler, result=result)\n"
     ]
    }
   ],
   "source": [
    "df = pd.read_csv('../data/land_parcel/mapc.ma_parcels_metrofuture.csv', \\\n",
    "                 dtype={'addr_zip': np.string_}) # zip codes need to be imported as string in order to retain leading 0\n",
    "\n",
    "land_parcel_df = filter_luc(df)\n",
    "land_parcel_df = filter_poly_typ(land_parcel_df)\n",
    "\n",
    "# need to reset indices to account for removal of rows from filtering\n",
    "land_parcel_df = land_parcel_df.reset_index()"
   ]
  },
  {
   "cell_type": "code",
   "execution_count": 8,
   "metadata": {},
   "outputs": [],
   "source": [
    "# add columns to store longitude and latitude coordinates\n",
    "land_parcel_df['longitude'] = np.nan\n",
    "land_parcel_df['latitude'] = np.nan"
   ]
  },
  {
   "cell_type": "code",
   "execution_count": 10,
   "metadata": {},
   "outputs": [],
   "source": [
    "# convert parloc_id column to longitude, latitude coordinates\n",
    "crs_4326 = CRS.from_epsg(4326) # target spatial reference to transform to\n",
    "crs_26986 = CRS.from_epsg(26986) # for coordinates in meters\n",
    "crs_3586 = CRS.from_epsg(3586) # for coordinates in feet\n",
    "\n",
    "transformer_meters = Transformer.from_crs(crs_26986, crs_4326, always_xy=True)\n",
    "transformer_feet = Transformer.from_crs(crs_3586, crs_4326, always_xy=True)"
   ]
  },
  {
   "cell_type": "code",
   "execution_count": 23,
   "metadata": {},
   "outputs": [],
   "source": [
    "for i in range(len(land_parcel_df)):\n",
    "    # make sure there are no whitespaces\n",
    "    parloc_id = str(land_parcel_df.at[i, 'parloc_id']).replace(\" \", \"\")\n",
    "    land_parcel_df.at[i, 'parloc_id'] = parloc_id\n",
    "    \n",
    "    if (parloc_id.startswith('F')):\n",
    "        end_x_idx = parloc_id.find('_', 2)\n",
    "        x = parloc_id[2:end_x_idx]\n",
    "        y = parloc_id[end_x_idx+1:]\n",
    "        longitude, latitude = transformer_feet.transform(x, y)\n",
    "        land_parcel_df.at[i, 'longitude'] = longitude\n",
    "        land_parcel_df.at[i, 'latitude'] = latitude\n",
    "    elif (parloc_id.startswith('M')):\n",
    "        end_x_idx = parloc_id.find('_', 2)\n",
    "        x = parloc_id[2:end_x_idx]\n",
    "        y = parloc_id[end_x_idx+1:]\n",
    "        longitude, latitude = transformer_meters.transform(x, y)\n",
    "        land_parcel_df.at[i, 'longitude'] = longitude\n",
    "        land_parcel_df.at[i, 'latitude'] = latitude\n",
    "    else:\n",
    "        print('At index ', i, ' parloc_id does not start with M_ or F_')"
   ]
  },
  {
   "cell_type": "code",
   "execution_count": 26,
   "metadata": {},
   "outputs": [
    {
     "data": {
      "text/plain": [
       "0       42.126657\n",
       "1       42.125234\n",
       "2       42.125878\n",
       "3       42.117266\n",
       "4       42.115685\n",
       "          ...    \n",
       "7714    42.686681\n",
       "7715    42.686224\n",
       "7716    42.655239\n",
       "7717    42.628150\n",
       "7718    42.690427\n",
       "Name: latitude, Length: 7719, dtype: float64"
      ]
     },
     "execution_count": 26,
     "metadata": {},
     "output_type": "execute_result"
    }
   ],
   "source": [
    "land_parcel_df.loc[land_parcel_df['latitude'].notna(), 'latitude']"
   ]
  },
  {
   "cell_type": "code",
   "execution_count": 29,
   "metadata": {},
   "outputs": [],
   "source": [
    "land_parcel_df.to_csv('./State-Surplus-TeamTaylor/data/state_land_plus_long_lat.csv',index=False)"
   ]
  }
 ],
 "metadata": {
  "kernelspec": {
   "display_name": "Python 3",
   "language": "python",
   "name": "python3"
  },
  "language_info": {
   "codemirror_mode": {
    "name": "ipython",
    "version": 3
   },
   "file_extension": ".py",
   "mimetype": "text/x-python",
   "name": "python",
   "nbconvert_exporter": "python",
   "pygments_lexer": "ipython3",
   "version": "3.7.4"
  }
 },
 "nbformat": 4,
 "nbformat_minor": 4
}
