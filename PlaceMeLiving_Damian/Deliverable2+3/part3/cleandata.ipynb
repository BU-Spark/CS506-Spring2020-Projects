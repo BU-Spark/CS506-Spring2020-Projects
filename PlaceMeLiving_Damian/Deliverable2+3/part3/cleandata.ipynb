{
 "cells": [
  {
   "cell_type": "code",
   "execution_count": 7,
   "metadata": {},
   "outputs": [
    {
     "name": "stdout",
     "output_type": "stream",
     "text": [
      "(12708071, 19)\n"
     ]
    }
   ],
   "source": [
    "import numpy as np\n",
    "import pandas as pd\n",
    "import math\n",
    "import re\n",
    "\n",
    "\n",
    "data = pd.read_csv(\"data.csv\")\n",
    "print(data.shape)\n",
    "\n"
   ]
  },
  {
   "cell_type": "code",
   "execution_count": 8,
   "metadata": {},
   "outputs": [
    {
     "name": "stdout",
     "output_type": "stream",
     "text": [
      "['YEAR' 'STATEFIP' 'CITY' 'CNTRY' 'RENT' 'RENTGRS' 'VACANCY' 'FAMSIZE'\n",
      " 'SEX' 'AGE' 'SCHOOL' 'EDUC' 'EDUCD' 'GRADEATT' 'GRADEATTD' 'EMPSTAT'\n",
      " 'EMPSTATD' 'INCTOT' 'FTOTINC']\n"
     ]
    }
   ],
   "source": [
    "#choose massachusett\n",
    "#choose data with rent\n",
    "print(data.columns.values)\n",
    "data = data[data[\"STATEFIP\"]==25]\n",
    "data = data[data[\"RENT\"]>0]\n"
   ]
  },
  {
   "cell_type": "code",
   "execution_count": 9,
   "metadata": {},
   "outputs": [
    {
     "name": "stdout",
     "output_type": "stream",
     "text": [
      "(22673, 19)\n"
     ]
    }
   ],
   "source": [
    "data = data[data[\"CITY\"]>0]\n",
    "data = data[data[\"FTOTINC\"]>0]\n",
    "print(data.shape)\n",
    "data.to_csv(\"dataMA2.csv\")"
   ]
  },
  {
   "cell_type": "code",
   "execution_count": 11,
   "metadata": {},
   "outputs": [
    {
     "name": "stdout",
     "output_type": "stream",
     "text": [
      "(13606, 19)\n"
     ]
    }
   ],
   "source": [
    "#data = data[data[\"CITY\"]<1000]\n",
    "data = data[data[\"AGE\"]>18]\n",
    "print(data.shape)\n",
    "data.to_csv(\"dataMA3.csv\")"
   ]
  },
  {
   "cell_type": "code",
   "execution_count": 12,
   "metadata": {},
   "outputs": [
    {
     "name": "stdout",
     "output_type": "stream",
     "text": [
      "(13457, 19)\n"
     ]
    }
   ],
   "source": [
    "data = data[data[\"FTOTINC\"]>1000]\n",
    "print(data.shape)\n",
    "data.to_csv(\"dataMA4.csv\")"
   ]
  },
  {
   "cell_type": "code",
   "execution_count": 13,
   "metadata": {},
   "outputs": [
    {
     "name": "stdout",
     "output_type": "stream",
     "text": [
      "(6193, 19)\n"
     ]
    }
   ],
   "source": [
    "data = data[data[\"FAMSIZE\"]==1]\n",
    "print(data.shape)\n",
    "data.to_csv(\"dataMA1family.csv\")"
   ]
  },
  {
   "cell_type": "code",
   "execution_count": null,
   "metadata": {},
   "outputs": [],
   "source": []
  }
 ],
 "metadata": {
  "kernelspec": {
   "display_name": "Python 3",
   "language": "python",
   "name": "python3"
  },
  "language_info": {
   "codemirror_mode": {
    "name": "ipython",
    "version": 3
   },
   "file_extension": ".py",
   "mimetype": "text/x-python",
   "name": "python",
   "nbconvert_exporter": "python",
   "pygments_lexer": "ipython3",
   "version": "3.7.6"
  }
 },
 "nbformat": 4,
 "nbformat_minor": 4
}
