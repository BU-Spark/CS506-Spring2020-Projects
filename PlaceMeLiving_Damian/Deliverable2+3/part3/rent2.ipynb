{
 "cells": [
  {
   "cell_type": "code",
   "execution_count": 1,
   "metadata": {},
   "outputs": [
    {
     "name": "stdout",
     "output_type": "stream",
     "text": [
      "(13844, 29)\n",
      "['Unnamed: 0' 'YEAR' 'STATEFIP' 'CITY' 'CNTRY' 'MORTGAGE' 'RENT' 'RENTGRS'\n",
      " 'VACANCY' 'KITCHEN' 'FRIDGE' 'PHONE' 'CINETHH' 'FAMSIZE' 'SEX' 'AGE'\n",
      " 'MARST' 'RACE' 'RACED' 'CITIZEN' 'SCHOOL' 'EDUC' 'EDUCD' 'GRADEATT'\n",
      " 'GRADEATTD' 'EMPSTAT' 'EMPSTATD' 'INCTOT' 'FTOTINC']\n",
      "(13844,)\n",
      "0    1\n",
      "1    1\n",
      "2    0\n",
      "3    0\n",
      "4    0\n",
      "Name: RENT, dtype: int64\n",
      "(13844, 17)\n",
      "   CITY  SEX  AGE  SCHOOL  GRADEATT  FAMSIZE  EDUC  EMPSTAT  INCTOT  MORTGAGE  \\\n",
      "0     0    1   32       1         0        2    11        1   86000         0   \n",
      "1     0    2   31       1         0        2    11        1   95000         0   \n",
      "2     0    1   31       1         0        1     6        1   55000         0   \n",
      "3     0    1   38       1         0        1     2        1   13200         0   \n",
      "4  6670    2   31       1         0        6     5        3       0         0   \n",
      "\n",
      "   KITCHEN  FRIDGE  FTOTINC  MARST  RACE  PHONE  CINETHH  \n",
      "0        4       2   181000      1     4      2        1  \n",
      "1        4       2   181000      1     4      2        1  \n",
      "2        4       2    55000      6     1      2        1  \n",
      "3        4       2    13200      3     1      2        1  \n",
      "4        4       2    20500      1     7      2        1  \n"
     ]
    },
    {
     "name": "stderr",
     "output_type": "stream",
     "text": [
      "F:\\anaconda\\lib\\site-packages\\ipykernel_launcher.py:46: SettingWithCopyWarning: \n",
      "A value is trying to be set on a copy of a slice from a DataFrame.\n",
      "Try using .loc[row_indexer,col_indexer] = value instead\n",
      "\n",
      "See the caveats in the documentation: https://pandas.pydata.org/pandas-docs/stable/user_guide/indexing.html#returning-a-view-versus-a-copy\n",
      "F:\\anaconda\\lib\\site-packages\\ipykernel_launcher.py:47: SettingWithCopyWarning: \n",
      "A value is trying to be set on a copy of a slice from a DataFrame.\n",
      "Try using .loc[row_indexer,col_indexer] = value instead\n",
      "\n",
      "See the caveats in the documentation: https://pandas.pydata.org/pandas-docs/stable/user_guide/indexing.html#returning-a-view-versus-a-copy\n",
      "F:\\anaconda\\lib\\site-packages\\ipykernel_launcher.py:48: SettingWithCopyWarning: \n",
      "A value is trying to be set on a copy of a slice from a DataFrame.\n",
      "Try using .loc[row_indexer,col_indexer] = value instead\n",
      "\n",
      "See the caveats in the documentation: https://pandas.pydata.org/pandas-docs/stable/user_guide/indexing.html#returning-a-view-versus-a-copy\n"
     ]
    }
   ],
   "source": [
    "import numpy as np\n",
    "import pandas as pd\n",
    "import math\n",
    "\n",
    "\n",
    "data = pd.read_csv(\"dataMA6.csv\")\n",
    "print(data.shape)\n",
    "print(data.columns.values)\n",
    "\n",
    "\"\"\"\n",
    "data[\"RENT\"] = np.where(data[\"RENT\"].between(0,500), 0, data[\"RENT\"])\n",
    "data[\"RENT\"] = np.where(data[\"RENT\"].between(500,1000), 1, data[\"RENT\"])\n",
    "data[\"RENT\"] = np.where(data[\"RENT\"].between(1000,1500), 2, data[\"RENT\"])\n",
    "data[\"RENT\"] = np.where(data[\"RENT\"].between(1500,2000), 3, data[\"RENT\"])\n",
    "data[\"RENT\"] = np.where(data[\"RENT\"].between(2000,2500), 4, data[\"RENT\"])\n",
    "data[\"RENT\"] = np.where(data[\"RENT\"].between(2500,3000), 5, data[\"RENT\"])\n",
    "data[\"RENT\"] = np.where(data[\"RENT\"].between(3000,3500), 6, data[\"RENT\"])\n",
    "data[\"RENT\"] = np.where(data[\"RENT\"]>3500, 7, data[\"RENT\"])\n",
    "y=data[\"RENT\"]\n",
    "\"\"\"\n",
    "data[\"RENT\"] = np.where(data[\"RENT\"].between(0,1300), 0, data[\"RENT\"])\n",
    "data[\"RENT\"] = np.where(data[\"RENT\"].between(1300,1900), 1, data[\"RENT\"])\n",
    "data[\"RENT\"] = np.where(data[\"RENT\"].between(1900,3000), 2, data[\"RENT\"])\n",
    "data[\"RENT\"] = np.where(data[\"RENT\"]>3000, 4, data[\"RENT\"])\n",
    "y=data[\"RENT\"]\n",
    "\n",
    "\"\"\"\n",
    "data['INCTOT'] = np.where(data['INCTOT'].between(0,10000), 0, data['INCTOT'])\n",
    "data['INCTOT'] = np.where(data['INCTOT'].between(10000,20000), 1, data['INCTOT'])\n",
    "data['INCTOT'] = np.where(data['INCTOT'].between(20000,40000), 2, data['INCTOT'])\n",
    "data['INCTOT'] = np.where(data['INCTOT'].between(40000,60000), 3, data['INCTOT'])\n",
    "data['INCTOT'] = np.where(data['INCTOT'].between(60000,90000), 4, data['INCTOT'])\n",
    "data['INCTOT'] = np.where(data['INCTOT'].between(100000,150000), 5, data['INCTOT'])\n",
    "data['INCTOT'] = np.where(data['INCTOT'].between(150000,250000), 6, data['INCTOT'])\n",
    "data['INCTOT'] = np.where(data['INCTOT']>250000, 7, data['INCTOT'])\n",
    "\n",
    "\"\"\"\n",
    "\n",
    "print(y.shape)\n",
    "print(y.head(5))\n",
    "#X = data[['CITY','SEX','AGE','SCHOOL','EDUC','EDUCD','GRADEATT','GRADEATTD','EMPSTAT','EMPSTATD','INCTOT','FTOTINC']]\n",
    "\n",
    "#X = data[['CITY','SEX','AGE','SCHOOL','EDUC','GRADEATT','EMPSTAT','INCTOT','FAMSIZE']]\n",
    "X = data[['CITY','SEX','AGE','SCHOOL','GRADEATT','FAMSIZE','EDUC','EMPSTAT','INCTOT','MORTGAGE','KITCHEN','FRIDGE','FTOTINC','MARST','RACE', 'PHONE','CINETHH']]\n",
    "print(X.shape)\n",
    "X['CITY'] = X['CITY'].replace(870, 1)\n",
    "X['CITY'] = X['CITY'].replace(810, 0)\n",
    "X['CITY'] = X['CITY'].replace(930, 2)\n",
    "print(X.head(5))\n",
    "X = pd.DataFrame(X,dtype=np.int)\n",
    "X = X.dropna(axis=0)\n",
    "\n"
   ]
  },
  {
   "cell_type": "code",
   "execution_count": 2,
   "metadata": {},
   "outputs": [
    {
     "name": "stdout",
     "output_type": "stream",
     "text": [
      "0.776226021350028\n",
      "[0 0 0 0 2] 0    1\n",
      "1    1\n",
      "2    0\n",
      "3    0\n",
      "4    0\n",
      "Name: RENT, dtype: int64\n",
      "8692\n"
     ]
    }
   ],
   "source": [
    "from sklearn.preprocessing import StandardScaler\n",
    "from sklearn.preprocessing import MinMaxScaler\n",
    "#scaler = MinMaxScaler()\n",
    "#X1 = X[['CITY','SEX','SCHOOL','EDUC','GRADEATT','EMPSTAT']]\n",
    "#X1 = X[[\"CITY\",\"INCTOT\",\"AGE\"]]\n",
    "\n",
    "from sklearn.model_selection import train_test_split\n",
    "X_train1,X_test1, y_train, y_test = train_test_split(X, y, test_size=0.1, random_state=42)\n",
    "X_train = X_train1[[\"INCTOT\",\"AGE\"]]\n",
    "X_test = X_test1[[\"INCTOT\",\"AGE\"]]\n",
    "\n",
    "\n",
    "scaler = StandardScaler()\n",
    "X_train= scaler.fit_transform(X_train)\n",
    "X_test= scaler.transform(X_test)\n",
    "\n",
    "\n",
    "from sklearn.ensemble import RandomForestClassifier\n",
    "rf = RandomForestClassifier(n_estimators=500, random_state=1, n_jobs=-1)\n",
    "rf.fit(X_train, y_train)\n",
    "print(rf.score(X_train, y_train))\n",
    "ret = rf.predict(X_train)\n",
    "print(ret[:5],y[:5])\n",
    "score = sum((ret-y_train)**2)\n",
    "print(score)"
   ]
  },
  {
   "cell_type": "code",
   "execution_count": 3,
   "metadata": {
    "scrolled": true
   },
   "outputs": [
    {
     "name": "stdout",
     "output_type": "stream",
     "text": [
      "0.5744441769002328\n",
      "[0 0 0 0 4 0 0 2 0 0] 3429     0\n",
      "9897     0\n",
      "9568     0\n",
      "647      0\n",
      "6752     2\n",
      "6942     0\n",
      "12939    0\n",
      "7012     2\n",
      "6503     1\n",
      "6442     0\n",
      "Name: RENT, dtype: int64\n",
      "16753\n"
     ]
    }
   ],
   "source": [
    "from sklearn.neural_network import MLPClassifier\n",
    "\n",
    "clf = MLPClassifier(solver='lbfgs', alpha=1e-5,hidden_layer_sizes=(15,7), random_state=1, max_iter=3000) \n",
    "clf.fit(X_train, y_train)\n",
    "print(clf.score(X_train, y_train))\n",
    "pred = clf.predict(X_train)\n",
    "print(pred[:10],y_train[:10])\n",
    "score = sum((pred-y_train)**2)\n",
    "print(score)"
   ]
  },
  {
   "cell_type": "code",
   "execution_count": 4,
   "metadata": {},
   "outputs": [
    {
     "name": "stdout",
     "output_type": "stream",
     "text": [
      "0.5707520667790352\n",
      "[0 0 0 0 2]\n",
      "0.5732851985559567\n"
     ]
    }
   ],
   "source": [
    "from sklearn.linear_model import LogisticRegression\n",
    "\n",
    "reg = LogisticRegression(max_iter=2000).fit(X_train, y_train)\n",
    "print(reg.score(X_train, y_train))\n",
    "pred2 = reg.predict(X_train)\n",
    "print(pred2[:5])\n",
    "pred5 = reg.predict(X_test)\n",
    "score = (pred5==y_test).astype(int).mean()\n",
    "print(score)"
   ]
  },
  {
   "cell_type": "code",
   "execution_count": 5,
   "metadata": {},
   "outputs": [
    {
     "name": "stdout",
     "output_type": "stream",
     "text": [
      "0.5738020707921984\n",
      "[0 0 0 0 2]\n",
      "0    1\n",
      "1    1\n",
      "2    0\n",
      "3    0\n",
      "4    0\n",
      "Name: RENT, dtype: int64\n",
      "0.5703971119133574\n"
     ]
    }
   ],
   "source": [
    "from sklearn.svm import SVC\n",
    "\n",
    "clf = SVC(gamma='auto',C=1)\n",
    "clf.fit(X_train, y_train)\n",
    "print(clf.score(X_train, y_train))\n",
    "pred3 = clf.predict(X_train)\n",
    "print(pred3[:5])\n",
    "print(y[:5])\n",
    "score = (pred3==y_train).astype(int).mean()\n",
    "pred4 = clf.predict(X_test)\n",
    "score = (pred4==y_test).astype(int).mean()\n",
    "print(score)"
   ]
  },
  {
   "cell_type": "code",
   "execution_count": 6,
   "metadata": {},
   "outputs": [
    {
     "name": "stdout",
     "output_type": "stream",
     "text": [
      "0.560317842523477\n",
      "[0 0 0 0 2]\n",
      "0    1\n",
      "1    1\n",
      "2    0\n",
      "3    0\n",
      "4    0\n",
      "Name: RENT, dtype: int64\n",
      "0.5588447653429602\n"
     ]
    }
   ],
   "source": [
    "from sklearn.svm import LinearSVC\n",
    "\n",
    "clf = LinearSVC(C=1, max_iter = 10000)\n",
    "clf.fit(X_train, y_train)\n",
    "print(clf.score(X_train, y_train))\n",
    "pred8 = clf.predict(X_train)\n",
    "print(pred3[:5])\n",
    "print(y[:5])\n",
    "score = (pred8==y_train).astype(int).mean()\n",
    "pred9 = clf.predict(X_test)\n",
    "score = (pred9==y_test).astype(int).mean()\n",
    "print(score)"
   ]
  },
  {
   "cell_type": "code",
   "execution_count": 7,
   "metadata": {},
   "outputs": [
    {
     "name": "stdout",
     "output_type": "stream",
     "text": [
      "0.5566787003610109\n"
     ]
    }
   ],
   "source": [
    "from sklearn.neighbors import KNeighborsClassifier\n",
    "\n",
    "def knn(X_train,X_test,y_train,y_test,k):\n",
    "    \"\"\"knn to train and return accuracy\"\"\"\n",
    "    #scaler = StandardScaler()\n",
    "    #X_train = scaler.fit_transform(X_train)\n",
    "    #X_test = scaler.fit_transform(X_test)\n",
    "    model = KNeighborsClassifier(n_neighbors=k, n_jobs=-1)\n",
    "    model.fit(X_train,y_train)\n",
    "    pred = model.predict(X_train)\n",
    "    train_acc = (pred==y_train).astype(int).mean()\n",
    "    pred = model.predict(X_test)\n",
    "    test_acc = (pred==y_test).astype(int).mean()\n",
    "    print(\"k=\"+ str(k))\n",
    "    print(\"train accuracy=\"+ str(train_acc))\n",
    "    print(\"test accuracy=\"+ str(test_acc))\n",
    "    return train_acc,test_acc\n",
    "\n",
    "#for i in range(100,150):\n",
    "#    knn(X_train,X_test,y_train,y_test,i)\n",
    "    \n",
    "    \n",
    "model = KNeighborsClassifier(n_neighbors=62, n_jobs=-1)\n",
    "model.fit(X_train,y_train)\n",
    "pred6 = model.predict(X_train)\n",
    "train_acc = (pred6==y_train).astype(int).mean()\n",
    "pred7 = model.predict(X_test)\n",
    "test_acc = (pred7==y_test).astype(int).mean()\n",
    "print(test_acc)"
   ]
  },
  {
   "cell_type": "code",
   "execution_count": 8,
   "metadata": {},
   "outputs": [
    {
     "name": "stderr",
     "output_type": "stream",
     "text": [
      "F:\\anaconda\\lib\\site-packages\\ipykernel_launcher.py:5: SettingWithCopyWarning: \n",
      "A value is trying to be set on a copy of a slice from a DataFrame.\n",
      "Try using .loc[row_indexer,col_indexer] = value instead\n",
      "\n",
      "See the caveats in the documentation: https://pandas.pydata.org/pandas-docs/stable/user_guide/indexing.html#returning-a-view-versus-a-copy\n",
      "  \"\"\"\n",
      "F:\\anaconda\\lib\\site-packages\\ipykernel_launcher.py:7: SettingWithCopyWarning: \n",
      "A value is trying to be set on a copy of a slice from a DataFrame.\n",
      "Try using .loc[row_indexer,col_indexer] = value instead\n",
      "\n",
      "See the caveats in the documentation: https://pandas.pydata.org/pandas-docs/stable/user_guide/indexing.html#returning-a-view-versus-a-copy\n",
      "  import sys\n"
     ]
    },
    {
     "name": "stdout",
     "output_type": "stream",
     "text": [
      "0.9551328357010996\n",
      "[1 0 0 0 0]\n",
      "6214    0\n",
      "4375    1\n",
      "9901    0\n",
      "8940    0\n",
      "7959    0\n",
      "Name: RENT, dtype: int64\n",
      "0.5891696750902528\n"
     ]
    }
   ],
   "source": [
    "#X2 = X[[\"CITY\",\"INCTOT\",\"AGE\"]]\n",
    "#X2 = X[[\"INCTOT\"]]\n",
    "\n",
    "X2 = X_train1[['CITY','SEX','SCHOOL','EDUC','GRADEATT','EMPSTAT','FAMSIZE','MORTGAGE','KITCHEN','FRIDGE','FTOTINC','MARST','RACE', 'PHONE','CINETHH']]\n",
    "X2[\"PRED\"] = pred2\n",
    "X3 = X_test1[['CITY','SEX','SCHOOL','EDUC','GRADEATT','EMPSTAT','FAMSIZE','MORTGAGE','KITCHEN','FRIDGE','FTOTINC','MARST','RACE', 'PHONE','CINETHH']]\n",
    "X3[\"PRED\"] = pred5\n",
    "\n",
    "X2= scaler.fit_transform(X2)\n",
    "\n",
    "X3= scaler.transform(X3)\n",
    "\n",
    "from sklearn.linear_model import LinearRegression\n",
    "from sklearn.model_selection import train_test_split\n",
    "\n",
    "\n",
    "reg = RandomForestClassifier(n_estimators=500, random_state=1, n_jobs=-1).fit(X2, y_train)\n",
    "print(reg.score(X2, y_train))\n",
    "pred = reg.predict(X3)\n",
    "\n",
    "print(pred[:5])\n",
    "print(y_test[:5])\n",
    "score = (pred==y_test).astype(int).mean()\n",
    "print(score)\n",
    "\n"
   ]
  },
  {
   "cell_type": "code",
   "execution_count": 9,
   "metadata": {},
   "outputs": [
    {
     "name": "stdout",
     "output_type": "stream",
     "text": [
      "0.6443534794124729\n",
      "0.6259927797833935\n"
     ]
    }
   ],
   "source": [
    "clf = SVC(gamma='auto',C=1.5)\n",
    "clf.fit(X2, y_train)\n",
    "predfinal = clf.predict(X2)\n",
    "score = (predfinal==y_train).astype(int).mean()\n",
    "print(score)\n",
    "predfinal = clf.predict(X3)\n",
    "score = (predfinal==y_test).astype(int).mean()\n",
    "print(score)"
   ]
  },
  {
   "cell_type": "code",
   "execution_count": 10,
   "metadata": {},
   "outputs": [
    {
     "name": "stdout",
     "output_type": "stream",
     "text": [
      "0.6209386281588448\n"
     ]
    }
   ],
   "source": [
    "clf = LogisticRegression(max_iter = 10000)\n",
    "clf.fit(X2, y_train)\n",
    "predfinal = clf.predict(X3)\n",
    "score = (predfinal==y_test).astype(int).mean()\n",
    "print(score)"
   ]
  },
  {
   "cell_type": "code",
   "execution_count": 11,
   "metadata": {},
   "outputs": [
    {
     "name": "stdout",
     "output_type": "stream",
     "text": [
      "0.6209386281588448\n"
     ]
    }
   ],
   "source": [
    "from sklearn.ensemble import AdaBoostClassifier\n",
    "clf = AdaBoostClassifier(n_estimators=100, random_state=1)\n",
    "clf.fit(X2, y_train)\n",
    "predfinal = clf.predict(X3)\n",
    "score = (predfinal==y_test).astype(int).mean()\n",
    "print(score)"
   ]
  },
  {
   "cell_type": "code",
   "execution_count": 12,
   "metadata": {},
   "outputs": [
    {
     "name": "stdout",
     "output_type": "stream",
     "text": [
      "0.6209968697327233\n",
      "0.6166064981949458\n"
     ]
    }
   ],
   "source": [
    "from sklearn.svm import LinearSVC\n",
    "clf = LinearSVC(C=3, max_iter = 100000)\n",
    "clf.fit(X2, y_train)\n",
    "predfinal = clf.predict(X2)\n",
    "score = (predfinal==y_train).astype(int).mean()\n",
    "print(score)\n",
    "predfinal = clf.predict(X3)\n",
    "score = (predfinal==y_test).astype(int).mean()\n",
    "print(score)"
   ]
  },
  {
   "cell_type": "code",
   "execution_count": null,
   "metadata": {},
   "outputs": [],
   "source": []
  }
 ],
 "metadata": {
  "kernelspec": {
   "display_name": "Python 3",
   "language": "python",
   "name": "python3"
  },
  "language_info": {
   "codemirror_mode": {
    "name": "ipython",
    "version": 3
   },
   "file_extension": ".py",
   "mimetype": "text/x-python",
   "name": "python",
   "nbconvert_exporter": "python",
   "pygments_lexer": "ipython3",
   "version": "3.7.6"
  }
 },
 "nbformat": 4,
 "nbformat_minor": 4
}
