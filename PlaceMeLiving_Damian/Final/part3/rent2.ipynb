{
 "cells": [
  {
   "cell_type": "markdown",
   "metadata": {},
   "source": [
    "# Combining models: Base on different data columns to combine different models and build an mix model"
   ]
  },
  {
   "cell_type": "code",
   "execution_count": 22,
   "metadata": {},
   "outputs": [],
   "source": [
    "# 1 = logistic Regression\n",
    "# 2 = SVM\n",
    "# 3 = Random Forest\n",
    "# 4 = Knn\n",
    "# 5 = MLP\n",
    "# 6 = LinearSVM\n",
    "model1 = 1\n",
    "model2 = 2\n",
    "\n",
    "# Use the variable here to modify the combination"
   ]
  },
  {
   "cell_type": "markdown",
   "metadata": {},
   "source": [
    "## Read Data and change rent to labels + choose the fields we need"
   ]
  },
  {
   "cell_type": "code",
   "execution_count": 23,
   "metadata": {},
   "outputs": [
    {
     "name": "stderr",
     "output_type": "stream",
     "text": [
      "F:\\anaconda\\lib\\site-packages\\ipykernel_launcher.py:19: SettingWithCopyWarning: \n",
      "A value is trying to be set on a copy of a slice from a DataFrame.\n",
      "Try using .loc[row_indexer,col_indexer] = value instead\n",
      "\n",
      "See the caveats in the documentation: https://pandas.pydata.org/pandas-docs/stable/user_guide/indexing.html#returning-a-view-versus-a-copy\n",
      "F:\\anaconda\\lib\\site-packages\\ipykernel_launcher.py:20: SettingWithCopyWarning: \n",
      "A value is trying to be set on a copy of a slice from a DataFrame.\n",
      "Try using .loc[row_indexer,col_indexer] = value instead\n",
      "\n",
      "See the caveats in the documentation: https://pandas.pydata.org/pandas-docs/stable/user_guide/indexing.html#returning-a-view-versus-a-copy\n",
      "F:\\anaconda\\lib\\site-packages\\ipykernel_launcher.py:21: SettingWithCopyWarning: \n",
      "A value is trying to be set on a copy of a slice from a DataFrame.\n",
      "Try using .loc[row_indexer,col_indexer] = value instead\n",
      "\n",
      "See the caveats in the documentation: https://pandas.pydata.org/pandas-docs/stable/user_guide/indexing.html#returning-a-view-versus-a-copy\n"
     ]
    }
   ],
   "source": [
    "import numpy as np\n",
    "import pandas as pd\n",
    "import math\n",
    "\n",
    "\n",
    "data = pd.read_csv(\"dataMA6.csv\")\n",
    "\n",
    "\n",
    "data[\"RENT\"] = np.where(data[\"RENT\"].between(0,1300), 0, data[\"RENT\"])\n",
    "data[\"RENT\"] = np.where(data[\"RENT\"].between(1300,1900), 1, data[\"RENT\"])\n",
    "data[\"RENT\"] = np.where(data[\"RENT\"].between(1900,3000), 2, data[\"RENT\"])\n",
    "data[\"RENT\"] = np.where(data[\"RENT\"]>3000, 4, data[\"RENT\"])\n",
    "y=data[\"RENT\"]\n",
    "\n",
    "\n",
    "\n",
    "X = data[['CITY','SEX','AGE','EMPSTATD','SCHOOL','GRADEATT','FAMSIZE','EDUC','EMPSTAT','INCTOT','MORTGAGE','KITCHEN','FRIDGE','FTOTINC','MARST','RACE', 'PHONE','CINETHH']]\n",
    "#print(X.shape)\n",
    "X['CITY'] = X['CITY'].replace(870, 1)\n",
    "X['CITY'] = X['CITY'].replace(810, 0)\n",
    "X['CITY'] = X['CITY'].replace(930, 2)\n",
    "#print(X.head(5))\n",
    "X = pd.DataFrame(X,dtype=np.int)\n",
    "X = X.dropna(axis=0)\n",
    "\n"
   ]
  },
  {
   "cell_type": "markdown",
   "metadata": {},
   "source": [
    "## Scale the dataset and split train and test data"
   ]
  },
  {
   "cell_type": "code",
   "execution_count": 24,
   "metadata": {},
   "outputs": [],
   "source": [
    "from sklearn.preprocessing import StandardScaler\n",
    "from sklearn.preprocessing import MinMaxScaler\n",
    "#scaler = MinMaxScaler()\n",
    "#X1 = X[['CITY','SEX','SCHOOL','EDUC','GRADEATT','EMPSTAT']]\n",
    "#X1 = X[[\"CITY\",\"INCTOT\",\"AGE\"]]\n",
    "\n",
    "from sklearn.model_selection import train_test_split\n",
    "X_train1,X_test1, y_train, y_test = train_test_split(X, y, test_size=0.1, random_state=42)\n",
    "X_train = X_train1[[\"INCTOT\",'AGE']]\n",
    "X_test = X_test1[[\"INCTOT\",'AGE']]\n",
    "\n",
    "\n",
    "scaler = StandardScaler()\n",
    "X_train= scaler.fit_transform(X_train)\n",
    "X_test= scaler.transform(X_test)\n",
    "\n"
   ]
  },
  {
   "cell_type": "markdown",
   "metadata": {},
   "source": [
    "## Start Layer1 models for [[\"INCTOT\",\"AGE\"]]"
   ]
  },
  {
   "cell_type": "markdown",
   "metadata": {},
   "source": [
    "### RamdomForest"
   ]
  },
  {
   "cell_type": "code",
   "execution_count": 25,
   "metadata": {},
   "outputs": [],
   "source": [
    "from sklearn.ensemble import RandomForestClassifier\n",
    "rf = RandomForestClassifier(n_estimators=500, random_state=1, n_jobs=-1)\n",
    "rf.fit(X_train, y_train)\n",
    "#print(rf.score(X_train, y_train))\n",
    "ret = rf.predict(X_train)\n",
    "ret1 = rf.predict(X_test)\n",
    "#print(ret[:5],y[:5])\n",
    "score = sum((ret-y_train)**2)\n",
    "#print(score)"
   ]
  },
  {
   "cell_type": "markdown",
   "metadata": {},
   "source": [
    "### MLP"
   ]
  },
  {
   "cell_type": "code",
   "execution_count": 26,
   "metadata": {
    "scrolled": true
   },
   "outputs": [],
   "source": [
    "from sklearn.neural_network import MLPClassifier\n",
    "\n",
    "clf = MLPClassifier(solver='lbfgs', alpha=1e-5,hidden_layer_sizes=(15,7), random_state=1, max_iter=3000) \n",
    "clf.fit(X_train, y_train)\n",
    "#print(clf.score(X_train, y_train))\n",
    "pred = clf.predict(X_train)\n",
    "pred0 = clf.predict(X_test)\n",
    "#print(pred[:10],y_train[:10])\n",
    "score = sum((pred-y_train)**2)\n",
    "#print(score)"
   ]
  },
  {
   "cell_type": "markdown",
   "metadata": {},
   "source": [
    "### Logistic Regression"
   ]
  },
  {
   "cell_type": "code",
   "execution_count": 27,
   "metadata": {},
   "outputs": [],
   "source": [
    "from sklearn.linear_model import LogisticRegression\n",
    "\n",
    "reg = LogisticRegression(max_iter=2000).fit(X_train, y_train)\n",
    "#print(reg.score(X_train, y_train))\n",
    "pred2 = reg.predict(X_train)\n",
    "#print(pred2[:5])\n",
    "pred5 = reg.predict(X_test)\n",
    "score = (pred5==y_test).astype(int).mean()\n",
    "#print(score)"
   ]
  },
  {
   "cell_type": "markdown",
   "metadata": {},
   "source": [
    "### SVM"
   ]
  },
  {
   "cell_type": "code",
   "execution_count": 28,
   "metadata": {},
   "outputs": [],
   "source": [
    "from sklearn.svm import SVC\n",
    "\n",
    "clf = SVC(gamma='auto',C=1)\n",
    "clf.fit(X_train, y_train)\n",
    "#print(clf.score(X_train, y_train))\n",
    "pred3 = clf.predict(X_train)\n",
    "#print(pred3[:5])\n",
    "#print(y[:5])\n",
    "score = (pred3==y_train).astype(int).mean()\n",
    "pred4 = clf.predict(X_test)\n",
    "score = (pred4==y_test).astype(int).mean()\n",
    "#print(score)"
   ]
  },
  {
   "cell_type": "markdown",
   "metadata": {},
   "source": [
    "### Linear SVM"
   ]
  },
  {
   "cell_type": "code",
   "execution_count": 29,
   "metadata": {},
   "outputs": [],
   "source": [
    "from sklearn.svm import LinearSVC\n",
    "\n",
    "clf = LinearSVC(C=1, max_iter = 20000)\n",
    "clf.fit(X_train, y_train)\n",
    "#print(clf.score(X_train, y_train))\n",
    "pred8 = clf.predict(X_train)\n",
    "#print(pred3[:5])\n",
    "#print(y[:5])\n",
    "score = (pred8==y_train).astype(int).mean()\n",
    "pred9 = clf.predict(X_test)\n",
    "score = (pred9==y_test).astype(int).mean()\n",
    "#print(score)"
   ]
  },
  {
   "cell_type": "markdown",
   "metadata": {},
   "source": [
    "### KNN"
   ]
  },
  {
   "cell_type": "code",
   "execution_count": 30,
   "metadata": {},
   "outputs": [],
   "source": [
    "from sklearn.neighbors import KNeighborsClassifier\n",
    "\n",
    "def knn(X_train,X_test,y_train,y_test,k):\n",
    "    \"\"\"knn to train and return accuracy\"\"\"\n",
    "    #scaler = StandardScaler()\n",
    "    #X_train = scaler.fit_transform(X_train)\n",
    "    #X_test = scaler.fit_transform(X_test)\n",
    "    model = KNeighborsClassifier(n_neighbors=k, n_jobs=-1)\n",
    "    model.fit(X_train,y_train)\n",
    "    pred = model.predict(X_train)\n",
    "    train_acc = (pred==y_train).astype(int).mean()\n",
    "    pred = model.predict(X_test)\n",
    "    test_acc = (pred==y_test).astype(int).mean()\n",
    "    print(\"k=\"+ str(k))\n",
    "    print(\"train accuracy=\"+ str(train_acc))\n",
    "    print(\"test accuracy=\"+ str(test_acc))\n",
    "    return train_acc,test_acc\n",
    "\n",
    "#for i in range(100,150):\n",
    "#    knn(X_train,X_test,y_train,y_test,i)\n",
    "    \n",
    "    \n",
    "model = KNeighborsClassifier(n_neighbors=62, n_jobs=-1)\n",
    "model.fit(X_train,y_train)\n",
    "pred6 = model.predict(X_train)\n",
    "train_acc = (pred6==y_train).astype(int).mean()\n",
    "pred7 = model.predict(X_test)\n",
    "test_acc = (pred7==y_test).astype(int).mean()\n",
    "#print(test_acc)"
   ]
  },
  {
   "cell_type": "markdown",
   "metadata": {},
   "source": [
    "## Start Model layer2 for \n",
    "[['CITY','SEX','SCHOOL','EDUC','GRADEATT','EMPSTAT','FAMSIZE','MORTGAGE','KITCHEN','FRIDGE','MARST','RACE', 'PHONE','CINETHH']]"
   ]
  },
  {
   "cell_type": "markdown",
   "metadata": {},
   "source": [
    "### Randomforest"
   ]
  },
  {
   "cell_type": "code",
   "execution_count": 31,
   "metadata": {},
   "outputs": [
    {
     "name": "stderr",
     "output_type": "stream",
     "text": [
      "F:\\anaconda\\lib\\site-packages\\ipykernel_launcher.py:7: SettingWithCopyWarning: \n",
      "A value is trying to be set on a copy of a slice from a DataFrame.\n",
      "Try using .loc[row_indexer,col_indexer] = value instead\n",
      "\n",
      "See the caveats in the documentation: https://pandas.pydata.org/pandas-docs/stable/user_guide/indexing.html#returning-a-view-versus-a-copy\n",
      "  import sys\n",
      "F:\\anaconda\\lib\\site-packages\\ipykernel_launcher.py:8: SettingWithCopyWarning: \n",
      "A value is trying to be set on a copy of a slice from a DataFrame.\n",
      "Try using .loc[row_indexer,col_indexer] = value instead\n",
      "\n",
      "See the caveats in the documentation: https://pandas.pydata.org/pandas-docs/stable/user_guide/indexing.html#returning-a-view-versus-a-copy\n",
      "  \n"
     ]
    }
   ],
   "source": [
    "#X2 = X[[\"CITY\",\"INCTOT\",\"AGE\"]]\n",
    "#X2 = X[[\"INCTOT\"]]\n",
    "\n",
    "X2 = X_train1[['CITY','SEX','SCHOOL','EDUC','GRADEATT','EMPSTAT','FAMSIZE','MORTGAGE','KITCHEN','FRIDGE','MARST','RACE', 'PHONE','CINETHH']]\n",
    "X3 = X_test1[['CITY','SEX','SCHOOL','EDUC','GRADEATT','EMPSTAT','FAMSIZE','MORTGAGE','KITCHEN','FRIDGE','MARST','RACE', 'PHONE','CINETHH']]\n",
    "if model1 == 1:\n",
    "    X2[\"PRED\"] = pred2\n",
    "    X3[\"PRED\"] = pred5\n",
    "elif model1 ==2:\n",
    "    X2[\"PRED\"] = pred3\n",
    "    X3[\"PRED\"] = pred4\n",
    "elif model1 ==3:\n",
    "    X2[\"PRED\"] = ret\n",
    "    X3[\"PRED\"] = ret1\n",
    "elif model1 ==4:\n",
    "    X2[\"PRED\"] = pred6\n",
    "    X3[\"PRED\"] = pred7\n",
    "elif model1 ==5:\n",
    "    X2[\"PRED\"] = pred\n",
    "    X3[\"PRED\"] = pred0\n",
    "elif model1 ==6:\n",
    "    X2[\"PRED\"] = pred8\n",
    "    X3[\"PRED\"] = pred9\n",
    "else:\n",
    "    X2[\"PRED\"] = pred2\n",
    "    X3[\"PRED\"] = pred5\n",
    "    \n",
    "X2= scaler.fit_transform(X2)\n",
    "\n",
    "X3= scaler.transform(X3)\n",
    "\n",
    "def Model2_RF():\n",
    "    reg = RandomForestClassifier(n_estimators=500, random_state=1, n_jobs=-1).fit(X2, y_train)\n",
    "    #print(reg.score(X2, y_train))\n",
    "    pred = reg.predict(X3)\n",
    "\n",
    "    #print(pred[:5])\n",
    "    #print(y_test[:5])\n",
    "    score = (pred==y_test).astype(int).mean()\n",
    "    print(\"accuracy=\",score)\n",
    "\n"
   ]
  },
  {
   "cell_type": "markdown",
   "metadata": {},
   "source": [
    "### SVM"
   ]
  },
  {
   "cell_type": "code",
   "execution_count": 32,
   "metadata": {},
   "outputs": [],
   "source": [
    "def model2_svm():\n",
    "    clf = SVC(gamma='auto',C=1.3)\n",
    "    clf.fit(X2, y_train)\n",
    "    predfinal = clf.predict(X2)\n",
    "    score = (predfinal==y_train).astype(int).mean()\n",
    "    #print(score)\n",
    "    predfinal = clf.predict(X3)\n",
    "    score = (predfinal==y_test).astype(int).mean()\n",
    "    print(\"accuracy=\",score)"
   ]
  },
  {
   "cell_type": "markdown",
   "metadata": {},
   "source": [
    "### Logistic Regression"
   ]
  },
  {
   "cell_type": "code",
   "execution_count": 33,
   "metadata": {},
   "outputs": [],
   "source": [
    "def model2_Logistic():\n",
    "    clf = LogisticRegression(max_iter = 10000)\n",
    "    clf.fit(X2, y_train)\n",
    "    predfinal = clf.predict(X3)\n",
    "    score = (predfinal==y_test).astype(int).mean()\n",
    "    print(\"accuracy=\",score)"
   ]
  },
  {
   "cell_type": "markdown",
   "metadata": {},
   "source": [
    "### Linear SVM"
   ]
  },
  {
   "cell_type": "code",
   "execution_count": 34,
   "metadata": {},
   "outputs": [],
   "source": [
    "\n",
    "from sklearn.svm import LinearSVC\n",
    "def model2_linearsvm():\n",
    "    clf = LinearSVC(C=3, max_iter = 10000)\n",
    "    clf.fit(X2, y_train)\n",
    "    predfinal = clf.predict(X2)\n",
    "    score = (predfinal==y_train).astype(int).mean()\n",
    "    #print(score)\n",
    "    predfinal = clf.predict(X3)\n",
    "    score = (predfinal==y_test).astype(int).mean()\n",
    "    print(\"accuracy=\",score)"
   ]
  },
  {
   "cell_type": "code",
   "execution_count": 35,
   "metadata": {},
   "outputs": [],
   "source": [
    "def model2_knn():  \n",
    "    model = KNeighborsClassifier(n_neighbors=62, n_jobs=-1)\n",
    "    model.fit(X2,y_train)\n",
    "\n",
    "    knnpredict = model.predict(X3)\n",
    "    test_acc = (knnpredict==y_test).astype(int).mean()\n",
    "    print(\"accuracy=\",test_acc)"
   ]
  },
  {
   "cell_type": "markdown",
   "metadata": {},
   "source": [
    "# Result:"
   ]
  },
  {
   "cell_type": "code",
   "execution_count": 36,
   "metadata": {},
   "outputs": [
    {
     "name": "stdout",
     "output_type": "stream",
     "text": [
      "Model1: Logistic Regression\n",
      "Model2: KNN\n",
      "accuracy= 0.6129963898916968\n"
     ]
    }
   ],
   "source": [
    "if model1 == 1:\n",
    "    print(\"Model1: Logistic Regression\")\n",
    "elif model1 ==2:\n",
    "    print(\"Model1: SVM\")\n",
    "elif model1 ==3:\n",
    "    print(\"Model1: Random Forest\")\n",
    "elif model1 ==4:\n",
    "    print(\"Model1: KNN\")\n",
    "elif model1 ==5:\n",
    "    print(\"Model1: MLP\")\n",
    "elif model1 ==6:\n",
    "    print(\"Model1: LinearSVM\")\n",
    "else:\n",
    "    print(\"Model1:Wrong Number\")\n",
    "\n",
    "if model2 == 1:\n",
    "    print(\"Model2: Logistic Regression\")\n",
    "    model2_Logistic()\n",
    "elif model2 ==2:\n",
    "    print(\"Model2: SVM\")\n",
    "    model2_svm()\n",
    "elif model2 ==3:\n",
    "    print(\"Model2: Random Forest\")\n",
    "    Model2_RF()\n",
    "elif model2 ==4:\n",
    "    print(\"Model2: KNN\")\n",
    "    model2_knn()\n",
    "elif model2 ==5:\n",
    "    print(\"Model2: MLP\")\n",
    "    print(\"Not supported yet\")\n",
    "elif model2 ==6:\n",
    "    print(\"Model2: LinearSVM\")\n",
    "    model2_linearsvm()\n",
    "else:\n",
    "    print(\"Model2:Wrong Number\")"
   ]
  },
  {
   "cell_type": "markdown",
   "metadata": {},
   "source": [
    "The best result we get is: <br>\n",
    "    SVM+LogisticRegression = 0.6194945848375452 <br>\n",
    "    LogisticRegression+SVM = 0.6274368231046932 <br>"
   ]
  },
  {
   "cell_type": "code",
   "execution_count": null,
   "metadata": {},
   "outputs": [],
   "source": []
  }
 ],
 "metadata": {
  "kernelspec": {
   "display_name": "Python 3",
   "language": "python",
   "name": "python3"
  },
  "language_info": {
   "codemirror_mode": {
    "name": "ipython",
    "version": 3
   },
   "file_extension": ".py",
   "mimetype": "text/x-python",
   "name": "python",
   "nbconvert_exporter": "python",
   "pygments_lexer": "ipython3",
   "version": "3.7.6"
  }
 },
 "nbformat": 4,
 "nbformat_minor": 4
}
